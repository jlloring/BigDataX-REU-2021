{
 "cells": [
  {
   "cell_type": "markdown",
   "id": "eb5c231b",
   "metadata": {},
   "source": [
    "# BigDataX Project Notebook"
   ]
  },
  {
   "cell_type": "markdown",
   "id": "49da85d3",
   "metadata": {},
   "source": [
    "The first thing I will be looking at is the difference in spot prices before and after the 2017 change to the AWS Spot Market, using an integration function. This will tell me the total cost over the 3 month period for that specific VM, and I can divide that number by 2160 to get the total cost per hour. Analysis from this point can diverge in a variety of ways."
   ]
  },
  {
   "cell_type": "code",
   "execution_count": null,
   "id": "64b7402e",
   "metadata": {},
   "outputs": [],
   "source": [
    "import pandas as pd\n",
    "pd.TimeSeries = pd.Series\n",
    "import numpy as np\n",
    "import sys\n",
    "from matplotlib import pyplot as plt\n",
    "from matplotlib import dates as mpl_dates\n",
    "from datetime import datetime, timedelta\n",
    "from tqdm import tqdm\n",
    "from scipy import integrate\n",
    "from scipy.interpolate import interp1d\n",
    "import math\n",
    "\n",
    "#importing required packages/libraries"
   ]
  },
  {
   "cell_type": "code",
   "execution_count": null,
   "id": "664d2932",
   "metadata": {},
   "outputs": [],
   "source": [
    "print(plt.style.available) #available styles built into matplotlib"
   ]
  },
  {
   "cell_type": "code",
   "execution_count": null,
   "id": "82c0f543",
   "metadata": {},
   "outputs": [],
   "source": [
    "import matplotlib as mpl\n",
    "mpl.rcParams.update(mpl.rcParamsDefault) #RUN THIS CELL TO GO BACK TO DEFAULTS"
   ]
  },
  {
   "cell_type": "code",
   "execution_count": null,
   "id": "6daab4db",
   "metadata": {},
   "outputs": [],
   "source": [
    "df1 = pd.read_csv('Data/spot_0601.tsv', sep='\\t', header=None) #importing spot_0601 file"
   ]
  },
  {
   "cell_type": "code",
   "execution_count": null,
   "id": "4c1b91af",
   "metadata": {},
   "outputs": [],
   "source": [
    "df1.columns=['SPH','AZ','IT','OS','SP','DT'] #setting column names\n",
    "df1.drop(columns=['SPH'],inplace=True) #drops the SPH column and saves that change\n",
    "\n",
    "#DO NOT RUN THIS CELL MORE THAN ONCE"
   ]
  },
  {
   "cell_type": "code",
   "execution_count": null,
   "id": "80419cb1",
   "metadata": {},
   "outputs": [],
   "source": [
    "df1.sort_values(by=['AZ','IT','SP'],inplace=True) #sorting and saving changes"
   ]
  },
  {
   "cell_type": "code",
   "execution_count": null,
   "id": "f8ac6c34",
   "metadata": {},
   "outputs": [],
   "source": [
    "df1['DT'] = pd.to_datetime(df1['DT']) #converting to datetimes and saving changes"
   ]
  },
  {
   "cell_type": "code",
   "execution_count": null,
   "id": "89983e58",
   "metadata": {},
   "outputs": [],
   "source": [
    "df1.sort_values(by=['AZ','IT','OS','DT'],inplace=True) #sorting and saving changes"
   ]
  },
  {
   "cell_type": "code",
   "execution_count": null,
   "id": "a5e0d97b",
   "metadata": {},
   "outputs": [],
   "source": [
    "## Integration Function: divides function by 3600 so units line up\n",
    "    # adapted from https://nbviewer.jupyter.org/gist/metakermit/5720498\n",
    "\n",
    "def integrate_method(self, how='trapz', unit='s'):\n",
    "    '''Numerically integrate the time series.\n",
    "\n",
    "    @param how: the method to use (trapz by default)\n",
    "    @return \n",
    "\n",
    "    Available methods:\n",
    "     * trapz - trapezoidal\n",
    "     * cumtrapz - cumulative trapezoidal\n",
    "     * simps - Simpson's rule\n",
    "     * romb - Romberger's rule\n",
    "\n",
    "    See http://docs.scipy.org/doc/scipy/reference/integrate.html for the method details.\n",
    "    or the source code\n",
    "    https://github.com/scipy/scipy/blob/master/scipy/integrate/quadrature.py\n",
    "    '''\n",
    "    available_rules = set(['trapz', 'cumtrapz', 'simps', 'romb'])\n",
    "    if how in available_rules:\n",
    "        rule = integrate.__getattribute__(how)\n",
    "    else:\n",
    "        print('Unsupported integration rule: %s' % (how))\n",
    "        print('Expecting one of these sample-based integration rules: %s' % (str(list(available_rules))))\n",
    "        raise AttributeError\n",
    "    \n",
    "    result = (rule(self.values, self.index.astype(np.int64) / 10**9))/3600\n",
    "    #result = rule(self.values)\n",
    "    return result\n",
    "\n",
    "pd.Series.integrate = integrate_method"
   ]
  },
  {
   "cell_type": "markdown",
   "id": "c74c2fd5",
   "metadata": {},
   "source": [
    "## Part 1: Obtaining \"after\" values using the integration function"
   ]
  },
  {
   "cell_type": "markdown",
   "id": "e5498d6e",
   "metadata": {},
   "source": [
    "##### df1 - df4"
   ]
  },
  {
   "cell_type": "markdown",
   "id": "2d4194e5",
   "metadata": {},
   "source": [
    "### Manual Calculations"
   ]
  },
  {
   "cell_type": "markdown",
   "id": "08604cf0",
   "metadata": {},
   "source": [
    "#### AZ = us-east-1a\n",
    "#### IT = c4 family\n",
    "#### OS = Linux/UNIX"
   ]
  },
  {
   "cell_type": "code",
   "execution_count": null,
   "id": "8952c3f1",
   "metadata": {},
   "outputs": [],
   "source": [
    "df_x1 = df1.loc[(df1['AZ'] == 'us-east-1a') & (df1['IT'] == 'c4.large') & (df1['OS'] == 'Linux/UNIX')]\n",
    "\n",
    "x1 = df_x1['SP'].values\n",
    "y1 = df_x1['DT'].values\n",
    "ts1 = pd.Series(x1,y1)\n",
    "\n",
    "print('The total price you would have to pay for having this particular VM over the 3 month period is:')\n",
    "v1 = ts1.integrate().round(4)\n",
    "print(v1)\n",
    "print(' ')\n",
    "\n",
    "print('The total cost per hour you would have to pay for having this particular VM for 3 months is:')\n",
    "v1_h = (v1/2160).round(4)\n",
    "print(v1_h)\n",
    "\n",
    "#print(' ')\n",
    "#print(df_x1['SP'].mean().round(4))\n",
    "#print(2160*df_x1['SP'].mean().round(4)) #checking that integration function works"
   ]
  },
  {
   "cell_type": "code",
   "execution_count": null,
   "id": "143f06b5",
   "metadata": {},
   "outputs": [],
   "source": [
    "df_x2 = df1.loc[(df1['AZ'] == 'us-east-1a') & (df1['IT'] == 'c4.xlarge') & (df1['OS'] == 'Linux/UNIX')]\n",
    "\n",
    "x2 = df_x2['SP'].values\n",
    "y2 = df_x2['DT'].values\n",
    "ts2 = pd.Series(x2,y2)\n",
    "\n",
    "print('The total price you would have to pay for having this particular VM over the 3 month period is:')\n",
    "v2 = ts2.integrate().round(4)\n",
    "print(v2)\n",
    "print(' ')\n",
    "\n",
    "print('The total cost per hour you would have to pay for having this particular VM for 3 months is:')\n",
    "v2_h = (v2/2160).round(4)\n",
    "print(v2_h)\n",
    "\n",
    "#print(' ')\n",
    "#print(df_x2['SP'].mean().round(4))\n",
    "#print(2160*df_x2['SP'].mean().round(4)) #checking that integration function works"
   ]
  },
  {
   "cell_type": "code",
   "execution_count": null,
   "id": "b2160bdd",
   "metadata": {},
   "outputs": [],
   "source": [
    "df_x3 = df1.loc[(df1['AZ'] == 'us-east-1a') & (df1['IT'] == 'c4.2xlarge') & (df1['OS'] == 'Linux/UNIX')]\n",
    "\n",
    "x3 = df_x3['SP'].values\n",
    "y3 = df_x3['DT'].values\n",
    "ts3 = pd.Series(x3,y3)\n",
    "\n",
    "print('The total price you would have to pay for having this particular VM over the 3 month period is:')\n",
    "v3 = ts3.integrate().round(4)\n",
    "print(v3)\n",
    "print(' ')\n",
    "\n",
    "print('The total cost per hour you would have to pay for having this particular VM for 3 months is:')\n",
    "v3_h = (v3/2160).round(4)\n",
    "print(v3_h)\n",
    "\n",
    "#print(' ')\n",
    "#print(df_x3['SP'].mean().round(4))\n",
    "#print(2160*df_x3['SP'].mean().round(4)) #checking that integration function works"
   ]
  },
  {
   "cell_type": "code",
   "execution_count": null,
   "id": "03c556a0",
   "metadata": {},
   "outputs": [],
   "source": [
    "df_x4 = df1.loc[(df1['AZ'] == 'us-east-1a') & (df1['IT'] == 'c4.4xlarge') & (df1['OS'] == 'Linux/UNIX')]\n",
    "\n",
    "x4 = df_x4['SP'].values\n",
    "y4 = df_x4['DT'].values\n",
    "ts4 = pd.Series(x4,y4)\n",
    "\n",
    "print('The total price you would have to pay for having this particular VM over the 3 month period is:')\n",
    "v4 = ts4.integrate().round(4)\n",
    "print(v4)\n",
    "print(' ')\n",
    "\n",
    "print('The total cost per hour you would have to pay for having this particular VM for 3 months is:')\n",
    "v4_h = (v4/2160).round(4)\n",
    "print(v4_h)\n",
    "\n",
    "#print(' ')\n",
    "#print(df_x4['SP'].mean().round(4))\n",
    "#print(2160*df_x4['SP'].mean().round(4)) #checking that integration function works"
   ]
  },
  {
   "cell_type": "code",
   "execution_count": null,
   "id": "d5fd3611",
   "metadata": {},
   "outputs": [],
   "source": [
    "df_x5 = df1.loc[(df1['AZ'] == 'us-east-1a') & (df1['IT'] == 'c4.8xlarge') & (df1['OS'] == 'Linux/UNIX')]\n",
    "\n",
    "x5 = df_x5['SP'].values\n",
    "y5 = df_x5['DT'].values\n",
    "ts5 = pd.Series(x5,y5)\n",
    "\n",
    "print('The total price you would have to pay for having this particular VM over the 3 month period is:')\n",
    "v5 = ts5.integrate().round(4)\n",
    "print(v5)\n",
    "print(' ')\n",
    "\n",
    "print('The total cost per hour you would have to pay for having this particular VM for 3 months is:')\n",
    "v5_h = (v5/2160).round(4)\n",
    "print(v5_h)\n",
    "\n",
    "#print(' ')\n",
    "#print(df_x5['SP'].mean().round(4))\n",
    "#print(2160*df_x5['SP'].mean().round(4)) #checking that integration function works"
   ]
  },
  {
   "cell_type": "code",
   "execution_count": null,
   "id": "b59a4ae5",
   "metadata": {},
   "outputs": [],
   "source": [
    "plt.style.use('seaborn')\n",
    "\n",
    "c4_x = ['c4.large','c4.xlarge','c4.2xlarge','c4.4xlarge','c4.8xlarge']\n",
    "c4SP_a = [v1,v2,v3,v4,v5]\n",
    "\n",
    "plt.bar(c4_x, c4SP_a, color='b')\n",
    "\n",
    "plt.title('Total Price for c4 Instance Types AFTER the 2017 from 3/04/2021 to 6/01/2021' + \"\\n\" + \n",
    "         'Across the us-east-1a Availability Zone and Linux/UNIX Operating Systems')\n",
    "plt.ylabel('Total Cost (USD)')\n",
    "plt.yticks([100,200,300,400,500,600,700,800,900,1000,1100,1200,1300,1400])\n",
    "\n",
    "plt.tight_layout()\n",
    "#plt.savefig('c4a_1a.png')\n",
    "#plt.show()"
   ]
  },
  {
   "cell_type": "markdown",
   "id": "bf0c5b82",
   "metadata": {},
   "source": [
    "#### AZ = us-east-1a\n",
    "#### IT = m4 family\n",
    "#### OS = Linux/UNIX"
   ]
  },
  {
   "cell_type": "code",
   "execution_count": null,
   "id": "f40e33d0",
   "metadata": {},
   "outputs": [],
   "source": [
    "df_x6 = df1.loc[(df1['AZ'] == 'us-east-1a') & (df1['IT'] == 'm4.large') & (df1['OS'] == 'Linux/UNIX')]\n",
    "\n",
    "x6 = df_x6['SP'].values\n",
    "y6 = df_x6['DT'].values\n",
    "ts6 = pd.Series(x6,y6)\n",
    "\n",
    "print('The total price you would have to pay for having this particular VM over the 3 month period is:')\n",
    "v6 = ts6.integrate().round(4)\n",
    "print(v6)\n",
    "print(' ')\n",
    "\n",
    "print('The total cost per hour you would have to pay for having this particular VM for 3 months is:')\n",
    "v6_h = (v6/2160).round(4)\n",
    "print(v6_h)\n",
    "\n",
    "#print(' ')\n",
    "#print(df_x6['SP'].mean().round(4))\n",
    "#print(2160*df_x6['SP'].mean().round(4)) #checking that integration function works"
   ]
  },
  {
   "cell_type": "code",
   "execution_count": null,
   "id": "cfde5f62",
   "metadata": {},
   "outputs": [],
   "source": [
    "df_x7 = df1.loc[(df1['AZ'] == 'us-east-1a') & (df1['IT'] == 'm4.xlarge') & (df1['OS'] == 'Linux/UNIX')]\n",
    "\n",
    "x7 = df_x7['SP'].values\n",
    "y7 = df_x7['DT'].values\n",
    "ts7 = pd.Series(x7,y7)\n",
    "\n",
    "print('The total price you would have to pay for having this particular VM over the 3 month period is:')\n",
    "v7 = ts7.integrate().round(4)\n",
    "print(v7)\n",
    "print(' ')\n",
    "\n",
    "print('The total cost per hour you would have to pay for having this particular VM for 3 months is:')\n",
    "v7_h = (v7/2160).round(4)\n",
    "print(v7_h)\n",
    "\n",
    "#print(' ')\n",
    "#print(df_x7['SP'].mean().round(4))\n",
    "#print(2160*df_x7['SP'].mean().round(4)) #checking that integration function works"
   ]
  },
  {
   "cell_type": "code",
   "execution_count": null,
   "id": "3abcc9c1",
   "metadata": {},
   "outputs": [],
   "source": [
    "df_x8 = df1.loc[(df1['AZ'] == 'us-east-1a') & (df1['IT'] == 'm4.2xlarge') & (df1['OS'] == 'Linux/UNIX')]\n",
    "\n",
    "x8 = df_x8['SP'].values\n",
    "y8 = df_x8['DT'].values\n",
    "ts8 = pd.Series(x8,y8)\n",
    "\n",
    "print('The total price you would have to pay for having this particular VM over the 3 month period is:')\n",
    "v8 = ts8.integrate().round(4)\n",
    "print(v8)\n",
    "print(' ')\n",
    "\n",
    "print('The total cost per hour you would have to pay for having this particular VM for 3 months is:')\n",
    "v8_h = (v8/2160).round(4)\n",
    "print(v8_h)\n",
    "\n",
    "#print(' ')\n",
    "#print(df_x8['SP'].mean().round(4))\n",
    "#print(2160*df_x8['SP'].mean().round(4)) #checking that integration function works"
   ]
  },
  {
   "cell_type": "code",
   "execution_count": null,
   "id": "a2081d01",
   "metadata": {},
   "outputs": [],
   "source": [
    "df_x9 = df1.loc[(df1['AZ'] == 'us-east-1a') & (df1['IT'] == 'm4.4xlarge') & (df1['OS'] == 'Linux/UNIX')]\n",
    "\n",
    "x9 = df_x9['SP'].values\n",
    "y9 = df_x9['DT'].values\n",
    "ts9 = pd.Series(x9,y9)\n",
    "\n",
    "print('The total price you would have to pay for having this particular VM over the 3 month period is:')\n",
    "v9 = ts9.integrate().round(4)\n",
    "print(v9)\n",
    "print(' ')\n",
    "\n",
    "print('The total cost per hour you would have to pay for having this particular VM for 3 months is:')\n",
    "v9_h = (v9/2160).round(4)\n",
    "print(v9_h)\n",
    "\n",
    "#print(' ')\n",
    "#print(df_x9['SP'].mean().round(4))\n",
    "#print(2160*df_x9['SP'].mean().round(4)) #checking that integration function works"
   ]
  },
  {
   "cell_type": "code",
   "execution_count": null,
   "id": "59580d9f",
   "metadata": {},
   "outputs": [],
   "source": [
    "df_x10 = df1.loc[(df1['AZ'] == 'us-east-1a') & (df1['IT'] == 'm4.10xlarge') & (df1['OS'] == 'Linux/UNIX')]\n",
    "\n",
    "x10 = df_x10['SP'].values\n",
    "y10 = df_x10['DT'].values\n",
    "ts10 = pd.Series(x10,y10)\n",
    "\n",
    "print('The total price you would have to pay for having this particular VM over the 3 month period is:')\n",
    "v10 = ts10.integrate().round(4)\n",
    "print(v10)\n",
    "print(' ')\n",
    "\n",
    "print('The total cost per hour you would have to pay for having this particular VM for 3 months is:')\n",
    "v10_h = (v10/2160).round(4)\n",
    "print(v10_h)\n",
    "\n",
    "#print(' ')\n",
    "#print(df_x10['SP'].mean().round(4))\n",
    "#print(2160*df_x10['SP'].mean().round(4)) #checking that integration function works"
   ]
  },
  {
   "cell_type": "code",
   "execution_count": null,
   "id": "5b2e8a7c",
   "metadata": {},
   "outputs": [],
   "source": [
    "df_x11 = df1.loc[(df1['AZ'] == 'us-east-1a') & (df1['IT'] == 'm4.16xlarge') & (df1['OS'] == 'Linux/UNIX')]\n",
    "\n",
    "x11 = df_x11['SP'].values\n",
    "y11 = df_x11['DT'].values\n",
    "ts11 = pd.Series(x11,y11)\n",
    "\n",
    "print('The total price you would have to pay for having this particular VM over the 3 month period is:')\n",
    "v11 = ts11.integrate().round(4)\n",
    "print(v11)\n",
    "print(' ')\n",
    "\n",
    "print('The total cost per hour you would have to pay for having this particular VM for 3 months is:')\n",
    "v11_h = (v11/2160).round(4)\n",
    "print(v11_h)\n",
    "\n",
    "#print(' ')\n",
    "#print(df_x11['SP'].mean().round(4))\n",
    "#print(2160*df_x11['SP'].mean().round(4)) #checking that integration function works"
   ]
  },
  {
   "cell_type": "code",
   "execution_count": null,
   "id": "b4cd6e03",
   "metadata": {
    "scrolled": true
   },
   "outputs": [],
   "source": [
    "plt.style.use('seaborn')\n",
    "\n",
    "m4_x = ['m4.large', 'm4.xlarge', 'm4.2xlarge', 'm4.4xlarge', 'm4.10xlarge', 'm4.16xlarge']\n",
    "m4SP_a = [v6,v7,v8,v9,v10,v11]\n",
    "\n",
    "plt.bar(m4_x, m4SP_a, color='c')\n",
    "\n",
    "plt.title('Total Price for m4 Instance Types AFTER the 2017 Change from 3/04/2021 to 6/01/2021' + \"\\n\" + \n",
    "         'Across the us-east-1a Availability Zone and Linux/UNIX Operating Systems')\n",
    "plt.ylabel('Total Cost (USD)')\n",
    "plt.yticks([250,500,750,1000,1250,1500,1750,2000,2250,2500])\n",
    "\n",
    "plt.tight_layout()\n",
    "#plt.savefig('m4a_1a.png')\n",
    "#plt.show()"
   ]
  },
  {
   "cell_type": "markdown",
   "id": "95128a5e",
   "metadata": {},
   "source": [
    "\n"
   ]
  },
  {
   "cell_type": "markdown",
   "id": "28515611",
   "metadata": {},
   "source": [
    "\n"
   ]
  },
  {
   "cell_type": "markdown",
   "id": "83775c87",
   "metadata": {},
   "source": [
    "### Using For Loops to do Calculations"
   ]
  },
  {
   "cell_type": "markdown",
   "id": "a46df2fb",
   "metadata": {},
   "source": [
    "##### must specify IT, OS, and AZ: can output total and/or hourly cost; can create graph"
   ]
  },
  {
   "cell_type": "code",
   "execution_count": null,
   "id": "15c3a07b",
   "metadata": {
    "scrolled": true
   },
   "outputs": [],
   "source": [
    "# CURRENTLY MADE FOR PRES\n",
    "\n",
    "Instances = ['r4.large', 'r4.xlarge', 'r4.2xlarge', 'r4.4xlarge', 'r4.8xlarge', 'r4.16xlarge'] #choose what you want\n",
    "OS = ['Linux/UNIX'] #choose what you want\n",
    "AZ = ['us-east-1c'] #choose what you want\n",
    "\n",
    "temp_i = []\n",
    "temp_v = []\n",
    "\n",
    "for o in OS:\n",
    "    temp = df1[df1.OS == o]\n",
    "\n",
    "    for i in Instances:\n",
    "        temp1 = temp[temp.IT == i]\n",
    "            \n",
    "        for a in AZ:\n",
    "            temp2 = temp1[temp1.AZ == a]\n",
    "            \n",
    "            x = temp2['SP'].values\n",
    "            y = temp2['DT'].values\n",
    "            ts = pd.Series(x,y)\n",
    "            \n",
    "            print('The total price you would have to pay for having the ' + i + ' VM over the 3 month period' + \"\\n\" +\n",
    "                 'within the ' + a + ' availability zone and the ' + o + ' operating system is:')\n",
    "            v = ts.integrate().round(4)\n",
    "            print(v)\n",
    "            print(' ')\n",
    "\n",
    "            #print('The total cost per hour you would have to pay for having the ' + i + ' VM over the 3 month period'\n",
    "                  #+ \"\\n\" + 'within the ' + a + ' availability zone and the ' + o + ' operating system is:')\n",
    "            #v_h = (v/2160).round(4)\n",
    "            #print(v_h)\n",
    "            \n",
    "            temp_i.append(i)\n",
    "            temp_v.append(v)\n",
    "    \n",
    "    plt.style.use('seaborn-poster')\n",
    "    plt.bar(temp_i, temp_v, color='k')\n",
    "            \n",
    "    plt.title('Total Price for ' + i.split('.')[0] +\n",
    "              ' Instance Types AFTER the 2017 Change from 3/04/2021 to 6/01/2021' + \"\\n\" + 'Across the ' + a +\n",
    "              ' Availability Zone and ' + o + ' Operating Systems', fontsize=20)\n",
    "    plt.ylabel('Total Cost (USD)')\n",
    "    #plt.yticks([0,500,1000,1500,2000,2500,3000,3500],fontsize=20)\n",
    "    plt.xticks(fontsize=20,rotation=15) \n",
    "\n",
    "    plt.tight_layout()\n",
    "\n",
    "    #plt.savefig(i.split('.')[0] + '_' + a + '_2021PRESmod.png')\n",
    "#plt.show()"
   ]
  },
  {
   "cell_type": "markdown",
   "id": "2a016e6e",
   "metadata": {},
   "source": [
    "\n"
   ]
  },
  {
   "cell_type": "markdown",
   "id": "038a79b3",
   "metadata": {},
   "source": [
    "\n"
   ]
  },
  {
   "cell_type": "markdown",
   "id": "da099373",
   "metadata": {},
   "source": [
    "##### must specify IT and OS, will do for all AZs: can output total and/or hourly cost; can create graph"
   ]
  },
  {
   "cell_type": "code",
   "execution_count": null,
   "id": "b058f325",
   "metadata": {
    "scrolled": true
   },
   "outputs": [],
   "source": [
    "# Outputs total cost\n",
    "\n",
    "Instances = ['c4.large', 'c4.xlarge', 'c4.2xlarge', 'c4.4xlarge', 'c4.8xlarge'] #choose what you want\n",
    "OS = ['Linux/UNIX'] #choose what you want\n",
    "temp_i = []\n",
    "temp_v = []\n",
    "\n",
    "for o in OS:\n",
    "    temp = df1[df1.OS == o]\n",
    "\n",
    "    for i in Instances:\n",
    "        temp1 = temp[temp.IT == i]\n",
    "        \n",
    "        temp_a = []\n",
    "            \n",
    "        for a in temp1.AZ.unique():\n",
    "            temp2 = temp1[temp1.AZ == a]\n",
    "            \n",
    "            x = temp2['SP'].values\n",
    "            y = temp2['DT'].values\n",
    "            ts = pd.Series(x,y)\n",
    "            \n",
    "            print('The total price you would have to pay for having the ' + i + ' VM over the 3 month period' + \"\\n\" +\n",
    "                 'within the ' + a + ' availability zone and the ' + o + ' operating system is:')\n",
    "            v = ts.integrate().round(4)\n",
    "            print(v)\n",
    "            print(' ')\n",
    "\n",
    "            #print('The total cost per hour you would have to pay for having the ' + i + ' VM over the 3 month period'\n",
    "                  #+ \"\\n\" + 'within the ' + a + ' availability zone and the ' + o + ' operating system is:')\n",
    "            #v_h = (v/2160).round(4)\n",
    "            #print(v_h)\n",
    "            #print(' ')\n",
    "            \n",
    "            temp_i.append(i)\n",
    "            temp_v.append(v)\n",
    "            temp_a.append(a)\n",
    "    \n",
    "    plt.figure(figsize=(25,5))\n",
    "    plt.style.use('seaborn')\n",
    "    \n",
    "    ITx_indexes = np.arange(len(temp_i))\n",
    "    width = 0.16\n",
    "    \n",
    "    plt.bar(ITx_indexes-3*width, temp_v, width=width, label=temp_a[0])\n",
    "    plt.bar(ITx_indexes-2*width, temp_v, width=width, label=temp_a[1])\n",
    "    plt.bar(ITx_indexes-width, temp_v, width=width, label=temp_a[2])\n",
    "    plt.bar(ITx_indexes, temp_v, width=width, label=temp_a[3])\n",
    "    plt.bar(ITx_indexes+width, temp_v, width=width, label=temp_a[4])\n",
    "    plt.bar(ITx_indexes+2*width, temp_v, width=width, label=temp_a[5])\n",
    "            \n",
    "    plt.title('Total Price for ' + i.split('.')[0] +\n",
    "              ' Instance Types AFTER the 2017 Change from 3/04/2021 to 6/01/2021' + \"\\n\" +\n",
    "              'Across the us-east-1 Availability Zones and ' + o + ' Operating Systems')\n",
    "    plt.ylabel('Total Cost (USD)')\n",
    "    plt.xticks(ticks=ITx_indexes, labels=temp_i)#,rotation=25)\n",
    "\n",
    "    plt.legend(loc = 'best')\n",
    "    plt.tight_layout()\n",
    "\n",
    "    #plt.savefig(i.split('.')[0] + '_allAZ_after2017.png')\n",
    "#plt.show()"
   ]
  },
  {
   "cell_type": "markdown",
   "id": "d85fb07b",
   "metadata": {},
   "source": [
    "\n"
   ]
  },
  {
   "cell_type": "markdown",
   "id": "9bd3d6bd",
   "metadata": {},
   "source": [
    "\n"
   ]
  },
  {
   "cell_type": "markdown",
   "id": "a30e64ca",
   "metadata": {},
   "source": [
    "#### Re-copied For Loop for comparing ITs by SIZE, not FAMILY/GENERATION (good for presentations)"
   ]
  },
  {
   "cell_type": "code",
   "execution_count": null,
   "id": "bc7a1c61",
   "metadata": {
    "scrolled": true
   },
   "outputs": [],
   "source": [
    "# started with most ('insert size') ITs, narrowed them down by removing {low} outliers\n",
    "\n",
    "Instances = ['c3.2xlarge', 'c4.2xlarge', 'c5.2xlarge', 'c5d.2xlarge', 'c6gn.2xlarge', 'd2.2xlarge', 'd3.2xlarge',\n",
    "             'g4dn.2xlarge', 'i2.2xlarge', 'i3en.2xlarge', 'inf1.2xlarge', 'm3.2xlarge', 'm4.2xlarge', 'm5dn.2xlarge',\n",
    "             'm6gd.2xlarge', 'r3.2xlarge', 'r4.2xlarge', 'r5a.2xlarge', 'r6gd.2xlarge','x1e.2xlarge', 'x2gd.2xlarge',\n",
    "             'z1d.2xlarge'] #choose what you want\n",
    "OS = ['Linux/UNIX'] #choose what you want\n",
    "AZ = ['us-east-1c'] #choose what you want\n",
    "\n",
    "temp_i = []\n",
    "temp_v = []\n",
    "\n",
    "for o in OS:\n",
    "    temp = df1[df1.OS == o]\n",
    "\n",
    "    for i in Instances:\n",
    "        temp1 = temp[temp.IT == i]\n",
    "            \n",
    "        for a in AZ:\n",
    "            temp2 = temp1[temp1.AZ == a]\n",
    "            \n",
    "            x = temp2['SP'].values\n",
    "            y = temp2['DT'].values\n",
    "            ts = pd.Series(x,y)\n",
    "            \n",
    "            print('The total price you would have to pay for having the ' + i + ' VM over the 3 month period' + \"\\n\" +\n",
    "                 'within the ' + a + ' availability zone and the ' + o + ' operating system is:')\n",
    "            v = ts.integrate().round(4)\n",
    "            print(v)\n",
    "            print(' ')\n",
    "\n",
    "            #print('The total cost per hour you would have to pay for having the ' + i + ' VM over the 3 month period'\n",
    "                  #+ \"\\n\" + 'within the ' + a + ' availability zone and the ' + o + ' operating system is:')\n",
    "            #v_h = (v/2160).round(4)\n",
    "            #print(v_h)\n",
    "            \n",
    "            temp_i.append(i)\n",
    "            temp_v.append(v)\n",
    "    \n",
    "    plt.style.use('seaborn-poster')\n",
    "    plt.barh(temp_i, temp_v, color='#10873c')\n",
    "            \n",
    "    plt.title('Total Price for Most 2x Instance Types AFTER the 2017 Change from 3/04/2021 to 6/01/2021' +\n",
    "              \"\\n\" + 'Across the ' + a + ' Availability Zone and ' + o + ' Operating Systems')\n",
    "    plt.xlabel('Total Cost (USD)')\n",
    "    #plt.xticks([0,100,200,300,400,500,600,700,800,900,1000,1100])\n",
    "\n",
    "    plt.tight_layout()\n",
    "\n",
    "    #plt.savefig('2x_' + a + '_after2017.png')\n",
    "#plt.show()"
   ]
  },
  {
   "cell_type": "markdown",
   "id": "500146b2",
   "metadata": {},
   "source": [
    "\n"
   ]
  },
  {
   "cell_type": "markdown",
   "id": "d9670ad9",
   "metadata": {},
   "source": [
    "\n"
   ]
  },
  {
   "cell_type": "markdown",
   "id": "e85348b7",
   "metadata": {},
   "source": [
    "#### Re-copied For Loop for making plots to go in presentations (sizing filters adjusted)"
   ]
  },
  {
   "cell_type": "code",
   "execution_count": null,
   "id": "56a4dcc3",
   "metadata": {
    "scrolled": true
   },
   "outputs": [],
   "source": [
    "Instances = ['r5n.large', 'r5n.xlarge', 'r5n.2xlarge', 'r5n.4xlarge', 'r5n.8xlarge',\n",
    "             'r5n.12xlarge', 'r5n.16xlarge', 'r5n.24xlarge', 'r5n.metal'] #choose what you want\n",
    "OS = ['Linux/UNIX'] #choose what you want\n",
    "AZ = ['us-east-1c'] #choose what you want\n",
    "\n",
    "temp_i = []\n",
    "temp_v = []\n",
    "\n",
    "for o in OS:\n",
    "    temp = df1[df1.OS == o]\n",
    "\n",
    "    for i in Instances:\n",
    "        temp1 = temp[temp.IT == i]\n",
    "            \n",
    "        for a in AZ:\n",
    "            temp2 = temp1[temp1.AZ == a]\n",
    "            \n",
    "            x = temp2['SP'].values\n",
    "            y = temp2['DT'].values\n",
    "            ts = pd.Series(x,y)\n",
    "            \n",
    "            print('The total price you would have to pay for having the ' + i + ' VM over the 3 month period' + \"\\n\" +\n",
    "                 'within the ' + a + ' availability zone and the ' + o + ' operating system is:')\n",
    "            v = ts.integrate().round(4)\n",
    "            print(v)\n",
    "            print(' ')\n",
    "\n",
    "            #print('The total cost per hour you would have to pay for having the ' + i + ' VM over the 3 month period'\n",
    "                  #+ \"\\n\" + 'within the ' + a + ' availability zone and the ' + o + ' operating system is:')\n",
    "            #v_h = (v/2160).round(4)\n",
    "            #print(v_h)\n",
    "            \n",
    "            temp_i.append(i)\n",
    "            temp_v.append(v)\n",
    "    \n",
    "    plt.style.use('seaborn-poster')\n",
    "    plt.bar(temp_i, temp_v, color='#8a8a8a')\n",
    "            \n",
    "    plt.title('Total Price for ' + i.split('.')[0] +\n",
    "              ' Instance Types AFTER the 2017 Change from 3/04/2021 to 6/01/2021' + \"\\n\" + 'Across the ' + a +\n",
    "              ' Availability Zone and ' + o + ' Operating Systems')\n",
    "    plt.ylabel('Total Cost (USD)')\n",
    "    #plt.xticks(rotation=20) \n",
    "\n",
    "    plt.tight_layout()\n",
    "\n",
    "    #plt.savefig(i.split('.')[0] + '_' + a + '_after2017_PRES.png')\n",
    "#plt.show()"
   ]
  },
  {
   "cell_type": "markdown",
   "id": "1df18e27",
   "metadata": {},
   "source": [
    "\n"
   ]
  },
  {
   "cell_type": "markdown",
   "id": "4ef2cd5c",
   "metadata": {},
   "source": [
    "\n"
   ]
  },
  {
   "cell_type": "markdown",
   "id": "e8effda1",
   "metadata": {},
   "source": [
    "\n"
   ]
  },
  {
   "cell_type": "markdown",
   "id": "53081bee",
   "metadata": {},
   "source": [
    "\n"
   ]
  },
  {
   "cell_type": "markdown",
   "id": "dedeac0e",
   "metadata": {},
   "source": [
    "### Dividing up the times into 3 periods, using for loop for calculations"
   ]
  },
  {
   "cell_type": "code",
   "execution_count": null,
   "id": "9a373cc4",
   "metadata": {},
   "outputs": [],
   "source": [
    "df2 = df1.loc[(df1['DT'] >= '2021-03-04') & (df1['DT'] < '2021-04-01')] #first time period (all of March)\n",
    "df3 = df1.loc[(df1['DT'] >= '2021-04-01') & (df1['DT'] < '2021-05-01')] #second time period (all of April)\n",
    "df4 = df1.loc[(df1['DT'] >= '2021-05-01')] # third time period (all of May and the first of June)"
   ]
  },
  {
   "cell_type": "markdown",
   "id": "a107db08",
   "metadata": {},
   "source": [
    "#### Only looking at COST PER HOUR"
   ]
  },
  {
   "cell_type": "code",
   "execution_count": null,
   "id": "1e62b07d",
   "metadata": {
    "scrolled": true
   },
   "outputs": [],
   "source": [
    "# GRAPH = BAR PLOT, HOURLY COST\n",
    "\n",
    "Instances = ['z1d.large', 'z1d.xlarge', 'z1d.2xlarge', 'z1d.3xlarge', 'z1d.6xlarge', 'z1d.12xlarge', 'z1d.metal'] #choose what you want\n",
    "OS = ['Linux/UNIX'] #choose what you want\n",
    "AZ = ['us-east-1c'] #choose what you want\n",
    "\n",
    "temp_i = []\n",
    "temp_vh_2 = []\n",
    "\n",
    "for o in OS:\n",
    "    temp = df2[df2.OS == o]\n",
    "\n",
    "    temp_vh_3 = []\n",
    "    \n",
    "    for i in Instances:\n",
    "        temp1 = temp[temp.IT == i]\n",
    "        \n",
    "        temp_vh_4 = []\n",
    "            \n",
    "        for a in AZ:\n",
    "            temp2 = temp1[temp1.AZ == a]\n",
    "            \n",
    "            x = temp2['SP'].values\n",
    "            y = temp2['DT'].values\n",
    "            ts = pd.Series(x,y)\n",
    "            \n",
    "            v = ts.integrate().round(4)\n",
    "\n",
    "            print('The total cost per hour you would have to pay for having the ' + i +\n",
    "                  ' VM over the first time period' + \"\\n\" + 'within the ' + a + ' availability zone and the ' + o +\n",
    "                  ' operating system is:')\n",
    "            vh = (v/648).round(4)\n",
    "            print(vh)\n",
    "            print(' ')\n",
    "            \n",
    "            temp_vh_2.append(vh)\n",
    "            \n",
    "for o in OS:\n",
    "    temp3 = df3[df3.OS == o]\n",
    "\n",
    "    for i in Instances:\n",
    "        temp4 = temp3[temp3.IT == i]\n",
    "            \n",
    "        for a in AZ:\n",
    "            temp5 = temp4[temp4.AZ == a]\n",
    "            \n",
    "            x = temp5['SP'].values\n",
    "            y = temp5['DT'].values\n",
    "            ts = pd.Series(x,y)\n",
    "            \n",
    "            v = ts.integrate().round(4)\n",
    "\n",
    "            print('The total cost per hour you would have to pay for having the ' + i +\n",
    "                  ' VM over the second time period' + \"\\n\" + 'within the ' + a + ' availability zone and the ' + o +\n",
    "                  ' operating system is:')\n",
    "            vh = (v/720).round(4)\n",
    "            print(vh)\n",
    "            print(' ')\n",
    "            \n",
    "            temp_vh_3.append(vh)\n",
    "            \n",
    "for o in OS:\n",
    "    temp6 = df4[df4.OS == o]\n",
    "\n",
    "    for i in Instances:\n",
    "        temp7 = temp6[temp6.IT == i]\n",
    "            \n",
    "        for a in AZ:\n",
    "            temp8 = temp7[temp7.AZ == a]\n",
    "            \n",
    "            x = temp8['SP'].values\n",
    "            y = temp8['DT'].values\n",
    "            ts = pd.Series(x,y)\n",
    "            \n",
    "            v = ts.integrate().round(4)\n",
    "\n",
    "            print('The total cost per hour you would have to pay for having the ' + i +\n",
    "                  ' VM over the third time period' + \"\\n\" + 'within the ' + a + ' availability zone and the ' + o +\n",
    "                  ' operating system is:')\n",
    "            vh = (v/768).round(4)\n",
    "            print(vh)\n",
    "            print(' ')\n",
    "            \n",
    "            temp_i.append(i)\n",
    "            temp_vh_4.append(vh)\n",
    "    \n",
    "    plt.style.use('seaborn')\n",
    "    \n",
    "    ITx_indexes = np.arange(len(temp_i))\n",
    "    width = 0.25 \n",
    "    \n",
    "    plt.bar(ITx_indexes-width, temp_vh_2, width=width, label = '03/04/2021 -  03/31/2021')\n",
    "    plt.bar(ITx_indexes, temp_vh_3, width=width, label = '04/01/2021 -  04/30/2021')\n",
    "    plt.bar(ITx_indexes+width, temp_vh_4, width=width, label = '05/01/2021 -  06/01/2021')\n",
    "            \n",
    "    plt.title('Hourly Price for ' + i.split('.')[0] +\n",
    "        ' Instance Types AFTER the 2017 Change Over Specific Time Periods' + \"\\n\" + 'Across the ' + a +\n",
    "        ' Availability Zone and ' + o + ' Operating Systems')\n",
    "    plt.ylabel('Total Cost (USD)')\n",
    "    plt.xticks(ticks=ITx_indexes, labels=temp_i)#, rotation=15)\n",
    "\n",
    "    plt.legend()\n",
    "    plt.tight_layout()\n",
    "\n",
    "    #plt.savefig(i.split('.')[0] + '_' + a + '_after2017_dif_periods_hour_BAR.png')\n",
    "#plt.show()"
   ]
  },
  {
   "cell_type": "markdown",
   "id": "402867d3",
   "metadata": {},
   "source": [
    "\n"
   ]
  },
  {
   "cell_type": "markdown",
   "id": "01426fc5",
   "metadata": {},
   "source": [
    "\n"
   ]
  },
  {
   "cell_type": "markdown",
   "id": "55495e05",
   "metadata": {},
   "source": [
    "#### Re-copied hourly For Loop (bar) for making plots to go in presentations (sizing filters adjusted)"
   ]
  },
  {
   "cell_type": "code",
   "execution_count": null,
   "id": "c806b5f2",
   "metadata": {
    "scrolled": true
   },
   "outputs": [],
   "source": [
    "# GRAPH = BAR PLOT, HOURLY COST, for presentations\n",
    "\n",
    "Instances = ['r3.large', 'r3.xlarge', 'r3.2xlarge', 'r3.4xlarge', 'r3.8xlarge'] #choose what you want\n",
    "OS = ['Linux/UNIX'] #choose what you want\n",
    "AZ = ['us-east-1c'] #choose what you want\n",
    "\n",
    "temp_i = []\n",
    "temp_vh_2 = []\n",
    "\n",
    "for o in OS:\n",
    "    temp = df2[df2.OS == o]\n",
    "\n",
    "    temp_vh_3 = []\n",
    "    \n",
    "    for i in Instances:\n",
    "        temp1 = temp[temp.IT == i]\n",
    "        \n",
    "        temp_vh_4 = []\n",
    "            \n",
    "        for a in AZ:\n",
    "            temp2 = temp1[temp1.AZ == a]\n",
    "            \n",
    "            x = temp2['SP'].values\n",
    "            y = temp2['DT'].values\n",
    "            ts = pd.Series(x,y)\n",
    "            \n",
    "            v = ts.integrate().round(4)\n",
    "\n",
    "            print('The total cost per hour you would have to pay for having the ' + i +\n",
    "                  ' VM over the first time period' + \"\\n\" + 'within the ' + a + ' availability zone and the ' + o +\n",
    "                  ' operating system is:')\n",
    "            vh = (v/648).round(4)\n",
    "            print(vh)\n",
    "            print(' ')\n",
    "            \n",
    "            temp_vh_2.append(vh)\n",
    "            \n",
    "for o in OS:\n",
    "    temp3 = df3[df3.OS == o]\n",
    "\n",
    "    for i in Instances:\n",
    "        temp4 = temp3[temp3.IT == i]\n",
    "            \n",
    "        for a in AZ:\n",
    "            temp5 = temp4[temp4.AZ == a]\n",
    "            \n",
    "            x = temp5['SP'].values\n",
    "            y = temp5['DT'].values\n",
    "            ts = pd.Series(x,y)\n",
    "            \n",
    "            v = ts.integrate().round(4)\n",
    "\n",
    "            print('The total cost per hour you would have to pay for having the ' + i +\n",
    "                  ' VM over the second time period' + \"\\n\" + 'within the ' + a + ' availability zone and the ' + o +\n",
    "                  ' operating system is:')\n",
    "            vh = (v/720).round(4)\n",
    "            print(vh)\n",
    "            print(' ')\n",
    "            \n",
    "            temp_vh_3.append(vh)\n",
    "            \n",
    "for o in OS:\n",
    "    temp6 = df4[df4.OS == o]\n",
    "\n",
    "    for i in Instances:\n",
    "        temp7 = temp6[temp6.IT == i]\n",
    "            \n",
    "        for a in AZ:\n",
    "            temp8 = temp7[temp7.AZ == a]\n",
    "            \n",
    "            x = temp8['SP'].values\n",
    "            y = temp8['DT'].values\n",
    "            ts = pd.Series(x,y)\n",
    "            \n",
    "            v = ts.integrate().round(4)\n",
    "\n",
    "            print('The total cost per hour you would have to pay for having the ' + i +\n",
    "                  ' VM over the third time period' + \"\\n\" + 'within the ' + a + ' availability zone and the ' + o +\n",
    "                  ' operating system is:')\n",
    "            vh = (v/768).round(4)\n",
    "            print(vh)\n",
    "            print(' ')\n",
    "            \n",
    "            temp_i.append(i)\n",
    "            temp_vh_4.append(vh)\n",
    "    \n",
    "    plt.style.use('seaborn-poster')\n",
    "    \n",
    "    ITx_indexes = np.arange(len(temp_i))\n",
    "    width = 0.25 \n",
    "    \n",
    "    plt.bar(ITx_indexes-width, temp_vh_2, width=width, label = '03/04/2021 -  03/31/2021', color = '#2222b5')\n",
    "    plt.bar(ITx_indexes, temp_vh_3, width=width, label = '04/01/2021 -  04/30/2021', color = '#22a358')\n",
    "    plt.bar(ITx_indexes+width, temp_vh_4, width=width, label = '05/01/2021 -  06/01/2021', color = '#cf1717')\n",
    "            \n",
    "    plt.title('Hourly Price for ' + i.split('.')[0] +\n",
    "        ' Instance Types A Few Years AFTER the 2017 Change Over Specific' + \"\\n\" + 'Time Periods Across the ' + a +\n",
    "        ' Availability Zone and ' + o + ' Operating Systems', fontsize=20)\n",
    "    plt.ylabel('Total Cost (USD)')\n",
    "    #plt.yticks([0,0.05,0.1,0.15,0.2,0.25,0.3,0.35,0.4,0.45,0.5,0.55], fontsize=20)\n",
    "    plt.xticks(ticks=ITx_indexes, labels=temp_i, fontsize=20)#, rotation=25)\n",
    "\n",
    "    plt.legend(prop={\"size\":20})\n",
    "    plt.tight_layout()\n",
    "\n",
    "    #plt.savefig(i.split('.')[0] + '_' + a + '_2021_dif_periods_hour_PRESmod.png')\n",
    "#plt.show()"
   ]
  },
  {
   "cell_type": "markdown",
   "id": "3532a2eb",
   "metadata": {},
   "source": [
    "\n"
   ]
  },
  {
   "cell_type": "markdown",
   "id": "f3141d76",
   "metadata": {},
   "source": [
    "\n"
   ]
  },
  {
   "cell_type": "markdown",
   "id": "68871300",
   "metadata": {},
   "source": [
    "### Copied all AZs cell to try to modify it"
   ]
  },
  {
   "cell_type": "code",
   "execution_count": null,
   "id": "0e1bf0f5",
   "metadata": {},
   "outputs": [],
   "source": [
    "# Outputs total cost\n",
    "\n",
    "#Instances = ['c4.large', 'c4.xlarge', 'c4.2xlarge', 'c4.4xlarge', 'c4.8xlarge'] #choose what you want\n",
    "#OS = ['Linux/UNIX'] #choose what you want\n",
    "\n",
    "#temp_v = []\n",
    "\n",
    "#for o in OS:\n",
    "    #temp = df1[df1.OS == o]\n",
    "    \n",
    "    #for i in Instances:\n",
    "        #temp1 = temp[temp.IT == i]\n",
    "        \n",
    "        #temp_a = []\n",
    "            \n",
    "        #for a in temp1.AZ.unique():\n",
    "            #temp2 = temp1[temp1.AZ == a]\n",
    "            \n",
    "            #x = temp2['SP'].values\n",
    "            #y = temp2['DT'].values\n",
    "            #ts = pd.Series(x,y)\n",
    "            \n",
    "            #print('The total price you would have to pay for having the ' + i + ' VM over the 3 month period' + \"\\n\" +\n",
    "                 #'within the ' + a + ' availability zone and the ' + o + ' operating system is:')\n",
    "            #v = ts.integrate().round(4)\n",
    "            #print(v)\n",
    "            #print(' ')\n",
    "\n",
    "            ##print('The total cost per hour you would have to pay for having the ' + i + ' VM over the 3 month period'\n",
    "                  ##+ \"\\n\" + 'within the ' + a + ' availability zone and the ' + o + ' operating system is:')\n",
    "            ##v_h = (v/2160).round(4)\n",
    "            ##print(v_h)\n",
    "            ##print(' ')\n",
    "            \n",
    "            #temp_v.append(v)\n",
    "            #temp_a.append(a)\n",
    "    \n",
    "    #plt.figure(figsize=(25,5))\n",
    "    #plt.style.use('seaborn')\n",
    "    \n",
    "    #ITx_indexes = np.arange(len(Instances))\n",
    "    #width = 0.16\n",
    "    \n",
    "    #plt.bar(ITx_indexes-3*width, temp_v, width=width, label=temp_a[0])\n",
    "    #plt.bar(ITx_indexes-2*width, temp_v, width=width, label=temp_a[1])\n",
    "    #plt.bar(ITx_indexes-width, temp_v, width=width, label=temp_a[2])\n",
    "    #plt.bar(ITx_indexes, temp_v, width=width, label=temp_a[3])\n",
    "    #plt.bar(ITx_indexes+width, temp_v, width=width, label=temp_a[4])\n",
    "    #plt.bar(ITx_indexes+2*width, temp_v, width=width, label=temp_a[5])\n",
    "            \n",
    "    #plt.title('Total Price for ' + i.split('.')[0] +\n",
    "            #' Instance Types AFTER the 2017 Change from 3/04/2021 to 6/01/2021' + \"\\n\" +\n",
    "            #'Across the us-east-1 Availability Zones and ' + o + ' Operating Systems')\n",
    "    #plt.ylabel('Total Cost (USD)')\n",
    "    #plt.xticks(ticks=ITx_indexes, labels=Instances)#,rotation=25)\n",
    "\n",
    "    #plt.legend(loc = 'best')\n",
    "    #plt.tight_layout()\n",
    "\n",
    "    #plt.savefig(i.split('.')[0] + '_allAZ_after2017.png')\n",
    "#plt.show()"
   ]
  },
  {
   "cell_type": "code",
   "execution_count": null,
   "id": "32007420",
   "metadata": {},
   "outputs": [],
   "source": [
    "#Instances"
   ]
  },
  {
   "cell_type": "code",
   "execution_count": null,
   "id": "e0982381",
   "metadata": {},
   "outputs": [],
   "source": [
    "#print(temp_v)"
   ]
  },
  {
   "cell_type": "code",
   "execution_count": null,
   "id": "648100d5",
   "metadata": {},
   "outputs": [],
   "source": [
    "#print(temp_a)"
   ]
  },
  {
   "cell_type": "code",
   "execution_count": null,
   "id": "36de4a67",
   "metadata": {},
   "outputs": [],
   "source": [
    "#ITx_indexes"
   ]
  },
  {
   "cell_type": "markdown",
   "id": "b0f8470e",
   "metadata": {},
   "source": [
    "\n"
   ]
  },
  {
   "cell_type": "markdown",
   "id": "f4507720",
   "metadata": {},
   "source": [
    "\n"
   ]
  },
  {
   "cell_type": "markdown",
   "id": "bbd48ae8",
   "metadata": {},
   "source": [
    "## Part 2: Obtaining \"before\" values using the integration function"
   ]
  },
  {
   "cell_type": "code",
   "execution_count": null,
   "id": "106efaa2",
   "metadata": {},
   "outputs": [],
   "source": [
    "df5 = pd.read_csv('Data/old3_final.csv') #importing old data file"
   ]
  },
  {
   "cell_type": "code",
   "execution_count": null,
   "id": "f43e8a0d",
   "metadata": {},
   "outputs": [],
   "source": [
    "df5.drop(columns=['code','duration'],inplace=True) #DO NOT RUN THIS CELL MORE THAN ONCE"
   ]
  },
  {
   "cell_type": "code",
   "execution_count": null,
   "id": "a40ecd7d",
   "metadata": {},
   "outputs": [],
   "source": [
    "df5['time'] = pd.to_datetime(df5['time'], unit='ms') #converts to datetime and saves changes"
   ]
  },
  {
   "cell_type": "code",
   "execution_count": null,
   "id": "35cc53f2",
   "metadata": {},
   "outputs": [],
   "source": [
    "df5.sort_values(by=['zone','instance','os', 'time'],inplace=True) #sorts and saves changes"
   ]
  },
  {
   "cell_type": "code",
   "execution_count": null,
   "id": "d3be97b1",
   "metadata": {},
   "outputs": [],
   "source": [
    "df5 = df5[['zone','instance','os','price','time']] #reorders columns"
   ]
  },
  {
   "cell_type": "code",
   "execution_count": null,
   "id": "c0c539ce",
   "metadata": {},
   "outputs": [],
   "source": [
    "filtZ1 = df5.loc[df5['zone'].str.contains(\"us-east-1\")]\n",
    "df6 = filtZ1 #filters obs and creates df6 --> only us-east-1 AZs"
   ]
  },
  {
   "cell_type": "markdown",
   "id": "b214f4f6",
   "metadata": {},
   "source": [
    "### us-east-1 AZs only"
   ]
  },
  {
   "cell_type": "markdown",
   "id": "0635a239",
   "metadata": {},
   "source": [
    "##### must specify IT, OS, and AZ: can output total and/or hourly cost; can create graph: using df6"
   ]
  },
  {
   "cell_type": "code",
   "execution_count": null,
   "id": "ef466b9f",
   "metadata": {
    "scrolled": true
   },
   "outputs": [],
   "source": [
    "Instances = ['c3.large', 'c3.xlarge', 'c3.2xlarge', 'c3.4xlarge', 'c3.8xlarge'] #choose what you want\n",
    "OS = ['Linux/UNIX'] #choose what you want\n",
    "AZ = ['us-east-1a'] #choose what you want\n",
    "\n",
    "temp_i = []\n",
    "temp_v = []\n",
    "\n",
    "for o in OS:\n",
    "    temp = df6[df6.os == o]\n",
    "\n",
    "    for i in Instances:\n",
    "        temp1 = temp[temp.instance == i]\n",
    "            \n",
    "        for a in AZ:\n",
    "            temp2 = temp1[temp1.zone == a]\n",
    "            \n",
    "            x = temp2['price'].values\n",
    "            y = temp2['time'].values\n",
    "            ts = pd.Series(x,y)\n",
    "            \n",
    "            print('The total price you would have to pay for having the ' + i + ' VM over the 3 month period' + \"\\n\" +\n",
    "                 'within the ' + a + ' availability zone and the ' + o + ' operating system is:')\n",
    "            v = ts.integrate().round(4)\n",
    "            print(v)\n",
    "            print(' ')\n",
    "\n",
    "            #print('The total cost per hour you would have to pay for having the ' + i + ' VM over the 3 month period'\n",
    "                  #+ \"\\n\" + 'within the ' + a + ' availability zone and the ' + o + ' operating system is:')\n",
    "            #v_h = (v/2160).round(4)\n",
    "            #print(v_h)\n",
    "            \n",
    "            temp_i.append(i)\n",
    "            temp_v.append(v)\n",
    "    \n",
    "    plt.style.use('seaborn')\n",
    "    plt.bar(temp_i, temp_v, color='#543636')\n",
    "            \n",
    "    plt.title('Total Price for ' + i.split('.')[0] +\n",
    "              ' Instance Types Right BEFORE the 2017 Change from 7/01/2017 to 9/30/2017' + \"\\n\" + 'Across the ' + a +\n",
    "              ' Availability Zone and ' + o + ' Operating Systems')\n",
    "    plt.ylabel('Total Cost (USD)')\n",
    "    #plt.xticks(rotation=15)\n",
    "    #plt.yticks([0,100,200,300,400,500,600,700,800,900,1000,1100,1200,1300,1400])\n",
    "\n",
    "    plt.tight_layout()\n",
    "\n",
    "    #plt.savefig(i.split('.')[0] + '_' + a + '_before2017.png')\n",
    "#plt.show()"
   ]
  },
  {
   "cell_type": "markdown",
   "id": "5ad590ad",
   "metadata": {},
   "source": [
    "\n"
   ]
  },
  {
   "cell_type": "markdown",
   "id": "08bb7854",
   "metadata": {},
   "source": [
    "\n"
   ]
  },
  {
   "cell_type": "markdown",
   "id": "3bf88e09",
   "metadata": {},
   "source": [
    "### us-east-2 AZs only"
   ]
  },
  {
   "cell_type": "code",
   "execution_count": null,
   "id": "453d6ef5",
   "metadata": {},
   "outputs": [],
   "source": [
    "filtZ2 = df5.loc[df5['zone'].str.contains(\"us-east-2\")]\n",
    "df7 = filtZ2 #filters obs and creates df7 --> only us-east-2 AZs"
   ]
  },
  {
   "cell_type": "markdown",
   "id": "2fb5b9b7",
   "metadata": {},
   "source": [
    "##### must specify IT, OS, and AZ: can output total and/or hourly cost; can create graph: using df7"
   ]
  },
  {
   "cell_type": "code",
   "execution_count": null,
   "id": "5e191ce4",
   "metadata": {
    "scrolled": true
   },
   "outputs": [],
   "source": [
    "Instances = ['r4.large', 'r4.xlarge', 'r4.2xlarge', 'r4.4xlarge', 'r4.8xlarge', 'r4.16xlarge'] #choose what you want\n",
    "OS = ['Linux/UNIX'] #choose what you want\n",
    "AZ = ['us-east-2c'] #choose what you want\n",
    "\n",
    "temp_i = []\n",
    "temp_v = []\n",
    "\n",
    "for o in OS:\n",
    "    temp = df7[df7.os == o]\n",
    "\n",
    "    for i in Instances:\n",
    "        temp1 = temp[temp.instance == i]\n",
    "            \n",
    "        for a in AZ:\n",
    "            temp2 = temp1[temp1.zone == a]\n",
    "            \n",
    "            x = temp2['price'].values\n",
    "            y = temp2['time'].values\n",
    "            ts = pd.Series(x,y)\n",
    "            \n",
    "            print('The total price you would have to pay for having the ' + i + ' VM over the 3 month period' + \"\\n\" +\n",
    "                 'within the ' + a + ' availability zone and the ' + o + ' operating system is:')\n",
    "            v = ts.integrate().round(4)\n",
    "            print(v)\n",
    "            print(' ')\n",
    "\n",
    "            #print('The total cost per hour you would have to pay for having the ' + i + ' VM over the 3 month period'\n",
    "                  #+ \"\\n\" + 'within the ' + a + ' availability zone and the ' + o + ' operating system is:')\n",
    "            #v_h = (v/2160).round(4)\n",
    "            #print(v_h)\n",
    "            \n",
    "            temp_i.append(i)\n",
    "            temp_v.append(v)\n",
    "    \n",
    "    plt.style.use('seaborn')\n",
    "    plt.bar(temp_i, temp_v, color='#db2354')\n",
    "            \n",
    "    plt.title('Total Price for ' + i.split('.')[0] +\n",
    "              ' Instance Types Right BEFORE the 2017 Change from 7/01/2017 to 9/30/2017' + \"\\n\" + 'Across the ' + a +\n",
    "              ' Availability Zone and ' + o + ' Operating Systems')\n",
    "    plt.ylabel('Total Cost (USD)')\n",
    "    #plt.xticks(rotation=15)\n",
    "    #plt.yticks([0,100,200,300,400,500,600,700,800,900,1000,1100,1200,1300,1400,1500])\n",
    "    \n",
    "    plt.tight_layout()\n",
    "\n",
    "    #plt.savefig(i.split('.')[0] + '_' + a + '_before2017PRES.png')\n",
    "#plt.show()"
   ]
  },
  {
   "cell_type": "markdown",
   "id": "cdff0481",
   "metadata": {},
   "source": [
    "\n"
   ]
  },
  {
   "cell_type": "markdown",
   "id": "f27797a1",
   "metadata": {},
   "source": [
    "\n"
   ]
  },
  {
   "cell_type": "markdown",
   "id": "73b8c3e0",
   "metadata": {},
   "source": [
    "### us-west-2 AZs only"
   ]
  },
  {
   "cell_type": "code",
   "execution_count": null,
   "id": "e73b0e9f",
   "metadata": {},
   "outputs": [],
   "source": [
    "filtZ3 = df5.loc[df5['zone'].str.contains(\"us-west-2\")]\n",
    "df8 = filtZ3 #filters obs and creates df8 --> only us-west-2 AZs"
   ]
  },
  {
   "cell_type": "markdown",
   "id": "fa62bd36",
   "metadata": {},
   "source": [
    "##### must specify IT, OS, and AZ: can output total and/or hourly cost; can create graph: using df8"
   ]
  },
  {
   "cell_type": "code",
   "execution_count": null,
   "id": "4f033457",
   "metadata": {
    "scrolled": true
   },
   "outputs": [],
   "source": [
    "Instances = ['r4.large', 'r4.xlarge', 'r4.2xlarge', 'r4.4xlarge', 'r4.8xlarge', 'r4.16xlarge'] #choose what you want\n",
    "OS = ['Linux/UNIX'] #choose what you want\n",
    "AZ = ['us-west-2c'] #choose what you want\n",
    "\n",
    "temp_i = []\n",
    "temp_v = []\n",
    "\n",
    "for o in OS:\n",
    "    temp = df8[df8.os == o]\n",
    "\n",
    "    for i in Instances:\n",
    "        temp1 = temp[temp.instance == i]\n",
    "            \n",
    "        for a in AZ:\n",
    "            temp2 = temp1[temp1.zone == a]\n",
    "            \n",
    "            x = temp2['price'].values\n",
    "            y = temp2['time'].values\n",
    "            ts = pd.Series(x,y)\n",
    "            \n",
    "            print('The total price you would have to pay for having the ' + i + ' VM over the 3 month period' + \"\\n\" +\n",
    "                 'within the ' + a + ' availability zone and the ' + o + ' operating system is:')\n",
    "            v = ts.integrate().round(4)\n",
    "            print(v)\n",
    "            print(' ')\n",
    "\n",
    "            #print('The total cost per hour you would have to pay for having the ' + i + ' VM over the 3 month period'\n",
    "                  #+ \"\\n\" + 'within the ' + a + ' availability zone and the ' + o + ' operating system is:')\n",
    "            #v_h = (v/2160).round(4)\n",
    "            #print(v_h)\n",
    "            \n",
    "            temp_i.append(i)\n",
    "            temp_v.append(v)\n",
    "    \n",
    "    plt.style.use('seaborn')\n",
    "    plt.bar(temp_i, temp_v, color='#aeb329')\n",
    "            \n",
    "    plt.title('Total Price for ' + i.split('.')[0] +\n",
    "              ' Instance Types Right BEFORE the 2017 Change from 7/01/2017 to 9/30/2017' + \"\\n\" + 'Across the ' + a +\n",
    "              ' Availability Zone and ' + o + ' Operating Systems')\n",
    "    plt.ylabel('Total Cost (USD)')\n",
    "    #plt.xticks(rotation=15)\n",
    "    #plt.yticks([0,2500,5000,7500,10000,12500,15000,17500,20000,22500])\n",
    "\n",
    "    plt.tight_layout()\n",
    "\n",
    "    #plt.savefig(i.split('.')[0] + '_' + a + '_before2017.png')\n",
    "#plt.show()"
   ]
  },
  {
   "cell_type": "markdown",
   "id": "d6c291ed",
   "metadata": {},
   "source": [
    "\n"
   ]
  },
  {
   "cell_type": "markdown",
   "id": "8ab5c37e",
   "metadata": {},
   "source": [
    "\n"
   ]
  },
  {
   "cell_type": "markdown",
   "id": "6f64b138",
   "metadata": {},
   "source": [
    "## Part 3: More \"after\" data"
   ]
  },
  {
   "cell_type": "code",
   "execution_count": null,
   "id": "27b6036b",
   "metadata": {},
   "outputs": [],
   "source": [
    "df10 = pd.read_csv('Data/new3_final.csv') #importing new data file (2)"
   ]
  },
  {
   "cell_type": "code",
   "execution_count": null,
   "id": "96a19ab0",
   "metadata": {},
   "outputs": [],
   "source": [
    "df10.drop(columns=['code','duration'],inplace=True) #DO NOT RUN THIS CELL MORE THAN ONCE"
   ]
  },
  {
   "cell_type": "code",
   "execution_count": null,
   "id": "89ae2213",
   "metadata": {},
   "outputs": [],
   "source": [
    "df10['time'] = pd.to_datetime(df10['time'], unit='ms') #converts to datetime and saves changes"
   ]
  },
  {
   "cell_type": "code",
   "execution_count": null,
   "id": "9067f128",
   "metadata": {},
   "outputs": [],
   "source": [
    "df10.sort_values(by=['zone','instance','os', 'time'],inplace=True) #sorts and saves changes"
   ]
  },
  {
   "cell_type": "code",
   "execution_count": null,
   "id": "9d44b1da",
   "metadata": {},
   "outputs": [],
   "source": [
    "df10 = df10[['zone','instance','os','price','time']] #reorders columns"
   ]
  },
  {
   "cell_type": "code",
   "execution_count": null,
   "id": "e4cdb15a",
   "metadata": {},
   "outputs": [],
   "source": [
    "filtZ4 = df10.loc[df10['zone'].str.contains(\"us-east-1\")]\n",
    "df11 = filtZ4 #filters obs and creates df11 --> only us-east-1 AZs"
   ]
  },
  {
   "cell_type": "markdown",
   "id": "9e1d4ca3",
   "metadata": {},
   "source": [
    "### us-east-1 AZs only"
   ]
  },
  {
   "cell_type": "markdown",
   "id": "1597e033",
   "metadata": {},
   "source": [
    "##### must specify IT, OS, and AZ: can output total and/or hourly cost; can create graph: using df11"
   ]
  },
  {
   "cell_type": "code",
   "execution_count": null,
   "id": "39cf8c22",
   "metadata": {
    "scrolled": true
   },
   "outputs": [],
   "source": [
    "Instances = ['c3.large', 'c3.xlarge', 'c3.2xlarge', 'c3.4xlarge', 'c3.8xlarge'] #choose what you want\n",
    "OS = ['Linux/UNIX'] #choose what you want\n",
    "AZ = ['us-east-1a'] #choose what you want\n",
    "\n",
    "temp_i = []\n",
    "temp_v = []\n",
    "\n",
    "for o in OS:\n",
    "    temp = df11[df11.os == o]\n",
    "\n",
    "    for i in Instances:\n",
    "        temp1 = temp[temp.instance == i]\n",
    "            \n",
    "        for a in AZ:\n",
    "            temp2 = temp1[temp1.zone == a]\n",
    "            \n",
    "            x = temp2['price'].values\n",
    "            y = temp2['time'].values\n",
    "            ts = pd.Series(x,y)\n",
    "            \n",
    "            print('The total price you would have to pay for having the ' + i + ' VM over the 3 month period' + \"\\n\" +\n",
    "                 'within the ' + a + ' availability zone and the ' + o + ' operating system is:')\n",
    "            v = ts.integrate().round(4)\n",
    "            print(v)\n",
    "            print(' ')\n",
    "\n",
    "            #print('The total cost per hour you would have to pay for having the ' + i + ' VM over the 3 month period'\n",
    "                  #+ \"\\n\" + 'within the ' + a + ' availability zone and the ' + o + ' operating system is:')\n",
    "            #v_h = (v/2160).round(4)\n",
    "            #print(v_h)\n",
    "            \n",
    "            temp_i.append(i)\n",
    "            temp_v.append(v)\n",
    "    \n",
    "    plt.style.use('seaborn')\n",
    "    plt.bar(temp_i, temp_v, color='#828587')\n",
    "            \n",
    "    plt.title('Total Price for ' + i.split('.')[0] +\n",
    "              ' Instance Types Right AFTER the 2017 Change from 1/01/2018 to 3/31/2018' + \"\\n\" + 'Across the ' + a +\n",
    "              ' Availability Zone and ' + o + ' Operating Systems')\n",
    "    plt.ylabel('Total Cost (USD)')\n",
    "    #plt.xticks(rotation=15) \n",
    "    #plt.yticks([0,250,500,750,1000,1250,1500,1750,2000,2250,2500,2750])\n",
    "\n",
    "    plt.tight_layout()\n",
    "\n",
    "    #plt.savefig(i.split('.')[0] + '_' + a + '_2018.png')\n",
    "#plt.show()"
   ]
  },
  {
   "cell_type": "markdown",
   "id": "2caac018",
   "metadata": {},
   "source": [
    "\n"
   ]
  },
  {
   "cell_type": "markdown",
   "id": "b8adb457",
   "metadata": {},
   "source": [
    "\n"
   ]
  },
  {
   "cell_type": "markdown",
   "id": "39946e2c",
   "metadata": {},
   "source": [
    "### us-east-2 AZs only"
   ]
  },
  {
   "cell_type": "code",
   "execution_count": null,
   "id": "cc73fde7",
   "metadata": {},
   "outputs": [],
   "source": [
    "filtZ5 = df10.loc[df10['zone'].str.contains(\"us-east-2\")]\n",
    "df12 = filtZ5 #filters obs and creates df11 --> only us-east-2 AZs"
   ]
  },
  {
   "cell_type": "markdown",
   "id": "31538a85",
   "metadata": {},
   "source": [
    "##### must specify IT, OS, and AZ: can output total and/or hourly cost; can create graph: using df12"
   ]
  },
  {
   "cell_type": "code",
   "execution_count": null,
   "id": "a16a10a1",
   "metadata": {
    "scrolled": true
   },
   "outputs": [],
   "source": [
    "Instances = ['t2.micro', 't2.small', 't2.medium', 't2.large', 't2.xlarge', 't2.2xlarge'] #choose what you want\n",
    "OS = ['Linux/UNIX'] #choose what you want\n",
    "AZ = ['us-east-2c'] #choose what you want\n",
    "\n",
    "temp_i = []\n",
    "temp_v = []\n",
    "\n",
    "for o in OS:\n",
    "    temp = df12[df12.os == o]\n",
    "\n",
    "    for i in Instances:\n",
    "        temp1 = temp[temp.instance == i]\n",
    "            \n",
    "        for a in AZ:\n",
    "            temp2 = temp1[temp1.zone == a]\n",
    "            \n",
    "            x = temp2['price'].values\n",
    "            y = temp2['time'].values\n",
    "            ts = pd.Series(x,y)\n",
    "            \n",
    "            print('The total price you would have to pay for having the ' + i + ' VM over the 3 month period' + \"\\n\" +\n",
    "                 'within the ' + a + ' availability zone and the ' + o + ' operating system is:')\n",
    "            v = ts.integrate().round(4)\n",
    "            print(v)\n",
    "            print(' ')\n",
    "\n",
    "            #print('The total cost per hour you would have to pay for having the ' + i + ' VM over the 3 month period'\n",
    "                  #+ \"\\n\" + 'within the ' + a + ' availability zone and the ' + o + ' operating system is:')\n",
    "            #v_h = (v/2160).round(4)\n",
    "            #print(v_h)\n",
    "            \n",
    "            temp_i.append(i)\n",
    "            temp_v.append(v)\n",
    "    \n",
    "    plt.style.use('seaborn')\n",
    "    plt.bar(temp_i, temp_v, color='#6ad1e6')\n",
    "            \n",
    "    plt.title('Total Price for ' + i.split('.')[0] +\n",
    "              ' Instance Types Right AFTER the 2017 Change from 1/01/2018 to 3/31/2018' + \"\\n\" + 'Across the ' + a +\n",
    "              ' Availability Zone and ' + o + ' Operating Systems')\n",
    "    plt.ylabel('Total Cost (USD)')\n",
    "    #plt.xticks(rotation=15) \n",
    "    #plt.yticks([0,25,50,75,100,125,150,175,200,225])\n",
    "\n",
    "    plt.tight_layout()\n",
    "\n",
    "    #plt.savefig(i.split('.')[0] + '_' + a + '_2018.png')\n",
    "#plt.show()"
   ]
  },
  {
   "cell_type": "markdown",
   "id": "3bc23141",
   "metadata": {},
   "source": [
    "\n"
   ]
  },
  {
   "cell_type": "markdown",
   "id": "009b7b2a",
   "metadata": {},
   "source": [
    "\n"
   ]
  },
  {
   "cell_type": "markdown",
   "id": "2e71f391",
   "metadata": {},
   "source": [
    "### us-west-2 AZs only"
   ]
  },
  {
   "cell_type": "code",
   "execution_count": null,
   "id": "9cb9f933",
   "metadata": {},
   "outputs": [],
   "source": [
    "filtZ6 = df10.loc[df10['zone'].str.contains(\"us-west-2\")]\n",
    "df13 = filtZ6 #filters obs and creates df11 --> only us-WEST-2 AZs"
   ]
  },
  {
   "cell_type": "markdown",
   "id": "38d860b7",
   "metadata": {},
   "source": [
    "##### must specify IT, OS, and AZ: can output total and/or hourly cost; can create graph: using df13"
   ]
  },
  {
   "cell_type": "code",
   "execution_count": null,
   "id": "3efd7767",
   "metadata": {
    "scrolled": true
   },
   "outputs": [],
   "source": [
    "Instances = ['x1e.xlarge', 'x1e.2xlarge', 'x1e.4xlarge', 'x1e.8xlarge', 'x1e.16xlarge', 'x1e.32xlarge'] #choose what you want\n",
    "OS = ['Linux/UNIX'] #choose what you want\n",
    "AZ = ['us-west-2c'] #choose what you want\n",
    "\n",
    "temp_i = []\n",
    "temp_v = []\n",
    "\n",
    "for o in OS:\n",
    "    temp = df13[df13.os == o]\n",
    "\n",
    "    for i in Instances:\n",
    "        temp1 = temp[temp.instance == i]\n",
    "            \n",
    "        for a in AZ:\n",
    "            temp2 = temp1[temp1.zone == a]\n",
    "            \n",
    "            x = temp2['price'].values\n",
    "            y = temp2['time'].values\n",
    "            ts = pd.Series(x,y)\n",
    "            \n",
    "            print('The total price you would have to pay for having the ' + i + ' VM over the 3 month period' + \"\\n\" +\n",
    "                 'within the ' + a + ' availability zone and the ' + o + ' operating system is:')\n",
    "            v = ts.integrate().round(4)\n",
    "            print(v)\n",
    "            print(' ')\n",
    "\n",
    "            #print('The total cost per hour you would have to pay for having the ' + i + ' VM over the 3 month period'\n",
    "                  #+ \"\\n\" + 'within the ' + a + ' availability zone and the ' + o + ' operating system is:')\n",
    "            #v_h = (v/2160).round(4)\n",
    "            #print(v_h)\n",
    "            \n",
    "            temp_i.append(i)\n",
    "            temp_v.append(v)\n",
    "    \n",
    "    plt.style.use('seaborn')\n",
    "    plt.bar(temp_i, temp_v, color='#55a81e')\n",
    "            \n",
    "    plt.title('Total Price for ' + i.split('.')[0] +\n",
    "              ' Instance Types Right AFTER the 2017 Change from 1/01/2018 to 3/31/2018' + \"\\n\" + 'Across the ' + a +\n",
    "              ' Availability Zone and ' + o + ' Operating Systems')\n",
    "    plt.ylabel('Total Cost (USD)')\n",
    "    #plt.xticks(rotation=15) \n",
    "    #plt.yticks([0,5000,10000,15000,20000,25000,30000,35000,40000,45000,50000,55000])\n",
    "\n",
    "    plt.tight_layout()\n",
    "\n",
    "    #plt.savefig(i.split('.')[0] + '_' + a + '_2018.png')\n",
    "#plt.show()"
   ]
  },
  {
   "cell_type": "markdown",
   "id": "5714d5f2",
   "metadata": {},
   "source": [
    "\n"
   ]
  },
  {
   "cell_type": "markdown",
   "id": "4a1f2f35",
   "metadata": {},
   "source": [
    "\n"
   ]
  },
  {
   "cell_type": "markdown",
   "id": "2a31d3e2",
   "metadata": {},
   "source": [
    "## Part 4: Comparing \"before\" & \"after\" values simultaneously"
   ]
  },
  {
   "cell_type": "markdown",
   "id": "ff623fca",
   "metadata": {},
   "source": [
    "##### must specify IT, OS, and AZ: outputs total cost; can create graph: COMPARISON"
   ]
  },
  {
   "cell_type": "code",
   "execution_count": null,
   "id": "9b97220e",
   "metadata": {
    "scrolled": true
   },
   "outputs": [],
   "source": [
    "# GRAPH = BAR PLOT, Comparing Costs from Before and After (2017 & 2018)\n",
    "\n",
    "Instances = ['r4.large', 'r4.xlarge', 'r4.2xlarge', 'r4.4xlarge', 'r4.8xlarge', 'r4.16xlarge'] #choose what you want\n",
    "OS = ['Linux/UNIX'] #choose what you want\n",
    "AZ = ['us-west-2c'] #choose what you want\n",
    "\n",
    "temp_i = []\n",
    "temp_v_1 = []\n",
    "\n",
    "for o in OS:\n",
    "    temp = df5[df5.os == o]\n",
    "\n",
    "    temp_v_2 = []\n",
    "    \n",
    "    for i in Instances:\n",
    "        temp1 = temp[temp.instance == i]\n",
    "            \n",
    "        for a in AZ:\n",
    "            temp2 = temp1[temp1.zone == a]\n",
    "            \n",
    "            x = temp2['price'].values\n",
    "            y = temp2['time'].values\n",
    "            ts = pd.Series(x,y)\n",
    "            \n",
    "            v = ts.integrate().round(4)\n",
    "\n",
    "            print('The total cost you would have to pay for having the ' + i +\n",
    "                  ' VM over the 2017 time period' + \"\\n\" + 'within the ' + a + ' availability zone and the ' + o +\n",
    "                  ' operating system is:')\n",
    "            print(v)\n",
    "            print(' ')\n",
    "            \n",
    "            temp_v_1.append(v)\n",
    "            \n",
    "for o in OS:\n",
    "    temp3 = df10[df10.os == o]\n",
    "\n",
    "    for i in Instances:\n",
    "        temp4 = temp3[temp3.instance == i]\n",
    "            \n",
    "        for a in AZ:\n",
    "            temp5 = temp4[temp4.zone == a]\n",
    "            \n",
    "            x = temp5['price'].values\n",
    "            y = temp5['time'].values\n",
    "            ts = pd.Series(x,y)\n",
    "            \n",
    "            v = ts.integrate().round(4)\n",
    "\n",
    "            print('The total cost you would have to pay for having the ' + i +\n",
    "                  ' VM over the 2018 time period' + \"\\n\" + 'within the ' + a + ' availability zone and the ' + o +\n",
    "                  ' operating system is:')\n",
    "            print(v)\n",
    "            print(' ')\n",
    "            \n",
    "            temp_i.append(i)\n",
    "            temp_v_2.append(v)\n",
    "            \n",
    "    \n",
    "    plt.style.use('seaborn')\n",
    "    \n",
    "    ITx_indexes = np.arange(len(temp_i))\n",
    "    width = 0.25 \n",
    "    \n",
    "    plt.bar(ITx_indexes-0.5*width, temp_v_1, width=width, color='#7900db', label = '07/01/2017 -  09/30/2017')\n",
    "    plt.bar(ITx_indexes+0.5*width, temp_v_2, width=width, color='#289962', label = '01/01/2018 -  03/31/2018')\n",
    "            \n",
    "    plt.title('Comparing Total Price for ' + i.split('.')[0] +\n",
    "        ' Instance Types Right BEFORE & Right AFTER the 2017' + \"\\n\" + 'Change Across the ' + a +\n",
    "        ' Availability Zone and ' + o + ' Operating Systems')\n",
    "    plt.ylabel('Total Cost (USD)')\n",
    "    plt.xticks(ticks=ITx_indexes, labels=temp_i)#, rotation=15)\n",
    "    #plt.yticks([0,2500,5000,7500,10000,12500,15000,17500,20000,22500,25000])\n",
    "    \n",
    "    plt.legend(loc='best')\n",
    "    plt.tight_layout()\n",
    "\n",
    "    #plt.savefig(i.split('.')[0] + '_' + a + '_b4Af_CompBAR.png')\n",
    "#plt.show()"
   ]
  },
  {
   "cell_type": "markdown",
   "id": "015973d6",
   "metadata": {},
   "source": [
    "\n"
   ]
  },
  {
   "cell_type": "markdown",
   "id": "63561166",
   "metadata": {},
   "source": [
    "\n"
   ]
  },
  {
   "cell_type": "markdown",
   "id": "abf1d155",
   "metadata": {},
   "source": [
    "##### Recopied from above --> PRESENTATIONS"
   ]
  },
  {
   "cell_type": "code",
   "execution_count": null,
   "id": "c9e749e6",
   "metadata": {
    "scrolled": true
   },
   "outputs": [],
   "source": [
    "# GRAPH = BAR PLOT, Comparing Costs from Before and After --> PRES (2017 & 2018)\n",
    "\n",
    "Instances = ['r4.large', 'r4.xlarge', 'r4.2xlarge', 'r4.4xlarge', 'r4.8xlarge', 'r4.16xlarge'] #choose what you want\n",
    "OS = ['Linux/UNIX'] #choose what you want\n",
    "AZ = ['us-east-1c'] #choose what you want\n",
    "\n",
    "temp_i = []\n",
    "temp_v_1 = []\n",
    "\n",
    "for o in OS:\n",
    "    temp = df6[df6.os == o]\n",
    "\n",
    "    temp_v_2 = []\n",
    "    \n",
    "    for i in Instances:\n",
    "        temp1 = temp[temp.instance == i]\n",
    "            \n",
    "        for a in AZ:\n",
    "            temp2 = temp1[temp1.zone == a]\n",
    "            \n",
    "            x = temp2['price'].values\n",
    "            y = temp2['time'].values\n",
    "            ts = pd.Series(x,y)\n",
    "            \n",
    "            v = ts.integrate().round(4)\n",
    "\n",
    "            print('The total cost you would have to pay for having the ' + i +\n",
    "                  ' VM over the 2017 time period' + \"\\n\" + 'within the ' + a + ' availability zone and the ' + o +\n",
    "                  ' operating system is:')\n",
    "            print(v)\n",
    "            print(' ')\n",
    "            \n",
    "            temp_v_1.append(v)\n",
    "            \n",
    "for o in OS:\n",
    "    temp3 = df11[df11.os == o]\n",
    "\n",
    "    for i in Instances:\n",
    "        temp4 = temp3[temp3.instance == i]\n",
    "            \n",
    "        for a in AZ:\n",
    "            temp5 = temp4[temp4.zone == a]\n",
    "            \n",
    "            x = temp5['price'].values\n",
    "            y = temp5['time'].values\n",
    "            ts = pd.Series(x,y)\n",
    "            \n",
    "            v = ts.integrate().round(4)\n",
    "\n",
    "            print('The total cost you would have to pay for having the ' + i +\n",
    "                  ' VM over the 2018 time period' + \"\\n\" + 'within the ' + a + ' availability zone and the ' + o +\n",
    "                  ' operating system is:')\n",
    "            print(v)\n",
    "            print(' ')\n",
    "            \n",
    "            temp_i.append(i)\n",
    "            temp_v_2.append(v)\n",
    "            \n",
    "    \n",
    "    plt.style.use('seaborn-poster')\n",
    "    \n",
    "    ITx_indexes = np.arange(len(temp_i))\n",
    "    width = 0.25 \n",
    "    \n",
    "    plt.bar(ITx_indexes-0.5*width, temp_v_1, width=width, color='#d11b1b', label = '07/01/2017 -  09/30/2017')\n",
    "    plt.bar(ITx_indexes+0.5*width, temp_v_2, width=width, color='#27a164', label = '01/01/2018 -  03/31/2018')\n",
    "            \n",
    "    plt.title('Comparing Total Price for ' + i.split('.')[0] +\n",
    "        ' Instance Types Right BEFORE & Right AFTER the 2017' + \"\\n\" + 'Change Across the ' + a +\n",
    "        ' Availability Zone and ' + o + ' Operating Systems',fontsize=20)\n",
    "    plt.ylabel('Total Cost (USD)')\n",
    "    plt.xticks(ticks=ITx_indexes, labels=temp_i, fontsize=20)#, rotation=15)\n",
    "    plt.yticks([0,500,1000,1500,2000,2500,3000,3500,4000,4500,5000,5500], fontsize=20)\n",
    "    \n",
    "    plt.legend(prop={\"size\":20})\n",
    "    plt.tight_layout()\n",
    "\n",
    "    plt.savefig(i.split('.')[0] + '_' + a + '_17-18_PRESmod.png')\n",
    "plt.show()"
   ]
  },
  {
   "cell_type": "markdown",
   "id": "ba2b2e00",
   "metadata": {},
   "source": [
    "\n"
   ]
  },
  {
   "cell_type": "markdown",
   "id": "e3da1f24",
   "metadata": {},
   "source": [
    "\n"
   ]
  },
  {
   "cell_type": "markdown",
   "id": "29191011",
   "metadata": {},
   "source": [
    "### Comparison using means (across all AZs): 2017, 2018, 2021"
   ]
  },
  {
   "cell_type": "markdown",
   "id": "24027c2c",
   "metadata": {},
   "source": [
    "Reimporting raw data and sorting by date-time only"
   ]
  },
  {
   "cell_type": "code",
   "execution_count": null,
   "id": "32cc6b2e",
   "metadata": {},
   "outputs": [],
   "source": [
    "df15 = pd.read_csv('Data/old3_final.csv') #importing old data file"
   ]
  },
  {
   "cell_type": "code",
   "execution_count": null,
   "id": "dfcfa0ea",
   "metadata": {},
   "outputs": [],
   "source": [
    "df15.drop(columns=['code','duration'],inplace=True) #DO NOT RUN THIS CELL MORE THAN ONCE"
   ]
  },
  {
   "cell_type": "code",
   "execution_count": null,
   "id": "0000a980",
   "metadata": {},
   "outputs": [],
   "source": [
    "df15['time'] = pd.to_datetime(df15['time'], unit='ms') #converts to datetime and saves changes"
   ]
  },
  {
   "cell_type": "code",
   "execution_count": null,
   "id": "a98a7924",
   "metadata": {},
   "outputs": [],
   "source": [
    "df15.sort_values(by=['time'],inplace=True) #sorts ONLY BY DATE - TIME and saves changes"
   ]
  },
  {
   "cell_type": "code",
   "execution_count": null,
   "id": "5079a186",
   "metadata": {},
   "outputs": [],
   "source": [
    "df15 = df15[['zone','instance','os','price','time']] #reorders columns"
   ]
  },
  {
   "cell_type": "code",
   "execution_count": null,
   "id": "fcb9d3e9",
   "metadata": {},
   "outputs": [],
   "source": [
    "df16 = df15.loc[df15['zone'].str.contains('us-east-1')]\n",
    "#df16 #filters df15 to only include us-east-1 AZs"
   ]
  },
  {
   "cell_type": "markdown",
   "id": "c483ffb2",
   "metadata": {},
   "source": [
    "\n"
   ]
  },
  {
   "cell_type": "markdown",
   "id": "ea0d61ed",
   "metadata": {},
   "source": [
    "\n"
   ]
  },
  {
   "cell_type": "code",
   "execution_count": null,
   "id": "f9038cb9",
   "metadata": {},
   "outputs": [],
   "source": [
    "df17 = pd.read_csv('Data/new3_final.csv') #importing new data file (2)"
   ]
  },
  {
   "cell_type": "code",
   "execution_count": null,
   "id": "d1a433ac",
   "metadata": {},
   "outputs": [],
   "source": [
    "df17.drop(columns=['code','duration'],inplace=True) #DO NOT RUN THIS CELL MORE THAN ONCE"
   ]
  },
  {
   "cell_type": "code",
   "execution_count": null,
   "id": "a520ea37",
   "metadata": {},
   "outputs": [],
   "source": [
    "df17['time'] = pd.to_datetime(df17['time'], unit='ms') #converts to datetime and saves changes"
   ]
  },
  {
   "cell_type": "code",
   "execution_count": null,
   "id": "f82c07ec",
   "metadata": {},
   "outputs": [],
   "source": [
    "df17.sort_values(by=['time'],inplace=True) #sorts ONLY BY DATE - TIME and saves changes"
   ]
  },
  {
   "cell_type": "code",
   "execution_count": null,
   "id": "0e3eb83d",
   "metadata": {},
   "outputs": [],
   "source": [
    "df17 = df17[['zone','instance','os','price','time']] #reorders columns"
   ]
  },
  {
   "cell_type": "code",
   "execution_count": null,
   "id": "576e6c0b",
   "metadata": {},
   "outputs": [],
   "source": [
    "df18 = df17.loc[df17['zone'].str.contains('us-east-1')]\n",
    "#df18 #filters df17 to only include us-east-1 AZs"
   ]
  },
  {
   "cell_type": "markdown",
   "id": "524856f8",
   "metadata": {},
   "source": [
    "\n"
   ]
  },
  {
   "cell_type": "markdown",
   "id": "4f358957",
   "metadata": {},
   "source": [
    "\n"
   ]
  },
  {
   "cell_type": "code",
   "execution_count": null,
   "id": "e418b940",
   "metadata": {},
   "outputs": [],
   "source": [
    "df19 = pd.read_csv('Data/spot_0601.tsv', sep='\\t', header=None) #importing spot_0601 file"
   ]
  },
  {
   "cell_type": "code",
   "execution_count": null,
   "id": "770c6e85",
   "metadata": {},
   "outputs": [],
   "source": [
    "df19.columns=['SPH','zone','instance','os','price','time'] #setting column names"
   ]
  },
  {
   "cell_type": "code",
   "execution_count": null,
   "id": "7ee34752",
   "metadata": {},
   "outputs": [],
   "source": [
    "df19.drop(columns=['SPH'],inplace=True) #drops the SPH column and saves that change; DON'T RUN MORE THAN ONCE"
   ]
  },
  {
   "cell_type": "code",
   "execution_count": null,
   "id": "f3b14ac9",
   "metadata": {},
   "outputs": [],
   "source": [
    "df19['time'] = pd.to_datetime(df19['time']) #converting to datetimes and saving changes"
   ]
  },
  {
   "cell_type": "code",
   "execution_count": null,
   "id": "58447f08",
   "metadata": {},
   "outputs": [],
   "source": [
    "df19.sort_values(by=['time'],inplace=True) #sorts ONLY BY DATE - TIME and saves changes"
   ]
  },
  {
   "cell_type": "code",
   "execution_count": null,
   "id": "4b7a6188",
   "metadata": {},
   "outputs": [],
   "source": [
    "df20 = df19.loc[(df19['zone'].str.contains('us-east-1')) & (df19['os'] == 'Linux/UNIX')]\n",
    "#df20 #filters df19 to only include us-east-1 AZs & Linux/UNIX os's"
   ]
  },
  {
   "cell_type": "markdown",
   "id": "9dbd7491",
   "metadata": {},
   "source": [
    "\n"
   ]
  },
  {
   "cell_type": "markdown",
   "id": "d5117754",
   "metadata": {},
   "source": [
    "\n"
   ]
  },
  {
   "cell_type": "markdown",
   "id": "99284520",
   "metadata": {},
   "source": [
    "- df16: 2017 data, us-east-1 AZs\n",
    "- df18: 2018 data, us-east-1 AZs\n",
    "- df20: 2021 data, us-east-1 AZs"
   ]
  },
  {
   "cell_type": "code",
   "execution_count": null,
   "id": "ccccaf91",
   "metadata": {
    "scrolled": true
   },
   "outputs": [],
   "source": [
    "# Mean Integration: Averaging across all AZs, 2017, 2018, 2021\n",
    "\n",
    "Instances = ['z1d.large', 'z1d.xlarge', 'z1d.2xlarge', 'z1d.3xlarge', 'z1d.6xlarge', 'z1d.12xlarge', 'z1d.metal'] #choose what you want\n",
    "OS = ['Linux/UNIX'] #choose what you want\n",
    "\n",
    "temp_i = []\n",
    "temp_v_1 = []\n",
    "\n",
    "for o in OS:\n",
    "    temp = df16[df16.os == o]\n",
    "\n",
    "    temp_v_2 = []\n",
    "    \n",
    "    for i in Instances:\n",
    "        temp1 = temp[temp.instance == i]\n",
    "        \n",
    "        temp_v_3 = []\n",
    "            \n",
    "        x = temp1['price'].values\n",
    "        y = temp1['time'].values\n",
    "        ts = pd.Series(x,y)\n",
    "            \n",
    "        v = ts.integrate().mean().round(4)\n",
    "\n",
    "        print('On average, the total cost you would have to pay for having the ' + i +\n",
    "                ' VM over the 2017 time period' + \"\\n\" + 'across all us-east-1 availability zones and the ' + o +\n",
    "                ' operating system is:')\n",
    "        print(v)\n",
    "        print(' ')\n",
    "            \n",
    "        temp_v_1.append(v)\n",
    "            \n",
    "for o in OS:\n",
    "    temp2 = df18[df18.os == o]\n",
    "\n",
    "    for i in Instances:\n",
    "        temp3 = temp2[temp2.instance == i]\n",
    "            \n",
    "        x = temp3['price'].values\n",
    "        y = temp3['time'].values\n",
    "        ts = pd.Series(x,y)\n",
    "            \n",
    "        v = ts.integrate().mean().round(4)\n",
    "\n",
    "        print('On average, the total cost you would have to pay for having the ' + i +\n",
    "                  ' VM over the 2018 time period' + \"\\n\" + 'across all us-east-1 availability zones and the ' + o +\n",
    "                  ' operating system is:')\n",
    "        print(v)\n",
    "        print(' ')\n",
    "            \n",
    "        temp_v_2.append(v)\n",
    "        \n",
    "for o in OS:\n",
    "    temp4 = df20[df20.os == o]\n",
    "\n",
    "    for i in Instances:\n",
    "        temp5 = temp4[temp4.instance == i]\n",
    "            \n",
    "        x = temp5['price'].values\n",
    "        y = temp5['time'].values\n",
    "        ts = pd.Series(x,y)\n",
    "            \n",
    "        v = ts.integrate().mean().round(4)\n",
    "\n",
    "        print('On average, the total cost you would have to pay for having the ' + i +\n",
    "                  ' VM over the 2021 time period' + \"\\n\" + 'across all us-east-1 availability zones and the ' + o +\n",
    "                  ' operating system is:')\n",
    "        print(v)\n",
    "        print(' ')\n",
    "            \n",
    "        temp_i.append(i)\n",
    "        temp_v_3.append(v)        \n",
    "            \n",
    "    \n",
    "    plt.style.use('seaborn')\n",
    "    \n",
    "    ITx_indexes = np.arange(len(temp_i))\n",
    "    width = 0.25 \n",
    "    \n",
    "    plt.bar(ITx_indexes-width, temp_v_1, width=width, label = '07/01/2017 -  09/30/2017')\n",
    "    plt.bar(ITx_indexes, temp_v_2, width=width, label = '01/01/2018 -  03/31/2018')\n",
    "    plt.bar(ITx_indexes+width, temp_v_3, width=width, label = '03/04/2021 -  06/01/2021')\n",
    "            \n",
    "    plt.title('Comparing the Total Price for ' + i.split('.')[0] +\n",
    "        ' Instance Types Across Certain Time Periods,' + \"\\n\" +\n",
    "              'Averaged Across All us-east-1 Availability Zones, Within ' + o + ' Operating Systems')\n",
    "    plt.ylabel('Total Cost (USD)')\n",
    "    plt.xticks(ticks=ITx_indexes, labels=temp_i)#, rotation=20)\n",
    "    #plt.yticks([0,10000,20000,30000,40000,50000,60000,70000,80000,90000,100000,110000])\n",
    "    \n",
    "    plt.legend(loc='best')\n",
    "    plt.tight_layout()\n",
    "\n",
    "    #plt.savefig(i.split('.')[0] + '_17-18-21_CompBAR.png')\n",
    "#plt.show()"
   ]
  },
  {
   "cell_type": "markdown",
   "id": "fd9c920e",
   "metadata": {},
   "source": [
    "\n"
   ]
  },
  {
   "cell_type": "markdown",
   "id": "c427f13a",
   "metadata": {},
   "source": [
    "\n"
   ]
  },
  {
   "cell_type": "markdown",
   "id": "47f96a1a",
   "metadata": {},
   "source": [
    "##### Recopied above for PRESENTATIONS!"
   ]
  },
  {
   "cell_type": "code",
   "execution_count": null,
   "id": "e09e353a",
   "metadata": {
    "scrolled": true
   },
   "outputs": [],
   "source": [
    "# Mean Integration: Averaging across all AZs, 2017, 2018, 2021\n",
    "\n",
    "Instances = ['r4.large', 'r4.xlarge', 'r4.2xlarge', 'r4.4xlarge', 'r4.8xlarge', 'r4.16xlarge'] #choose what you want\n",
    "OS = ['Linux/UNIX'] #choose what you want\n",
    "\n",
    "temp_i = []\n",
    "temp_v_1 = []\n",
    "\n",
    "for o in OS:\n",
    "    temp = df16[df16.os == o]\n",
    "\n",
    "    temp_v_2 = []\n",
    "    \n",
    "    for i in Instances:\n",
    "        temp1 = temp[temp.instance == i]\n",
    "        \n",
    "        temp_v_3 = []\n",
    "            \n",
    "        x = temp1['price'].values\n",
    "        y = temp1['time'].values\n",
    "        ts = pd.Series(x,y)\n",
    "            \n",
    "        v = ts.integrate().mean().round(4)\n",
    "\n",
    "        print('On average, the total cost you would have to pay for having the ' + i +\n",
    "                ' VM over the 2017 time period' + \"\\n\" + 'across all us-east-1 availability zones and the ' + o +\n",
    "                ' operating system is:')\n",
    "        print(v)\n",
    "        print(' ')\n",
    "            \n",
    "        temp_v_1.append(v)\n",
    "            \n",
    "for o in OS:\n",
    "    temp2 = df18[df18.os == o]\n",
    "\n",
    "    for i in Instances:\n",
    "        temp3 = temp2[temp2.instance == i]\n",
    "            \n",
    "        x = temp3['price'].values\n",
    "        y = temp3['time'].values\n",
    "        ts = pd.Series(x,y)\n",
    "            \n",
    "        v = ts.integrate().mean().round(4)\n",
    "\n",
    "        print('On average, the total cost you would have to pay for having the ' + i +\n",
    "                  ' VM over the 2018 time period' + \"\\n\" + 'across all us-east-1 availability zones and the ' + o +\n",
    "                  ' operating system is:')\n",
    "        print(v)\n",
    "        print(' ')\n",
    "            \n",
    "        temp_v_2.append(v)\n",
    "        \n",
    "for o in OS:\n",
    "    temp4 = df20[df20.os == o]\n",
    "\n",
    "    for i in Instances:\n",
    "        temp5 = temp4[temp4.instance == i]\n",
    "            \n",
    "        x = temp5['price'].values\n",
    "        y = temp5['time'].values\n",
    "        ts = pd.Series(x,y)\n",
    "            \n",
    "        v = ts.integrate().mean().round(4)\n",
    "\n",
    "        print('On average, the total cost you would have to pay for having the ' + i +\n",
    "                  ' VM over the 2021 time period' + \"\\n\" + 'across all us-east-1 availability zones and the ' + o +\n",
    "                  ' operating system is:')\n",
    "        print(v)\n",
    "        print(' ')\n",
    "            \n",
    "        temp_i.append(i)\n",
    "        temp_v_3.append(v)        \n",
    "            \n",
    "    \n",
    "    plt.style.use('seaborn-poster')\n",
    "    \n",
    "    ITx_indexes = np.arange(len(temp_i))\n",
    "    width = 0.25 \n",
    "    \n",
    "    plt.bar(ITx_indexes-width, temp_v_1, width=width, label = '07/01/2017 -  09/30/2017', color='#e07e14')\n",
    "    plt.bar(ITx_indexes, temp_v_2, width=width, label = '01/01/2018 -  03/31/2018', color='#2580db')\n",
    "    plt.bar(ITx_indexes+width, temp_v_3, width=width, label = '03/04/2021 -  06/01/2021', color='#d41eb2')\n",
    "            \n",
    "    plt.title('Comparing the Total Price for ' + i.split('.')[0] +\n",
    "        ' Instance Types Across Certain Time Periods,' + \"\\n\" +\n",
    "              'Averaged Across All us-east-1 Availability Zones, Within ' + o + ' Operating Systems')\n",
    "    plt.ylabel('Total Cost (USD)')\n",
    "    plt.xticks(ticks=ITx_indexes, labels=temp_i)#, rotation=15)\n",
    "    #plt.yticks([0,500,1000,1500,2000,2500,3000,3500,4000,4500,5000,5500])\n",
    "    \n",
    "    plt.legend(loc='best')\n",
    "    plt.tight_layout()\n",
    "\n",
    "    #plt.savefig(i.split('.')[0] + '_17-18-21_PRES.png')\n",
    "#plt.show()"
   ]
  },
  {
   "cell_type": "markdown",
   "id": "6fd34a7d",
   "metadata": {},
   "source": [
    "\n"
   ]
  },
  {
   "cell_type": "markdown",
   "id": "b753034b",
   "metadata": {},
   "source": [
    "\n"
   ]
  },
  {
   "cell_type": "markdown",
   "id": "b2d4ed41",
   "metadata": {},
   "source": [
    "#### Individual Time Series Plotting"
   ]
  },
  {
   "cell_type": "markdown",
   "id": "65971609",
   "metadata": {},
   "source": [
    "##### 2017 & 2018 data"
   ]
  },
  {
   "cell_type": "markdown",
   "id": "3fc80b4e",
   "metadata": {},
   "source": [
    "- us-east-1a: c4.large, d2.xlarge, m4.large, m4.xlarge, m4.2xlarge, m4.4xlarge\n",
    "- us-east-1b: c4.large, c4.xlarge, d2.xlarge, i2.4xlarge, i3.xlarge, i3.2xlarge, i3.4xlarge, m3.large\n",
    "- us-east-1c: m1.small, m3.medium\n",
    "- us-east-1d: d2.2xlarge, i3.xlarge, m1.small, m3.medium\n",
    "- us-east-1e: i3.xlarge, m3.medium\n",
    "- us-east-1f: c4.large, i3.xlarge\n",
    "\n",
    "- us-east-2a: c4.large, c4.xlarge, c4.2xlarge, c4.4xlarge, i3.2xlarge, m4.large, m4.xlarge, r3.large, r3.xlarge, r4.large, r4.xlarge, r4.2xlarge\n",
    "- us-east-2b: c4.large, c4.xlarge, c4.2xlarge, i3.2xlarge, m4.large, m4.xlarge, r3.large, r4.large, r4.xlarge, r4.2xlarge, r4.4xlarge,\n",
    "- us-east-2c: c4.large, c4.xlarge, c4.2xlarge, c4.4xlarge, r3.large, r3.xlarge, r3.2xlarge, r4.large\n",
    "\n",
    "- us-west-2a: c3.large, c3.2xlarge, c4.large, c4.xlarge, i3.2xlarge, i3.4xlarge, m1.small, m3.medium, m4.large, m4.xlarge, m4.2xlarge, m4.4xlarge, r3.large, r4.xlarge, r4.2xlarge\n",
    "- us-west-2b: c3.large, c4.large, c4.xlarge, c4.2xlarge, i3.large, i3.xlarge, i3.2xlarge, m1.small, m3.medium, m4.large, m4.xlarge, m4.2xlarge, m4.4xlarge, r3.large, r4.large, r4.xlarge, r4.2xlarge, r4.4xlarge\n",
    "- us-west-2c: c3.large, c4.large, m1.small, m1.medium, m3.medium, m4.large, m4.xlarge, m4.2xlarge, r3.large, r3.xlarge, r4.large, r4.xlarge, r4.2xlarge, r4.4xlarge"
   ]
  },
  {
   "cell_type": "code",
   "execution_count": null,
   "id": "b51e12e6",
   "metadata": {},
   "outputs": [],
   "source": [
    "plt.style.use('seaborn')\n",
    "\n",
    "filt17 = df5.loc[(df5['zone'] == 'us-west-2c') & (df5['instance'] == 'r4.4xlarge') & (df5['os'] == 'Linux/UNIX')]\n",
    "filt18 = df10.loc[(df10['zone'] == 'us-west-2c') & (df10['instance'] == 'r4.4xlarge') & (df10['os'] == 'Linux/UNIX')]\n",
    "\n",
    "plt.plot_date(filt17['time'], filt17['price'], linestyle='--', marker='.', color='#e62072', label='2017')\n",
    "plt.plot_date(filt18['time'], filt18['price'], linestyle='--', marker='.', color='#0dba50', label='2018')\n",
    "\n",
    "plt.gcf().autofmt_xdate()\n",
    "date_format = mpl_dates.DateFormatter('%b %d, %Y')\n",
    "plt.gca().xaxis.set_major_formatter(date_format)\n",
    "\n",
    "plt.title('Time Series Plot of the r4.4xlarge Instance Type Across the ' + \"\\n\" +\n",
    "          'us-west-2c Availability Zone and Linux/UNIX Products')\n",
    "plt.ylabel('Spot Price (USD)')\n",
    "#plt.ylim(0,1)\n",
    "#plt.yticks([0,1,2,3,4,5,6,7,8,9,10,11])\n",
    "\n",
    "plt.legend(loc='best')\n",
    "plt.tight_layout()\n",
    "#plt.savefig('r44xlarge_2cw_ts_proj.png')\n",
    "#plt.show()"
   ]
  },
  {
   "cell_type": "markdown",
   "id": "cae764d1",
   "metadata": {},
   "source": [
    "\n"
   ]
  },
  {
   "cell_type": "markdown",
   "id": "5b493e76",
   "metadata": {},
   "source": [
    "\n"
   ]
  },
  {
   "cell_type": "markdown",
   "id": "59211729",
   "metadata": {},
   "source": [
    "##### Recopied Above --> Use for Presentations!"
   ]
  },
  {
   "cell_type": "code",
   "execution_count": null,
   "id": "8e8ee89c",
   "metadata": {},
   "outputs": [],
   "source": [
    "plt.style.use('seaborn-poster')\n",
    "\n",
    "filt17 = df6.loc[(df6['zone'] == 'us-east-1e') & (df6['instance'] == 'r4.2xlarge') & (df6['os'] == 'Linux/UNIX')]\n",
    "filt18 = df11.loc[(df11['zone'] == 'us-east-1e') & (df11['instance'] == 'r4.2xlarge') & (df11['os'] == 'Linux/UNIX')]\n",
    "\n",
    "plt.plot_date(filt17['time'], filt17['price'], linestyle='--', marker='.', color='#e01017', label='2017')\n",
    "plt.plot_date(filt18['time'], filt18['price'], linestyle='--', marker='.', color='#26a341', label='2018')\n",
    "\n",
    "plt.gcf().autofmt_xdate()\n",
    "date_format = mpl_dates.DateFormatter('%b %d, %Y')\n",
    "plt.gca().xaxis.set_major_formatter(date_format)\n",
    "\n",
    "plt.title('Time Series Plot of the r4.2xlarge Instance Type Across the ' + \"\\n\" +\n",
    "          'us-east-1e Availability Zone and Linux/UNIX Products (2017 & 2018)')\n",
    "plt.ylabel('Spot Price (USD)')\n",
    "#plt.ylim(0,1)\n",
    "#plt.yticks([0,0.02,0.04,0.06,0.08,0.1,0.12,0.14,0.16,0.18,0.2,0.22,0.24,0.26])\n",
    "\n",
    "plt.legend(loc='best')\n",
    "plt.tight_layout()\n",
    "#plt.savefig('r4.2xlarge_1e_ts_17-18_PRES.png')\n",
    "#plt.show()"
   ]
  },
  {
   "cell_type": "markdown",
   "id": "589d1b33",
   "metadata": {},
   "source": [
    "\n"
   ]
  },
  {
   "cell_type": "markdown",
   "id": "fcf079c8",
   "metadata": {},
   "source": [
    "\n"
   ]
  },
  {
   "cell_type": "code",
   "execution_count": null,
   "id": "006c64a1",
   "metadata": {},
   "outputs": [],
   "source": [
    "# Time Series as a subplot\n",
    "\n",
    "plt.style.use('seaborn')\n",
    "\n",
    "fig, (ax1, ax2) = plt.subplots(nrows=2, ncols=1, sharex=True) #setting up subplotting, changed plt.plot to ax.plot\n",
    "    #this variable is simply equal to a subplot\n",
    " \n",
    "filt17 = df5.loc[(df5['zone'] == 'us-east-1a') & (df5['instance'] == 'c4.large') & (df5['os'] == 'Linux/UNIX')]\n",
    "ax1.plot_date(filt17['time'], filt17['price'], linestyle='--', marker='.', color='#291bc2')\n",
    "\n",
    "filt18 = df10.loc[(df10['zone'] == 'us-east-1a') & (df10['instance'] == 'c4.large') & (df10['os'] == 'Linux/UNIX')]\n",
    "ax2.plot_date(filt18['time'], filt18['price'], linestyle='--', marker='.', color='#17b061')\n",
    "                  \n",
    "plt.gcf().autofmt_xdate()\n",
    "date_format = mpl_dates.DateFormatter('%b %d, %Y')\n",
    "plt.gca().xaxis.set_major_formatter(date_format)\n",
    "\n",
    "ax1.set_title('Time Series Plot of the c4.large Instance Type Across the ' + \"\\n\" +\n",
    "          'us-east-1a Availability Zone and Linux/UNIX Products') #changed to ax and added a set_\n",
    "ax1.set_ylabel('Spot Price (USD)') #changed to ax and added a set_\n",
    "\n",
    "ax2.set_xlabel('Date')\n",
    "ax2.set_ylabel('Spot PRice (USD)')\n",
    "                  \n",
    "plt.tight_layout()\n",
    "#fig.savefig('ts_proj_1.png')\n",
    "#plt.show()"
   ]
  },
  {
   "cell_type": "markdown",
   "id": "0976a0c2",
   "metadata": {},
   "source": [
    "\n"
   ]
  },
  {
   "cell_type": "markdown",
   "id": "5e7318f1",
   "metadata": {},
   "source": [
    "\n"
   ]
  },
  {
   "cell_type": "markdown",
   "id": "07bd2640",
   "metadata": {},
   "source": [
    "#### 2021 Time Series: Final Pres"
   ]
  },
  {
   "cell_type": "code",
   "execution_count": null,
   "id": "d01f3925",
   "metadata": {},
   "outputs": [],
   "source": [
    "plt.style.use('seaborn-poster') \n",
    "\n",
    "filt21_1 = df1.loc[(df1['AZ'] == 'us-east-1e') & (df1['IT'] == 'r5.large') & (df1['OS'] == 'Linux/UNIX')]\n",
    "filt21_2 = df1.loc[(df1['AZ'] == 'us-east-1e') & (df1['IT'] == 'r5.xlarge') & (df1['OS'] == 'Linux/UNIX')]\n",
    "filt21_3 = df1.loc[(df1['AZ'] == 'us-east-1e') & (df1['IT'] == 'r5.2xlarge') & (df1['OS'] == 'Linux/UNIX')]\n",
    "filt21_4 = df1.loc[(df1['AZ'] == 'us-east-1e') & (df1['IT'] == 'r5.8xlarge') & (df1['OS'] == 'Linux/UNIX')]\n",
    "filt21_5 = df1.loc[(df1['AZ'] == 'us-east-1e') & (df1['IT'] == 'r5.12xlarge') & (df1['OS'] == 'Linux/UNIX')]\n",
    "filt21_6 = df1.loc[(df1['AZ'] == 'us-east-1e') & (df1['IT'] == 'r5.24xlarge') & (df1['OS'] == 'Linux/UNIX')]\n",
    "\n",
    "plt.plot_date(filt21_1['DT'], filt21_1['SP'], linestyle='--', marker='.', label='r5.large', color = '#2b2bc4')\n",
    "plt.plot_date(filt21_2['DT'], filt21_2['SP'], linestyle='--', marker='.', label='r5.xlarge', color = '#23ad68')\n",
    "plt.plot_date(filt21_3['DT'], filt21_3['SP'], linestyle='--', marker='.', label='r5.2xlarge', color = '#c21515')\n",
    "plt.plot_date(filt21_4['DT'], filt21_4['SP'], linestyle='--', marker='.', label='r5.8xlarge', color = '#8830c7')\n",
    "plt.plot_date(filt21_5['DT'], filt21_5['SP'], linestyle='--', marker='.', label='r5.12xlarge', color = '#d0d615')\n",
    "plt.plot_date(filt21_6['DT'], filt21_6['SP'], linestyle='--', marker='.', label='r5.24xlarge', color = 'k')\n",
    "\n",
    "plt.gcf().autofmt_xdate()\n",
    "date_format = mpl_dates.DateFormatter('%b %d, %Y')\n",
    "plt.gca().xaxis.set_major_formatter(date_format)\n",
    "\n",
    "plt.title('Time Series Plot of Some r5 Instance Types Across the ' + \"\\n\" +\n",
    "          'us-east-1e Availability Zone and Linux/UNIX Products (2021)')\n",
    "plt.ylabel('Spot Price (USD)')\n",
    "#plt.ylim(0,1)\n",
    "#plt.yticks([0,0.2,0.4,0.6,0.8,1,1.2,1.4,1.6,1.8,2,2.2,2.4])\n",
    "\n",
    "#plt.legend(loc=(0.77,0.52))\n",
    "plt.legend(loc='best')\n",
    "plt.tight_layout()\n",
    "#plt.savefig('r5_1e_ts_21_PRES.png')\n",
    "#plt.show()"
   ]
  },
  {
   "cell_type": "markdown",
   "id": "34768726",
   "metadata": {},
   "source": [
    "\n"
   ]
  },
  {
   "cell_type": "markdown",
   "id": "c8819bc2",
   "metadata": {},
   "source": [
    "\n"
   ]
  },
  {
   "cell_type": "markdown",
   "id": "f35d5af1",
   "metadata": {},
   "source": [
    "### Numerical Statistics"
   ]
  },
  {
   "cell_type": "markdown",
   "id": "fdcc1943",
   "metadata": {},
   "source": [
    "##### Five-Number Summaries"
   ]
  },
  {
   "cell_type": "code",
   "execution_count": null,
   "id": "4b73ab21",
   "metadata": {},
   "outputs": [],
   "source": [
    "a1_6 = df6.loc[(df6['zone'] == 'us-east-1a') & (df6['os'] == 'Linux/UNIX')]\n",
    "b1_6 = df6.loc[(df6['zone'] == 'us-east-1b') & (df6['os'] == 'Linux/UNIX')]\n",
    "c1_6 = df6.loc[(df6['zone'] == 'us-east-1c') & (df6['os'] == 'Linux/UNIX')]\n",
    "d1_6 = df6.loc[(df6['zone'] == 'us-east-1d') & (df6['os'] == 'Linux/UNIX')]\n",
    "e1_6 = df6.loc[(df6['zone'] == 'us-east-1e') & (df6['os'] == 'Linux/UNIX')]\n",
    "f1_6 = df6.loc[(df6['zone'] == 'us-east-1f') & (df6['os'] == 'Linux/UNIX')]\n",
    "\n",
    "#2017 us-1"
   ]
  },
  {
   "cell_type": "code",
   "execution_count": null,
   "id": "acb4ee88",
   "metadata": {},
   "outputs": [],
   "source": [
    "a1_11 = df11.loc[(df11['zone'] == 'us-east-1a') & (df11['os'] == 'Linux/UNIX')]\n",
    "b1_11 = df11.loc[(df11['zone'] == 'us-east-1b') & (df11['os'] == 'Linux/UNIX')]\n",
    "c1_11 = df11.loc[(df11['zone'] == 'us-east-1c') & (df11['os'] == 'Linux/UNIX')]\n",
    "d1_11 = df11.loc[(df11['zone'] == 'us-east-1d') & (df11['os'] == 'Linux/UNIX')]\n",
    "e1_11 = df11.loc[(df11['zone'] == 'us-east-1e') & (df11['os'] == 'Linux/UNIX')]\n",
    "f1_11 = df11.loc[(df11['zone'] == 'us-east-1f') & (df11['os'] == 'Linux/UNIX')]\n",
    "\n",
    "#2018 us-1"
   ]
  },
  {
   "cell_type": "code",
   "execution_count": null,
   "id": "0caa21ee",
   "metadata": {},
   "outputs": [],
   "source": [
    "df1_LU = df1.loc[df1['OS'] == 'Linux/UNIX']\n",
    "\n",
    "a1_1 = df1.loc[(df1['AZ'] == 'us-east-1a') & (df1['OS'] == 'Linux/UNIX')]\n",
    "b1_1 = df1.loc[(df1['AZ'] == 'us-east-1b') & (df1['OS'] == 'Linux/UNIX')]\n",
    "c1_1 = df1.loc[(df1['AZ'] == 'us-east-1c') & (df1['OS'] == 'Linux/UNIX')]\n",
    "d1_1 = df1.loc[(df1['AZ'] == 'us-east-1d') & (df1['OS'] == 'Linux/UNIX')]\n",
    "e1_1 = df1.loc[(df1['AZ'] == 'us-east-1e') & (df1['OS'] == 'Linux/UNIX')]\n",
    "f1_1 = df1.loc[(df1['AZ'] == 'us-east-1f') & (df1['OS'] == 'Linux/UNIX')]\n",
    "\n",
    "#2021 us-1"
   ]
  },
  {
   "cell_type": "markdown",
   "id": "5b3ada8c",
   "metadata": {},
   "source": [
    "\n"
   ]
  },
  {
   "cell_type": "markdown",
   "id": "1ffcc2c5",
   "metadata": {},
   "source": [
    "\n"
   ]
  },
  {
   "cell_type": "code",
   "execution_count": null,
   "id": "717e6052",
   "metadata": {},
   "outputs": [],
   "source": [
    "#BoxPlot: us-1\n",
    "\n",
    "plt.style.use('seaborn')\n",
    "\n",
    "AZs = [a1_11['price'], b1_11['price'], c1_11['price'], d1_11['price'], e1_11['price'], f1_11['price']]\n",
    "#AZs = [a1_1['SP'], b1_1['SP'], c1_1['SP'], d1_1['SP'], e1_1['SP'], f1_1['SP']]\n",
    "\n",
    "plt.boxplot(AZs, vert=False)\n",
    "\n",
    "plt.title('Boxplots of Spot Prices (USD) Right AFTER the 2017 Change' + \"\\n\" +\n",
    "          '(01/01/2018 - 03/31/2018) Across All us-east-1 Availability Zones' + \"\\n\" + '(Log-Scaled)')\n",
    "plt.yticks([1,2,3,4,5,6], ['us-east-1a','us-east-1b','us-east-1c','us-east-1d','us-east-1e','us-east-1f'])\n",
    "plt.xlim(10**-3, 10**3)\n",
    "plt.xscale(\"log\")\n",
    "plt.xlabel(\"Spot Price\")\n",
    "\n",
    "plt.tight_layout()\n",
    "#plt.savefig('18_us1_5ns_BOXlog.png')\n",
    "#plt.show()"
   ]
  },
  {
   "cell_type": "markdown",
   "id": "f1e28bba",
   "metadata": {},
   "source": [
    "\n"
   ]
  },
  {
   "cell_type": "markdown",
   "id": "3f1da0a6",
   "metadata": {},
   "source": [
    "\n"
   ]
  },
  {
   "cell_type": "code",
   "execution_count": null,
   "id": "3b185c08",
   "metadata": {},
   "outputs": [],
   "source": [
    "a2_7 = df7.loc[(df7['zone'] == 'us-east-2a') & (df7['os'] == 'Linux/UNIX')]\n",
    "b2_7 = df7.loc[(df7['zone'] == 'us-east-2b') & (df7['os'] == 'Linux/UNIX')]\n",
    "c2_7 = df7.loc[(df7['zone'] == 'us-east-2c') & (df7['os'] == 'Linux/UNIX')]\n",
    "a2w_8 = df8.loc[(df8['zone'] == 'us-west-2a') & (df8['os'] == 'Linux/UNIX')]\n",
    "b2w_8 = df8.loc[(df8['zone'] == 'us-west-2b') & (df8['os'] == 'Linux/UNIX')]\n",
    "c2w_8 = df8.loc[(df8['zone'] == 'us-west-2c') & (df8['os'] == 'Linux/UNIX')]\n",
    "\n",
    "#2017 (us-2)"
   ]
  },
  {
   "cell_type": "code",
   "execution_count": null,
   "id": "4db0c6c3",
   "metadata": {},
   "outputs": [],
   "source": [
    "a2_12 = df12.loc[(df12['zone'] == 'us-east-2a') & (df12['os'] == 'Linux/UNIX')]\n",
    "b2_12 = df12.loc[(df12['zone'] == 'us-east-2b') & (df12['os'] == 'Linux/UNIX')]\n",
    "c2_12 = df12.loc[(df12['zone'] == 'us-east-2c') & (df12['os'] == 'Linux/UNIX')]\n",
    "a2w_13 = df13.loc[(df13['zone'] == 'us-west-2a') & (df13['os'] == 'Linux/UNIX')]\n",
    "b2w_13 = df13.loc[(df13['zone'] == 'us-west-2b') & (df13['os'] == 'Linux/UNIX')]\n",
    "c2w_13 = df13.loc[(df13['zone'] == 'us-west-2c') & (df13['os'] == 'Linux/UNIX')]\n",
    "\n",
    "#2018 (us-2)"
   ]
  },
  {
   "cell_type": "code",
   "execution_count": null,
   "id": "683d8268",
   "metadata": {},
   "outputs": [],
   "source": [
    "#BoxPlot: us-2\n",
    "\n",
    "plt.style.use('seaborn')\n",
    "\n",
    "AZs = [a2_7['price'], b2_7['price'], c2_7['price'], a2w_8['price'], b2w_8['price'], c2w_8['price']]\n",
    "#AZs = [a2_12['price'], b2_12['price'], c2_12['price'], a2w_13['price'], b2w_13['price'], c2w_13['price']]\n",
    "\n",
    "plt.boxplot(AZs, vert=False)\n",
    "\n",
    "plt.title('Boxplots of Spot Prices (USD) Right BEFORE the 2017 Change' + \"\\n\" +\n",
    "          '(07/01/2017 - 09/30/2017) Across All us-2 Availability Zones' + \"\\n\" + '(Log-Scaled)')\n",
    "plt.yticks([1,2,3,4,5,6], ['us-east-2a','us-east-2b','us-east-2c','us-west-2a','us-west-2b','us-west-2c'])\n",
    "plt.xlim(10**-3, 10**3)\n",
    "plt.xscale(\"log\")\n",
    "plt.xlabel(\"Spot Price\")\n",
    "\n",
    "plt.tight_layout()\n",
    "#plt.savefig('17_us2_5ns_BOXlog.png')\n",
    "#plt.show()"
   ]
  },
  {
   "cell_type": "markdown",
   "id": "3f127891",
   "metadata": {},
   "source": [
    "\n"
   ]
  },
  {
   "cell_type": "markdown",
   "id": "5509b610",
   "metadata": {},
   "source": [
    "\n"
   ]
  },
  {
   "cell_type": "markdown",
   "id": "25aa9f45",
   "metadata": {},
   "source": [
    "##### Boxplot cell copied for presentations"
   ]
  },
  {
   "cell_type": "code",
   "execution_count": null,
   "id": "aede9add",
   "metadata": {},
   "outputs": [],
   "source": [
    "#BoxPlot: PRES\n",
    "\n",
    "plt.style.use('seaborn-poster')\n",
    "\n",
    "#AZs = [a1_6['price'], b1_6['price'], c1_6['price'], d1_6['price'], e1_6['price'], f1_6['price']]\n",
    "#AZs = [a1_11['price'], b1_11['price'], c1_11['price'], d1_11['price'], e1_11['price'], f1_11['price']]\n",
    "#AZs = [a1_1['SP'], b1_1['SP'], c1_1['SP'], d1_1['SP'], e1_1['SP'], f1_1['SP']]\n",
    "\n",
    "#AZs = [a2_7['price'], b2_7['price'], c2_7['price'], a2w_8['price'], b2w_8['price'], c2w_8['price']]\n",
    "#AZs = [a2_12['price'], b2_12['price'], c2_12['price'], a2w_13['price'], b2w_13['price'], c2w_13['price']]\n",
    "\n",
    "plt.boxplot(AZs, vert=False)\n",
    "\n",
    "plt.title('Boxplots of Spot Prices (USD) Right AFTER the 2017 Change' + \"\\n\" +\n",
    "          '(01/01/2018 - 03/31/2018) Across All us-2 Availability Zones' + \"\\n\" + '(Log-Scaled)')\n",
    "plt.yticks([1,2,3,4,5,6], ['us-east-2a','us-east-2b','us-east-2c','us-west-2a','us-west-2b','us-west-2c'])\n",
    "plt.xlim(10**-3, 10**3)\n",
    "plt.xscale(\"log\")\n",
    "plt.xlabel(\"Spot Price\")\n",
    "\n",
    "plt.tight_layout()\n",
    "#plt.savefig('18_us2_5ns_BOXlogPRES.png')\n",
    "#plt.show()"
   ]
  },
  {
   "cell_type": "markdown",
   "id": "dcced8d0",
   "metadata": {},
   "source": [
    "\n"
   ]
  },
  {
   "cell_type": "markdown",
   "id": "ae2a7223",
   "metadata": {},
   "source": [
    "\n"
   ]
  },
  {
   "cell_type": "markdown",
   "id": "c1423323",
   "metadata": {},
   "source": [
    "##### Boxplots for each year, averaged across all AZs"
   ]
  },
  {
   "cell_type": "markdown",
   "id": "e273c7c3",
   "metadata": {},
   "source": [
    "Separate ones for within us-east-1. us-east-2, us-west-2"
   ]
  },
  {
   "cell_type": "code",
   "execution_count": null,
   "id": "c9ff0edb",
   "metadata": {},
   "outputs": [],
   "source": [
    "df1_LU = df1.loc[df1['OS'] == 'Linux/UNIX']"
   ]
  },
  {
   "cell_type": "markdown",
   "id": "5b6dafe2",
   "metadata": {},
   "source": [
    "- df6: 2017 data, us-east-1\n",
    "- df11: 2018 data, us-east-1\n",
    "- df1_LU: 2021 data, us-east-1"
   ]
  },
  {
   "cell_type": "code",
   "execution_count": null,
   "id": "716043e7",
   "metadata": {},
   "outputs": [],
   "source": [
    "#BoxPlot: 2017, 2018, 2021 --> averaged across us-east-1\n",
    "    # (simply change style to make for a presentation)\n",
    "\n",
    "plt.style.use('seaborn')\n",
    "\n",
    "us_east_1 = [df6['price'], df11['price'], df1_LU['SP']]\n",
    "\n",
    "plt.boxplot(us_east_1, vert=False)\n",
    "\n",
    "plt.title('Boxplots of Spot Prices (USD) Across Certain Time Periods, Averaged Across' + \"\\n\" +\n",
    "              'All us-east-1 Availability Zones, Within Linux/UNIX Operating Systems' +\n",
    "          \"\\n\" + '(Log-Scaled)')\n",
    "plt.yticks([1,2,3], ['07/01/2017 -' + \"\\n\" + '09/30/2017','01/01/2018 -' + \"\\n\" + '03/31/2018',\n",
    "                     '03/04/2021 -' + \"\\n\" + '06/01/2021'])\n",
    "plt.xlim(10**-3, 10**3)\n",
    "plt.xscale(\"log\")\n",
    "plt.xlabel(\"Spot Price\")\n",
    "\n",
    "plt.tight_layout()\n",
    "#plt.savefig('17-18-21_us1_5ns_BOXlog.png')\n",
    "#plt.show()"
   ]
  },
  {
   "cell_type": "markdown",
   "id": "0eba775c",
   "metadata": {},
   "source": [
    "\n"
   ]
  },
  {
   "cell_type": "markdown",
   "id": "49707640",
   "metadata": {},
   "source": [
    "\n"
   ]
  },
  {
   "cell_type": "markdown",
   "id": "8f337c2d",
   "metadata": {},
   "source": [
    "- df7: 2017 data, us-east-2\n",
    "- df12: 2018 data, us-east-2"
   ]
  },
  {
   "cell_type": "code",
   "execution_count": null,
   "id": "e3d212a0",
   "metadata": {},
   "outputs": [],
   "source": [
    "#BoxPlot: 2017, 2018 --> averaged across us-east-2\n",
    "    # (simply change style to make for a presentation)\n",
    "\n",
    "plt.style.use('seaborn')\n",
    "\n",
    "us_east_2 = [df7['price'], df12['price']]\n",
    "\n",
    "plt.boxplot(us_east_2, vert=False)\n",
    "\n",
    "plt.title('Boxplots of Spot Prices (USD) Across Certain Time Periods, Averaged Across' + \"\\n\" +\n",
    "              'All us-east-2 Availability Zones, Within Linux/UNIX Operating Systems' +\n",
    "          \"\\n\" + '(Log-Scaled)')\n",
    "plt.yticks([1,2], ['07/01/2017 -' + \"\\n\" + '09/30/2017','01/01/2018 -' + \"\\n\" + '03/31/2018'])\n",
    "plt.xlim(10**-3, 10**3)\n",
    "plt.xscale(\"log\")\n",
    "plt.xlabel(\"Spot Price\")\n",
    "\n",
    "plt.tight_layout()\n",
    "#plt.savefig('17-18_use2_5ns_BOXlog.png')\n",
    "#plt.show()"
   ]
  },
  {
   "cell_type": "markdown",
   "id": "3a4e02a6",
   "metadata": {},
   "source": [
    "\n"
   ]
  },
  {
   "cell_type": "markdown",
   "id": "5891938d",
   "metadata": {},
   "source": [
    "\n"
   ]
  },
  {
   "cell_type": "markdown",
   "id": "967a48e9",
   "metadata": {},
   "source": [
    "- df8: 2017 data, us-west-2\n",
    "- df13: 2018 data, us-west-2"
   ]
  },
  {
   "cell_type": "code",
   "execution_count": null,
   "id": "567514c2",
   "metadata": {},
   "outputs": [],
   "source": [
    "#BoxPlot: 2017, 2018 --> averaged across us-west-2\n",
    "    # (simply change style to make for a presentation)\n",
    "\n",
    "plt.style.use('seaborn')\n",
    "\n",
    "us_west_2 = [df8['price'], df13['price']]\n",
    "\n",
    "plt.boxplot(us_east_2, vert=False)\n",
    "\n",
    "plt.title('Boxplots of Spot Prices (USD) Across Certain Time Periods, Averaged Across' + \"\\n\" +\n",
    "              'All us-west-2 Availability Zones, Within Linux/UNIX Operating Systems' +\n",
    "          \"\\n\" + '(Log-Scaled)')\n",
    "plt.yticks([1,2], ['07/01/2017 -' + \"\\n\" + '09/30/2017','01/01/2018 -' + \"\\n\" + '03/31/2018'])\n",
    "plt.xlim(10**-3, 10**3)\n",
    "plt.xscale(\"log\")\n",
    "plt.xlabel(\"Spot Price\")\n",
    "\n",
    "plt.tight_layout()\n",
    "#plt.savefig('17-18_usw2_5ns_BOXlog.png')\n",
    "#plt.show()"
   ]
  },
  {
   "cell_type": "markdown",
   "id": "4ad042c8",
   "metadata": {},
   "source": [
    "\n"
   ]
  },
  {
   "cell_type": "markdown",
   "id": "a3348084",
   "metadata": {},
   "source": [
    "\n"
   ]
  },
  {
   "cell_type": "markdown",
   "id": "5721fc8c",
   "metadata": {},
   "source": [
    "##### Standard Deviations"
   ]
  },
  {
   "cell_type": "code",
   "execution_count": null,
   "id": "46a9dcbc",
   "metadata": {},
   "outputs": [],
   "source": [
    "sd_a1_6 = a1_6['price'].std()\n",
    "sd_b1_6 = b1_6['price'].std()\n",
    "sd_c1_6 = c1_6['price'].std()\n",
    "sd_d1_6 = d1_6['price'].std()\n",
    "sd_e1_6 = e1_6['price'].std()\n",
    "sd_f1_6 = f1_6['price'].std()\n",
    "\n",
    "sd_6s = [sd_a1_6, sd_b1_6, sd_c1_6, sd_d1_6, sd_e1_6, sd_f1_6]\n",
    "\n",
    "#2017 stds (by AZ)"
   ]
  },
  {
   "cell_type": "code",
   "execution_count": null,
   "id": "3ddd562b",
   "metadata": {},
   "outputs": [],
   "source": [
    "sd_a1_11 = a1_11['price'].std()\n",
    "sd_b1_11 = b1_11['price'].std()\n",
    "sd_c1_11 = c1_11['price'].std()\n",
    "sd_d1_11 = d1_11['price'].std()\n",
    "sd_e1_11 = e1_11['price'].std()\n",
    "sd_f1_11 = f1_11['price'].std()\n",
    "\n",
    "sd_11s = [sd_a1_11, sd_b1_11, sd_c1_11, sd_d1_11, sd_e1_11, sd_f1_11]\n",
    "\n",
    "#2018 stds (by AZ)"
   ]
  },
  {
   "cell_type": "code",
   "execution_count": null,
   "id": "23a5e9f5",
   "metadata": {},
   "outputs": [],
   "source": [
    "sd_a1_1 = a1_1['SP'].std()\n",
    "sd_b1_1 = b1_1['SP'].std()\n",
    "sd_c1_1 = c1_1['SP'].std()\n",
    "sd_d1_1 = d1_1['SP'].std()\n",
    "sd_e1_1 = e1_1['SP'].std()\n",
    "sd_f1_1 = f1_1['SP'].std()\n",
    "\n",
    "sd_1s = [sd_a1_1, sd_b1_1, sd_c1_1, sd_d1_1, sd_e1_1, sd_f1_1]\n",
    "\n",
    "#2021 stds (by AZ)"
   ]
  },
  {
   "cell_type": "markdown",
   "id": "bcec476b",
   "metadata": {},
   "source": [
    "\n"
   ]
  },
  {
   "cell_type": "markdown",
   "id": "570b1a6e",
   "metadata": {},
   "source": [
    "\n"
   ]
  },
  {
   "cell_type": "code",
   "execution_count": null,
   "id": "ba1c766e",
   "metadata": {},
   "outputs": [],
   "source": [
    "#Barplot: 2017, 2018 -> us-east-1\n",
    "    # (simply change style to make for a presentation)\n",
    "\n",
    "plt.style.use('seaborn')\n",
    "\n",
    "AZs = ['us-east-1a', 'us-east-1b', 'us-east-1c', 'us-east-1d', 'us-east-1e', 'us-east-1f']\n",
    "AZ_indexes = np.arange(len(AZs))\n",
    "\n",
    "width = 0.25\n",
    "\n",
    "plt.bar(AZ_indexes-0.5*width, sd_6s, width=width, label='07/01/2017 - 09/30/2017') \n",
    "plt.bar(AZ_indexes+0.5*width, sd_11s, width=width, label='01/01/2018 - 03/31/2018')\n",
    "\n",
    "plt.xticks(ticks=AZ_indexes, labels=AZs)  \n",
    "\n",
    "plt.title('Standard Deviations of Spot Prices Across All us-east-1 Availability Zones' + \"\\n\" + \n",
    "         'Right BEFORE and Right AFTER the 2017 Change to the Spot Market')\n",
    "plt.ylabel('Spot Price (USD)')\n",
    "#plt.yticks([0,1,2,3,4,5,6,7,8,9,10,11,12,13,14,15,16,17])\n",
    "\n",
    "plt.legend(loc='best')\n",
    "plt.tight_layout()\n",
    "#plt.savefig('sd_us1_17-18_BAR')\n",
    "#plt.show()"
   ]
  },
  {
   "cell_type": "markdown",
   "id": "bee5b403",
   "metadata": {},
   "source": [
    "\n"
   ]
  },
  {
   "cell_type": "markdown",
   "id": "9caa6108",
   "metadata": {},
   "source": [
    "\n"
   ]
  },
  {
   "cell_type": "code",
   "execution_count": null,
   "id": "6b647e30",
   "metadata": {},
   "outputs": [],
   "source": [
    "#Barplot: 2021 -> us-east-1\n",
    "    # (simply change style to make for a presentation)\n",
    "\n",
    "plt.style.use('seaborn')\n",
    "\n",
    "AZs = ['us-east-1a', 'us-east-1b', 'us-east-1c', 'us-east-1d', 'us-east-1e', 'us-east-1f']\n",
    "\n",
    "width = 0.65\n",
    "\n",
    "plt.bar(AZs, sd_1s, width=width, color='k') \n",
    "\n",
    "plt.title('Standard Deviations of Spot Prices Across All us-east-1 Availability Zones' + \"\\n\" + \n",
    "         'A Few Years After the 2017 Change to the Spot Market (03/04/2021 - 06/01/2021)')\n",
    "plt.ylabel('Spot Price (USD)')\n",
    "#plt.yticks([0,0.1,0.2,0.3,0.4,0.5,0.6,0.7,0.8,0.9,1,1.1,1.2,1.3,1.4])\n",
    "\n",
    "plt.tight_layout()\n",
    "#plt.savefig('sd_us1_21_BAR')\n",
    "#plt.show()"
   ]
  },
  {
   "cell_type": "markdown",
   "id": "56004d00",
   "metadata": {},
   "source": [
    "\n"
   ]
  },
  {
   "cell_type": "markdown",
   "id": "d1d35f35",
   "metadata": {},
   "source": [
    "\n"
   ]
  },
  {
   "cell_type": "code",
   "execution_count": null,
   "id": "1727eef7",
   "metadata": {},
   "outputs": [],
   "source": [
    "a2_7 = df7.loc[(df7['zone'] == 'us-east-2a') & (df7['os'] == 'Linux/UNIX')]\n",
    "b2_7 = df7.loc[(df7['zone'] == 'us-east-2b') & (df7['os'] == 'Linux/UNIX')]\n",
    "c2_7 = df7.loc[(df7['zone'] == 'us-east-2c') & (df7['os'] == 'Linux/UNIX')]\n",
    "a2w_8 = df8.loc[(df8['zone'] == 'us-west-2a') & (df8['os'] == 'Linux/UNIX')]\n",
    "b2w_8 = df8.loc[(df8['zone'] == 'us-west-2b') & (df8['os'] == 'Linux/UNIX')]\n",
    "c2w_8 = df8.loc[(df8['zone'] == 'us-west-2c') & (df8['os'] == 'Linux/UNIX')]\n",
    "\n",
    "#2017 (us-2)"
   ]
  },
  {
   "cell_type": "code",
   "execution_count": null,
   "id": "b29a3d61",
   "metadata": {},
   "outputs": [],
   "source": [
    "sd_a2_7 = a2_7['price'].std()\n",
    "sd_b2_7 = b2_7['price'].std()\n",
    "sd_c2_7 = c2_7['price'].std()\n",
    "sd_a2w_8 = a2w_8['price'].std()\n",
    "sd_b2w_8 = b2w_8['price'].std()\n",
    "sd_c2w_8 = c2w_8['price'].std()\n",
    "\n",
    "sd_7s8s = [sd_a2_7, sd_b2_7, sd_c2_7, sd_a2w_8, sd_b2w_8, sd_c2w_8]\n",
    "\n",
    "#2017 stds (us-2)"
   ]
  },
  {
   "cell_type": "code",
   "execution_count": null,
   "id": "d521e6eb",
   "metadata": {},
   "outputs": [],
   "source": [
    "a2_12 = df12.loc[(df12['zone'] == 'us-east-2a') & (df12['os'] == 'Linux/UNIX')]\n",
    "b2_12 = df12.loc[(df12['zone'] == 'us-east-2b') & (df12['os'] == 'Linux/UNIX')]\n",
    "c2_12 = df12.loc[(df12['zone'] == 'us-east-2c') & (df12['os'] == 'Linux/UNIX')]\n",
    "a2w_13 = df13.loc[(df13['zone'] == 'us-west-2a') & (df13['os'] == 'Linux/UNIX')]\n",
    "b2w_13 = df13.loc[(df13['zone'] == 'us-west-2b') & (df13['os'] == 'Linux/UNIX')]\n",
    "c2w_13 = df13.loc[(df13['zone'] == 'us-west-2c') & (df13['os'] == 'Linux/UNIX')]\n",
    "\n",
    "#2018 (us-2)"
   ]
  },
  {
   "cell_type": "code",
   "execution_count": null,
   "id": "ef6019be",
   "metadata": {},
   "outputs": [],
   "source": [
    "sd_a2_12 = a2_12['price'].std()\n",
    "sd_b2_12 = b2_12['price'].std()\n",
    "sd_c2_12 = c2_12['price'].std()\n",
    "sd_a2w_13 = a2w_13['price'].std()\n",
    "sd_b2w_13 = b2w_13['price'].std()\n",
    "sd_c2w_13 = c2w_13['price'].std()\n",
    "\n",
    "sd_12s13s = [sd_a2_12, sd_b2_12, sd_c2_12, sd_a2w_13, sd_b2w_13, sd_c2w_13]\n",
    "\n",
    "#2018 stds (us-2)"
   ]
  },
  {
   "cell_type": "markdown",
   "id": "edd80316",
   "metadata": {},
   "source": [
    "\n"
   ]
  },
  {
   "cell_type": "markdown",
   "id": "87e0dd29",
   "metadata": {},
   "source": [
    "\n"
   ]
  },
  {
   "cell_type": "code",
   "execution_count": null,
   "id": "86cf04ed",
   "metadata": {},
   "outputs": [],
   "source": [
    "#Barplot: 2017, 2018 -> us-2\n",
    "    # (simply change style to make for a presentation)\n",
    "\n",
    "plt.style.use('seaborn')\n",
    "\n",
    "AZs = ['us-east-2a', 'us-east-2b', 'us-east-2c', 'us-west-2a', 'us-west-2b', 'us-west-2c']\n",
    "AZ_indexes = np.arange(len(AZs))\n",
    "\n",
    "width = 0.25\n",
    "\n",
    "plt.bar(AZ_indexes-0.5*width, sd_7s8s, width=width, label='07/01/2017 - 09/30/2017', color='#e01919') \n",
    "plt.bar(AZ_indexes+0.5*width, sd_12s13s, width=width, label='01/01/2018 - 03/31/2018', color='#ed980e')\n",
    "\n",
    "plt.xticks(ticks=AZ_indexes, labels=AZs)  \n",
    "\n",
    "plt.title('Standard Deviations of Spot Prices Across All us-2 Availability Zones' + \"\\n\" + \n",
    "         'Right BEFORE and Right AFTER the 2017 Change to the Spot Market')\n",
    "plt.ylabel('Spot Price (USD)')\n",
    "#plt.yticks([0,1,2,3,4,5,6,7,8,9])\n",
    "\n",
    "plt.legend(loc='best')\n",
    "plt.tight_layout()\n",
    "#plt.savefig('sd_us2_17-18_BAR')\n",
    "#plt.show()"
   ]
  },
  {
   "cell_type": "markdown",
   "id": "1bc2900e",
   "metadata": {},
   "source": [
    "\n"
   ]
  },
  {
   "cell_type": "markdown",
   "id": "b87aff1d",
   "metadata": {},
   "source": [
    "\n"
   ]
  },
  {
   "cell_type": "markdown",
   "id": "3237e904",
   "metadata": {},
   "source": [
    "#### Comparing Standard Deviations & Means: Are they proportional?"
   ]
  },
  {
   "cell_type": "markdown",
   "id": "0a8c8e17",
   "metadata": {},
   "source": [
    "##### us-east-1"
   ]
  },
  {
   "cell_type": "code",
   "execution_count": null,
   "id": "8b45d159",
   "metadata": {},
   "outputs": [],
   "source": [
    "sd_a1_6 = a1_6['price'].std().round(4)\n",
    "sd_b1_6 = b1_6['price'].std().round(4)\n",
    "sd_c1_6 = c1_6['price'].std().round(4)\n",
    "sd_d1_6 = d1_6['price'].std().round(4)\n",
    "sd_e1_6 = e1_6['price'].std().round(4)\n",
    "sd_f1_6 = f1_6['price'].std().round(4)\n",
    "\n",
    "sd_6s = [sd_a1_6, sd_b1_6, sd_c1_6, sd_d1_6, sd_e1_6, sd_f1_6]\n",
    "\n",
    "#2017 stds (by AZ) -> us-east-1"
   ]
  },
  {
   "cell_type": "code",
   "execution_count": null,
   "id": "889bf78a",
   "metadata": {},
   "outputs": [],
   "source": [
    "mean_a1_6 = a1_6['price'].mean().round(4)\n",
    "mean_b1_6 = b1_6['price'].mean().round(4)\n",
    "mean_c1_6 = c1_6['price'].mean().round(4)\n",
    "mean_d1_6 = d1_6['price'].mean().round(4)\n",
    "mean_e1_6 = e1_6['price'].mean().round(4)\n",
    "mean_f1_6 = f1_6['price'].mean().round(4)\n",
    "\n",
    "mean_6s = [mean_a1_6, mean_b1_6, mean_c1_6, mean_d1_6, mean_e1_6, mean_f1_6]\n",
    "\n",
    "#2017 means (by AZ) -> us-east-1"
   ]
  },
  {
   "cell_type": "code",
   "execution_count": null,
   "id": "f1feb363",
   "metadata": {},
   "outputs": [],
   "source": [
    "#Barplot: 2017 -> us-east-1\n",
    "    # (simply change style to make for a presentation)\n",
    "\n",
    "plt.style.use('seaborn')\n",
    "\n",
    "AZs = ['us-east-1a', 'us-east-1b', 'us-east-1c', 'us-east-1d', 'us-east-1e', 'us-east-1f']\n",
    "AZ_indexes = np.arange(len(AZs))\n",
    "\n",
    "width = 0.25\n",
    "\n",
    "plt.bar(AZ_indexes-0.5*width, mean_6s, width=width, label='Mean', color='#2dad58')\n",
    "plt.bar(AZ_indexes+0.5*width, sd_6s, width=width, label='Standard Deviation', color='#e01919')\n",
    "\n",
    "plt.xticks(ticks=AZ_indexes, labels=AZs)  \n",
    "\n",
    "plt.title('Means and Standard Deviations of Spot Prices Across All us-east-1 Availability Zones' + \"\\n\" + \n",
    "         'Right BEFORE the 2017 Change to the Spot Market (07/01/2017 - 09/30/2017)')\n",
    "plt.ylabel('Spot Price (USD)')\n",
    "#plt.yticks([0,1,2,3,4,5,6,7,8,9,10,11,12,13,14,15,16,17])\n",
    "\n",
    "plt.legend(loc='best')\n",
    "plt.tight_layout()\n",
    "#plt.savefig('mean-sd_us1_2017_BAR')\n",
    "#plt.show()"
   ]
  },
  {
   "cell_type": "markdown",
   "id": "3f6d7b7c",
   "metadata": {},
   "source": [
    "\n"
   ]
  },
  {
   "cell_type": "markdown",
   "id": "5b5fdd9b",
   "metadata": {},
   "source": [
    "\n"
   ]
  },
  {
   "cell_type": "code",
   "execution_count": null,
   "id": "789ce47e",
   "metadata": {},
   "outputs": [],
   "source": [
    "sd_a1_11 = a1_11['price'].std().round(4)\n",
    "sd_b1_11 = b1_11['price'].std().round(4)\n",
    "sd_c1_11 = c1_11['price'].std().round(4)\n",
    "sd_d1_11 = d1_11['price'].std().round(4)\n",
    "sd_e1_11 = e1_11['price'].std().round(4)\n",
    "sd_f1_11 = f1_11['price'].std().round(4)\n",
    "\n",
    "sd_11s = [sd_a1_11, sd_b1_11, sd_c1_11, sd_d1_11, sd_e1_11, sd_f1_11]\n",
    "\n",
    "#2018 stds (by AZ) -> us-east-1"
   ]
  },
  {
   "cell_type": "code",
   "execution_count": null,
   "id": "f05c4a97",
   "metadata": {},
   "outputs": [],
   "source": [
    "mean_a1_11 = a1_11['price'].mean().round(4)\n",
    "mean_b1_11 = b1_11['price'].mean().round(4)\n",
    "mean_c1_11 = c1_11['price'].mean().round(4)\n",
    "mean_d1_11 = d1_11['price'].mean().round(4)\n",
    "mean_e1_11 = e1_11['price'].mean().round(4)\n",
    "mean_f1_11 = f1_11['price'].mean().round(4)\n",
    "\n",
    "mean_11s = [mean_a1_11, mean_b1_11, mean_c1_11, mean_d1_11, mean_e1_11, mean_f1_11]\n",
    "\n",
    "#2018 means (by AZ) -> us-east-1"
   ]
  },
  {
   "cell_type": "code",
   "execution_count": null,
   "id": "2313ae55",
   "metadata": {},
   "outputs": [],
   "source": [
    "#Barplot: 2018 -> us-east-1\n",
    "    # (simply change style to make for a presentation)\n",
    "\n",
    "plt.style.use('seaborn')\n",
    "\n",
    "AZs = ['us-east-1a', 'us-east-1b', 'us-east-1c', 'us-east-1d', 'us-east-1e', 'us-east-1f']\n",
    "AZ_indexes = np.arange(len(AZs))\n",
    "\n",
    "width = 0.25\n",
    "\n",
    "plt.bar(AZ_indexes-0.5*width, mean_11s, width=width, label='Mean', color='#8822d6') \n",
    "plt.bar(AZ_indexes+0.5*width, sd_11s, width=width, label='Standard Deviation', color='#de1b69')\n",
    "\n",
    "plt.xticks(ticks=AZ_indexes, labels=AZs)  \n",
    "\n",
    "plt.title('Means and Standard Deviations of Spot Prices Across All us-east-1 Availability Zones' + \"\\n\" + \n",
    "         'Right AFTER the 2017 Change to the Spot Market (01/01/2018 - 03/31/2018)')\n",
    "plt.ylabel('Spot Price (USD)')\n",
    "#plt.yticks([0,0.25,0.5,0.75,1,1.25,1.5,1.75,2,2.25,2.5,2.75])\n",
    "\n",
    "plt.legend(loc=(0.76,0.91))\n",
    "plt.tight_layout()\n",
    "#plt.savefig('mean-sd_us1_2018_BAR')\n",
    "#plt.show()"
   ]
  },
  {
   "cell_type": "markdown",
   "id": "acc7e1a2",
   "metadata": {},
   "source": [
    "\n"
   ]
  },
  {
   "cell_type": "markdown",
   "id": "d90fbd84",
   "metadata": {},
   "source": [
    "\n"
   ]
  },
  {
   "cell_type": "code",
   "execution_count": null,
   "id": "0985181c",
   "metadata": {},
   "outputs": [],
   "source": [
    "sd_a1_1 = a1_1['SP'].std().round(4)\n",
    "sd_b1_1 = b1_1['SP'].std().round(4)\n",
    "sd_c1_1 = c1_1['SP'].std().round(4)\n",
    "sd_d1_1 = d1_1['SP'].std().round(4)\n",
    "sd_e1_1 = e1_1['SP'].std().round(4)\n",
    "sd_f1_1 = f1_1['SP'].std().round(4)\n",
    "\n",
    "sd_1s = [sd_a1_1, sd_b1_1, sd_c1_1, sd_d1_1, sd_e1_1, sd_f1_1]\n",
    "\n",
    "#2021 stds (by AZ) -> us-east-1"
   ]
  },
  {
   "cell_type": "code",
   "execution_count": null,
   "id": "e3ff3488",
   "metadata": {},
   "outputs": [],
   "source": [
    "mean_a1_1 = a1_1['SP'].mean().round(4)\n",
    "mean_b1_1 = b1_1['SP'].mean().round(4)\n",
    "mean_c1_1 = c1_1['SP'].mean().round(4)\n",
    "mean_d1_1 = d1_1['SP'].mean().round(4)\n",
    "mean_e1_1 = e1_1['SP'].mean().round(4)\n",
    "mean_f1_1 = f1_1['SP'].mean().round(4)\n",
    "\n",
    "mean_1s = [mean_a1_1, mean_b1_1, mean_c1_1, mean_d1_1, mean_e1_1, mean_f1_1]\n",
    "\n",
    "#2021 means (by AZ) -> us-east-1"
   ]
  },
  {
   "cell_type": "code",
   "execution_count": null,
   "id": "69438a6a",
   "metadata": {},
   "outputs": [],
   "source": [
    "#Barplot: 2018 -> us-east-1\n",
    "    # (simply change style to make for a presentation)\n",
    "\n",
    "plt.style.use('seaborn')\n",
    "\n",
    "AZs = ['us-east-1a', 'us-east-1b', 'us-east-1c', 'us-east-1d', 'us-east-1e', 'us-east-1f']\n",
    "AZ_indexes = np.arange(len(AZs))\n",
    "\n",
    "width = 0.25\n",
    "\n",
    "plt.bar(AZ_indexes-0.5*width, mean_1s, width=width, label='Mean', color='#3a5cf2') \n",
    "plt.bar(AZ_indexes+0.5*width, sd_1s, width=width, label='Standard Deviation', color='#f26722')\n",
    "\n",
    "plt.xticks(ticks=AZ_indexes, labels=AZs)  \n",
    "\n",
    "plt.title('Means and Standard Deviations of Spot Prices Across All us-east-1 Availability Zones' + \"\\n\" + \n",
    "         'A Few Years After the 2017 Change to the Spot Market (03/04/2021 - 06/01/2021)')\n",
    "plt.ylabel('Spot Price (USD)')\n",
    "#plt.yticks([0,0.1,0.2,0.3,0.4,0.5,0.6,0.7,0.8,0.9,1,1.1,1.2,1.3,1.4])\n",
    "\n",
    "plt.legend(loc='best')\n",
    "plt.tight_layout()\n",
    "#plt.savefig('mean-sd_us1_2021_BAR')\n",
    "#plt.show()"
   ]
  },
  {
   "cell_type": "markdown",
   "id": "40b202df",
   "metadata": {},
   "source": [
    "\n"
   ]
  },
  {
   "cell_type": "markdown",
   "id": "6f63e851",
   "metadata": {},
   "source": [
    "\n"
   ]
  },
  {
   "cell_type": "markdown",
   "id": "0bf1e180",
   "metadata": {},
   "source": [
    "##### us-east-2"
   ]
  },
  {
   "cell_type": "code",
   "execution_count": null,
   "id": "e7e8a5f2",
   "metadata": {},
   "outputs": [],
   "source": [
    "sd_a2_7 = a2_7['price'].std().round(4)\n",
    "sd_b2_7 = b2_7['price'].std().round(4)\n",
    "sd_c2_7 = c2_7['price'].std().round(4)\n",
    "\n",
    "sd_7s = [sd_a2_7, sd_b2_7, sd_c2_7]\n",
    "\n",
    "#2017 stds (us-east-2)"
   ]
  },
  {
   "cell_type": "code",
   "execution_count": null,
   "id": "58b15fcc",
   "metadata": {},
   "outputs": [],
   "source": [
    "mean_a2_7 = a2_7['price'].mean().round(4)\n",
    "mean_b2_7 = b2_7['price'].mean().round(4)\n",
    "mean_c2_7 = c2_7['price'].mean().round(4)\n",
    "\n",
    "mean_7s = [mean_a2_7, mean_b2_7, mean_c2_7]\n",
    "\n",
    "#2017 means (us-east-2)"
   ]
  },
  {
   "cell_type": "code",
   "execution_count": null,
   "id": "7143cdca",
   "metadata": {},
   "outputs": [],
   "source": [
    "#Barplot: 2017 -> us-east-2\n",
    "    # (simply change style to make for a presentation)\n",
    "\n",
    "plt.style.use('seaborn')\n",
    "\n",
    "AZs = ['us-east-2a', 'us-east-2b', 'us-east-2c']\n",
    "AZ_indexes = np.arange(len(AZs))\n",
    "\n",
    "width = 0.25\n",
    "\n",
    "plt.bar(AZ_indexes-0.5*width, mean_7s, width=width, label='Mean', color='#7d7d7d')\n",
    "plt.bar(AZ_indexes+0.5*width, sd_7s, width=width, label='Standard Deviation', color='#000000')\n",
    "\n",
    "plt.xticks(ticks=AZ_indexes, labels=AZs)  \n",
    "\n",
    "plt.title('Means and Standard Deviations of Spot Prices Across All us-east-2 Availability Zones' + \"\\n\" + \n",
    "         'Right BEFORE the 2017 Change to the Spot Market (07/01/2017 - 09/30/2017)')\n",
    "plt.ylabel('Spot Price (USD)')\n",
    "#plt.yticks([0,0.5,1,1.5,2,2.5,3,3.5,4,4.5,5,5.5,6,6.5,7,7.5,8,8.5])\n",
    "\n",
    "plt.legend(loc='best')\n",
    "plt.tight_layout()\n",
    "#plt.savefig('mean-sd_use2_2017_BAR')\n",
    "#plt.show()"
   ]
  },
  {
   "cell_type": "markdown",
   "id": "debfdd1d",
   "metadata": {},
   "source": [
    "\n"
   ]
  },
  {
   "cell_type": "markdown",
   "id": "1d7147c2",
   "metadata": {},
   "source": [
    "\n"
   ]
  },
  {
   "cell_type": "code",
   "execution_count": null,
   "id": "b9c36ce9",
   "metadata": {},
   "outputs": [],
   "source": [
    "sd_a2_12 = a2_12['price'].std().round(4)\n",
    "sd_b2_12 = b2_12['price'].std().round(4)\n",
    "sd_c2_12 = c2_12['price'].std().round(4)\n",
    "\n",
    "sd_12s = [sd_a2_12, sd_b2_12, sd_c2_12]\n",
    "\n",
    "#2018 stds (us-east-2)"
   ]
  },
  {
   "cell_type": "code",
   "execution_count": null,
   "id": "d30fbdf1",
   "metadata": {},
   "outputs": [],
   "source": [
    "mean_a2_12 = a2_12['price'].mean().round(4)\n",
    "mean_b2_12 = b2_12['price'].mean().round(4)\n",
    "mean_c2_12 = c2_12['price'].mean().round(4)\n",
    "\n",
    "mean_12s = [mean_a2_12, mean_b2_12, mean_c2_12]\n",
    "\n",
    "#2018 means (us-east-2)"
   ]
  },
  {
   "cell_type": "code",
   "execution_count": null,
   "id": "613d2f87",
   "metadata": {},
   "outputs": [],
   "source": [
    "#Barplot: 2018 -> us-east-2\n",
    "    # (simply change style to make for a presentation)\n",
    "\n",
    "plt.style.use('seaborn')\n",
    "\n",
    "AZs = ['us-east-2a', 'us-east-2b', 'us-east-2c']\n",
    "AZ_indexes = np.arange(len(AZs))\n",
    "\n",
    "width = 0.25\n",
    "\n",
    "plt.bar(AZ_indexes-0.5*width, mean_12s, width=width, label='Mean', color='#cfdb25') \n",
    "plt.bar(AZ_indexes+0.5*width, sd_12s, width=width, label='Standard Deviation', color='#f0a51a')\n",
    "\n",
    "plt.xticks(ticks=AZ_indexes, labels=AZs)  \n",
    "\n",
    "plt.title('Means and Standard Deviations of Spot Prices Across All us-east-2 Availability Zones' + \"\\n\" + \n",
    "         'Right AFTER the 2017 Change to the Spot Market (01/01/2018 - 03/31/2018)')\n",
    "plt.ylabel('Spot Price (USD)')\n",
    "#plt.yticks([0,0.25,0.5,0.75,1,1.25,1.5,1.75,2,2.25,2.5,2.75])\n",
    "\n",
    "plt.legend(loc='best')\n",
    "plt.tight_layout()\n",
    "#plt.savefig('mean-sd_use2_2018_BAR')\n",
    "#plt.show()"
   ]
  },
  {
   "cell_type": "markdown",
   "id": "d00e4871",
   "metadata": {},
   "source": [
    "\n"
   ]
  },
  {
   "cell_type": "markdown",
   "id": "2d326084",
   "metadata": {},
   "source": [
    "\n"
   ]
  },
  {
   "cell_type": "markdown",
   "id": "e0b84fe0",
   "metadata": {},
   "source": [
    "##### us-west-2"
   ]
  },
  {
   "cell_type": "code",
   "execution_count": null,
   "id": "3ff14914",
   "metadata": {},
   "outputs": [],
   "source": [
    "sd_a2w_8 = a2w_8['price'].std().round(4)\n",
    "sd_b2w_8 = b2w_8['price'].std().round(4)\n",
    "sd_c2w_8 = c2w_8['price'].std().round(4)\n",
    "\n",
    "sd_8s = [sd_a2w_8, sd_b2w_8, sd_c2w_8]\n",
    "\n",
    "#2017 stds (us-west-2)"
   ]
  },
  {
   "cell_type": "code",
   "execution_count": null,
   "id": "410fdb39",
   "metadata": {},
   "outputs": [],
   "source": [
    "mean_a2w_8 = a2w_8['price'].mean().round(4)\n",
    "mean_b2w_8 = b2w_8['price'].mean().round(4)\n",
    "mean_c2w_8 = c2w_8['price'].mean().round(4)\n",
    "\n",
    "mean_8s = [mean_a2w_8, mean_b2w_8, mean_c2w_8]\n",
    "\n",
    "#2017 stds (us-west-2)"
   ]
  },
  {
   "cell_type": "code",
   "execution_count": null,
   "id": "38a2ecec",
   "metadata": {},
   "outputs": [],
   "source": [
    "#Barplot: 2017 -> us-west-2\n",
    "    # (simply change style to make for a presentation)\n",
    "\n",
    "plt.style.use('seaborn')\n",
    "\n",
    "AZs = ['us-west-2a', 'us-west-2b', 'us-west-2c']\n",
    "AZ_indexes = np.arange(len(AZs))\n",
    "\n",
    "width = 0.25\n",
    "\n",
    "plt.bar(AZ_indexes-0.5*width, mean_8s, width=width, label='Mean', color='#16cc3e')\n",
    "plt.bar(AZ_indexes+0.5*width, sd_8s, width=width, label='Standard Deviation', color='#7119a8')\n",
    "\n",
    "plt.xticks(ticks=AZ_indexes, labels=AZs)  \n",
    "\n",
    "plt.title('Means and Standard Deviations of Spot Prices Across All us-west-2 Availability Zones' + \"\\n\" + \n",
    "         'Right BEFORE the 2017 Change to the Spot Market (07/01/2017 - 09/30/2017)')\n",
    "plt.ylabel('Spot Price (USD)')\n",
    "#plt.yticks([0,0.5,1,1.5,2,2.5,3,3.5,4,4.5,5,5.5,6,6.5,7,7.5])\n",
    "\n",
    "plt.legend(loc='best')\n",
    "plt.tight_layout()\n",
    "#plt.savefig('mean-sd_usw2_2017_BAR')\n",
    "#plt.show()"
   ]
  },
  {
   "cell_type": "markdown",
   "id": "184694bf",
   "metadata": {},
   "source": [
    "\n"
   ]
  },
  {
   "cell_type": "markdown",
   "id": "0d663102",
   "metadata": {},
   "source": [
    "\n"
   ]
  },
  {
   "cell_type": "code",
   "execution_count": null,
   "id": "913a51e2",
   "metadata": {},
   "outputs": [],
   "source": [
    "sd_a2w_13 = a2w_13['price'].std().round(4)\n",
    "sd_b2w_13 = b2w_13['price'].std().round(4)\n",
    "sd_c2w_13 = c2w_13['price'].std().round(4)\n",
    "\n",
    "sd_13s = [sd_a2w_13, sd_b2w_13, sd_c2w_13]\n",
    "\n",
    "#2018 stds (us-west-2)"
   ]
  },
  {
   "cell_type": "code",
   "execution_count": null,
   "id": "e0549881",
   "metadata": {},
   "outputs": [],
   "source": [
    "mean_a2w_13 = a2w_13['price'].mean().round(4)\n",
    "mean_b2w_13 = b2w_13['price'].mean().round(4)\n",
    "mean_c2w_13 = c2w_13['price'].mean().round(4)\n",
    "\n",
    "mean_13s = [mean_a2w_13, mean_b2w_13, mean_c2w_13]\n",
    "\n",
    "#2018 means (us-west-2)"
   ]
  },
  {
   "cell_type": "code",
   "execution_count": null,
   "id": "4d7c1d87",
   "metadata": {},
   "outputs": [],
   "source": [
    "#Barplot: 2018 -> us-west-2\n",
    "    # (simply change style to make for a presentation)\n",
    "\n",
    "plt.style.use('seaborn')\n",
    "\n",
    "AZs = ['us-west-2a', 'us-west-2b', 'us-west-2c']\n",
    "AZ_indexes = np.arange(len(AZs))\n",
    "\n",
    "width = 0.25\n",
    "\n",
    "plt.bar(AZ_indexes-0.5*width, mean_13s, width=width, label='Mean', color='#1cb8ab') \n",
    "plt.bar(AZ_indexes+0.5*width, sd_13s, width=width, label='Standard Deviation', color='#de1bd4')\n",
    "\n",
    "plt.xticks(ticks=AZ_indexes, labels=AZs)  \n",
    "\n",
    "plt.title('Means and Standard Deviations of Spot Prices Across All us-west-2 Availability Zones' + \"\\n\" + \n",
    "         'Right AFTER the 2017 Change to the Spot Market (01/01/2018 - 03/31/2018)')\n",
    "plt.ylabel('Spot Price (USD)')\n",
    "#plt.yticks([0,0.25,0.5,0.75,1,1.25,1.5,1.75,2,2.25,2.5,2.75,3])\n",
    "\n",
    "plt.legend(loc='best')\n",
    "plt.tight_layout()\n",
    "#plt.savefig('mean-sd_usw2_2018_BAR')\n",
    "#plt.show()"
   ]
  },
  {
   "cell_type": "markdown",
   "id": "be135468",
   "metadata": {},
   "source": [
    "\n"
   ]
  },
  {
   "cell_type": "markdown",
   "id": "6954a2fd",
   "metadata": {},
   "source": [
    "\n"
   ]
  },
  {
   "cell_type": "markdown",
   "id": "ce918d55",
   "metadata": {},
   "source": [
    "#### Further Standard Deviation/Mean Stuff"
   ]
  },
  {
   "cell_type": "markdown",
   "id": "e53184ec",
   "metadata": {},
   "source": [
    "##### 2017: us-east-1"
   ]
  },
  {
   "cell_type": "code",
   "execution_count": null,
   "id": "9f073ab0",
   "metadata": {
    "scrolled": true
   },
   "outputs": [],
   "source": [
    "# Means & SDs: ONLY CHOOSE ONE SPECIFIC INSTANCE TYPE AT A TIME\n",
    "    # 2017: gen 2 and above, must have at least 4 dif sizes\n",
    "\n",
    "Instances = ['r4.16xlarge'] #choose what you want\n",
    "OS = ['Linux/UNIX'] #choose what you want\n",
    "\n",
    "temp_mean = []\n",
    "temp_sd = []\n",
    "\n",
    "for o in OS:\n",
    "    temp = df6[df6.os == o]\n",
    "    \n",
    "    for i in Instances:\n",
    "        temp1 = temp[temp.instance == i]\n",
    "        \n",
    "        temp_a = []\n",
    "            \n",
    "        for a in temp1.zone.unique():\n",
    "            temp2 = temp1[temp1.zone == a]\n",
    "            \n",
    "            mean = temp2['price'].values.mean().round(4)\n",
    "            sd = temp2['price'].values.std().round(4)\n",
    "            \n",
    "            print('The average price you would have to pay for having the ' + i + ' VM over the 3 month period' +\n",
    "                  \"\\n\" + 'within the ' + a + ' availability zone and the ' + o + ' operating system is:')\n",
    "            print(mean)\n",
    "            print(' ')\n",
    "            \n",
    "            print('The standard deviation of the spot price for having the ' + i +\n",
    "                  ' VM over the 3 month period' + \"\\n\" +'within the ' + a + ' availability zone and the ' +\n",
    "                  o + ' operating system is:')\n",
    "            print(sd)\n",
    "            print(' ')\n",
    "            \n",
    "            temp_mean.append(mean)\n",
    "            temp_sd.append(sd)\n",
    "            temp_a.append(a)\n",
    "    \n",
    "    plt.style.use('seaborn')\n",
    "    \n",
    "    AZx_indexes = np.arange(len(temp_a))\n",
    "    width = 0.25\n",
    "    \n",
    "    plt.bar(AZx_indexes-0.5*width, temp_mean, width=width, label='Mean', color='#6f19e0')\n",
    "    plt.bar(AZx_indexes+0.5*width, temp_sd, width=width, label='Standard Deviation', color='#8c8c8c')\n",
    "            \n",
    "    plt.title('Means and Standard Deviations of Spot Prices for the ' + i + ' Instance' + \"\\n\" +\n",
    "              'Type Right BEFORE the 2017 Change (07/01/2017 - 09/30/2017) Across' + \"\\n\" + \n",
    "              'the us-east-1 Availability Zones and ' + o + ' Operating Systems')\n",
    "    plt.ylabel('Price (USD)')\n",
    "    #plt.yticks([0,0.5,1,1.5,2,2.5,3,3.5,4,4.5,5])\n",
    "    plt.xticks(ticks=AZx_indexes, labels=temp_a)#,rotation=25)\n",
    "\n",
    "    plt.legend(loc='best')\n",
    "    #plt.legend(loc = (.745,.895))\n",
    "    plt.tight_layout()\n",
    "\n",
    "    #plt.savefig(i + '_us1_meanSD_2017.png')\n",
    "#plt.show()"
   ]
  },
  {
   "cell_type": "markdown",
   "id": "9e458b8b",
   "metadata": {},
   "source": [
    "\n"
   ]
  },
  {
   "cell_type": "markdown",
   "id": "6c22779e",
   "metadata": {},
   "source": [
    "\n"
   ]
  },
  {
   "cell_type": "markdown",
   "id": "2027dede",
   "metadata": {},
   "source": [
    "##### 2018: us-east-1"
   ]
  },
  {
   "cell_type": "code",
   "execution_count": null,
   "id": "54e12b27",
   "metadata": {
    "scrolled": true
   },
   "outputs": [],
   "source": [
    "# Means & SDs: ONLY CHOOSE ONE SPECIFIC INSTANCE TYPE AT A TIME\n",
    "    # 2018: gen 2 and above, must have at least 4 dif sizes\n",
    "\n",
    "Instances = ['x1e.32xlarge'] #choose what you want\n",
    "OS = ['Linux/UNIX'] #choose what you want\n",
    "\n",
    "temp_mean = []\n",
    "temp_sd = []\n",
    "\n",
    "for o in OS:\n",
    "    temp = df11[df11.os == o]\n",
    "    \n",
    "    for i in Instances:\n",
    "        temp1 = temp[temp.instance == i]\n",
    "        \n",
    "        temp_a = []\n",
    "            \n",
    "        for a in temp1.zone.unique():\n",
    "            temp2 = temp1[temp1.zone == a]\n",
    "            \n",
    "            mean = temp2['price'].values.mean().round(4)\n",
    "            sd = temp2['price'].values.std().round(4)\n",
    "            \n",
    "            print('The average price you would have to pay for having the ' + i + ' VM over the 3 month period' +\n",
    "                  \"\\n\" + 'within the ' + a + ' availability zone and the ' + o + ' operating system is:')\n",
    "            print(mean)\n",
    "            print(' ')\n",
    "            \n",
    "            print('The standard deviation of the spot price for having the ' + i +\n",
    "                  ' VM over the 3 month period' + \"\\n\" +'within the ' + a + ' availability zone and the ' +\n",
    "                  o + ' operating system is:')\n",
    "            print(sd)\n",
    "            print(' ')\n",
    "            \n",
    "            temp_mean.append(mean)\n",
    "            temp_sd.append(sd)\n",
    "            temp_a.append(a)\n",
    "    \n",
    "    plt.style.use('seaborn')\n",
    "    \n",
    "    AZx_indexes = np.arange(len(temp_a))\n",
    "    width = 0.25\n",
    "    \n",
    "    plt.bar(AZx_indexes-0.5*width, temp_mean, width=width, label='Mean', color='#23ad4f')\n",
    "    plt.bar(AZx_indexes+0.5*width, temp_sd, width=width, label='Standard Deviation', color='#231ebd')\n",
    "            \n",
    "    plt.title('Means and Standard Deviations of Spot Prices for the ' + i + ' Instance' + \"\\n\" +\n",
    "              'Type Right AFTER the 2017 Change (01/01/2018 - 03/31/2018) Across' + \"\\n\" + \n",
    "              'the us-east-1 Availability Zones and ' + o + ' Operating Systems')\n",
    "    plt.ylabel('Price (USD)')\n",
    "    #plt.yticks([0,2.5,5,7.5,10,12.5,15,17.5,20,22.5,25,27.5])\n",
    "    plt.xticks(ticks=AZx_indexes, labels=temp_a)#,rotation=25)\n",
    "\n",
    "    plt.legend(loc='best')\n",
    "    #plt.legend(loc = (.51,.88))\n",
    "    plt.tight_layout()\n",
    "\n",
    "    #plt.savefig(i + '_us1_meanSD_2018.png')\n",
    "#plt.show()"
   ]
  },
  {
   "cell_type": "markdown",
   "id": "c6384dd4",
   "metadata": {},
   "source": [
    "\n"
   ]
  },
  {
   "cell_type": "markdown",
   "id": "0e3c720c",
   "metadata": {},
   "source": [
    "\n"
   ]
  },
  {
   "cell_type": "markdown",
   "id": "a8fe579d",
   "metadata": {},
   "source": [
    "##### 2021: us-east-1"
   ]
  },
  {
   "cell_type": "code",
   "execution_count": null,
   "id": "1f35d7e8",
   "metadata": {
    "scrolled": true
   },
   "outputs": [],
   "source": [
    "# Means & SDs: ONLY CHOOSE ONE SPECIFIC INSTANCE TYPE AT A TIME\n",
    "    # 2021: gen 2 and above, must have at least 4 dif sizes\n",
    "\n",
    "Instances = ['x1e.32xlarge'] #choose what you want\n",
    "OS = ['Linux/UNIX'] #choose what you want\n",
    "\n",
    "temp_mean = []\n",
    "temp_sd = []\n",
    "\n",
    "for o in OS:\n",
    "    temp = df1[df1.OS == o]\n",
    "    \n",
    "    for i in Instances:\n",
    "        temp1 = temp[temp.IT == i]\n",
    "        \n",
    "        temp_a = []\n",
    "            \n",
    "        for a in temp1.AZ.unique():\n",
    "            temp2 = temp1[temp1.AZ == a]\n",
    "            \n",
    "            mean = temp2['SP'].values.mean().round(4)\n",
    "            sd = temp2['SP'].values.std().round(4)\n",
    "            \n",
    "            print('The average price you would have to pay for having the ' + i + ' VM over the 3 month period' +\n",
    "                  \"\\n\" + 'within the ' + a + ' availability zone and the ' + o + ' operating system is:')\n",
    "            print(mean)\n",
    "            print(' ')\n",
    "            \n",
    "            print('The standard deviation of the spot price for having the ' + i +\n",
    "                  ' VM over the 3 month period' + \"\\n\" +'within the ' + a + ' availability zone and the ' +\n",
    "                  o + ' operating system is:')\n",
    "            print(sd)\n",
    "            print(' ')\n",
    "            \n",
    "            temp_mean.append(mean)\n",
    "            temp_sd.append(sd)\n",
    "            temp_a.append(a)\n",
    "    \n",
    "    plt.style.use('seaborn')\n",
    "    \n",
    "    AZx_indexes = np.arange(len(temp_a))\n",
    "    width = 0.25\n",
    "    \n",
    "    plt.bar(AZx_indexes-0.5*width, temp_mean, width=width, label='Mean', color='#d2e317')\n",
    "    plt.bar(AZx_indexes+0.5*width, temp_sd, width=width, label='Standard Deviation', color='#f5ba18')\n",
    "            \n",
    "    plt.title('Means and Standard Deviations of Spot Prices for the ' + i + ' Instance' + \"\\n\" +\n",
    "              'Type A Few Years After the 2017 Change (03/04/2021 - 06/01/2021) Across' + \"\\n\" + \n",
    "              'the us-east-1 Availability Zones and ' + o + ' Operating Systems')\n",
    "    plt.ylabel('Price (USD)')\n",
    "    #plt.yticks([0,1,2,3,4,5,6,7,8,9])\n",
    "    plt.xticks(ticks=AZx_indexes, labels=temp_a)#,rotation=25)\n",
    "\n",
    "    plt.legend(loc='best')\n",
    "    #plt.legend(loc = (.75,.89))\n",
    "    plt.tight_layout()\n",
    "\n",
    "    #plt.savefig(i + '_us1_meanSD_2021.png')\n",
    "#plt.show()"
   ]
  },
  {
   "cell_type": "markdown",
   "id": "34e0c0f3",
   "metadata": {},
   "source": [
    "\n"
   ]
  },
  {
   "cell_type": "markdown",
   "id": "3bf871dd",
   "metadata": {},
   "source": [
    "\n"
   ]
  },
  {
   "cell_type": "markdown",
   "id": "cd159d30",
   "metadata": {},
   "source": [
    "#### std/mean proportions: boxplots"
   ]
  },
  {
   "cell_type": "code",
   "execution_count": null,
   "id": "d23f1e15",
   "metadata": {},
   "outputs": [],
   "source": [
    "# std/mean proportions: an entire family/gen\n",
    "\n",
    "Instances = ['x1e.xlarge', 'x1e.2xlarge', 'x1e.4xlarge', 'x1e.8xlarge', 'x1e.16xlarge', 'x1e.32xlarge'] #choose what you want\n",
    "OS = ['Linux/UNIX'] #choose what you want\n",
    "\n",
    "results_6 = []\n",
    "\n",
    "for o in OS:\n",
    "    temp = df6[df6.os == o]\n",
    "    \n",
    "    results_11 =[]\n",
    "    \n",
    "    for i in Instances:\n",
    "        temp1 = temp[temp.instance == i]\n",
    "        \n",
    "        temp_a = []\n",
    "        \n",
    "        results_1 = []\n",
    "            \n",
    "        for a in temp1.zone.unique():\n",
    "            temp2 = temp1[temp1.zone == a]\n",
    "            \n",
    "            mean = temp2['price'].values.mean().round(4)\n",
    "            sd = temp2['price'].values.std().round(4)\n",
    "            \n",
    "            prop = (sd/mean).round(4)\n",
    "            \n",
    "            print('The standard deviation to mean ratio for having the ' + i + ' VM over the 3 month period in 2017' +\n",
    "                  \"\\n\" + 'within the ' + a + ' availability zone and the ' + o + ' operating system is:')\n",
    "            print(prop)\n",
    "            print(' ')\n",
    "            \n",
    "            temp_a.append(a)\n",
    "            results_6.append(prop)\n",
    "            \n",
    "for o in OS:\n",
    "    temp3 = df11[df11.os == o]\n",
    "\n",
    "    for i in Instances:\n",
    "        temp4 = temp3[temp3.instance == i]\n",
    "            \n",
    "        for a in temp4.zone.unique():\n",
    "            temp5 = temp4[temp4.zone == a]\n",
    "            \n",
    "            mean = temp5['price'].values.mean().round(4)\n",
    "            sd = temp5['price'].values.std().round(4)\n",
    "            \n",
    "            prop = (sd/mean).round(4)\n",
    "            \n",
    "            print('The standard deviation to mean ratio for having the ' + i + ' VM over the 3 month period in 2018' +\n",
    "                  \"\\n\" + 'within the ' + a + ' availability zone and the ' + o + ' operating system is:')\n",
    "            print(prop)\n",
    "            print(' ')\n",
    "            \n",
    "            temp_a.append(a)\n",
    "            results_11.append(prop)\n",
    "            \n",
    "for o in OS:\n",
    "    temp6 = df1_LU[df1_LU.OS == o]\n",
    "\n",
    "    for i in Instances:\n",
    "        temp7 = temp6[temp6.IT == i]\n",
    "            \n",
    "        for a in temp7.AZ.unique():\n",
    "            temp8 = temp7[temp7.AZ == a]\n",
    "            \n",
    "            mean = temp8['SP'].values.mean().round(4)\n",
    "            sd = temp8['SP'].values.std().round(4)\n",
    "            \n",
    "            prop = (sd/mean).round(4)\n",
    "            \n",
    "            print('The standard deviation to mean ratio for having the ' + i + ' VM over the 3 month period in 2021' +\n",
    "                  \"\\n\" + 'within the ' + a + ' availability zone and the ' + o + ' operating system is:')\n",
    "            print(prop)\n",
    "            print(' ')\n",
    "            \n",
    "            temp_a.append(a)\n",
    "            results_1.append(prop)\n",
    "    \n",
    "    r_df6 = pd.Series(results_6)\n",
    "    r_df11 = pd.Series(results_11)\n",
    "    r_df1LU = pd.Series(results_1)\n",
    "    \n",
    "    boxes = [r_df6, r_df11, r_df1LU]\n",
    "    \n",
    "    plt.style.use('seaborn')\n",
    "    \n",
    "    plt.boxplot(boxes)\n",
    "\n",
    "    plt.title('Boxplots of the Standard Deviation to Mean Ratio of x1e Instance Types, Across Certain' +\n",
    "              \"\\n\" + 'Time Periods, Within All us-east-1 Availability Zones and Linux/UNIX Operating Systems')\n",
    "    plt.xticks([1,2,3], ['07/01/2017 -' + \"\\n\" + '09/30/2017','01/01/2018 -' + \"\\n\" + '03/31/2018',\n",
    "                        '03/04/2021 -' + \"\\n\" + '06/01/2021'])\n",
    "    #plt.yticks([0,0.001,0.002,0.003,0.004,0.005,0.006,0.007,0.008,0.009,0.010,0.011,0.012,0.013,0.014,0.015])\n",
    "    #plt.yticks([0,0.002,0.004,0.006,0.008,0.010,0.0120,0.0140,0.0160,0.0180,0.020,0.0220,0.024])\n",
    "    #plt.yticks([0,0.005,0.01,0.015,0.02,0.025,0.03,0.035,0.04,0.045,0.05,0.055])\n",
    "    #plt.yticks([0,0.01,0.02,0.03,0.04,0.05,0.06,0.07,0.08,0.09,0.1,0.11,0.12,0.13,0.14,0.15,0.16,0.17,0.18])\n",
    "    #plt.yticks([0,0.025,0.05,0.075,0.1,0.125,0.15,0.175,0.2,0.225,0.25,0.275,0.3,0.325,0.35,0.375])\n",
    "    #plt.yticks([0,0.05,0.1,0.15,0.2,0.25,0.3,0.35,0.4,0.45,0.5])\n",
    "    #plt.yticks([0,0.1,0.2,0.3,0.4,0.5,0.6,0.7,0.8,0.9,1,1.1,1.2,1.3])\n",
    "    #plt.yticks([0,0.2,0.4,0.6,0.8,1,1.2,1.4,1.6,1.8,2,2.2,2.4,2.6,2.8])\n",
    "    #plt.yticks([0,0.5,1,1.5,2,2.5,3,3.5,4,4.5])\n",
    "\n",
    "    plt.tight_layout()\n",
    "    #plt.savefig('sd_mean_PROP_x1e_us1_BOX.png')\n",
    "#plt.show()"
   ]
  },
  {
   "cell_type": "markdown",
   "id": "878d07e8",
   "metadata": {},
   "source": [
    "\n"
   ]
  },
  {
   "cell_type": "markdown",
   "id": "901408e0",
   "metadata": {},
   "source": [
    "\n"
   ]
  },
  {
   "cell_type": "code",
   "execution_count": null,
   "id": "fa416f6b",
   "metadata": {
    "scrolled": true
   },
   "outputs": [],
   "source": [
    "# std/mean proportions: one specific IT at a time\n",
    "\n",
    "Instances = ['x1e.32xlarge'] #choose what you want\n",
    "OS = ['Linux/UNIX'] #choose what you want\n",
    "\n",
    "results_6 = []\n",
    "\n",
    "for o in OS:\n",
    "    temp = df6[df6.os == o]\n",
    "    \n",
    "    results_11 =[]\n",
    "    \n",
    "    for i in Instances:\n",
    "        temp1 = temp[temp.instance == i]\n",
    "        \n",
    "        temp_a = []\n",
    "        \n",
    "        results_1 = []\n",
    "            \n",
    "        for a in temp1.zone.unique():\n",
    "            temp2 = temp1[temp1.zone == a]\n",
    "            \n",
    "            mean = temp2['price'].values.mean().round(4)\n",
    "            sd = temp2['price'].values.std().round(4)\n",
    "            \n",
    "            prop = (sd/mean).round(4)\n",
    "            \n",
    "            print('The standard deviation to mean ratio for having the ' + i + ' VM over the 3 month period in 2017' +\n",
    "                  \"\\n\" + 'within the ' + a + ' availability zone and the ' + o + ' operating system is:')\n",
    "            print(prop)\n",
    "            print(' ')\n",
    "            \n",
    "            temp_a.append(a)\n",
    "            results_6.append(prop)\n",
    "            \n",
    "for o in OS:\n",
    "    temp3 = df11[df11.os == o]\n",
    "\n",
    "    for i in Instances:\n",
    "        temp4 = temp3[temp3.instance == i]\n",
    "            \n",
    "        for a in temp4.zone.unique():\n",
    "            temp5 = temp4[temp4.zone == a]\n",
    "            \n",
    "            mean = temp5['price'].values.mean().round(4)\n",
    "            sd = temp5['price'].values.std().round(4)\n",
    "            \n",
    "            prop = (sd/mean).round(4)\n",
    "            \n",
    "            print('The standard deviation to mean ratio for having the ' + i + ' VM over the 3 month period in 2018' +\n",
    "                  \"\\n\" + 'within the ' + a + ' availability zone and the ' + o + ' operating system is:')\n",
    "            print(prop)\n",
    "            print(' ')\n",
    "            \n",
    "            temp_a.append(a)\n",
    "            results_11.append(prop)\n",
    "            \n",
    "for o in OS:\n",
    "    temp6 = df1_LU[df1_LU.OS == o]\n",
    "\n",
    "    for i in Instances:\n",
    "        temp7 = temp6[temp6.IT == i]\n",
    "            \n",
    "        for a in temp7.AZ.unique():\n",
    "            temp8 = temp7[temp7.AZ == a]\n",
    "            \n",
    "            mean = temp8['SP'].values.mean().round(4)\n",
    "            sd = temp8['SP'].values.std().round(4)\n",
    "            \n",
    "            prop = (sd/mean).round(4)\n",
    "            \n",
    "            print('The standard deviation to mean ratio for having the ' + i + ' VM over the 3 month period in 2021' +\n",
    "                  \"\\n\" + 'within the ' + a + ' availability zone and the ' + o + ' operating system is:')\n",
    "            print(prop)\n",
    "            print(' ')\n",
    "            \n",
    "            temp_a.append(a)\n",
    "            results_1.append(prop)\n",
    "    \n",
    "    r_df6 = pd.Series(results_6)\n",
    "    r_df11 = pd.Series(results_11)\n",
    "    r_df1LU = pd.Series(results_1)\n",
    "    \n",
    "    boxes = [r_df6, r_df11, r_df1LU]\n",
    "    \n",
    "    plt.style.use('seaborn')\n",
    "    \n",
    "    plt.boxplot(boxes)\n",
    "\n",
    "    plt.title('Boxplots of the Standard Deviation to Mean Ratio of the ' + i +  ' Instance Type, Across' + \"\\n\" +\n",
    "              'Certain Time Periods, Within All us-east-1 Availability Zones and Linux/UNIX Operating Systems')\n",
    "    plt.xticks([1,2,3], ['07/01/2017 -' + \"\\n\" + '09/30/2017','01/01/2018 -' + \"\\n\" + '03/31/2018',\n",
    "                        '03/04/2021 -' + \"\\n\" + '06/01/2021'])\n",
    "    #plt.yticks([0,0.001,0.002,0.003,0.004,0.005,0.006,0.007,0.008,0.009,0.010,0.011,0.012,0.013,0.014,0.015])\n",
    "    #plt.yticks([0,0.002,0.004,0.006,0.008,0.010,0.0120,0.0140,0.0160,0.0180,0.020,0.0220,0.024])\n",
    "    #plt.yticks([0,0.005,0.01,0.015,0.02,0.025,0.03,0.035,0.04,0.045,0.05,0.055])\n",
    "    #plt.yticks([0,0.01,0.02,0.03,0.04,0.05,0.06,0.07,0.08,0.09,0.1,0.11])\n",
    "    #plt.yticks([0,0.025,0.05,0.075,0.1,0.125,0.15,0.175,0.2,0.225,0.25,0.275,0.3,0.325,0.35,0.375])\n",
    "    #plt.yticks([0,0.05,0.1,0.15,0.2,0.25,0.3,0.35,0.4,0.45,0.5,0.55,0.6,0.65,0.70,0.75,0.8])\n",
    "    #plt.yticks([0,0.1,0.2,0.3,0.4,0.5,0.6,0.7,0.8,0.9,1,1.1,1.2,1.3])\n",
    "    #plt.yticks([0,0.2,0.4,0.6,0.8,1,1.2,1.4,1.6,1.8,2,2.2,2.4,2.6,2.8])\n",
    "    #plt.yticks([0,0.5,1,1.5,2,2.5,3,3.5,4,4.5])\n",
    "\n",
    "    plt.tight_layout()\n",
    "    #plt.savefig(i + '_sd_mean_PROP_us1_BOX.png')\n",
    "#plt.show()"
   ]
  },
  {
   "cell_type": "markdown",
   "id": "6cb3a29b",
   "metadata": {},
   "source": [
    "\n"
   ]
  },
  {
   "cell_type": "markdown",
   "id": "5ce99d64",
   "metadata": {},
   "source": [
    "\n"
   ]
  },
  {
   "cell_type": "markdown",
   "id": "7bd523a5",
   "metadata": {},
   "source": [
    "##### Recopied above for presentations"
   ]
  },
  {
   "cell_type": "code",
   "execution_count": null,
   "id": "3f1379f6",
   "metadata": {
    "scrolled": true
   },
   "outputs": [],
   "source": [
    "# std/mean proportions: PRES\n",
    "\n",
    "Instances = ['r4.2xlarge'] #choose what you want\n",
    "OS = ['Linux/UNIX'] #choose what you want\n",
    "\n",
    "results_6 = []\n",
    "\n",
    "for o in OS:\n",
    "    temp = df6[df6.os == o]\n",
    "    \n",
    "    results_11 =[]\n",
    "    \n",
    "    for i in Instances:\n",
    "        temp1 = temp[temp.instance == i]\n",
    "        \n",
    "        temp_a = []\n",
    "        \n",
    "        results_1 = []\n",
    "            \n",
    "        for a in temp1.zone.unique():\n",
    "            temp2 = temp1[temp1.zone == a]\n",
    "            \n",
    "            mean = temp2['price'].values.mean().round(4)\n",
    "            sd = temp2['price'].values.std().round(4)\n",
    "            \n",
    "            prop = (sd/mean).round(4)\n",
    "            \n",
    "            print('The standard deviation to mean ratio for having the ' + i + ' VM over the 3 month period in 2017' +\n",
    "                  \"\\n\" + 'within the ' + a + ' availability zone and the ' + o + ' operating system is:')\n",
    "            print(prop)\n",
    "            print(' ')\n",
    "            \n",
    "            temp_a.append(a)\n",
    "            results_6.append(prop)\n",
    "            \n",
    "for o in OS:\n",
    "    temp3 = df11[df11.os == o]\n",
    "\n",
    "    for i in Instances:\n",
    "        temp4 = temp3[temp3.instance == i]\n",
    "            \n",
    "        for a in temp4.zone.unique():\n",
    "            temp5 = temp4[temp4.zone == a]\n",
    "            \n",
    "            mean = temp5['price'].values.mean().round(4)\n",
    "            sd = temp5['price'].values.std().round(4)\n",
    "            \n",
    "            prop = (sd/mean).round(4)\n",
    "            \n",
    "            print('The standard deviation to mean ratio for having the ' + i + ' VM over the 3 month period in 2018' +\n",
    "                  \"\\n\" + 'within the ' + a + ' availability zone and the ' + o + ' operating system is:')\n",
    "            print(prop)\n",
    "            print(' ')\n",
    "            \n",
    "            temp_a.append(a)\n",
    "            results_11.append(prop)\n",
    "            \n",
    "for o in OS:\n",
    "    temp6 = df1_LU[df1_LU.OS == o]\n",
    "\n",
    "    for i in Instances:\n",
    "        temp7 = temp6[temp6.IT == i]\n",
    "            \n",
    "        for a in temp7.AZ.unique():\n",
    "            temp8 = temp7[temp7.AZ == a]\n",
    "            \n",
    "            mean = temp8['SP'].values.mean().round(4)\n",
    "            sd = temp8['SP'].values.std().round(4)\n",
    "            \n",
    "            prop = (sd/mean).round(4)\n",
    "            \n",
    "            print('The standard deviation to mean ratio for having the ' + i + ' VM over the 3 month period in 2021' +\n",
    "                  \"\\n\" + 'within the ' + a + ' availability zone and the ' + o + ' operating system is:')\n",
    "            print(prop)\n",
    "            print(' ')\n",
    "            \n",
    "            temp_a.append(a)\n",
    "            results_1.append(prop)\n",
    "    \n",
    "    r_df6 = pd.Series(results_6)\n",
    "    r_df11 = pd.Series(results_11)\n",
    "    r_df1LU = pd.Series(results_1)\n",
    "    \n",
    "    boxes = [r_df6, r_df11, r_df1LU]\n",
    "    \n",
    "    plt.style.use('seaborn-poster')\n",
    "    \n",
    "    plt.boxplot(boxes)\n",
    "    \n",
    "    #plt.title('Boxplots of the Standard Deviation to Mean Ratio of r4 Instance Types, Across Certain' +\n",
    "              #\"\\n\" + 'Time Periods, Within All us-east-1 Availability Zones and Linux/UNIX Operating Systems')\n",
    "    plt.title('Boxplots of the Standard Deviation to Mean Ratio of the ' + i +  ' Instance Type, Across' + \"\\n\" +\n",
    "              'Certain Time Periods, Within All us-east-1 Availability Zones and Linux/UNIX Operating Systems')\n",
    "    \n",
    "    plt.xticks([1,2,3], ['07/01/2017 -' + \"\\n\" + '09/30/2017','01/01/2018 -' + \"\\n\" + '03/31/2018',\n",
    "                        '03/04/2021 -' + \"\\n\" + '06/01/2021'])\n",
    "    #plt.yticks([0,0.001,0.002,0.003,0.004,0.005,0.006,0.007,0.008,0.009,0.010,0.011,0.012,0.013,0.014,0.015])\n",
    "    #plt.yticks([0,0.002,0.004,0.006,0.008,0.010,0.0120,0.0140,0.0160,0.0180,0.020,0.0220,0.024])\n",
    "    #plt.yticks([0,0.005,0.01,0.015,0.02,0.025,0.03,0.035,0.04,0.045,0.05,0.055])\n",
    "    #plt.yticks([0,0.01,0.02,0.03,0.04,0.05,0.06,0.07,0.08,0.09,0.1,0.11,0.12,0.13,0.14,0.15,0.16,0.17])\n",
    "    #plt.yticks([0,0.025,0.05,0.075,0.1,0.125,0.15,0.175,0.2,0.225,0.25,0.275])\n",
    "    #plt.yticks([0,0.05,0.1,0.15,0.2,0.25,0.3,0.35,0.4,0.45,0.5,0.55,0.6,0.65])\n",
    "    #plt.yticks([0,0.1,0.2,0.3,0.4,0.5,0.6,0.7,0.8,0.9,1,1.1,1.2])\n",
    "    #plt.yticks([0,0.2,0.4,0.6,0.8,1,1.2,1.4,1.6,1.8,2,2.2,2.4])\n",
    "    #plt.yticks([0,0.5,1,1.5,2,2.5,3,3.5,4,4.5])\n",
    "\n",
    "    plt.tight_layout()\n",
    "    #plt.savefig('sd_mean_PROP_r4_us1_BOXpres.png')\n",
    "    #plt.savefig(i + '_sd_mean_PROP_us1_BOXpres.png')\n",
    "#plt.show()"
   ]
  },
  {
   "cell_type": "markdown",
   "id": "a2877caf",
   "metadata": {},
   "source": [
    "\n"
   ]
  },
  {
   "cell_type": "markdown",
   "id": "4eeee866",
   "metadata": {},
   "source": [
    "\n"
   ]
  },
  {
   "cell_type": "markdown",
   "id": "c4746fd4",
   "metadata": {},
   "source": [
    "## Part 5: Additional analysis, using all data"
   ]
  },
  {
   "cell_type": "markdown",
   "id": "9f7de797",
   "metadata": {},
   "source": [
    "#### Cost Per Hour for 2017 Data"
   ]
  },
  {
   "cell_type": "code",
   "execution_count": null,
   "id": "25a23fcf",
   "metadata": {},
   "outputs": [],
   "source": [
    "df5_jul = df5.loc[(df5['time'] >= '2017-07-01') & (df5['time'] < '2017-08-01')] #first time period (all of July)\n",
    "df5_aug = df5.loc[(df5['time'] >= '2017-08-01') & (df5['time'] < '2017-09-01')] #second time period (all of August)\n",
    "df5_sept = df5.loc[(df5['time'] >= '2017-09-01')] # third time period (all of September)"
   ]
  },
  {
   "cell_type": "code",
   "execution_count": null,
   "id": "bc77f92d",
   "metadata": {
    "scrolled": true
   },
   "outputs": [],
   "source": [
    "# GRAPH = BAR PLOT, HOURLY COST\n",
    "\n",
    "Instances = ['c4.large', 'c4.xlarge', 'c4.2xlarge', 'c4.4xlarge', 'c4.8xlarge'] #choose what you want\n",
    "OS = ['Linux/UNIX'] #choose what you want\n",
    "AZ = ['us-east-1f'] #choose what you want\n",
    "\n",
    "temp_i = []\n",
    "temp_vh_2 = []\n",
    "\n",
    "for o in OS:\n",
    "    temp = df5_jul[df5_jul.os == o]\n",
    "\n",
    "    temp_vh_3 = []\n",
    "    \n",
    "    for i in Instances:\n",
    "        temp1 = temp[temp.instance == i]\n",
    "        \n",
    "        temp_vh_4 = []\n",
    "            \n",
    "        for a in AZ:\n",
    "            temp2 = temp1[temp1.zone == a]\n",
    "            \n",
    "            x = temp2['price'].values\n",
    "            y = temp2['time'].values\n",
    "            ts = pd.Series(x,y)\n",
    "            \n",
    "            v = ts.integrate().round(4)\n",
    "\n",
    "            print('The total cost per hour you would have to pay for having the ' + i +\n",
    "                  ' VM over the first time period' + \"\\n\" + 'within the ' + a + ' availability zone and the ' + o +\n",
    "                  ' operating system is:')\n",
    "            vh = (v/744).round(4)\n",
    "            print(vh)\n",
    "            print(' ')\n",
    "            \n",
    "            temp_vh_2.append(vh)\n",
    "            \n",
    "for o in OS:\n",
    "    temp3 = df5_aug[df5_aug.os == o]\n",
    "\n",
    "    for i in Instances:\n",
    "        temp4 = temp3[temp3.instance == i]\n",
    "            \n",
    "        for a in AZ:\n",
    "            temp5 = temp4[temp4.zone == a]\n",
    "            \n",
    "            x = temp5['price'].values\n",
    "            y = temp5['time'].values\n",
    "            ts = pd.Series(x,y)\n",
    "            \n",
    "            v = ts.integrate().round(4)\n",
    "\n",
    "            print('The total cost per hour you would have to pay for having the ' + i +\n",
    "                  ' VM over the second time period' + \"\\n\" + 'within the ' + a + ' availability zone and the ' + o +\n",
    "                  ' operating system is:')\n",
    "            vh = (v/744).round(4)\n",
    "            print(vh)\n",
    "            print(' ')\n",
    "            \n",
    "            temp_vh_3.append(vh)\n",
    "            \n",
    "for o in OS:\n",
    "    temp6 = df5_sept[df5_sept.os == o]\n",
    "\n",
    "    for i in Instances:\n",
    "        temp7 = temp6[temp6.instance == i]\n",
    "            \n",
    "        for a in AZ:\n",
    "            temp8 = temp7[temp7.zone == a]\n",
    "            \n",
    "            x = temp8['price'].values\n",
    "            y = temp8['time'].values\n",
    "            ts = pd.Series(x,y)\n",
    "            \n",
    "            v = ts.integrate().round(4)\n",
    "\n",
    "            print('The total cost per hour you would have to pay for having the ' + i +\n",
    "                  ' VM over the third time period' + \"\\n\" + 'within the ' + a + ' availability zone and the ' + o +\n",
    "                  ' operating system is:')\n",
    "            vh = (v/720).round(4)\n",
    "            print(vh)\n",
    "            print(' ')\n",
    "            \n",
    "            temp_i.append(i)\n",
    "            temp_vh_4.append(vh)\n",
    "    \n",
    "    plt.style.use('seaborn')\n",
    "    \n",
    "    ITx_indexes = np.arange(len(temp_i))\n",
    "    width = 0.25 \n",
    "    \n",
    "    plt.bar(ITx_indexes-width, temp_vh_2, width=width, label = '07/01/2017 -  07/31/2017')\n",
    "    plt.bar(ITx_indexes, temp_vh_3, width=width, label = '08/01/2017 -  08/31/2017')\n",
    "    plt.bar(ITx_indexes+width, temp_vh_4, width=width, label = '09/01/2017 -  09/30/2017')\n",
    "            \n",
    "    plt.title('Hourly Price for ' + i.split('.')[0] +\n",
    "        ' Instance Types Right BEFORE the 2017 Change Over Specific Time' + \"\\n\" + 'Periods Across the ' + a +\n",
    "        ' Availability Zone and ' + o + ' Operating Systems')\n",
    "    plt.ylabel('Total Cost (USD)')\n",
    "    #plt.yticks([0,0.1,0.2,0.3,0.4,0.5,0.6,0.7,0.8,0.9,1,1.1,1.2])\n",
    "    plt.xticks(ticks=ITx_indexes, labels=temp_i)#, rotation=15)\n",
    "\n",
    "    plt.legend()\n",
    "    plt.tight_layout()\n",
    "\n",
    "    #plt.savefig(i.split('.')[0] + '_' + a + '_2017_dif_periods_hour_BAR.png')\n",
    "#plt.show()"
   ]
  },
  {
   "cell_type": "markdown",
   "id": "30df1ed1",
   "metadata": {},
   "source": [
    "\n"
   ]
  },
  {
   "cell_type": "markdown",
   "id": "8521bf6d",
   "metadata": {},
   "source": [
    "\n"
   ]
  },
  {
   "cell_type": "code",
   "execution_count": null,
   "id": "5db73b53",
   "metadata": {
    "scrolled": true
   },
   "outputs": [],
   "source": [
    "# GRAPH = BAR PLOT, HOURLY COST --> PRES\n",
    "\n",
    "Instances = ['c3.large', 'c3.xlarge', 'c3.2xlarge', 'c3.4xlarge', 'c3.8xlarge'] #choose what you want\n",
    "OS = ['Linux/UNIX'] #choose what you want\n",
    "AZ = ['us-east-1c'] #choose what you want\n",
    "\n",
    "temp_i = []\n",
    "temp_vh_2 = []\n",
    "\n",
    "for o in OS:\n",
    "    temp = df5_jul[df5_jul.os == o]\n",
    "\n",
    "    temp_vh_3 = []\n",
    "    \n",
    "    for i in Instances:\n",
    "        temp1 = temp[temp.instance == i]\n",
    "        \n",
    "        temp_vh_4 = []\n",
    "            \n",
    "        for a in AZ:\n",
    "            temp2 = temp1[temp1.zone == a]\n",
    "            \n",
    "            x = temp2['price'].values\n",
    "            y = temp2['time'].values\n",
    "            ts = pd.Series(x,y)\n",
    "            \n",
    "            v = ts.integrate().round(4)\n",
    "\n",
    "            print('The total cost per hour you would have to pay for having the ' + i +\n",
    "                  ' VM over the first time period' + \"\\n\" + 'within the ' + a + ' availability zone and the ' + o +\n",
    "                  ' operating system is:')\n",
    "            vh = (v/744).round(4)\n",
    "            print(vh)\n",
    "            print(' ')\n",
    "            \n",
    "            temp_vh_2.append(vh)\n",
    "            \n",
    "for o in OS:\n",
    "    temp3 = df5_aug[df5_aug.os == o]\n",
    "\n",
    "    for i in Instances:\n",
    "        temp4 = temp3[temp3.instance == i]\n",
    "            \n",
    "        for a in AZ:\n",
    "            temp5 = temp4[temp4.zone == a]\n",
    "            \n",
    "            x = temp5['price'].values\n",
    "            y = temp5['time'].values\n",
    "            ts = pd.Series(x,y)\n",
    "            \n",
    "            v = ts.integrate().round(4)\n",
    "\n",
    "            print('The total cost per hour you would have to pay for having the ' + i +\n",
    "                  ' VM over the second time period' + \"\\n\" + 'within the ' + a + ' availability zone and the ' + o +\n",
    "                  ' operating system is:')\n",
    "            #vh = (v/744).round(4)\n",
    "            vh = (v/432).round(4) #STARTS IN MID AUGUST\n",
    "            print(vh)\n",
    "            print(' ')\n",
    "            \n",
    "            temp_vh_3.append(vh)\n",
    "            \n",
    "for o in OS:\n",
    "    temp6 = df5_sept[df5_sept.os == o]\n",
    "\n",
    "    for i in Instances:\n",
    "        temp7 = temp6[temp6.instance == i]\n",
    "            \n",
    "        for a in AZ:\n",
    "            temp8 = temp7[temp7.zone == a]\n",
    "            \n",
    "            x = temp8['price'].values\n",
    "            y = temp8['time'].values\n",
    "            ts = pd.Series(x,y)\n",
    "            \n",
    "            v = ts.integrate().round(4)\n",
    "\n",
    "            print('The total cost per hour you would have to pay for having the ' + i +\n",
    "                  ' VM over the third time period' + \"\\n\" + 'within the ' + a + ' availability zone and the ' + o +\n",
    "                  ' operating system is:')\n",
    "            vh = (v/720).round(4)\n",
    "            print(vh)\n",
    "            print(' ')\n",
    "            \n",
    "            temp_i.append(i)\n",
    "            temp_vh_4.append(vh)\n",
    "    \n",
    "    plt.style.use('seaborn-poster')\n",
    "    \n",
    "    ITx_indexes = np.arange(len(temp_i))\n",
    "    width = 0.25 \n",
    "    \n",
    "    plt.bar(ITx_indexes-width, temp_vh_2, width=width, label = '07/01/2017 -  07/31/2017', color = '#2222b5')\n",
    "    plt.bar(ITx_indexes, temp_vh_3, width=width, label = '08/01/2017 -  08/31/2017', color = '#22a358')\n",
    "    plt.bar(ITx_indexes+width, temp_vh_4, width=width, label = '09/01/2017 -  09/30/2017', color = '#cf1717')\n",
    "            \n",
    "    plt.title('Hourly Price for ' + i.split('.')[0] +\n",
    "        ' Instance Types Right BEFORE the 2017 Change Over Specific Time' + \"\\n\" + 'Periods Across the ' + a +\n",
    "        ' Availability Zone and ' + o + ' Operating Systems', fontsize=20)\n",
    "    plt.ylabel('Total Cost (USD)', fontsize=25)\n",
    "    plt.yticks([0,0.05,0.1,0.15,0.2,0.25,0.3,0.35,0.4,0.45,0.5,0.55,0.6,0.65], fontsize=20)\n",
    "    plt.xticks(ticks=ITx_indexes, labels=temp_i, fontsize=20)#, rotation=15)\n",
    "\n",
    "    plt.legend(prop={\"size\":20})\n",
    "    plt.tight_layout()\n",
    "\n",
    "    plt.savefig(i.split('.')[0] + '_' + a + '_2017_dif_periods_hour_PRESmod.png')\n",
    "plt.show()"
   ]
  },
  {
   "cell_type": "markdown",
   "id": "30fc7ace",
   "metadata": {},
   "source": [
    "\n"
   ]
  },
  {
   "cell_type": "markdown",
   "id": "6e01ae47",
   "metadata": {},
   "source": [
    "\n"
   ]
  },
  {
   "cell_type": "markdown",
   "id": "4235d0af",
   "metadata": {},
   "source": [
    "#### Cost Per Hour for 2018 Data"
   ]
  },
  {
   "cell_type": "code",
   "execution_count": null,
   "id": "fd4759fb",
   "metadata": {},
   "outputs": [],
   "source": [
    "df11_jan = df11.loc[(df11['time'] >= '2018-01-01') & (df11['time'] < '2018-02-01')] #first time period (all of Jan)\n",
    "df11_feb = df11.loc[(df11['time'] >= '2018-02-01') & (df11['time'] < '2018-03-01')] #second time period (all of Feb)\n",
    "df11_mar = df11.loc[(df11['time'] >= '2018-03-01')] # third time period (all of March)"
   ]
  },
  {
   "cell_type": "code",
   "execution_count": null,
   "id": "9dd58dfe",
   "metadata": {
    "scrolled": true
   },
   "outputs": [],
   "source": [
    "# GRAPH = BAR PLOT, HOURLY COST\n",
    "\n",
    "Instances = ['x1e.xlarge', 'x1e.2xlarge', 'x1e.4xlarge', 'x1e.8xlarge', 'x1e.16xlarge', 'x1e.32xlarge'] #choose what you want\n",
    "OS = ['Linux/UNIX'] #choose what you want\n",
    "AZ = ['us-east-1f'] #choose what you want\n",
    "\n",
    "temp_i = []\n",
    "temp_vh_2 = []\n",
    "\n",
    "for o in OS:\n",
    "    temp = df11_jan[df11_jan.os == o]\n",
    "\n",
    "    temp_vh_3 = []\n",
    "    \n",
    "    for i in Instances:\n",
    "        temp1 = temp[temp.instance == i]\n",
    "        \n",
    "        temp_vh_4 = []\n",
    "            \n",
    "        for a in AZ:\n",
    "            temp2 = temp1[temp1.zone == a]\n",
    "            \n",
    "            x = temp2['price'].values\n",
    "            y = temp2['time'].values\n",
    "            ts = pd.Series(x,y)\n",
    "            \n",
    "            v = ts.integrate().round(4)\n",
    "\n",
    "            print('The total cost per hour you would have to pay for having the ' + i +\n",
    "                  ' VM over the first time period' + \"\\n\" + 'within the ' + a + ' availability zone and the ' + o +\n",
    "                  ' operating system is:')\n",
    "            vh = (v/744).round(4)\n",
    "            print(vh)\n",
    "            print(' ')\n",
    "            \n",
    "            temp_vh_2.append(vh)\n",
    "            \n",
    "for o in OS:\n",
    "    temp3 = df11_feb[df11_feb.os == o]\n",
    "\n",
    "    for i in Instances:\n",
    "        temp4 = temp3[temp3.instance == i]\n",
    "            \n",
    "        for a in AZ:\n",
    "            temp5 = temp4[temp4.zone == a]\n",
    "            \n",
    "            x = temp5['price'].values\n",
    "            y = temp5['time'].values\n",
    "            ts = pd.Series(x,y)\n",
    "            \n",
    "            v = ts.integrate().round(4)\n",
    "\n",
    "            print('The total cost per hour you would have to pay for having the ' + i +\n",
    "                  ' VM over the second time period' + \"\\n\" + 'within the ' + a + ' availability zone and the ' + o +\n",
    "                  ' operating system is:')\n",
    "            vh = (v/672).round(4)\n",
    "            print(vh)\n",
    "            print(' ')\n",
    "            \n",
    "            temp_vh_3.append(vh)\n",
    "            \n",
    "for o in OS:\n",
    "    temp6 = df11_mar[df11_mar.os == o]\n",
    "\n",
    "    for i in Instances:\n",
    "        temp7 = temp6[temp6.instance == i]\n",
    "            \n",
    "        for a in AZ:\n",
    "            temp8 = temp7[temp7.zone == a]\n",
    "            \n",
    "            x = temp8['price'].values\n",
    "            y = temp8['time'].values\n",
    "            ts = pd.Series(x,y)\n",
    "            \n",
    "            v = ts.integrate().round(4)\n",
    "\n",
    "            print('The total cost per hour you would have to pay for having the ' + i +\n",
    "                  ' VM over the third time period' + \"\\n\" + 'within the ' + a + ' availability zone and the ' + o +\n",
    "                  ' operating system is:')\n",
    "            vh = (v/744).round(4)\n",
    "            print(vh)\n",
    "            print(' ')\n",
    "            \n",
    "            temp_i.append(i)\n",
    "            temp_vh_4.append(vh)\n",
    "    \n",
    "    plt.style.use('seaborn')\n",
    "    \n",
    "    ITx_indexes = np.arange(len(temp_i))\n",
    "    width = 0.25 \n",
    "    \n",
    "    plt.bar(ITx_indexes-width, temp_vh_2, width=width, label = '01/01/2018 -  01/31/2018')\n",
    "    plt.bar(ITx_indexes, temp_vh_3, width=width, label = '02/01/2018 -  02/28/2018')\n",
    "    plt.bar(ITx_indexes+width, temp_vh_4, width=width, label = '03/01/2018 -  03/31/2018')\n",
    "            \n",
    "    plt.title('Hourly Price for ' + i.split('.')[0] +\n",
    "        ' Instance Types Right AFTER the 2017 Change Over Specific Time' + \"\\n\" + 'Periods Across the ' + a +\n",
    "        ' Availability Zone and ' + o + ' Operating Systems')\n",
    "    plt.ylabel('Total Cost (USD)')\n",
    "    #plt.yticks([0,0.1,0.2,0.3,0.4,0.5,0.6,0.7,0.8,0.9,1,1.1,1.2,1.3])\n",
    "    plt.xticks(ticks=ITx_indexes, labels=temp_i)#, rotation=15)\n",
    "\n",
    "    plt.legend()\n",
    "    plt.tight_layout()\n",
    "\n",
    "    #plt.savefig(i.split('.')[0] + '_' + a + '_2018_dif_periods_hour_BAR.png')\n",
    "#plt.show()"
   ]
  },
  {
   "cell_type": "markdown",
   "id": "a8308435",
   "metadata": {},
   "source": [
    "\n"
   ]
  },
  {
   "cell_type": "markdown",
   "id": "d6355b41",
   "metadata": {},
   "source": [
    "\n"
   ]
  },
  {
   "cell_type": "code",
   "execution_count": null,
   "id": "4efc23b7",
   "metadata": {
    "scrolled": true
   },
   "outputs": [],
   "source": [
    "# GRAPH = BAR PLOT, HOURLY COST --> PRES\n",
    "\n",
    "Instances = ['c5.large', 'c5.xlarge', 'c5.2xlarge', 'c5.4xlarge', 'c5.9xlarge', 'c5.18xlarge'] #choose what you want\n",
    "OS = ['Linux/UNIX'] #choose what you want\n",
    "AZ = ['us-east-1c'] #choose what you want\n",
    "\n",
    "temp_i = []\n",
    "temp_vh_2 = []\n",
    "\n",
    "for o in OS:\n",
    "    temp = df11_jan[df11_jan.os == o]\n",
    "\n",
    "    temp_vh_3 = []\n",
    "    \n",
    "    for i in Instances:\n",
    "        temp1 = temp[temp.instance == i]\n",
    "        \n",
    "        temp_vh_4 = []\n",
    "            \n",
    "        for a in AZ:\n",
    "            temp2 = temp1[temp1.zone == a]\n",
    "            \n",
    "            x = temp2['price'].values\n",
    "            y = temp2['time'].values\n",
    "            ts = pd.Series(x,y)\n",
    "            \n",
    "            v = ts.integrate().round(4)\n",
    "\n",
    "            print('The total cost per hour you would have to pay for having the ' + i +\n",
    "                  ' VM over the first time period' + \"\\n\" + 'within the ' + a + ' availability zone and the ' + o +\n",
    "                  ' operating system is:')\n",
    "            vh = (v/744).round(4)\n",
    "            print(vh)\n",
    "            print(' ')\n",
    "            \n",
    "            temp_vh_2.append(vh)\n",
    "            \n",
    "for o in OS:\n",
    "    temp3 = df11_feb[df11_feb.os == o]\n",
    "\n",
    "    for i in Instances:\n",
    "        temp4 = temp3[temp3.instance == i]\n",
    "            \n",
    "        for a in AZ:\n",
    "            temp5 = temp4[temp4.zone == a]\n",
    "            \n",
    "            x = temp5['price'].values\n",
    "            y = temp5['time'].values\n",
    "            ts = pd.Series(x,y)\n",
    "            \n",
    "            v = ts.integrate().round(4)\n",
    "\n",
    "            print('The total cost per hour you would have to pay for having the ' + i +\n",
    "                  ' VM over the second time period' + \"\\n\" + 'within the ' + a + ' availability zone and the ' + o +\n",
    "                  ' operating system is:')\n",
    "            vh = (v/672).round(4)\n",
    "            print(vh)\n",
    "            print(' ')\n",
    "            \n",
    "            temp_vh_3.append(vh)\n",
    "            \n",
    "for o in OS:\n",
    "    temp6 = df11_mar[df11_mar.os == o]\n",
    "\n",
    "    for i in Instances:\n",
    "        temp7 = temp6[temp6.instance == i]\n",
    "            \n",
    "        for a in AZ:\n",
    "            temp8 = temp7[temp7.zone == a]\n",
    "            \n",
    "            x = temp8['price'].values\n",
    "            y = temp8['time'].values\n",
    "            ts = pd.Series(x,y)\n",
    "            \n",
    "            v = ts.integrate().round(4)\n",
    "\n",
    "            print('The total cost per hour you would have to pay for having the ' + i +\n",
    "                  ' VM over the third time period' + \"\\n\" + 'within the ' + a + ' availability zone and the ' + o +\n",
    "                  ' operating system is:')\n",
    "            vh = (v/744).round(4)\n",
    "            print(vh)\n",
    "            print(' ')\n",
    "            \n",
    "            temp_i.append(i)\n",
    "            temp_vh_4.append(vh)\n",
    "    \n",
    "    plt.style.use('seaborn-poster')\n",
    "    \n",
    "    ITx_indexes = np.arange(len(temp_i))\n",
    "    width = 0.25 \n",
    "    \n",
    "    plt.bar(ITx_indexes-width, temp_vh_2, width=width, label = '01/01/2018 -  01/31/2018', color = '#2222b5')\n",
    "    plt.bar(ITx_indexes, temp_vh_3, width=width, label = '02/01/2018 -  02/28/2018', color = '#22a358')\n",
    "    plt.bar(ITx_indexes+width, temp_vh_4, width=width, label = '03/01/2018 -  03/31/2018', color = '#cf1717')\n",
    "            \n",
    "    plt.title('Hourly Price for ' + i.split('.')[0] +\n",
    "        ' Instance Types Right AFTER the 2017 Change Over Specific Time' + \"\\n\" + 'Periods Across the ' + a +\n",
    "        ' Availability Zone and ' + o + ' Operating Systems', fontsize=22)\n",
    "    plt.ylabel('Total Cost (USD)')\n",
    "    plt.yticks([0,0.1,0.2,0.3,0.4,0.5,0.6,0.7,0.8,0.9,1,1.1,1.2,1.3], fontsize=20)\n",
    "    plt.xticks(ticks=ITx_indexes, labels=temp_i, fontsize=20)#, rotation=10)\n",
    "\n",
    "    plt.legend(prop={\"size\":20})\n",
    "    plt.tight_layout()\n",
    "\n",
    "    plt.savefig(i.split('.')[0] + '_' + a + '_2018_dif_periods_hour_PRESmod.png')\n",
    "plt.show()"
   ]
  },
  {
   "cell_type": "markdown",
   "id": "b6ad6eec",
   "metadata": {},
   "source": [
    "\n"
   ]
  },
  {
   "cell_type": "markdown",
   "id": "e959159e",
   "metadata": {},
   "source": [
    "\n"
   ]
  },
  {
   "cell_type": "markdown",
   "id": "c426c40e",
   "metadata": {},
   "source": [
    "#### Pricing Events Frequency"
   ]
  },
  {
   "cell_type": "code",
   "execution_count": null,
   "id": "81e73d9f",
   "metadata": {},
   "outputs": [],
   "source": [
    "def get_events(PEF):\n",
    "    events = 0\n",
    "    for k in tqdm(range(1,PEF['instance'].size)):\n",
    "        if PEF.price.values[k-1] != PEF.price.values[k]:\n",
    "            #events += 1\n",
    "            events = events + 1\n",
    "    return(events)"
   ]
  },
  {
   "cell_type": "markdown",
   "id": "cf3e39bb",
   "metadata": {},
   "source": [
    "\n"
   ]
  },
  {
   "cell_type": "code",
   "execution_count": null,
   "id": "25843a50",
   "metadata": {},
   "outputs": [],
   "source": [
    "def timestamp(Matt):\n",
    "    return(np.int64((pd.to_datetime(Matt.time)))/1000000000)"
   ]
  },
  {
   "cell_type": "markdown",
   "id": "ed1e4504",
   "metadata": {},
   "source": [
    "\n"
   ]
  },
  {
   "cell_type": "code",
   "execution_count": null,
   "id": "ff5ee3b2",
   "metadata": {},
   "outputs": [],
   "source": [
    "def midnights(guy):\n",
    "    temp = timestamp(guy)\n",
    "    temp1 = []\n",
    "    \n",
    "    temp1.append(86400*math.ceil(temp[0]/86400))\n",
    "    temp1.append(86400*math.floor(temp[-1]/86400))\n",
    "    \n",
    "    return(temp1)\n",
    "        \n",
    "# gives timestamp of first and last midnight"
   ]
  },
  {
   "cell_type": "markdown",
   "id": "b308c9af",
   "metadata": {},
   "source": [
    "\n"
   ]
  },
  {
   "cell_type": "markdown",
   "id": "8bc09b55",
   "metadata": {},
   "source": [
    "##### 2017"
   ]
  },
  {
   "cell_type": "code",
   "execution_count": null,
   "id": "188939b9",
   "metadata": {},
   "outputs": [],
   "source": [
    "# 2017, c4, us-east-1a\n",
    "\n",
    "c4l_2017_1a = df16[(df16['instance'] == 'c4.large') & (df16['zone'] == 'us-east-1a')]\n",
    "c4x_2017_1a = df16[(df16['instance'] == 'c4.xlarge') & (df16['zone'] == 'us-east-1a')]\n",
    "c42x_2017_1a = df16[(df16['instance'] == 'c4.2xlarge') & (df16['zone'] == 'us-east-1a')]\n",
    "c44x_2017_1a = df16[(df16['instance'] == 'c4.4xlarge') & (df16['zone'] == 'us-east-1a')]\n",
    "c48x_2017_1a = df16[(df16['instance'] == 'c4.8xlarge') & (df16['zone'] == 'us-east-1a')]"
   ]
  },
  {
   "cell_type": "code",
   "execution_count": null,
   "id": "c0f958ea",
   "metadata": {},
   "outputs": [],
   "source": [
    "# 2017, m4, us-east-1a\n",
    "\n",
    "m4l_2017_1a = df16[(df16['instance'] == 'm4.large') & (df16['zone'] == 'us-east-1a')]\n",
    "m4x_2017_1a = df16[(df16['instance'] == 'm4.xlarge') & (df16['zone'] == 'us-east-1a')]\n",
    "m42x_2017_1a = df16[(df16['instance'] == 'm4.2xlarge') & (df16['zone'] == 'us-east-1a')]\n",
    "m44x_2017_1a = df16[(df16['instance'] == 'm4.4xlarge') & (df16['zone'] == 'us-east-1a')]\n",
    "m410x_2017_1a = df16[(df16['instance'] == 'm4.10xlarge') & (df16['zone'] == 'us-east-1a')]\n",
    "m416x_2017_1a = df16[(df16['instance'] == 'm4.16xlarge') & (df16['zone'] == 'us-east-1a')]"
   ]
  },
  {
   "cell_type": "code",
   "execution_count": null,
   "id": "edb99a3e",
   "metadata": {},
   "outputs": [],
   "source": [
    "(df16.loc[df16['instance'].str.contains(\"r4\")])['instance'].unique()"
   ]
  },
  {
   "cell_type": "code",
   "execution_count": null,
   "id": "245f7e27",
   "metadata": {},
   "outputs": [],
   "source": [
    "# 2017, r4, us-east-1a\n",
    "\n",
    "r4l_2017_1a = df16[(df16['instance'] == 'r4.large') & (df16['zone'] == 'us-east-1a')]\n",
    "r4x_2017_1a = df16[(df16['instance'] == 'r4.xlarge') & (df16['zone'] == 'us-east-1a')]\n",
    "r42x_2017_1a = df16[(df16['instance'] == 'r4.2xlarge') & (df16['zone'] == 'us-east-1a')]\n",
    "r44x_2017_1a = df16[(df16['instance'] == 'r4.4xlarge') & (df16['zone'] == 'us-east-1a')]\n",
    "r48x_2017_1a = df16[(df16['instance'] == 'r4.8xlarge') & (df16['zone'] == 'us-east-1a')]\n",
    "r416x_2017_1a = df16[(df16['instance'] == 'r4.16xlarge') & (df16['zone'] == 'us-east-1a')]"
   ]
  },
  {
   "cell_type": "markdown",
   "id": "3968fe3d",
   "metadata": {},
   "source": [
    "\n"
   ]
  },
  {
   "cell_type": "code",
   "execution_count": null,
   "id": "23bac1b9",
   "metadata": {},
   "outputs": [],
   "source": [
    "df_0 = r416x_2017_1a\n",
    "\n",
    "mid = midnights(df_0)\n",
    "\n",
    "temp = timestamp(df_0)\n",
    "\n",
    "df_0.time = temp\n",
    "\n",
    "# ONLY RUN ONCE BEFORE USING LOOP BELOW; change df_0 before running again"
   ]
  },
  {
   "cell_type": "code",
   "execution_count": null,
   "id": "6d03be0a",
   "metadata": {},
   "outputs": [],
   "source": [
    "results = []\n",
    "df = r416x_2017_1a\n",
    "\n",
    "for d in range(mid[0],mid[1],86400):\n",
    "    results.append(df[(df.time >= d) & (df.time < (d + 86400))].time.size)\n",
    "#print(results)\n",
    "    \n",
    "    \n",
    "    \n",
    "xaxis = []\n",
    "\n",
    "for d in range(mid[0],mid[1],86400):\n",
    "    xaxis.append(d*1000000000)\n",
    "xaxis = pd.to_datetime(pd.Series(xaxis))\n",
    "\n",
    "\n",
    "\n",
    "xaxis2 = []\n",
    "\n",
    "for k in xaxis.values:\n",
    "    xaxis2.append(str(k).split(\"T\")[0])\n",
    "#print(xaxis2)\n",
    "\n",
    "\n",
    "\n",
    "plt.style.use('seaborn-poster')\n",
    "\n",
    "plt.plot(xaxis2, results, marker='.', color='k')\n",
    "plt.title('Number of Pricing Events for the r4.16xlarge Instance Type in 2017 (Jul-Sept)' + \"\\n\" +\n",
    "         'Within the us-east-1a Availability Zone and Linux/UNIX Operating Systems')\n",
    "\n",
    "plt.ylabel('Number of Pricing Events')\n",
    "plt.yticks([0,100,200,300,400,500,600,700,800,900,1000])\n",
    "plt.xticks([0,10,20,30,40,50,60,70,80,89], rotation=25)\n",
    "\n",
    "plt.grid()\n",
    "plt.tight_layout()\n",
    "#plt.savefig('r4.16xlarge_PE_1a_2017.png')\n",
    "plt.show()"
   ]
  },
  {
   "cell_type": "markdown",
   "id": "1b8253dc",
   "metadata": {},
   "source": [
    "\n"
   ]
  },
  {
   "cell_type": "markdown",
   "id": "130a3752",
   "metadata": {},
   "source": [
    "##### 2018"
   ]
  },
  {
   "cell_type": "code",
   "execution_count": null,
   "id": "3b990c68",
   "metadata": {},
   "outputs": [],
   "source": [
    "# 2018, c4, us-east-1a\n",
    "\n",
    "c4l_2018_1a = df18[(df18['instance'] == 'c4.large') & (df18['zone'] == 'us-east-1a')]\n",
    "c4x_2018_1a = df18[(df18['instance'] == 'c4.xlarge') & (df18['zone'] == 'us-east-1a')]\n",
    "c42x_2018_1a = df18[(df18['instance'] == 'c4.2xlarge') & (df18['zone'] == 'us-east-1a')]\n",
    "c44x_2018_1a = df18[(df18['instance'] == 'c4.4xlarge') & (df18['zone'] == 'us-east-1a')]\n",
    "c48x_2018_1a = df18[(df18['instance'] == 'c4.8xlarge') & (df18['zone'] == 'us-east-1a')]"
   ]
  },
  {
   "cell_type": "code",
   "execution_count": null,
   "id": "425071fb",
   "metadata": {},
   "outputs": [],
   "source": [
    "# 2018, m4, us-east-1a\n",
    "\n",
    "m4l_2018_1a = df18[(df18['instance'] == 'm4.large') & (df18['zone'] == 'us-east-1a')]\n",
    "m4x_2018_1a = df18[(df18['instance'] == 'm4.xlarge') & (df18['zone'] == 'us-east-1a')]\n",
    "m42x_2018_1a = df18[(df18['instance'] == 'm4.2xlarge') & (df18['zone'] == 'us-east-1a')]\n",
    "m44x_2018_1a = df18[(df18['instance'] == 'm4.4xlarge') & (df18['zone'] == 'us-east-1a')]\n",
    "m410x_2018_1a = df18[(df18['instance'] == 'm4.10xlarge') & (df18['zone'] == 'us-east-1a')]\n",
    "m416x_2018_1a = df18[(df18['instance'] == 'm4.16xlarge') & (df18['zone'] == 'us-east-1a')]"
   ]
  },
  {
   "cell_type": "code",
   "execution_count": null,
   "id": "189b0ded",
   "metadata": {},
   "outputs": [],
   "source": [
    "# 2018, r4, us-east-1a\n",
    "\n",
    "r4l_2018_1a = df18[(df18['instance'] == 'r4.large') & (df18['zone'] == 'us-east-1a')]\n",
    "r4x_2018_1a = df18[(df18['instance'] == 'r4.xlarge') & (df18['zone'] == 'us-east-1a')]\n",
    "r42x_2018_1a = df18[(df18['instance'] == 'r4.2xlarge') & (df18['zone'] == 'us-east-1a')]\n",
    "r44x_2018_1a = df18[(df18['instance'] == 'r4.4xlarge') & (df18['zone'] == 'us-east-1a')]\n",
    "r48x_2018_1a = df18[(df18['instance'] == 'r4.8xlarge') & (df18['zone'] == 'us-east-1a')]\n",
    "r416x_2018_1a = df18[(df18['instance'] == 'r4.16xlarge') & (df18['zone'] == 'us-east-1a')]"
   ]
  },
  {
   "cell_type": "code",
   "execution_count": null,
   "id": "3a703f19",
   "metadata": {},
   "outputs": [],
   "source": [
    "df_0 = r416x_2018_1a\n",
    "\n",
    "mid = midnights(df_0)\n",
    "\n",
    "temp = timestamp(df_0)\n",
    "\n",
    "df_0.time = temp\n",
    "\n",
    "# ONLY RUN ONCE BEFORE USING LOOP BELOW; change df_0 before running again"
   ]
  },
  {
   "cell_type": "code",
   "execution_count": null,
   "id": "7bfed5d1",
   "metadata": {},
   "outputs": [],
   "source": [
    "results = []\n",
    "df = r416x_2018_1a\n",
    "\n",
    "for d in range(mid[0],mid[1],86400):\n",
    "    results.append(df[(df.time >= d) & (df.time < (d + 86400))].time.size)\n",
    "#print(results)\n",
    "    \n",
    "    \n",
    "    \n",
    "xaxis = []\n",
    "\n",
    "for d in range(mid[0],mid[1],86400):\n",
    "    xaxis.append(d*1000000000)\n",
    "xaxis = pd.to_datetime(pd.Series(xaxis))\n",
    "\n",
    "\n",
    "\n",
    "xaxis2 = []\n",
    "\n",
    "for k in xaxis.values:\n",
    "    xaxis2.append(str(k).split(\"T\")[0])\n",
    "#print(xaxis2)\n",
    "\n",
    "\n",
    "\n",
    "plt.style.use('seaborn-poster')\n",
    "\n",
    "plt.plot(xaxis2, results, marker='.', color='k')\n",
    "plt.title('Number of Pricing Events for the r4.16xlarge Instance Type in 2018 (Jan-Mar)' + \"\\n\" +\n",
    "         'Within the us-east-1a Availability Zone and Linux/UNIX Operating Systems')\n",
    "\n",
    "plt.ylabel('Number of Pricing Events')\n",
    "plt.yticks([0,1,2,3,4,5,6,7,8,9,10])\n",
    "plt.xticks([0,10,21,32,43,54,65,76,87], rotation=25)\n",
    "\n",
    "plt.grid()\n",
    "plt.tight_layout()\n",
    "#plt.savefig('r4.16xlarge_PE_1a_2018.png')\n",
    "plt.show()"
   ]
  },
  {
   "cell_type": "markdown",
   "id": "974446a2",
   "metadata": {},
   "source": [
    "\n"
   ]
  },
  {
   "cell_type": "markdown",
   "id": "b16dbcdf",
   "metadata": {},
   "source": [
    "##### 2021"
   ]
  },
  {
   "cell_type": "code",
   "execution_count": null,
   "id": "8cbee4d3",
   "metadata": {},
   "outputs": [],
   "source": [
    "# 2021, c4, us-east-1a\n",
    "\n",
    "c4l_2021_1a = df20[(df20['instance'] == 'c4.large') & (df20['zone'] == 'us-east-1a')]\n",
    "c4x_2021_1a = df20[(df20['instance'] == 'c4.xlarge') & (df20['zone'] == 'us-east-1a')]\n",
    "c42x_2021_1a = df20[(df20['instance'] == 'c4.2xlarge') & (df20['zone'] == 'us-east-1a')]\n",
    "c44x_2021_1a = df20[(df20['instance'] == 'c4.4xlarge') & (df20['zone'] == 'us-east-1a')]\n",
    "c48x_2021_1a = df20[(df20['instance'] == 'c4.8xlarge') & (df20['zone'] == 'us-east-1a')]"
   ]
  },
  {
   "cell_type": "code",
   "execution_count": null,
   "id": "b7f8e77e",
   "metadata": {},
   "outputs": [],
   "source": [
    "# 2021, m4, us-east-1a\n",
    "\n",
    "m4l_2021_1a = df20[(df20['instance'] == 'm4.large') & (df20['zone'] == 'us-east-1a')]\n",
    "m4x_2021_1a = df20[(df20['instance'] == 'm4.xlarge') & (df20['zone'] == 'us-east-1a')]\n",
    "m42x_2021_1a = df20[(df20['instance'] == 'm4.2xlarge') & (df20['zone'] == 'us-east-1a')]\n",
    "m44x_2021_1a = df20[(df20['instance'] == 'm4.4xlarge') & (df20['zone'] == 'us-east-1a')]\n",
    "m410x_2021_1a = df20[(df20['instance'] == 'm4.10xlarge') & (df20['zone'] == 'us-east-1a')]\n",
    "m416x_2021_1a = df20[(df20['instance'] == 'm4.16xlarge') & (df20['zone'] == 'us-east-1a')]"
   ]
  },
  {
   "cell_type": "code",
   "execution_count": null,
   "id": "0aedeb45",
   "metadata": {},
   "outputs": [],
   "source": [
    "(df20.loc[df20['instance'].str.contains(\"r4\")])['instance'].unique()"
   ]
  },
  {
   "cell_type": "code",
   "execution_count": null,
   "id": "204d47f8",
   "metadata": {},
   "outputs": [],
   "source": [
    "# 2021, m4, us-east-1a\n",
    "\n",
    "r4l_2021_1a = df20[(df20['instance'] == 'r4.large') & (df20['zone'] == 'us-east-1a')]\n",
    "r4x_2021_1a = df20[(df20['instance'] == 'r4.xlarge') & (df20['zone'] == 'us-east-1a')]\n",
    "r42x_2021_1a = df20[(df20['instance'] == 'r4.2xlarge') & (df20['zone'] == 'us-east-1a')]\n",
    "r44x_2021_1a = df20[(df20['instance'] == 'r4.4xlarge') & (df20['zone'] == 'us-east-1a')]\n",
    "r48x_2021_1a = df20[(df20['instance'] == 'r4.8xlarge') & (df20['zone'] == 'us-east-1a')]\n",
    "r416x_2021_1a = df20[(df20['instance'] == 'r4.16xlarge') & (df20['zone'] == 'us-east-1a')]"
   ]
  },
  {
   "cell_type": "code",
   "execution_count": null,
   "id": "b49b6191",
   "metadata": {},
   "outputs": [],
   "source": [
    "df_0 = r416x_2021_1a\n",
    "\n",
    "mid = midnights(df_0)\n",
    "\n",
    "temp = timestamp(df_0)\n",
    "\n",
    "df_0.time = temp\n",
    "\n",
    "# ONLY RUN ONCE BEFORE USING LOOP BELOW; change df_0 before running again"
   ]
  },
  {
   "cell_type": "code",
   "execution_count": null,
   "id": "90c79758",
   "metadata": {},
   "outputs": [],
   "source": [
    "results = []\n",
    "df = r416x_2021_1a\n",
    "\n",
    "for d in range(mid[0],mid[1],86400):\n",
    "    results.append(df[(df.time >= d) & (df.time < (d + 86400))].time.size)\n",
    "#print(results)\n",
    "    \n",
    "    \n",
    "    \n",
    "xaxis = []\n",
    "\n",
    "for d in range(mid[0],mid[1],86400):\n",
    "    xaxis.append(d*1000000000)\n",
    "xaxis = pd.to_datetime(pd.Series(xaxis))\n",
    "\n",
    "\n",
    "\n",
    "xaxis2 = []\n",
    "\n",
    "for k in xaxis.values:\n",
    "    xaxis2.append(str(k).split(\"T\")[0])\n",
    "#print(xaxis2)\n",
    "\n",
    "\n",
    "\n",
    "plt.style.use('seaborn-poster')\n",
    "\n",
    "plt.plot(xaxis2, results, marker='.', color='k')\n",
    "plt.title('Number of Pricing Events for the r4.16xlarge Instance Type in 2021 (Mar-May)' + \"\\n\" +\n",
    "         'Within the us-east-1a Availability Zone and Linux/UNIX Operating Systems')\n",
    "\n",
    "plt.ylabel('Number of Pricing Events')\n",
    "plt.yticks([0,1,2,3,4,5,6,7,8,9,10])\n",
    "plt.xticks([0,10,21,32,43,54,65,76,87], rotation=25)\n",
    "\n",
    "plt.grid()\n",
    "plt.tight_layout()\n",
    "#plt.savefig('r4.16xlarge_PE_1a_2021.png')\n",
    "plt.show()"
   ]
  },
  {
   "cell_type": "markdown",
   "id": "5a1bc02c",
   "metadata": {},
   "source": [
    "\n"
   ]
  },
  {
   "cell_type": "markdown",
   "id": "3a6ff28a",
   "metadata": {},
   "source": [
    "\n"
   ]
  },
  {
   "cell_type": "markdown",
   "id": "c5de796b",
   "metadata": {},
   "source": [
    "#### Heat Maps"
   ]
  },
  {
   "cell_type": "code",
   "execution_count": null,
   "id": "5b78a2b7",
   "metadata": {},
   "outputs": [],
   "source": [
    "import seaborn as sns"
   ]
  },
  {
   "cell_type": "code",
   "execution_count": null,
   "id": "d269e9f6",
   "metadata": {},
   "outputs": [],
   "source": [
    "c4l_2017_1a['time'].day"
   ]
  },
  {
   "cell_type": "code",
   "execution_count": null,
   "id": "d0826746",
   "metadata": {},
   "outputs": [],
   "source": []
  },
  {
   "cell_type": "markdown",
   "id": "a3969ea4",
   "metadata": {},
   "source": [
    "#### More Stuff"
   ]
  },
  {
   "cell_type": "code",
   "execution_count": null,
   "id": "c5bf9950",
   "metadata": {},
   "outputs": [],
   "source": [
    "plt.style.use('seaborn-poster')\n",
    "\n",
    "filt1 = df10[(df10['zone'] == 'us-east-1c') & (df10['instance'] == 'c5.xlarge') & (df10['os'] == 'Linux/UNIX')]\n",
    "filt2 = df10[(df10['zone'] == 'us-east-1c') & (df10['instance'] == 'c5.2xlarge') & (df10['os'] == 'Linux/UNIX')]\n",
    "filt3 = df10[(df10['zone'] == 'us-east-1c') & (df10['instance'] == 'm5.xlarge') & (df10['os'] == 'Linux/UNIX')]\n",
    "filt4 = df10[(df10['zone'] == 'us-east-1c') & (df10['instance'] == 'm5.2xlarge') & (df10['os'] == 'Linux/UNIX')]\n",
    "\n",
    "plt.plot_date(filt1['time'], filt1['price'], linestyle='--', marker='.', color='#d41724', label='c5.xlarge')\n",
    "plt.plot_date(filt2['time'], filt2['price'], linestyle='--', marker='.', color='#187d3d', label='c5.2xlarge')\n",
    "plt.plot_date(filt3['time'], filt3['price'], linestyle='--', marker='.', color='#2954ab', label='m5.xlarge')\n",
    "plt.plot_date(filt4['time'], filt4['price'], linestyle='--', marker='.', color='#913cc9', label='m5.2xlarge')\n",
    "\n",
    "plt.gcf().autofmt_xdate()\n",
    "date_format = mpl_dates.DateFormatter('%b %d, %Y')\n",
    "plt.gca().xaxis.set_major_formatter(date_format)\n",
    "\n",
    "plt.title('Time Series Plot of Certain c5 & m5 Instance Types Within the ' + \"\\n\" +\n",
    "          'us-east-1c Availability Zone and Linux/UNIX Products')\n",
    "plt.ylabel('Spot Price (USD)')\n",
    "#plt.ylim(0,1)\n",
    "plt.yticks([0,0.02,0.04,0.06,0.08,0.1,0.12,0.14,0.16,0.18])\n",
    "\n",
    "plt.legend(prop={\"size\":30})\n",
    "plt.tight_layout()\n",
    "plt.savefig('c5m5_1c_2018.png')\n",
    "plt.show()"
   ]
  },
  {
   "cell_type": "code",
   "execution_count": null,
   "id": "697ac0de",
   "metadata": {},
   "outputs": [],
   "source": []
  }
 ],
 "metadata": {
  "kernelspec": {
   "display_name": "Python 3",
   "language": "python",
   "name": "python3"
  },
  "language_info": {
   "codemirror_mode": {
    "name": "ipython",
    "version": 3
   },
   "file_extension": ".py",
   "mimetype": "text/x-python",
   "name": "python",
   "nbconvert_exporter": "python",
   "pygments_lexer": "ipython3",
   "version": "3.9.5"
  }
 },
 "nbformat": 4,
 "nbformat_minor": 5
}
