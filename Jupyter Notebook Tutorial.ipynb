{
 "cells": [
  {
   "cell_type": "markdown",
   "id": "bb9ee4da",
   "metadata": {},
   "source": [
    "# Sample Headline\n",
    "\n",
    "*Note: This text will be italicized.*\n",
    "\n",
    "## Another Headline (2nd Level)\n",
    "\n",
    "This is a normal paragraph. Type whatever you would like.\n",
    "\n",
    "Basic formatting of *italics* and **bold** is supported. This *can be **nested** like* so.\n",
    "\n",
    "### What this notebook shows (3rd Level)\n",
    "\n",
    "1. How to get started with notebooks\n",
    "2. How to execute code\n",
    "3. How to add markdown\n",
    "4. And ... other stuff"
   ]
  },
  {
   "cell_type": "code",
   "execution_count": 1,
   "id": "923e2959",
   "metadata": {},
   "outputs": [
    {
     "name": "stdout",
     "output_type": "stream",
     "text": [
      "Hello World\n"
     ]
    }
   ],
   "source": [
    "print('Hello World')"
   ]
  },
  {
   "cell_type": "code",
   "execution_count": 2,
   "id": "d910131b",
   "metadata": {},
   "outputs": [],
   "source": [
    "name = 'Jamie'"
   ]
  },
  {
   "cell_type": "code",
   "execution_count": 3,
   "id": "54a0e76e",
   "metadata": {},
   "outputs": [
    {
     "data": {
      "text/plain": [
       "'Jamie'"
      ]
     },
     "execution_count": 3,
     "metadata": {},
     "output_type": "execute_result"
    }
   ],
   "source": [
    "name"
   ]
  },
  {
   "cell_type": "code",
   "execution_count": 4,
   "id": "1d2f3da9",
   "metadata": {},
   "outputs": [
    {
     "name": "stdout",
     "output_type": "stream",
     "text": [
      "Package             Version\r\n",
      "------------------- ---------\r\n",
      "anyio               3.1.0\r\n",
      "appnope             0.1.2\r\n",
      "argon2-cffi         20.1.0\r\n",
      "async-generator     1.10\r\n",
      "attrs               21.2.0\r\n",
      "Babel               2.9.1\r\n",
      "backcall            0.2.0\r\n",
      "bleach              3.3.0\r\n",
      "certifi             2021.5.30\r\n",
      "cffi                1.14.5\r\n",
      "chardet             4.0.0\r\n",
      "cycler              0.10.0\r\n",
      "decorator           5.0.9\r\n",
      "defusedxml          0.7.1\r\n",
      "entrypoints         0.3\r\n",
      "et-xmlfile          1.1.0\r\n",
      "greenlet            1.1.0\r\n",
      "idna                2.10\r\n",
      "ipykernel           5.5.5\r\n",
      "ipython             7.24.0\r\n",
      "ipython-genutils    0.2.0\r\n",
      "jedi                0.18.0\r\n",
      "Jinja2              3.0.1\r\n",
      "json5               0.9.5\r\n",
      "jsonschema          3.2.0\r\n",
      "jupyter-client      6.1.12\r\n",
      "jupyter-core        4.7.1\r\n",
      "jupyter-server      1.8.0\r\n",
      "jupyterlab          3.0.16\r\n",
      "jupyterlab-pygments 0.1.2\r\n",
      "jupyterlab-server   2.6.0\r\n",
      "kiwisolver          1.3.1\r\n",
      "MarkupSafe          2.0.1\r\n",
      "matplotlib          3.4.2\r\n",
      "matplotlib-inline   0.1.2\r\n",
      "mistune             0.8.4\r\n",
      "nbclassic           0.3.1\r\n",
      "nbclient            0.5.3\r\n",
      "nbconvert           6.0.7\r\n",
      "nbformat            5.1.3\r\n",
      "nest-asyncio        1.5.1\r\n",
      "notebook            6.4.0\r\n",
      "numpy               1.20.3\r\n",
      "openpyxl            3.0.7\r\n",
      "packaging           20.9\r\n",
      "pandas              1.2.4\r\n",
      "pandocfilters       1.4.3\r\n",
      "parso               0.8.2\r\n",
      "pexpect             4.8.0\r\n",
      "pickleshare         0.7.5\r\n",
      "Pillow              8.2.0\r\n",
      "pip                 21.1.2\r\n",
      "prometheus-client   0.11.0\r\n",
      "prompt-toolkit      3.0.18\r\n",
      "psycopg2-binary     2.8.6\r\n",
      "ptyprocess          0.7.0\r\n",
      "pycparser           2.20\r\n",
      "Pygments            2.9.0\r\n",
      "pyparsing           2.4.7\r\n",
      "pyrsistent          0.17.3\r\n",
      "python-dateutil     2.8.1\r\n",
      "pytz                2021.1\r\n",
      "pyzmq               22.1.0\r\n",
      "requests            2.25.1\r\n",
      "Send2Trash          1.5.0\r\n",
      "setuptools          56.0.0\r\n",
      "six                 1.16.0\r\n",
      "sniffio             1.2.0\r\n",
      "SQLAlchemy          1.4.17\r\n",
      "terminado           0.10.0\r\n",
      "testpath            0.5.0\r\n",
      "tornado             6.1\r\n",
      "traitlets           5.0.5\r\n",
      "urllib3             1.26.5\r\n",
      "wcwidth             0.2.5\r\n",
      "webencodings        0.5.1\r\n",
      "websocket-client    1.0.1\r\n",
      "xlrd                2.0.1\r\n",
      "xlwt                1.3.0\r\n"
     ]
    }
   ],
   "source": [
    "!pip3 list #! is interpreted as a bash command"
   ]
  },
  {
   "cell_type": "code",
   "execution_count": 5,
   "id": "cfea1540",
   "metadata": {},
   "outputs": [
    {
     "data": {
      "application/json": {
       "cell": {
        "!": "OSMagics",
        "HTML": "Other",
        "SVG": "Other",
        "bash": "Other",
        "capture": "ExecutionMagics",
        "debug": "ExecutionMagics",
        "file": "Other",
        "html": "DisplayMagics",
        "javascript": "DisplayMagics",
        "js": "DisplayMagics",
        "latex": "DisplayMagics",
        "markdown": "DisplayMagics",
        "perl": "Other",
        "prun": "ExecutionMagics",
        "pypy": "Other",
        "python": "Other",
        "python2": "Other",
        "python3": "Other",
        "ruby": "Other",
        "script": "ScriptMagics",
        "sh": "Other",
        "svg": "DisplayMagics",
        "sx": "OSMagics",
        "system": "OSMagics",
        "time": "ExecutionMagics",
        "timeit": "ExecutionMagics",
        "writefile": "OSMagics"
       },
       "line": {
        "alias": "OSMagics",
        "alias_magic": "BasicMagics",
        "autoawait": "AsyncMagics",
        "autocall": "AutoMagics",
        "automagic": "AutoMagics",
        "autosave": "KernelMagics",
        "bookmark": "OSMagics",
        "cat": "Other",
        "cd": "OSMagics",
        "clear": "KernelMagics",
        "colors": "BasicMagics",
        "conda": "PackagingMagics",
        "config": "ConfigMagics",
        "connect_info": "KernelMagics",
        "cp": "Other",
        "debug": "ExecutionMagics",
        "dhist": "OSMagics",
        "dirs": "OSMagics",
        "doctest_mode": "BasicMagics",
        "ed": "Other",
        "edit": "KernelMagics",
        "env": "OSMagics",
        "gui": "BasicMagics",
        "hist": "Other",
        "history": "HistoryMagics",
        "killbgscripts": "ScriptMagics",
        "ldir": "Other",
        "less": "KernelMagics",
        "lf": "Other",
        "lk": "Other",
        "ll": "Other",
        "load": "CodeMagics",
        "load_ext": "ExtensionMagics",
        "loadpy": "CodeMagics",
        "logoff": "LoggingMagics",
        "logon": "LoggingMagics",
        "logstart": "LoggingMagics",
        "logstate": "LoggingMagics",
        "logstop": "LoggingMagics",
        "ls": "Other",
        "lsmagic": "BasicMagics",
        "lx": "Other",
        "macro": "ExecutionMagics",
        "magic": "BasicMagics",
        "man": "KernelMagics",
        "matplotlib": "PylabMagics",
        "mkdir": "Other",
        "more": "KernelMagics",
        "mv": "Other",
        "notebook": "BasicMagics",
        "page": "BasicMagics",
        "pastebin": "CodeMagics",
        "pdb": "ExecutionMagics",
        "pdef": "NamespaceMagics",
        "pdoc": "NamespaceMagics",
        "pfile": "NamespaceMagics",
        "pinfo": "NamespaceMagics",
        "pinfo2": "NamespaceMagics",
        "pip": "PackagingMagics",
        "popd": "OSMagics",
        "pprint": "BasicMagics",
        "precision": "BasicMagics",
        "prun": "ExecutionMagics",
        "psearch": "NamespaceMagics",
        "psource": "NamespaceMagics",
        "pushd": "OSMagics",
        "pwd": "OSMagics",
        "pycat": "OSMagics",
        "pylab": "PylabMagics",
        "qtconsole": "KernelMagics",
        "quickref": "BasicMagics",
        "recall": "HistoryMagics",
        "rehashx": "OSMagics",
        "reload_ext": "ExtensionMagics",
        "rep": "Other",
        "rerun": "HistoryMagics",
        "reset": "NamespaceMagics",
        "reset_selective": "NamespaceMagics",
        "rm": "Other",
        "rmdir": "Other",
        "run": "ExecutionMagics",
        "save": "CodeMagics",
        "sc": "OSMagics",
        "set_env": "OSMagics",
        "store": "StoreMagics",
        "sx": "OSMagics",
        "system": "OSMagics",
        "tb": "ExecutionMagics",
        "time": "ExecutionMagics",
        "timeit": "ExecutionMagics",
        "unalias": "OSMagics",
        "unload_ext": "ExtensionMagics",
        "who": "NamespaceMagics",
        "who_ls": "NamespaceMagics",
        "whos": "NamespaceMagics",
        "xdel": "NamespaceMagics",
        "xmode": "BasicMagics"
       }
      },
      "text/plain": [
       "Available line magics:\n",
       "%alias  %alias_magic  %autoawait  %autocall  %automagic  %autosave  %bookmark  %cat  %cd  %clear  %colors  %conda  %config  %connect_info  %cp  %debug  %dhist  %dirs  %doctest_mode  %ed  %edit  %env  %gui  %hist  %history  %killbgscripts  %ldir  %less  %lf  %lk  %ll  %load  %load_ext  %loadpy  %logoff  %logon  %logstart  %logstate  %logstop  %ls  %lsmagic  %lx  %macro  %magic  %man  %matplotlib  %mkdir  %more  %mv  %notebook  %page  %pastebin  %pdb  %pdef  %pdoc  %pfile  %pinfo  %pinfo2  %pip  %popd  %pprint  %precision  %prun  %psearch  %psource  %pushd  %pwd  %pycat  %pylab  %qtconsole  %quickref  %recall  %rehashx  %reload_ext  %rep  %rerun  %reset  %reset_selective  %rm  %rmdir  %run  %save  %sc  %set_env  %store  %sx  %system  %tb  %time  %timeit  %unalias  %unload_ext  %who  %who_ls  %whos  %xdel  %xmode\n",
       "\n",
       "Available cell magics:\n",
       "%%!  %%HTML  %%SVG  %%bash  %%capture  %%debug  %%file  %%html  %%javascript  %%js  %%latex  %%markdown  %%perl  %%prun  %%pypy  %%python  %%python2  %%python3  %%ruby  %%script  %%sh  %%svg  %%sx  %%system  %%time  %%timeit  %%writefile\n",
       "\n",
       "Automagic is ON, % prefix IS NOT needed for line magics."
      ]
     },
     "execution_count": 5,
     "metadata": {},
     "output_type": "execute_result"
    }
   ],
   "source": [
    "%lsmagic #lists available line magics and cell magics"
   ]
  },
  {
   "cell_type": "code",
   "execution_count": 6,
   "id": "62be2a90",
   "metadata": {},
   "outputs": [
    {
     "data": {
      "text/plain": [
       "'/Users/jamieloring/Desktop/BigDataX/Project/Pandas-Demo'"
      ]
     },
     "execution_count": 6,
     "metadata": {},
     "output_type": "execute_result"
    }
   ],
   "source": [
    "%pwd #prints out the current working directory"
   ]
  },
  {
   "cell_type": "code",
   "execution_count": 7,
   "id": "7f822cc5",
   "metadata": {},
   "outputs": [
    {
     "name": "stdout",
     "output_type": "stream",
     "text": [
      "ETH_1h.csv\r\n",
      "Jupyter Notebook Tutorial.ipynb\r\n",
      "Pandas Demo.ipynb\r\n",
      "Screen Shot 2021-06-02 at 11.46.22 AM.png\r\n",
      "Snippets.ipynb\r\n",
      "\u001b[34mdata2019\u001b[m\u001b[m/\r\n"
     ]
    }
   ],
   "source": [
    "%ls #lists all files in pwd"
   ]
  },
  {
   "cell_type": "code",
   "execution_count": 8,
   "id": "cb0ef0ff",
   "metadata": {},
   "outputs": [
    {
     "name": "stdout",
     "output_type": "stream",
     "text": [
      "total 5976\r\n",
      "drwxr-xr-x@ 10 jamieloring  staff      320 Jun  4 11:22 \u001b[34m.\u001b[m\u001b[m/\r\n",
      "drwxr-xr-x@ 19 jamieloring  staff      608 Jun  4 11:21 \u001b[34m..\u001b[m\u001b[m/\r\n",
      "-rw-r--r--@  1 jamieloring  staff     6148 Jun  3 18:11 .DS_Store\r\n",
      "drwxr-xr-x@  5 jamieloring  staff      160 Jun  4 11:21 \u001b[34m.ipynb_checkpoints\u001b[m\u001b[m/\r\n",
      "-rw-r--r--@  1 jamieloring  staff  1503850 Jun  3 18:11 ETH_1h.csv\r\n",
      "-rw-r--r--   1 jamieloring  staff     5428 Jun  4 11:22 Jupyter Notebook Tutorial.ipynb\r\n",
      "-rw-r--r--   1 jamieloring  staff  1334736 Jun  4 11:07 Pandas Demo.ipynb\r\n",
      "-rw-r--r--@  1 jamieloring  staff    74933 Jun  2 11:46 Screen Shot 2021-06-02 at 11.46.22 AM.png\r\n",
      "-rw-r--r--   1 jamieloring  staff   119832 Jun  4 11:07 Snippets.ipynb\r\n",
      "drwxr-xr-x@ 10 jamieloring  staff      320 Jun  4 11:01 \u001b[34mdata2019\u001b[m\u001b[m/\r\n"
     ]
    }
   ],
   "source": [
    "%ls -la #lists more files (this and above are similar to bash commands)"
   ]
  },
  {
   "cell_type": "code",
   "execution_count": 9,
   "id": "f09fe676",
   "metadata": {},
   "outputs": [],
   "source": [
    "%matplotlib inline #allows matplotlib charts to be executed within our notebook"
   ]
  },
  {
   "cell_type": "code",
   "execution_count": 10,
   "id": "68d6bac2",
   "metadata": {},
   "outputs": [
    {
     "data": {
      "image/png": "[encoded data removed]",
      "text/plain": [
       "<Figure size 432x288 with 1 Axes>"
      ]
     },
     "metadata": {
      "needs_background": "light"
     },
     "output_type": "display_data"
    }
   ],
   "source": [
    "\"\"\"\n",
    "Simple demo of a scatter plot.\n",
    "\"\"\"\n",
    "import numpy as np\n",
    "import matplotlib.pyplot as plt\n",
    "\n",
    "N = 50\n",
    "x = np.random.rand(N)\n",
    "y = np.random.rand(N)\n",
    "colors = np.random.rand(N)\n",
    "area = np.pi * (15 * np.random.rand(N)**2) #0 to 15 point radiuses\n",
    "\n",
    "plt.scatter(x,y,s=area,c=colors,alpha=0.5)\n",
    "plt.show()"
   ]
  },
  {
   "cell_type": "code",
   "execution_count": 12,
   "id": "73001674",
   "metadata": {},
   "outputs": [
    {
     "data": {
      "text/html": [
       "<iframe width=\"560\" height=\"315\" src=\"https://www.youtube.com/watch?v=HW29067qVWk\" frameborder=\"0\" allowfullscreen></iframe>\n"
      ],
      "text/plain": [
       "<IPython.core.display.HTML object>"
      ]
     },
     "metadata": {},
     "output_type": "display_data"
    }
   ],
   "source": [
    "%%HTML\n",
    "<iframe width=\"560\" height=\"315\" src=\"https://www.youtube.com/watch?v=HW29067qVWk\" frameborder=\"0\" allowfullscreen></iframe>\n",
    "#(attempts to) embed an iframe"
   ]
  },
  {
   "cell_type": "code",
   "execution_count": 13,
   "id": "8526ecb3",
   "metadata": {},
   "outputs": [
    {
     "name": "stdout",
     "output_type": "stream",
     "text": [
      "96.6 µs ± 5.31 µs per loop (mean ± std. dev. of 7 runs, 10000 loops each)\n"
     ]
    }
   ],
   "source": [
    "%%timeit\n",
    "square_evens = [n*n for n in range(1000)] #prints the time to execute this function"
   ]
  },
  {
   "cell_type": "code",
   "execution_count": 16,
   "id": "6bcb063d",
   "metadata": {},
   "outputs": [
    {
     "data": {
      "text/html": [
       "<div>\n",
       "<style scoped>\n",
       "    .dataframe tbody tr th:only-of-type {\n",
       "        vertical-align: middle;\n",
       "    }\n",
       "\n",
       "    .dataframe tbody tr th {\n",
       "        vertical-align: top;\n",
       "    }\n",
       "\n",
       "    .dataframe thead th {\n",
       "        text-align: right;\n",
       "    }\n",
       "</style>\n",
       "<table border=\"1\" class=\"dataframe\">\n",
       "  <thead>\n",
       "    <tr style=\"text-align: right;\">\n",
       "      <th></th>\n",
       "      <th>0</th>\n",
       "      <th>1</th>\n",
       "      <th>2</th>\n",
       "      <th>3</th>\n",
       "      <th>4</th>\n",
       "    </tr>\n",
       "  </thead>\n",
       "  <tbody>\n",
       "    <tr>\n",
       "      <th>0</th>\n",
       "      <td>2.050499</td>\n",
       "      <td>0.772929</td>\n",
       "      <td>-1.557472</td>\n",
       "      <td>-1.636167</td>\n",
       "      <td>-1.361538</td>\n",
       "    </tr>\n",
       "    <tr>\n",
       "      <th>1</th>\n",
       "      <td>0.417176</td>\n",
       "      <td>-0.086349</td>\n",
       "      <td>0.845105</td>\n",
       "      <td>0.841271</td>\n",
       "      <td>0.661239</td>\n",
       "    </tr>\n",
       "    <tr>\n",
       "      <th>2</th>\n",
       "      <td>-0.494740</td>\n",
       "      <td>-1.271199</td>\n",
       "      <td>-0.724197</td>\n",
       "      <td>-0.011231</td>\n",
       "      <td>2.267593</td>\n",
       "    </tr>\n",
       "    <tr>\n",
       "      <th>3</th>\n",
       "      <td>1.969581</td>\n",
       "      <td>0.474044</td>\n",
       "      <td>-0.504174</td>\n",
       "      <td>1.233606</td>\n",
       "      <td>-0.957009</td>\n",
       "    </tr>\n",
       "    <tr>\n",
       "      <th>4</th>\n",
       "      <td>-2.391195</td>\n",
       "      <td>-0.975674</td>\n",
       "      <td>-0.691271</td>\n",
       "      <td>-1.471592</td>\n",
       "      <td>0.024172</td>\n",
       "    </tr>\n",
       "  </tbody>\n",
       "</table>\n",
       "</div>"
      ],
      "text/plain": [
       "          0         1         2         3         4\n",
       "0  2.050499  0.772929 -1.557472 -1.636167 -1.361538\n",
       "1  0.417176 -0.086349  0.845105  0.841271  0.661239\n",
       "2 -0.494740 -1.271199 -0.724197 -0.011231  2.267593\n",
       "3  1.969581  0.474044 -0.504174  1.233606 -0.957009\n",
       "4 -2.391195 -0.975674 -0.691271 -1.471592  0.024172"
      ]
     },
     "execution_count": 16,
     "metadata": {},
     "output_type": "execute_result"
    }
   ],
   "source": [
    "import pandas as pd #imports pandas package\n",
    "import numpy as np #imports numpy package\n",
    "\n",
    "df = pd.DataFrame(np.random.randn(10,5)) #creates a df\n",
    "df.head() #prints first 5 rows of df"
   ]
  },
  {
   "cell_type": "code",
   "execution_count": null,
   "id": "3b027f09",
   "metadata": {},
   "outputs": [],
   "source": []
  }
 ],
 "metadata": {
  "kernelspec": {
   "display_name": "Python 3",
   "language": "python",
   "name": "python3"
  },
  "language_info": {
   "codemirror_mode": {
    "name": "ipython",
    "version": 3
   },
   "file_extension": ".py",
   "mimetype": "text/x-python",
   "name": "python",
   "nbconvert_exporter": "python",
   "pygments_lexer": "ipython3",
   "version": "3.9.5"
  }
 },
 "nbformat": 4,
 "nbformat_minor": 5
}
