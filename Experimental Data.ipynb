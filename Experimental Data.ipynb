{
 "cells": [
  {
   "cell_type": "markdown",
   "id": "19cd51ee",
   "metadata": {},
   "source": [
    "# Test Notebook"
   ]
  },
  {
   "cell_type": "markdown",
   "id": "a67e716b",
   "metadata": {},
   "source": [
    "# Data Frames Key:\n",
    "\n",
    "- df1 = imported spot_0601 file\n",
    "- df2 = spot_0601 file sorted by AZ, Instance Type, and SP (respectively)\n",
    "- df3 = df2 with Date and Time Stamp converted to a datetime, and sorted by AZ, IT, PD, & DT (respectively)\n",
    "- df4 = only obs from df3 where the AZ is us-east-1c\n",
    "- df5 = df4 further broken down to only include Linux/UNIX PDs and the latest generation ITs\n",
    "- df6 = df5 further broken down to only include \"medium\" and \"large\" ITs\n",
    "- df7 = df5 further broken down to only include ITs that are 8x & 12x\n",
    "- df8 = df5 further broken down to only include \"metal\" ITs\n",
    "- df9 = df5 further broken down to only include ITs that are 16x & 24x\n",
    "- df10 = df5 further broken down to only include \"micro\", \"nano\", and \"small\"\n",
    "- df11 = df5 further broken down to only include ITs that are 2x\n",
    "- df12 = df5 further broken down to only include ITs that are 3x, 4x, & 6x\n",
    "- df13 = df5 further broken down to only include \"xlarge\" ITs\n",
    "- df14 = df5 further broken down to contain the ITs with the highest spot prices from df6 to df13\n",
    "- df15 = only obs from df3 where the AZ is us-east-1e\n",
    "- df16 = df15 further broken down to only include Linux/UNIX PDs and the latest generation ITs\n",
    "- df17 = only obs from df3 where the AZ is us-east-1a\n",
    "- df18 = only obs from df3 where the AZ is us-east-1b\n",
    "- df19 = only obs from df3 where the AZ is us-east-1d\n",
    "- df20 = only obs from df3 where the AZ is us-east-1e\n",
    "- df21 = only obs from df3 where the AZ is us-east-1f\n",
    "- df22 = only obs from df3 where the PD is Linux/UNIX products\n",
    "- df23 = only obs from df3 where the PD is Red Hat Enterprise Linux products\n",
    "- df24 = only obs from df3 where the PD is SUSE Linux products\n",
    "- df25 = only obs from df3 where the PD is Windows products\n",
    "- df26 = only obs from df3 where the IT is p4d.24xlarge\n",
    "- df27 = only obs from df26 where the PD is Linux/UNIX products\n",
    "- df28 = only obs from df26 where the PD is Red Hat Enterprise Linux products\n",
    "- df29 = only obs from df26 where the PD is SUSE/Linux products\n",
    "- df30 = df27 further broken down to only include the us-east-1a AZ and Dates/Times from 5/22/2021 onward\n",
    "- df31 = df28 further broken down to only include the us-east-1a AZ and Dates/Times from 5/22/2021 onward\n",
    "- df32 = df29 further broken down to only include the us-east-1a AZ and Dates/Times from 5/22/2021 onward\n",
    "- df33 = df27 further broken down to only include the us-east-1d AZ and Dates/Times from 5/22/2021 onward\n",
    "- df34 = df28 further broken down to only include the us-east-1d AZ and Dates/Times from 5/22/2021 onward\n",
    "- df35 = df29 further broken down to only include the us-east-1d AZ and Dates/Times from 5/22/2021 onward\n",
    "- df36 = only obs from df3 that contains the latest generation ITs\n",
    "- df37 = df36 further broken down to only include Windows products\n",
    "- df38 = df3 with renamed columns\n",
    "- df39 = df37 with renamed columns\n",
    "- df40 = df38 with only the latest generation ITs"
   ]
  },
  {
   "cell_type": "code",
   "execution_count": null,
   "id": "f26c6e2b",
   "metadata": {},
   "outputs": [],
   "source": [
    "import pandas as pd\n",
    "pd.TimeSeries = pd.Series\n",
    "import numpy as np\n",
    "import sys\n",
    "from matplotlib import pyplot as plt\n",
    "from matplotlib import dates as mpl_dates\n",
    "from datetime import datetime, timedelta\n",
    "from tqdm import tqdm\n",
    "from scipy import integrate\n",
    "from scipy.interpolate import interp1d\n",
    "#importing required packages/libraries"
   ]
  },
  {
   "cell_type": "code",
   "execution_count": null,
   "id": "e30d5660",
   "metadata": {},
   "outputs": [],
   "source": [
    "print(plt.style.available) #available styles built into matplotlib"
   ]
  },
  {
   "cell_type": "code",
   "execution_count": null,
   "id": "f203f28d",
   "metadata": {},
   "outputs": [],
   "source": [
    "import matplotlib as mpl\n",
    "mpl.rcParams.update(mpl.rcParamsDefault) #RUN THIS CELL TO GO BACK TO DEFAULTS"
   ]
  },
  {
   "cell_type": "code",
   "execution_count": null,
   "id": "3618fadc",
   "metadata": {},
   "outputs": [],
   "source": [
    "df1 = pd.read_csv('Data/spot_0601.tsv', sep='\\t', header=None) #importing spot_0601 file\n",
    "df1.columns=['SPH','Availability Zone','Instance Type','Product Description','Spot Price','Date and Time Stamp']\n",
    "    #setting column names\n",
    "df1.head() #printing out the first 5 obs"
   ]
  },
  {
   "cell_type": "code",
   "execution_count": null,
   "id": "81af84a6",
   "metadata": {},
   "outputs": [],
   "source": [
    "df1.drop(columns=['SPH'],inplace=True) #drops the SPH column and saves that change"
   ]
  },
  {
   "cell_type": "code",
   "execution_count": null,
   "id": "82c0ff1c",
   "metadata": {},
   "outputs": [],
   "source": [
    "df1.head() #confirms that the SPH column was dropped"
   ]
  },
  {
   "cell_type": "code",
   "execution_count": null,
   "id": "4f355955",
   "metadata": {},
   "outputs": [],
   "source": [
    "df1.shape #gives the number of rows and columns of the df"
   ]
  },
  {
   "cell_type": "code",
   "execution_count": null,
   "id": "09cc4890",
   "metadata": {},
   "outputs": [],
   "source": [
    "df1.info() #provides info on the df"
   ]
  },
  {
   "cell_type": "code",
   "execution_count": null,
   "id": "f0fb78a5",
   "metadata": {},
   "outputs": [],
   "source": [
    "df2 = df1.sort_values(by=['Availability Zone','Instance Type','Spot Price'])\n",
    "df2"
   ]
  },
  {
   "cell_type": "code",
   "execution_count": null,
   "id": "9d54ecde",
   "metadata": {},
   "outputs": [],
   "source": [
    "high_SP = (df2['Spot Price'] > 5.00) #creates a variable where the Spot Price is greater than 5\n",
    "df2.loc[high_SP] #shows the obs that have the high Spot Price"
   ]
  },
  {
   "cell_type": "code",
   "execution_count": null,
   "id": "5476a097",
   "metadata": {},
   "outputs": [],
   "source": [
    "df2['Spot Price'].mean().round(2) #the mean spot price for the entire dataset to 2 decimal places"
   ]
  },
  {
   "cell_type": "code",
   "execution_count": null,
   "id": "f6e0b3b6",
   "metadata": {},
   "outputs": [],
   "source": [
    "df2['Spot Price'].median().round(2) #the median spot price for the entire dataset to 2 decimal places"
   ]
  },
  {
   "cell_type": "markdown",
   "id": "b717b766",
   "metadata": {},
   "source": [
    "## Creating a barplot of the mean and median spot prices for each availability zone"
   ]
  },
  {
   "cell_type": "code",
   "execution_count": null,
   "id": "bfc53097",
   "metadata": {},
   "outputs": [],
   "source": [
    "filt1a = df2['Availability Zone'] == 'us-east-1a'\n",
    "filt1b = df2['Availability Zone'] == 'us-east-1b'\n",
    "filt1c = df2['Availability Zone'] == 'us-east-1c'\n",
    "filt1d = df2['Availability Zone'] == 'us-east-1d'\n",
    "filt1e = df2['Availability Zone'] == 'us-east-1e'\n",
    "filt1f = df2['Availability Zone'] == 'us-east-1f'\n",
    "#creating filters based on availability zones"
   ]
  },
  {
   "cell_type": "code",
   "execution_count": null,
   "id": "c6c4d93a",
   "metadata": {},
   "outputs": [],
   "source": [
    "mean_1a = df2.loc[filt1a,'Spot Price'].mean().round(4) #gives the mean spot price for the us-east-1a AZ\n",
    "median_1a = df2.loc[filt1a,'Spot Price'].median().round(4) #gives the median spot price for the us-east-1a AZ\n",
    "\n",
    "mean_1b = df2.loc[filt1b,'Spot Price'].mean().round(4) #gives the mean spot price for the us-east-1b AZ\n",
    "median_1b = df2.loc[filt1b,'Spot Price'].median().round(4) #gives the median spot price for the us-east-1b AZ\n",
    "\n",
    "mean_1c = df2.loc[filt1c,'Spot Price'].mean().round(4) #gives the mean spot price for the us-east-1c AZ\n",
    "median_1c = df2.loc[filt1c,'Spot Price'].median().round(4) #gives the median spot price for the us-east-1c AZ\n",
    "\n",
    "mean_1d = df2.loc[filt1d,'Spot Price'].mean().round(4) #gives the mean spot price for the us-east-1d AZ\n",
    "median_1d = df2.loc[filt1d,'Spot Price'].median().round(4) #gives the median spot price for the us-east-1d AZ\n",
    "\n",
    "mean_1e = df2.loc[filt1e,'Spot Price'].mean().round(4) #gives the mean spot price for the us-east-1e AZ\n",
    "median_1e = df2.loc[filt1e,'Spot Price'].median().round(4) #gives the median spot price for the us-east-1e AZ\n",
    "\n",
    "mean_1f = df2.loc[filt1f,'Spot Price'].mean().round(4) #gives the mean spot price for the us-east-1f AZ\n",
    "median_1f = df2.loc[filt1f,'Spot Price'].median().round(4) #gives the median spot price for the us-east-1f AZ"
   ]
  },
  {
   "cell_type": "code",
   "execution_count": null,
   "id": "d4b1a3c8",
   "metadata": {},
   "outputs": [],
   "source": [
    "AZ_x = ['us-east-1a','us-east-1b','us-east-1c','us-east-1d','us-east-1e','us-east-1f']\n",
    "SP_mean_AZ = [mean_1a, mean_1b, mean_1c, mean_1d, mean_1e, mean_1f]\n",
    "SP_median_AZ = [median_1a, median_1b, median_1c, median_1d, median_1e, median_1f]"
   ]
  },
  {
   "cell_type": "code",
   "execution_count": null,
   "id": "5230edda",
   "metadata": {},
   "outputs": [],
   "source": [
    "#side-by-side barplot of the means and medians of the spot prices for each AZ\n",
    "# MUST RUN 3 ABOVE CELLS FOR THIS TO WORK\n",
    "\n",
    "#plt.style.use('ggplot') #sets the plot style for this plot\n",
    "\n",
    "AZx_indexes = np.arange(len(AZ_x)) #creates a variable that is an array of values\n",
    "                                      #they are a numbered version of our x values\n",
    "\n",
    "width = 0.25 #creating a width variable\n",
    "\n",
    "plt.bar(AZx_indexes-0.5*width, SP_mean_AZ, width=width, color='k', label='Mean') #bar plot using x_indexes as x values\n",
    "                                                                            #need to shift bars (subtracting width)\n",
    "                                                                            #need to specify width\n",
    "\n",
    "plt.bar(AZx_indexes+0.5*width, SP_median_AZ, width=width, color='b', label='Median') #bar plot using x_indexes as x values\n",
    "                                                                         #need to specify width\n",
    "\n",
    "plt.xticks(ticks=AZx_indexes, labels=AZ_x) #using the indexes for the tick marks, the ages for the labels    \n",
    "\n",
    "plt.title('Mean and Median Spot Prices (USD) For Each Availability Zone')\n",
    "plt.xlabel('Availability Zone')\n",
    "plt.ylabel('Spot Price')\n",
    "plt.legend()\n",
    "#plt.grid(True)\n",
    "\n",
    "plt.tight_layout()\n",
    "#plt.savefig('barplot1.png') #saves this plot in cd\n",
    "#plt.show()"
   ]
  },
  {
   "cell_type": "markdown",
   "id": "84aa7ec9",
   "metadata": {},
   "source": [
    "## Creating a barplot of the mean and median spot prices for each product description"
   ]
  },
  {
   "cell_type": "code",
   "execution_count": null,
   "id": "f593c878",
   "metadata": {},
   "outputs": [],
   "source": [
    "filtLU = df2['Product Description'] == 'Linux/UNIX'\n",
    "filtRHEL = df2['Product Description'] == 'Red Hat Enterprise Linux'\n",
    "filtSL = df2['Product Description'] == 'SUSE Linux'\n",
    "filtW = df2['Product Description'] == 'Windows'\n",
    "#creating filters based on product descriptions"
   ]
  },
  {
   "cell_type": "code",
   "execution_count": null,
   "id": "138a6cde",
   "metadata": {},
   "outputs": [],
   "source": [
    "mean_LU = df2.loc[filtLU,'Spot Price'].mean().round(4) #gives the mean spot price for the LU PD\n",
    "median_LU = df2.loc[filtLU,'Spot Price'].median().round(4) #gives the median spot price for the LU PD\n",
    "\n",
    "mean_RHEL = df2.loc[filtRHEL,'Spot Price'].mean().round(4) #gives the mean spot price for the RHEL PD\n",
    "median_RHEL = df2.loc[filtRHEL,'Spot Price'].median().round(4) #gives the median spot price for the RHEL PD\n",
    "\n",
    "mean_SL = df2.loc[filtSL,'Spot Price'].mean().round(4) #gives the mean spot price for the SL PD\n",
    "median_SL = df2.loc[filtSL,'Spot Price'].median().round(4) #gives the median spot price for the SL PD\n",
    "\n",
    "mean_W = df2.loc[filtW,'Spot Price'].mean().round(4) #gives the mean spot price for the W PD\n",
    "median_W = df2.loc[filtW,'Spot Price'].median().round(4) #gives the median spot price for the W PD"
   ]
  },
  {
   "cell_type": "code",
   "execution_count": null,
   "id": "8fc8d15d",
   "metadata": {},
   "outputs": [],
   "source": [
    "PD_x = ['Linux/UNIX','Red Hat Enterprise Linux','SUSE Linux','Windows']\n",
    "SP_mean_PD = [mean_LU, mean_RHEL, mean_SL, mean_W]\n",
    "SP_median_PD = [median_LU, median_RHEL, median_SL, median_W]"
   ]
  },
  {
   "cell_type": "code",
   "execution_count": null,
   "id": "8fb60206",
   "metadata": {},
   "outputs": [],
   "source": [
    "#side-by-side barplot of the means and medians of the spot prices for each PD\n",
    "# MUST RUN 3 ABOVE CELLS FOR THIS TO WORK\n",
    "\n",
    "plt.style.use('classic') #sets the plot style for this plot\n",
    "\n",
    "PDx_indexes = np.arange(len(PD_x)) #creates a variable that is an array of values\n",
    "                                      #they are a numbered version of our x values\n",
    "\n",
    "width = 0.25 #creating a width variable\n",
    "\n",
    "plt.bar(PDx_indexes-0.5*width, SP_mean_PD, width=width, color='c', label='Mean') #bar plot using x_indexes as x values\n",
    "                                                                            #need to shift bars (subtracting width)\n",
    "                                                                            #need to specify width\n",
    "\n",
    "plt.bar(PDx_indexes+0.5*width, SP_median_PD, width=width, color='m', label='Median') #bar plot using x_indexes as x values\n",
    "                                                                         #need to specify width\n",
    "\n",
    "plt.xticks(ticks=PDx_indexes, labels=PD_x) #using the indexes for the tick marks, the ages for the labels    \n",
    "\n",
    "plt.title('Mean and Median Spot Prices (USD) For Each Product')\n",
    "plt.ylabel('Spot Price')\n",
    "plt.legend()\n",
    "plt.grid(True)\n",
    "\n",
    "plt.tight_layout()\n",
    "#plt.savefig('barplot2.png') #saves this plot in cd\n",
    "#plt.show()"
   ]
  },
  {
   "cell_type": "markdown",
   "id": "01732a9a",
   "metadata": {},
   "source": [
    "## Creating barplots for the time between pricing events"
   ]
  },
  {
   "cell_type": "code",
   "execution_count": null,
   "id": "04ecc109",
   "metadata": {},
   "outputs": [],
   "source": [
    "df2 #reminder of what our data looks like"
   ]
  },
  {
   "cell_type": "code",
   "execution_count": null,
   "id": "780af147",
   "metadata": {},
   "outputs": [],
   "source": [
    "df2['Date and Time Stamp'] = pd.to_datetime(df2['Date and Time Stamp'])\n",
    "df2['Date and Time Stamp']"
   ]
  },
  {
   "cell_type": "code",
   "execution_count": null,
   "id": "229b3603",
   "metadata": {},
   "outputs": [],
   "source": [
    "df3 = df2.sort_values(by=['Availability Zone', 'Instance Type', 'Product Description', 'Date and Time Stamp'])\n",
    "df3"
   ]
  },
  {
   "cell_type": "code",
   "execution_count": null,
   "id": "a7018db4",
   "metadata": {},
   "outputs": [],
   "source": [
    "pd.set_option('display.max_columns', 10) #adjusts max display columns\n",
    "pd.set_option('display.max_rows', 200) #adjusts max display rows"
   ]
  },
  {
   "cell_type": "code",
   "execution_count": null,
   "id": "95e0b2aa",
   "metadata": {},
   "outputs": [],
   "source": [
    "#Test Time Series Plot #1\n",
    "\n",
    "test1 = df3[(df3['Availability Zone'] == 'us-east-1a') & (df3['Instance Type'] == 'a1.2xlarge') & \n",
    "    (df3['Product Description'] == 'Linux/UNIX')]\n",
    "\n",
    "plt.plot_date(test1['Date and Time Stamp'], test1['Spot Price'], linestyle='solid')\n",
    "\n",
    "plt.gcf().autofmt_xdate()\n",
    "\n",
    "plt.title('Time Series Plot of the us-east-1a AZ,' + \"\\n\" + 'a1.2xlarge IT, and Linux/UNIX PD')\n",
    "plt.xlabel('Date')\n",
    "plt.ylabel('Spot Price')\n",
    "\n",
    "#plt.show()"
   ]
  },
  {
   "cell_type": "code",
   "execution_count": null,
   "id": "2c2f56fd",
   "metadata": {},
   "outputs": [],
   "source": [
    "#Test Time Series Plot #2\n",
    "\n",
    "test2 = df3[(df3['Availability Zone'] == 'us-east-1a') & (df3['Instance Type'] == 'a1.2xlarge') & \n",
    "    (df3['Product Description'] == 'Red Hat Enterprise Linux')]\n",
    "\n",
    "plt.plot_date(test2['Date and Time Stamp'], test2['Spot Price'], linestyle='solid')\n",
    "\n",
    "plt.gcf().autofmt_xdate()\n",
    "\n",
    "plt.title('Time Series Plot of the us-east-1a AZ,' + \"\\n\" + 'a1.2xlarge IT, and Red Hat Enterprise Linux PD')\n",
    "plt.xlabel('Date')\n",
    "plt.ylabel('Spot Price')\n",
    "\n",
    "#plt.show()"
   ]
  },
  {
   "cell_type": "code",
   "execution_count": null,
   "id": "23a8dd72",
   "metadata": {},
   "outputs": [],
   "source": [
    "#Test Time Series Plot #3\n",
    "\n",
    "test3 = df3[(df3['Availability Zone'] == 'us-east-1a') & (df3['Instance Type'] == 'a1.2xlarge') & \n",
    "    (df3['Product Description'] == 'SUSE Linux')]\n",
    "\n",
    "plt.plot_date(test3['Date and Time Stamp'], test3['Spot Price'], linestyle='solid')\n",
    "\n",
    "plt.gcf().autofmt_xdate()\n",
    "\n",
    "plt.title('Time Series Plot of the us-east-1a AZ,' + \"\\n\" + 'a1.2xlarge IT, and Suse Linux PD')\n",
    "plt.xlabel('Date')\n",
    "plt.ylabel('Spot Price')\n",
    "\n",
    "#plt.show()"
   ]
  },
  {
   "cell_type": "code",
   "execution_count": null,
   "id": "05d9c330",
   "metadata": {
    "scrolled": true
   },
   "outputs": [],
   "source": [
    "df3[(df3['Availability Zone'] == 'us-east-1a') & (df3['Instance Type'] == 'a1.2xlarge') & \n",
    "    (df3['Product Description'] == 'Windows')]"
   ]
  },
  {
   "cell_type": "code",
   "execution_count": null,
   "id": "35e53286",
   "metadata": {},
   "outputs": [],
   "source": [
    "#Test Time Series Plot #5\n",
    "\n",
    "test5 = df3[(df3['Availability Zone'] == 'us-east-1b') & (df3['Instance Type'] == 'a1.2xlarge') & \n",
    "    (df3['Product Description'] == 'Linux/UNIX')]\n",
    "\n",
    "plt.plot_date(test5['Date and Time Stamp'], test5['Spot Price'], linestyle='solid')\n",
    "\n",
    "plt.gcf().autofmt_xdate()\n",
    "\n",
    "plt.title('Time Series Plot of the us-east-1b AZ,' + \"\\n\" + 'a1.2xlarge IT, and Linux/UNIX PD')\n",
    "plt.xlabel('Date')\n",
    "plt.ylabel('Spot Price')\n",
    "\n",
    "#plt.show()"
   ]
  },
  {
   "cell_type": "code",
   "execution_count": null,
   "id": "9e831e46",
   "metadata": {},
   "outputs": [],
   "source": [
    "#Test Time Series Plot #6\n",
    "\n",
    "test6 = df3[(df3['Availability Zone'] == 'us-east-1b') & (df3['Instance Type'] == 'a1.2xlarge') & \n",
    "    (df3['Product Description'] == 'Red Hat Enterprise Linux')]\n",
    "\n",
    "plt.plot_date(test6['Date and Time Stamp'], test6['Spot Price'], linestyle='solid')\n",
    "\n",
    "plt.gcf().autofmt_xdate()\n",
    "\n",
    "plt.title('Time Series Plot of the us-east-1b AZ,' + \"\\n\" + 'a1.2xlarge IT, and Red Hat Enterprise Linux')\n",
    "plt.xlabel('Date')\n",
    "plt.ylabel('Spot Price')\n",
    "\n",
    "#plt.show()"
   ]
  },
  {
   "cell_type": "code",
   "execution_count": null,
   "id": "6c66d606",
   "metadata": {},
   "outputs": [],
   "source": [
    "#Test Time Series Plot #7\n",
    "\n",
    "test7 = df3[(df3['Availability Zone'] == 'us-east-1b') & (df3['Instance Type'] == 'a1.2xlarge') & \n",
    "    (df3['Product Description'] == 'SUSE Linux')]\n",
    "\n",
    "plt.plot_date(test7['Date and Time Stamp'], test7['Spot Price'], linestyle='solid')\n",
    "\n",
    "plt.gcf().autofmt_xdate()\n",
    "\n",
    "plt.title('Time Series Plot of the us-east-1b AZ,' + \"\\n\" + 'a1.2xlarge IT, and Suse Linux')\n",
    "plt.xlabel('Date')\n",
    "plt.ylabel('Spot Price')\n",
    "\n",
    "#plt.show()"
   ]
  },
  {
   "cell_type": "code",
   "execution_count": null,
   "id": "8b1d45e3",
   "metadata": {},
   "outputs": [],
   "source": [
    "df3[(df3['Availability Zone'] == 'us-east-1b') & (df3['Instance Type'] == 'a1.2xlarge') & \n",
    "    (df3['Product Description'] == 'Windows')]"
   ]
  },
  {
   "cell_type": "code",
   "execution_count": null,
   "id": "0e063b8e",
   "metadata": {},
   "outputs": [],
   "source": [
    "#Test Time Series Plot #9\n",
    "\n",
    "test9 = df3[(df3['Availability Zone'] == 'us-east-1c') & (df3['Instance Type'] == 'a1.2xlarge') & \n",
    "    (df3['Product Description'] == 'Linux/UNIX')]\n",
    "\n",
    "plt.plot_date(test9['Date and Time Stamp'], test9['Spot Price'], linestyle='solid')\n",
    "\n",
    "plt.gcf().autofmt_xdate()\n",
    "\n",
    "plt.title('Time Series Plot of the us-east-1c AZ,' + \"\\n\" + 'a1.2xlarge IT, and Linux/UNIX PD')\n",
    "plt.xlabel('Date')\n",
    "plt.ylabel('Spot Price')\n",
    "\n",
    "#plt.show()"
   ]
  },
  {
   "cell_type": "code",
   "execution_count": null,
   "id": "e292b178",
   "metadata": {},
   "outputs": [],
   "source": [
    "#Test Time Series Plot #10\n",
    "\n",
    "test10 = df3[(df3['Availability Zone'] == 'us-east-1c') & (df3['Instance Type'] == 'a1.2xlarge') & \n",
    "    (df3['Product Description'] == 'Red Hat Enterprise Linux')]\n",
    "\n",
    "plt.plot_date(test10['Date and Time Stamp'], test10['Spot Price'], linestyle='solid')\n",
    "\n",
    "plt.gcf().autofmt_xdate()\n",
    "\n",
    "plt.title('Time Series Plot of the us-east-1c AZ,' + \"\\n\" + 'a1.2xlarge IT, and Red Hat Enterprise Linux PD')\n",
    "plt.xlabel('Date')\n",
    "plt.ylabel('Spot Price')\n",
    "\n",
    "#plt.show()"
   ]
  },
  {
   "cell_type": "code",
   "execution_count": null,
   "id": "a06d9123",
   "metadata": {},
   "outputs": [],
   "source": [
    "#Test Time Series Plot #11\n",
    "\n",
    "test11 = df3[(df3['Availability Zone'] == 'us-east-1c') & (df3['Instance Type'] == 'a1.2xlarge') & \n",
    "    (df3['Product Description'] == 'SUSE Linux')]\n",
    "\n",
    "plt.plot_date(test11['Date and Time Stamp'], test11['Spot Price'], linestyle='solid')\n",
    "\n",
    "plt.gcf().autofmt_xdate()\n",
    "\n",
    "plt.title('Time Series Plot of the us-east-1c AZ,' + \"\\n\" + 'a1.2xlarge IT, and SUSE Linux PD')\n",
    "plt.xlabel('Date')\n",
    "plt.ylabel('Spot Price')\n",
    "\n",
    "#plt.show()"
   ]
  },
  {
   "cell_type": "code",
   "execution_count": null,
   "id": "65f97fbc",
   "metadata": {},
   "outputs": [],
   "source": [
    "df3[(df3['Availability Zone'] == 'us-east-1c') & (df3['Instance Type'] == 'a1.2xlarge') & \n",
    "    (df3['Product Description'] == 'Windows')]"
   ]
  },
  {
   "cell_type": "code",
   "execution_count": null,
   "id": "f4cb3128",
   "metadata": {},
   "outputs": [],
   "source": [
    "df3[(df3['Availability Zone'] == 'us-east-1d') & (df3['Instance Type'] == 'a1.2xlarge') & \n",
    "    (df3['Product Description'] == 'Linux/UNIX')]"
   ]
  },
  {
   "cell_type": "code",
   "execution_count": null,
   "id": "b616a7de",
   "metadata": {},
   "outputs": [],
   "source": [
    "df3[(df3['Availability Zone'] == 'us-east-1d') & (df3['Instance Type'] == 'a1.2xlarge') & \n",
    "    (df3['Product Description'] == 'Red Hat Enterprise Linux')]"
   ]
  },
  {
   "cell_type": "code",
   "execution_count": null,
   "id": "57eb0deb",
   "metadata": {},
   "outputs": [],
   "source": [
    "df3[(df3['Availability Zone'] == 'us-east-1d') & (df3['Instance Type'] == 'a1.2xlarge') & \n",
    "    (df3['Product Description'] == 'SUSE Linux')]"
   ]
  },
  {
   "cell_type": "code",
   "execution_count": null,
   "id": "9788cb2f",
   "metadata": {},
   "outputs": [],
   "source": [
    "df3[(df3['Availability Zone'] == 'us-east-1d') & (df3['Instance Type'] == 'a1.2xlarge') & \n",
    "    (df3['Product Description'] == 'Windows')]"
   ]
  },
  {
   "cell_type": "code",
   "execution_count": null,
   "id": "7bff3eea",
   "metadata": {},
   "outputs": [],
   "source": [
    "df3[(df3['Availability Zone'] == 'us-east-1e') & (df3['Instance Type'] == 'a1.2xlarge') & \n",
    "    (df3['Product Description'] == 'Linux/UNIX')]"
   ]
  },
  {
   "cell_type": "code",
   "execution_count": null,
   "id": "34f61d50",
   "metadata": {},
   "outputs": [],
   "source": [
    "df3[(df3['Availability Zone'] == 'us-east-1e') & (df3['Instance Type'] == 'a1.2xlarge') & \n",
    "    (df3['Product Description'] == 'Red Hat Enterprise Linux')]"
   ]
  },
  {
   "cell_type": "code",
   "execution_count": null,
   "id": "02c89def",
   "metadata": {},
   "outputs": [],
   "source": [
    "df3[(df3['Availability Zone'] == 'us-east-1e') & (df3['Instance Type'] == 'a1.2xlarge') & \n",
    "    (df3['Product Description'] == 'SUSE Linux')]"
   ]
  },
  {
   "cell_type": "code",
   "execution_count": null,
   "id": "5f1892a0",
   "metadata": {},
   "outputs": [],
   "source": [
    "df3[(df3['Availability Zone'] == 'us-east-1e') & (df3['Instance Type'] == 'a1.2xlarge') & \n",
    "    (df3['Product Description'] == 'Windows')]"
   ]
  },
  {
   "cell_type": "code",
   "execution_count": null,
   "id": "cdd399b4",
   "metadata": {},
   "outputs": [],
   "source": [
    "df3[(df3['Availability Zone'] == 'us-east-1f') & (df3['Instance Type'] == 'a1.2xlarge') & \n",
    "    (df3['Product Description'] == 'Linux/UNIX')]"
   ]
  },
  {
   "cell_type": "code",
   "execution_count": null,
   "id": "cabe7e5d",
   "metadata": {},
   "outputs": [],
   "source": [
    "df3[(df3['Availability Zone'] == 'us-east-1f') & (df3['Instance Type'] == 'a1.2xlarge') & \n",
    "    (df3['Product Description'] == 'Red Hat Enterprise Linux')]"
   ]
  },
  {
   "cell_type": "code",
   "execution_count": null,
   "id": "f189de2e",
   "metadata": {},
   "outputs": [],
   "source": [
    "df3[(df3['Availability Zone'] == 'us-east-1f') & (df3['Instance Type'] == 'a1.2xlarge') & \n",
    "    (df3['Product Description'] == 'SUSE Linux')]"
   ]
  },
  {
   "cell_type": "code",
   "execution_count": null,
   "id": "8972baff",
   "metadata": {},
   "outputs": [],
   "source": [
    "df3[(df3['Availability Zone'] == 'us-east-1f') & (df3['Instance Type'] == 'a1.2xlarge') & \n",
    "    (df3['Product Description'] == 'Windows')]"
   ]
  },
  {
   "cell_type": "markdown",
   "id": "1e6292f1",
   "metadata": {},
   "source": [
    "## Miscellaneous"
   ]
  },
  {
   "cell_type": "code",
   "execution_count": null,
   "id": "a885c543",
   "metadata": {},
   "outputs": [],
   "source": [
    "pd.unique(df3['Availability Zone']) #lists unique availability zone values"
   ]
  },
  {
   "cell_type": "code",
   "execution_count": null,
   "id": "f29082c3",
   "metadata": {},
   "outputs": [],
   "source": [
    "df3['Availability Zone'].unique()"
   ]
  },
  {
   "cell_type": "code",
   "execution_count": null,
   "id": "bcdd682c",
   "metadata": {},
   "outputs": [],
   "source": [
    "pd.unique(df3['Instance Type']) #lists unique instance type values"
   ]
  },
  {
   "cell_type": "code",
   "execution_count": null,
   "id": "a1587f22",
   "metadata": {},
   "outputs": [],
   "source": [
    "len(pd.unique(df3['Instance Type'])) #lists # of unique instance values"
   ]
  },
  {
   "cell_type": "code",
   "execution_count": null,
   "id": "4acf08e4",
   "metadata": {},
   "outputs": [],
   "source": [
    "pd.unique(df3['Product Description']) #lists unique product description values"
   ]
  },
  {
   "cell_type": "code",
   "execution_count": null,
   "id": "043ae9bb",
   "metadata": {},
   "outputs": [],
   "source": [
    "test25 = df3.loc[(df3['Instance Type'].str.contains(\"metal\", case=False)) & \n",
    "                 (df3['Product Description'].str.contains(\"Linux\", case=False))]\n",
    "test25"
   ]
  },
  {
   "cell_type": "markdown",
   "id": "9e105262",
   "metadata": {},
   "source": [
    "### At this point, I can see that spot prices are highest in the us-east-1c availability zone, so I am going to do some further analyses on these observations"
   ]
  },
  {
   "cell_type": "code",
   "execution_count": null,
   "id": "fc8457d2",
   "metadata": {},
   "outputs": [],
   "source": [
    "filt1c = df3['Availability Zone'] == 'us-east-1c'\n",
    "df4 = df3.loc[filt1c]\n",
    "df4 #new data frame of observations limited to the us-east-1c availability zone"
   ]
  },
  {
   "cell_type": "code",
   "execution_count": null,
   "id": "26dc451e",
   "metadata": {},
   "outputs": [],
   "source": [
    "filtLU = df4['Product Description'] == 'Linux/UNIX'\n",
    "filtRHEL = df4['Product Description'] == 'Red Hat Enterprise Linux'\n",
    "filtSL = df4['Product Description'] == 'SUSE Linux'\n",
    "filtW = df4['Product Description'] == 'Windows'\n",
    "#creating filters based on product descriptions\n",
    "\n",
    "\n",
    "mean_LU = df4.loc[filtLU,'Spot Price'].mean().round(4) #gives the mean spot price for the LU PD\n",
    "median_LU = df4.loc[filtLU,'Spot Price'].median().round(4) #gives the median spot price for the LU PD\n",
    "\n",
    "mean_RHEL = df4.loc[filtRHEL,'Spot Price'].mean().round(4) #gives the mean spot price for the RHEL PD\n",
    "median_RHEL = df4.loc[filtRHEL,'Spot Price'].median().round(4) #gives the median spot price for the RHEL PD\n",
    "\n",
    "mean_SL = df4.loc[filtSL,'Spot Price'].mean().round(4) #gives the mean spot price for the SL PD\n",
    "median_SL = df4.loc[filtSL,'Spot Price'].median().round(4) #gives the median spot price for the SL PD\n",
    "\n",
    "mean_W = df4.loc[filtW,'Spot Price'].mean().round(4) #gives the mean spot price for the W PD\n",
    "median_W = df4.loc[filtW,'Spot Price'].median().round(4) #gives the median spot price for the W PD\n",
    "\n",
    "\n",
    "PD_x = ['Linux/UNIX','Red Hat Enterprise Linux','SUSE Linux','Windows']\n",
    "SP_mean_PD = [mean_LU, mean_RHEL, mean_SL, mean_W]\n",
    "SP_median_PD = [median_LU, median_RHEL, median_SL, median_W]"
   ]
  },
  {
   "cell_type": "code",
   "execution_count": null,
   "id": "5cb45c06",
   "metadata": {},
   "outputs": [],
   "source": [
    "#side-by-side barplot of the means and medians of the spot prices for each PD in the us-east-1c AZ\n",
    "# MUST RUN ABOVE CELL FOR THIS TO WORK\n",
    "\n",
    "plt.style.use('ggplot') #sets the plot style for this plot\n",
    "\n",
    "PDx_indexes = np.arange(len(PD_x)) #creates a variable that is an array of values\n",
    "                                      #they are a numbered version of our x values\n",
    "\n",
    "width = 0.25 #creating a width variable\n",
    "\n",
    "plt.bar(PDx_indexes-0.5*width, SP_mean_PD, width=width, color='#c42929', label='Mean') #bar plot using x_indexes as x values\n",
    "                                                                            #need to shift bars (subtracting width)\n",
    "                                                                            #need to specify width\n",
    "\n",
    "plt.bar(PDx_indexes+0.5*width, SP_median_PD, width=width, color='#f78f0f', label='Median') #bar plot using x_indexes as x values\n",
    "                                                                         #need to specify width\n",
    "\n",
    "plt.xticks(ticks=PDx_indexes, labels=PD_x) #using the indexes for the tick marks, the ages for the labels    \n",
    "\n",
    "plt.title('Mean and Median Spot Prices (USD) For Each Product' + \"\\n\" + 'Within the us-east-1c Availability Zone')\n",
    "plt.ylabel('Spot Price')\n",
    "plt.legend(loc='upper left')\n",
    "#plt.grid(True)\n",
    "plt.yticks([0,0.25,0.5,0.75,1,1.25,1.5,1.75,2,2.25])\n",
    "\n",
    "plt.tight_layout()\n",
    "#plt.savefig('barplot3.png') #saves this plot in cd\n",
    "#plt.show()"
   ]
  },
  {
   "cell_type": "code",
   "execution_count": null,
   "id": "4a5b652e",
   "metadata": {},
   "outputs": [],
   "source": [
    "df4['Instance Type'].unique() #reminder of Instance Types in df4, still all 389"
   ]
  },
  {
   "cell_type": "code",
   "execution_count": null,
   "id": "facab920",
   "metadata": {},
   "outputs": [],
   "source": [
    "df5 = df4[(df4['Instance Type'].str.contains(\"a1|c6|df3|f1|g4|h1|i3|inf1|m6|p4|r6|t4|x2|z1\"))\n",
    "    & (df4['Product Description'] == 'Linux/UNIX')]\n",
    "df5"
   ]
  },
  {
   "cell_type": "code",
   "execution_count": null,
   "id": "5aa87f6d",
   "metadata": {},
   "outputs": [],
   "source": [
    "df5['Instance Type'].unique()"
   ]
  },
  {
   "cell_type": "code",
   "execution_count": null,
   "id": "a9a2aff2",
   "metadata": {},
   "outputs": [],
   "source": [
    "df6 = df5[(df5['Instance Type'].str.contains(\"\\.medium|\\.large\"))]\n",
    "df6"
   ]
  },
  {
   "cell_type": "code",
   "execution_count": null,
   "id": "ba3d5b55",
   "metadata": {},
   "outputs": [],
   "source": [
    "df7 = df5[(df5['Instance Type'].str.contains(\"8xlarge|12xlarge\"))]\n",
    "df7"
   ]
  },
  {
   "cell_type": "code",
   "execution_count": null,
   "id": "9092dca8",
   "metadata": {},
   "outputs": [],
   "source": [
    "# Horizontal Bar Chart\n",
    "\n",
    "plt.style.use('seaborn')\n",
    "\n",
    "plt.barh(df7['Instance Type'],df7['Spot Price'], color=\"#eb5ced\")\n",
    "\n",
    "plt.title('8x & 12x Instance Types Within the us-east-1c' + \"\\n\" + \n",
    "         'Availability Zone for Linux/UNIX Products')\n",
    "plt.xlabel('Highest Spot Price (USD)')\n",
    "\n",
    "plt.tight_layout()\n",
    "plt.grid(True)\n",
    "#plt.savefig('horizbarplot2.png') #saves this plot in cd\n",
    "#plt.show()"
   ]
  },
  {
   "cell_type": "code",
   "execution_count": null,
   "id": "c321c0ed",
   "metadata": {},
   "outputs": [],
   "source": [
    "df8 = df5[(df5['Instance Type'].str.contains(\"metal\"))]\n",
    "df8"
   ]
  },
  {
   "cell_type": "code",
   "execution_count": null,
   "id": "8476bf82",
   "metadata": {},
   "outputs": [],
   "source": [
    "# Horizontal Bar Chart\n",
    "\n",
    "plt.style.use('ggplot')\n",
    "\n",
    "plt.barh(df8['Instance Type'],df8['Spot Price'],color='#404040')\n",
    "\n",
    "plt.title('Metal Instance Types Within the us-east-1c' + \"\\n\" + \n",
    "         'Availability Zone for Linux/UNIX Products')\n",
    "plt.xlabel('Highest Spot Price (USD)')\n",
    "plt.xticks([0,0.25,0.5,0.75,1,1.25,1.5,1.75,2,2.25,2.5,2.75,3,3.25,3.5])\n",
    "\n",
    "plt.tight_layout()\n",
    "plt.grid(True)\n",
    "#plt.savefig('horizbarplot3.png') #saves this plot in cd\n",
    "#plt.show()"
   ]
  },
  {
   "cell_type": "code",
   "execution_count": null,
   "id": "c7d641ef",
   "metadata": {},
   "outputs": [],
   "source": [
    "df9 = df5[(df5['Instance Type'].str.contains(\"16xlarge|24xlarge\"))]\n",
    "df9"
   ]
  },
  {
   "cell_type": "code",
   "execution_count": null,
   "id": "da13f836",
   "metadata": {},
   "outputs": [],
   "source": [
    "# Horizontal Bar Chart\n",
    "\n",
    "plt.style.use('ggplot')\n",
    "\n",
    "plt.barh(df9['Instance Type'],df9['Spot Price'],color='#e30000')\n",
    "\n",
    "plt.title('16x & 24x Instance Types Within the us-east-1c' + \"\\n\" + \n",
    "         'Availability Zone for Linux/UNIX Products')\n",
    "plt.xlabel('Highest Spot Price (USD)')\n",
    "plt.xticks([0,1,2,3,4,5,6,7,8,9,10,11,12,13,14])\n",
    "\n",
    "plt.tight_layout()\n",
    "plt.grid(True)\n",
    "#plt.savefig('horizbarplot4.png') #saves this plot in cd\n",
    "#plt.show()"
   ]
  },
  {
   "cell_type": "code",
   "execution_count": null,
   "id": "72a4e100",
   "metadata": {},
   "outputs": [],
   "source": [
    "df10 = df5[(df5['Instance Type'].str.contains(\"micro|nano|small\"))]\n",
    "df10"
   ]
  },
  {
   "cell_type": "code",
   "execution_count": null,
   "id": "7446d7c1",
   "metadata": {},
   "outputs": [],
   "source": [
    "# Horizontal Bar Chart\n",
    "\n",
    "plt.style.use('ggplot')\n",
    "\n",
    "plt.barh(df10['Instance Type'],df10['Spot Price'],color='#edbc09')\n",
    "\n",
    "plt.title('Nano, Micro, and Small Instance Types Within the us-east-1c' + \"\\n\" + \n",
    "         'Availability Zone for Linux/UNIX Products')\n",
    "plt.xlabel('Highest Spot Price (USD)')\n",
    "\n",
    "plt.tight_layout()\n",
    "plt.grid(True)\n",
    "#plt.savefig('horizbarplot5.png') #saves this plot in cd\n",
    "#plt.show()"
   ]
  },
  {
   "cell_type": "code",
   "execution_count": null,
   "id": "fe4cbb71",
   "metadata": {},
   "outputs": [],
   "source": [
    "df11 = df5[(df5['Instance Type'].str.contains(\"\\.2x\"))]\n",
    "df11"
   ]
  },
  {
   "cell_type": "code",
   "execution_count": null,
   "id": "201dc659",
   "metadata": {},
   "outputs": [],
   "source": [
    "# Horizontal Bar Chart\n",
    "\n",
    "plt.style.use('ggplot')\n",
    "\n",
    "plt.barh(df11['Instance Type'],df11['Spot Price'],color='#f27100')\n",
    "\n",
    "plt.title('2x Instance Types Within the us-east-1c' + \"\\n\" + \n",
    "         'Availability Zone for Linux/UNIX Products')\n",
    "plt.xlabel('Highest Spot Price (USD)')\n",
    "plt.xticks([0,0.05,0.1,0.15,0.2,0.25,0.3,0.35,0.4,0.45,0.5])\n",
    "\n",
    "plt.tight_layout()\n",
    "plt.grid(True)\n",
    "#plt.savefig('horizbarplot6.png') #saves this plot in cd\n",
    "#plt.show()"
   ]
  },
  {
   "cell_type": "code",
   "execution_count": null,
   "id": "c9b86973",
   "metadata": {},
   "outputs": [],
   "source": [
    "df12 = df5[(df5['Instance Type'].str.contains(\"\\.3x|\\.4x|\\.6x\"))]\n",
    "df12"
   ]
  },
  {
   "cell_type": "code",
   "execution_count": null,
   "id": "52c2ad7c",
   "metadata": {},
   "outputs": [],
   "source": [
    "# Horizontal Bar Chart\n",
    "\n",
    "plt.style.use('ggplot')\n",
    "\n",
    "plt.barh(df12['Instance Type'],df12['Spot Price'],color='#7d0dde')\n",
    "\n",
    "plt.title('3x, 4x, & 6x Instance Types Within the us-east-1c' + \"\\n\" + \n",
    "         'Availability Zone for Linux/UNIX Products')\n",
    "plt.xlabel('Highest Spot Price (USD)')\n",
    "\n",
    "plt.tight_layout()\n",
    "plt.grid(True)\n",
    "#plt.savefig('horizbarplot7.png') #saves this plot in cd\n",
    "#plt.show()"
   ]
  },
  {
   "cell_type": "code",
   "execution_count": null,
   "id": "7dc88e44",
   "metadata": {},
   "outputs": [],
   "source": [
    "df13 = df5[(df5['Instance Type'].str.contains(\"\\.xlarge\"))]\n",
    "df13"
   ]
  },
  {
   "cell_type": "code",
   "execution_count": null,
   "id": "cf6dae4d",
   "metadata": {},
   "outputs": [],
   "source": [
    "# Horizontal Bar Chart\n",
    "\n",
    "plt.style.use('ggplot')\n",
    "\n",
    "plt.barh(df13['Instance Type'],df13['Spot Price'],color='#13ad54')\n",
    "\n",
    "plt.title('XL Instance Types Within the us-east-1c' + \"\\n\" + \n",
    "         'Availability Zone for Linux/UNIX Products')\n",
    "plt.xlabel('Highest Spot Price (USD)')\n",
    "\n",
    "plt.tight_layout()\n",
    "plt.grid(True)\n",
    "#plt.savefig('horizbarplot8.png') #saves this plot in cd\n",
    "#plt.show()"
   ]
  },
  {
   "cell_type": "code",
   "execution_count": null,
   "id": "0d3507a7",
   "metadata": {},
   "outputs": [],
   "source": [
    "IT_filt = df5['Instance Type'].isin(['i3en.large','x2gd.medium','g4dn.12xlarge','i3.8xlarge','i3en.metal','p4d.24xlarge',\n",
    "                             'f1.16xlarge','t4g.small','t4g.nano','t4g.micro','f1.2xlarge','f1.4xlarge',\n",
    "                             'i3en.6xlarge','i3en.3xlarge','g4dn.xlarge'])\n",
    "\n",
    "df14 = df5.loc[IT_filt]\n",
    "df14"
   ]
  },
  {
   "cell_type": "code",
   "execution_count": null,
   "id": "8c89928b",
   "metadata": {},
   "outputs": [],
   "source": [
    "df14['Instance Type'].unique()"
   ]
  },
  {
   "cell_type": "code",
   "execution_count": null,
   "id": "a65300e9",
   "metadata": {},
   "outputs": [],
   "source": [
    "filt1e = df3['Availability Zone'] == 'us-east-1e'\n",
    "df15 = df3.loc[filt1e]\n",
    "df15 #new data frame of observations limited to the us-east-1e availability zone"
   ]
  },
  {
   "cell_type": "code",
   "execution_count": null,
   "id": "cca0c393",
   "metadata": {},
   "outputs": [],
   "source": [
    "df16 = df15[(df15['Instance Type'].str.contains(\"a1|c6|df3|f1|g4|h1|i3|inf1|m6|p4|r6|t4|x2|z1\")) & \n",
    "            (df15['Product Description'] == 'Linux/UNIX')]\n",
    "df16"
   ]
  },
  {
   "cell_type": "code",
   "execution_count": null,
   "id": "db10eb66",
   "metadata": {},
   "outputs": [],
   "source": [
    "df16['Instance Type'].unique()"
   ]
  },
  {
   "cell_type": "code",
   "execution_count": null,
   "id": "bb93df51",
   "metadata": {},
   "outputs": [],
   "source": [
    "#already in date time form\n",
    "\n",
    "#epochconverter.com\n",
    "\n",
    "#convert string to a datetime object\n",
    "\n",
    "#for loop: iterate through all days, would be easier in timestamp --> iterate by number of seconds\n",
    "\n",
    "#string concatenation: using range for datetime, timestamp would be easier\n",
    "\n",
    "#"
   ]
  },
  {
   "cell_type": "markdown",
   "id": "fde21a45",
   "metadata": {},
   "source": [
    "## Numerical and/or Graphical Analysis of Availability Zones"
   ]
  },
  {
   "cell_type": "markdown",
   "id": "1bf41d74",
   "metadata": {},
   "source": [
    "##### Number Crunching"
   ]
  },
  {
   "cell_type": "code",
   "execution_count": null,
   "id": "dc300e07",
   "metadata": {},
   "outputs": [],
   "source": [
    "df3 #reminder of this data frame"
   ]
  },
  {
   "cell_type": "code",
   "execution_count": null,
   "id": "a415d8cf",
   "metadata": {},
   "outputs": [],
   "source": [
    "filt1a_3 = df3['Availability Zone'] == 'us-east-1a'\n",
    "filt1b_3 = df3['Availability Zone'] == 'us-east-1b'\n",
    "filt1c_3 = df3['Availability Zone'] == 'us-east-1c'\n",
    "filt1d_3 = df3['Availability Zone'] == 'us-east-1d'\n",
    "filt1e_3 = df3['Availability Zone'] == 'us-east-1e'\n",
    "filt1f_3 = df3['Availability Zone'] == 'us-east-1f'\n",
    "#creating filters based on availability zones"
   ]
  },
  {
   "cell_type": "code",
   "execution_count": null,
   "id": "7c8cad5a",
   "metadata": {},
   "outputs": [],
   "source": [
    "df17 = df3.loc[filt1a_3] #new data frame of observations limited to the us-east-1a availability zone\n",
    "df18 = df3.loc[filt1b_3] #new data frame of observations limited to the us-east-1b availability zone\n",
    "#df4 is already a data frame of observations \n",
    "df19 = df3.loc[filt1d_3] #new data frame of observations limited to the us-east-1d availability zone\n",
    "df20 = df3.loc[filt1e_3] #new data frame of observations limited to the us-east-1e availability zone\n",
    "df21 = df3.loc[filt1f_3] #new data frame of observations limited to the us-east-1f availability zone"
   ]
  },
  {
   "cell_type": "code",
   "execution_count": null,
   "id": "317b5bba",
   "metadata": {},
   "outputs": [],
   "source": [
    "print(df17['Spot Price'].describe().round(4)) #us-east-1a"
   ]
  },
  {
   "cell_type": "code",
   "execution_count": null,
   "id": "36d1a3c6",
   "metadata": {},
   "outputs": [],
   "source": [
    "print(df18['Spot Price'].describe().round(4)) #us-east-1b"
   ]
  },
  {
   "cell_type": "code",
   "execution_count": null,
   "id": "fe1635a2",
   "metadata": {},
   "outputs": [],
   "source": [
    "print(df4['Spot Price'].describe().round(4)) #us-east-1c"
   ]
  },
  {
   "cell_type": "code",
   "execution_count": null,
   "id": "661070a0",
   "metadata": {},
   "outputs": [],
   "source": [
    "print(df19['Spot Price'].describe().round(4)) #us-east-1d"
   ]
  },
  {
   "cell_type": "code",
   "execution_count": null,
   "id": "8fa2eb43",
   "metadata": {},
   "outputs": [],
   "source": [
    "print(df20['Spot Price'].describe().round(4)) #us-east-1e"
   ]
  },
  {
   "cell_type": "code",
   "execution_count": null,
   "id": "3ad5aaae",
   "metadata": {},
   "outputs": [],
   "source": [
    "print(df21['Spot Price'].describe().round(4)) #us-east-1f"
   ]
  },
  {
   "cell_type": "markdown",
   "id": "3dbbc337",
   "metadata": {},
   "source": [
    "##### Plotting"
   ]
  },
  {
   "cell_type": "code",
   "execution_count": null,
   "id": "af488424",
   "metadata": {},
   "outputs": [],
   "source": [
    "# Histograms\n",
    "plt.style.use('fivethirtyeight')\n",
    "\n",
    "bins=[0,1,2,3,4,5,6,7,8,9,10,11,12,13,14]\n",
    "    #creates objects to specify bins, results shown fall in these ranges\n",
    "    \n",
    "plt.hist(df17['Spot Price'], bins=bins, color='#1b702d', edgecolor='k', linewidth=1.25)\n",
    "\n",
    "mean1a = 0.9013\n",
    "color1 = '#03c4ff'\n",
    "plt.axvline(mean1a, color=color1, label='Mean', linewidth=2)\n",
    "\n",
    "median1a = 0.5040\n",
    "color2 = '#ffbdc3'\n",
    "plt.axvline(median1a, color=color2, label='Median', linewidth=2)\n",
    "\n",
    "plt.title('Spot Prices in the us-east-1a Availability Zone')\n",
    "plt.xlabel('Spot Prices (USD)')\n",
    "plt.ylabel('Total Count')\n",
    "plt.yticks([0,10000,20000,30000,40000,50000,60000,70000,80000,90000,100000,110000,120000,\n",
    "           130000,140000,150000,160000])\n",
    "\n",
    "plt.legend()\n",
    "plt.tight_layout()\n",
    "#plt.savefig('histogram1.png')\n",
    "#plt.show()"
   ]
  },
  {
   "cell_type": "code",
   "execution_count": null,
   "id": "cd199e2e",
   "metadata": {},
   "outputs": [],
   "source": [
    "# Histograms\n",
    "plt.style.use('fivethirtyeight')\n",
    "\n",
    "bins=[0,1,2,3,4,5,6,7,8,9,10,11,12,13,14]\n",
    "    #creates objects to specify bins, results shown fall in these ranges\n",
    "    \n",
    "plt.hist(df18['Spot Price'], bins=bins, color='#552aa1', edgecolor='k', linewidth=1.25)\n",
    "\n",
    "mean1b = 0.9051\n",
    "color1 = '#e6e60e'\n",
    "plt.axvline(mean1a, color=color1, label='Mean', linewidth=2)\n",
    "\n",
    "median1b = 0.5334\n",
    "color2 = '#ffa200'\n",
    "plt.axvline(median1a, color=color2, label='Median', linewidth=2)\n",
    "\n",
    "plt.title('Spot Prices in the us-east-1b Availability Zone')\n",
    "plt.xlabel('Spot Prices (USD)')\n",
    "plt.ylabel('Total Count')\n",
    "\n",
    "plt.legend()\n",
    "plt.tight_layout()\n",
    "#plt.savefig('histogram2.png')\n",
    "#plt.show()"
   ]
  },
  {
   "cell_type": "code",
   "execution_count": null,
   "id": "09e873b2",
   "metadata": {},
   "outputs": [],
   "source": [
    "# Histograms\n",
    "plt.style.use('fivethirtyeight')\n",
    "\n",
    "bins=[0,1,2,3,4,5,6,7,8,9,10,11,12,13,14]\n",
    "    #creates objects to specify bins, results shown fall in these ranges\n",
    "    \n",
    "plt.hist(df4['Spot Price'], bins=bins, color='#201bb5', edgecolor='k', linewidth=1.25)\n",
    "\n",
    "mean1c = 1.0286\n",
    "color1 = '#2fede4'\n",
    "plt.axvline(mean1a, color=color1, label='Mean', linewidth=2)\n",
    "\n",
    "median1c = 0.5381\n",
    "color2 = '#f23fe9'\n",
    "plt.axvline(median1a, color=color2, label='Median', linewidth=2)\n",
    "\n",
    "plt.title('Spot Prices in the us-east-1c Availability Zone')\n",
    "plt.xlabel('Spot Prices (USD)')\n",
    "plt.ylabel('Total Count')\n",
    "\n",
    "plt.legend()\n",
    "plt.tight_layout()\n",
    "#plt.savefig('histogram3.png')\n",
    "#plt.show()"
   ]
  },
  {
   "cell_type": "code",
   "execution_count": null,
   "id": "d6711959",
   "metadata": {},
   "outputs": [],
   "source": [
    "# Histograms\n",
    "plt.style.use('fivethirtyeight')\n",
    "\n",
    "bins=[0,1,2,3,4,5,6,7,8,9,10,11,12,13,14]\n",
    "    #creates objects to specify bins, results shown fall in these ranges\n",
    "    \n",
    "plt.hist(df19['Spot Price'], bins=bins, color='#db1a1a', edgecolor='k', linewidth=1.25)\n",
    "\n",
    "mean1d = 0.9813\n",
    "color1 = '#407cff'\n",
    "plt.axvline(mean1a, color=color1, label='Mean', linewidth=2)\n",
    "\n",
    "median1d = 0.5402\n",
    "color2 = '#1dad4b'\n",
    "plt.axvline(median1a, color=color2, label='Median', linewidth=2)\n",
    "\n",
    "plt.title('Spot Prices in the us-east-1d Availability Zone')\n",
    "plt.xlabel('Spot Prices (USD)')\n",
    "plt.ylabel('Total Count')\n",
    "\n",
    "plt.legend()\n",
    "plt.tight_layout()\n",
    "#plt.savefig('histogram4.png')\n",
    "#plt.show()"
   ]
  },
  {
   "cell_type": "code",
   "execution_count": null,
   "id": "1a118b8f",
   "metadata": {},
   "outputs": [],
   "source": [
    "# Histograms\n",
    "plt.style.use('fivethirtyeight')\n",
    "\n",
    "bins=[0,1,2,3,4,5,6,7,8,9,10]\n",
    "    #creates objects to specify bins, results shown fall in these ranges\n",
    "    \n",
    "plt.hist(df20['Spot Price'], bins=bins, color='#ab13bf', edgecolor='k', linewidth=1.25)\n",
    "\n",
    "mean1e = 0.6738\n",
    "color1 = '#33d6c9'\n",
    "plt.axvline(mean1a, color=color1, label='Mean', linewidth=2)\n",
    "\n",
    "median1e = 0.3300\n",
    "color2 = '#e35d5d'\n",
    "plt.axvline(median1a, color=color2, label='Median', linewidth=2)\n",
    "\n",
    "plt.title('Spot Prices in the us-east-1e Availability Zone')\n",
    "plt.xlabel('Spot Prices (USD)')\n",
    "plt.ylabel('Total Count')\n",
    "\n",
    "plt.legend()\n",
    "plt.tight_layout()\n",
    "#plt.savefig('histogram5.png')\n",
    "#plt.show()"
   ]
  },
  {
   "cell_type": "code",
   "execution_count": null,
   "id": "86b9f82b",
   "metadata": {},
   "outputs": [],
   "source": [
    "# Histograms\n",
    "plt.style.use('fivethirtyeight')\n",
    "\n",
    "bins=[0,1,2,3,4,5,6,7,8,9]\n",
    "    #creates objects to specify bins, results shown fall in these ranges\n",
    "    \n",
    "plt.hist(df21['Spot Price'], bins=bins, color='#ff9e17', edgecolor='k', linewidth=1.25)\n",
    "\n",
    "mean1f = 0.9126\n",
    "color1 = '#8443b5'\n",
    "plt.axvline(mean1a, color=color1, label='Mean', linewidth=2)\n",
    "\n",
    "median1f = 0.5040\n",
    "color2 = '#b54ea2'\n",
    "plt.axvline(median1a, color=color2, label='Median', linewidth=2)\n",
    "\n",
    "plt.title('Spot Prices in the us-east-1f Availability Zone')\n",
    "plt.xlabel('Spot Prices (USD)')\n",
    "plt.ylabel('Total Count')\n",
    "\n",
    "plt.legend()\n",
    "plt.tight_layout()\n",
    "#plt.savefig('histogram6.png')\n",
    "#plt.show()"
   ]
  },
  {
   "cell_type": "markdown",
   "id": "47d4f6a8",
   "metadata": {},
   "source": [
    "## Numerical and/or Graphical Analysis of Availability Zones"
   ]
  },
  {
   "cell_type": "markdown",
   "id": "15b15c7f",
   "metadata": {},
   "source": [
    "##### Number Crunching"
   ]
  },
  {
   "cell_type": "code",
   "execution_count": null,
   "id": "d6be8605",
   "metadata": {},
   "outputs": [],
   "source": [
    "filtLU_3 = df3['Product Description'] == 'Linux/UNIX'\n",
    "filtRHEL_3 = df3['Product Description'] == 'Red Hat Enterprise Linux'\n",
    "filtSL_3 = df3['Product Description'] == 'SUSE Linux'\n",
    "filtW_3 = df3['Product Description'] == 'Windows'\n",
    "#creating filters based on product descriptions"
   ]
  },
  {
   "cell_type": "code",
   "execution_count": null,
   "id": "dec267cf",
   "metadata": {},
   "outputs": [],
   "source": [
    "df22 = df3.loc[filtLU_3] #new data frame of observations limited to the Linux/UNIX products\n",
    "df23 = df3.loc[filtRHEL_3] #new data frame of observations limited to the Red Hat Enterprise Linux products\n",
    "df24 = df3.loc[filtSL_3] #new data frame of observations limited to the SUSE Linux products\n",
    "df25 = df3.loc[filtW_3] #new data frame of observations limited to the Windows products"
   ]
  },
  {
   "cell_type": "code",
   "execution_count": null,
   "id": "48a050cc",
   "metadata": {},
   "outputs": [],
   "source": [
    "print(df22['Spot Price'].describe().round(4))"
   ]
  },
  {
   "cell_type": "code",
   "execution_count": null,
   "id": "4fe619d0",
   "metadata": {},
   "outputs": [],
   "source": [
    "print(df23['Spot Price'].describe().round(4))"
   ]
  },
  {
   "cell_type": "code",
   "execution_count": null,
   "id": "248fe169",
   "metadata": {},
   "outputs": [],
   "source": [
    "print(df24['Spot Price'].describe().round(4))"
   ]
  },
  {
   "cell_type": "code",
   "execution_count": null,
   "id": "727d6544",
   "metadata": {},
   "outputs": [],
   "source": [
    "print(df25['Spot Price'].describe().round(4))"
   ]
  },
  {
   "cell_type": "markdown",
   "id": "e6a3b732",
   "metadata": {},
   "source": [
    "##### Plotting"
   ]
  },
  {
   "cell_type": "code",
   "execution_count": null,
   "id": "a24629c9",
   "metadata": {},
   "outputs": [],
   "source": [
    "#BoxPlot\n",
    "\n",
    "PDs = [df22['Spot Price'],df23['Spot Price'],df24['Spot Price'],df25['Spot Price']]\n",
    "\n",
    "plt.boxplot(PDs)\n",
    "\n",
    "plt.title('Boxplots of Spot Prices within All Product Descriptions')\n",
    "plt.xticks([1,2,3,4], ['Linux/UNIX', 'Red Hat Enterprise Linux', 'SUSE Linux', 'Windows'])\n",
    "\n",
    "plt.tight_layout()\n",
    "#plt.savefig('boxplot1.png')\n",
    "#plt.show()"
   ]
  },
  {
   "cell_type": "code",
   "execution_count": null,
   "id": "e4e1eef0",
   "metadata": {},
   "outputs": [],
   "source": [
    "## ALL WORK ABOVE WAS DONE ON OR BEFORE FRIDAY, JUNE 11, 2021"
   ]
  },
  {
   "cell_type": "code",
   "execution_count": null,
   "id": "cb724dea",
   "metadata": {},
   "outputs": [],
   "source": [
    "# Things to mess around with Monday:\n",
    "    # Further analyze the p4d.24xlarge IT (numerical and/or graphical)\n",
    "    # Further analyze the Windows PD (numerical and/or graphical)\n",
    "    # Attempt to do more time series plotting"
   ]
  },
  {
   "cell_type": "code",
   "execution_count": null,
   "id": "c6002f80",
   "metadata": {},
   "outputs": [],
   "source": [
    "filtIT = df3['Instance Type'] == 'p4d.24xlarge'\n",
    "df26 = df3.loc[filtIT]\n",
    "df26"
   ]
  },
  {
   "cell_type": "code",
   "execution_count": null,
   "id": "4fc3ec4f",
   "metadata": {},
   "outputs": [],
   "source": [
    "print(df26['Spot Price'].describe().round(4))"
   ]
  },
  {
   "cell_type": "code",
   "execution_count": null,
   "id": "c5c3b369",
   "metadata": {},
   "outputs": [],
   "source": [
    "df27 = df26.loc[df26['Product Description'] == 'Linux/UNIX']\n",
    "df27"
   ]
  },
  {
   "cell_type": "markdown",
   "id": "af5a6b03",
   "metadata": {},
   "source": [
    "### Time Series Plots"
   ]
  },
  {
   "cell_type": "code",
   "execution_count": null,
   "id": "3dd1f02b",
   "metadata": {},
   "outputs": [],
   "source": [
    "# Time Series Plot for df27 us-east-1a AZ\n",
    "plt.style.use('seaborn-poster')\n",
    "\n",
    "filt1a_27 = df27.loc[df27['Availability Zone'] == 'us-east-1a']\n",
    "\n",
    "plt.plot_date(filt1a_27['Date and Time Stamp'], filt1a_27['Spot Price'], linestyle='solid',color='#681aa3')\n",
    "\n",
    "plt.gcf().autofmt_xdate()\n",
    "date_format = mpl_dates.DateFormatter('%b %d, %Y')\n",
    "plt.gca().xaxis.set_major_formatter(date_format)\n",
    "\n",
    "plt.title('Time Series Plot of the p4d.24xlarge Instance Type Across the ' + \"\\n\" +\n",
    "          'us-east-1a Availability Zone and Linux/UNIX Products')\n",
    "plt.xlabel('Date')\n",
    "plt.ylabel('Spot Price')\n",
    "plt.yticks([9.75,10,10.25,10.5,10.75,11,11.25,11.5,11.75])\n",
    "\n",
    "plt.tight_layout()\n",
    "#plt.savefig('timeseries1.png')\n",
    "#plt.show()"
   ]
  },
  {
   "cell_type": "code",
   "execution_count": null,
   "id": "d4aef830",
   "metadata": {},
   "outputs": [],
   "source": [
    "# Time Series Plot for df27 us-east-1c AZ\n",
    "plt.style.use('seaborn-poster')\n",
    "\n",
    "filt1c_27 = df27.loc[df27['Availability Zone'] == 'us-east-1c']\n",
    "\n",
    "plt.plot_date(filt1c_27['Date and Time Stamp'], filt1c_27['Spot Price'], linestyle='solid',color='#3478d1')\n",
    "\n",
    "plt.gcf().autofmt_xdate()\n",
    "date_format = mpl_dates.DateFormatter('%b %d, %Y')\n",
    "plt.gca().xaxis.set_major_formatter(date_format)\n",
    "\n",
    "plt.title('Time Series Plot of the p4d.24xlarge Instance Type Across the ' + \"\\n\" +\n",
    "          'us-east-1c Availability Zone and Linux/UNIX Products')\n",
    "plt.xlabel('Date')\n",
    "plt.ylabel('Spot Price')\n",
    "plt.yticks([9.5,10,10.5,11,11.5,12,12.5,13,13.5])\n",
    "\n",
    "plt.tight_layout()\n",
    "#plt.savefig('timeseries2.png')\n",
    "#plt.show()"
   ]
  },
  {
   "cell_type": "code",
   "execution_count": null,
   "id": "5fe71316",
   "metadata": {},
   "outputs": [],
   "source": [
    "# Time Series Plot for df27 us-east-1d AZ\n",
    "plt.style.use('seaborn-poster')\n",
    "\n",
    "filt1d_27 = df27.loc[df27['Availability Zone'] == 'us-east-1d']\n",
    "\n",
    "plt.plot_date(filt1d_27['Date and Time Stamp'], filt1d_27['Spot Price'], linestyle='solid',color='#d12cb8')\n",
    "\n",
    "plt.gcf().autofmt_xdate()\n",
    "date_format = mpl_dates.DateFormatter('%b %d, %Y')\n",
    "plt.gca().xaxis.set_major_formatter(date_format)\n",
    "\n",
    "plt.title('Time Series Plot of the p4d.24xlarge Instance Type Across the ' + \"\\n\" +\n",
    "          'us-east-1d Availability Zone and Linux/UNIX Products')\n",
    "plt.xlabel('Date')\n",
    "plt.ylabel('Spot Price')\n",
    "\n",
    "plt.tight_layout()\n",
    "#plt.savefig('timeseries3.png')\n",
    "#plt.show()"
   ]
  },
  {
   "cell_type": "code",
   "execution_count": null,
   "id": "de3f9948",
   "metadata": {},
   "outputs": [],
   "source": [
    "df28 = df26.loc[df26['Product Description'] == 'Red Hat Enterprise Linux']\n",
    "df28"
   ]
  },
  {
   "cell_type": "code",
   "execution_count": null,
   "id": "fbecec1b",
   "metadata": {},
   "outputs": [],
   "source": [
    "# Time Series Plot for df28 us-east-1a AZ\n",
    "plt.style.use('seaborn-poster')\n",
    "\n",
    "filt1a_28 = df28.loc[df28['Availability Zone'] == 'us-east-1a']\n",
    "\n",
    "plt.plot_date(filt1a_28['Date and Time Stamp'], filt1a_28['Spot Price'], linestyle='solid',color='#107030')\n",
    "\n",
    "plt.gcf().autofmt_xdate()\n",
    "date_format = mpl_dates.DateFormatter('%b %d, %Y')\n",
    "plt.gca().xaxis.set_major_formatter(date_format)\n",
    "\n",
    "plt.title('Time Series Plot of the p4d.24xlarge Instance Type Across the ' + \"\\n\" +\n",
    "          'us-east-1a Availability Zone and Red Hat Enterprise Linux Products')\n",
    "plt.xlabel('Date')\n",
    "plt.ylabel('Spot Price')\n",
    "plt.yticks([9.75,10,10.25,10.5,10.75,11,11.25,11.5,11.75])\n",
    "\n",
    "plt.tight_layout()\n",
    "#plt.savefig('timeseries4.png')\n",
    "#plt.show()"
   ]
  },
  {
   "cell_type": "code",
   "execution_count": null,
   "id": "11572262",
   "metadata": {},
   "outputs": [],
   "source": [
    "# Time Series Plot for df28 us-east-1c AZ\n",
    "plt.style.use('seaborn-poster')\n",
    "\n",
    "filt1c_28 = df28.loc[df28['Availability Zone'] == 'us-east-1c']\n",
    "\n",
    "plt.plot_date(filt1c_28['Date and Time Stamp'], filt1c_28['Spot Price'], linestyle='solid',color='#e88d15')\n",
    "\n",
    "plt.gcf().autofmt_xdate()\n",
    "date_format = mpl_dates.DateFormatter('%b %d, %Y')\n",
    "plt.gca().xaxis.set_major_formatter(date_format)\n",
    "\n",
    "plt.title('Time Series Plot of the p4d.24xlarge Instance Type Across the ' + \"\\n\" +\n",
    "          'us-east-1c Availability Zone and Red Hat Enterprise Linux Products')\n",
    "plt.xlabel('Date')\n",
    "plt.ylabel('Spot Price')\n",
    "\n",
    "plt.tight_layout()\n",
    "#plt.savefig('timeseries5.png')\n",
    "#plt.show()"
   ]
  },
  {
   "cell_type": "code",
   "execution_count": null,
   "id": "f6c49923",
   "metadata": {},
   "outputs": [],
   "source": [
    "# Time Series Plot for df28 us-east-1d AZ\n",
    "plt.style.use('seaborn-poster')\n",
    "\n",
    "filt1d_28 = df28.loc[df28['Availability Zone'] == 'us-east-1d']\n",
    "\n",
    "plt.plot_date(filt1d_28['Date and Time Stamp'], filt1d_28['Spot Price'], linestyle='solid',color='#bf173e')\n",
    "\n",
    "plt.gcf().autofmt_xdate()\n",
    "date_format = mpl_dates.DateFormatter('%b %d, %Y')\n",
    "plt.gca().xaxis.set_major_formatter(date_format)\n",
    "\n",
    "plt.title('Time Series Plot of the p4d.24xlarge Instance Type Across the ' + \"\\n\" +\n",
    "          'us-east-1d Availability Zone and Red Hat Enterprise Linux Products')\n",
    "plt.xlabel('Date')\n",
    "plt.ylabel('Spot Price')\n",
    "\n",
    "plt.tight_layout()\n",
    "#plt.savefig('timeseries6.png')\n",
    "#plt.show()"
   ]
  },
  {
   "cell_type": "code",
   "execution_count": null,
   "id": "1c34ec66",
   "metadata": {},
   "outputs": [],
   "source": [
    "df29 = df26.loc[df26['Product Description'] == 'SUSE Linux']\n",
    "df29"
   ]
  },
  {
   "cell_type": "code",
   "execution_count": null,
   "id": "b62a350f",
   "metadata": {},
   "outputs": [],
   "source": [
    "# Time Series Plot for df29 us-east-1a AZ\n",
    "plt.style.use('seaborn-poster')\n",
    "\n",
    "filt1a_29 = df29.loc[df29['Availability Zone'] == 'us-east-1a']\n",
    "\n",
    "plt.plot_date(filt1a_29['Date and Time Stamp'], filt1a_29['Spot Price'], linestyle='solid',color='#00ccc8')\n",
    "\n",
    "plt.gcf().autofmt_xdate()\n",
    "date_format = mpl_dates.DateFormatter('%b %d, %Y')\n",
    "plt.gca().xaxis.set_major_formatter(date_format)\n",
    "\n",
    "plt.title('Time Series Plot of the p4d.24xlarge Instance Type Across the ' + \"\\n\" +\n",
    "          'us-east-1a Availability Zone and SUSE Linux Products')\n",
    "plt.xlabel('Date')\n",
    "plt.ylabel('Spot Price')\n",
    "plt.yticks([9.75,10,10.25,10.5,10.75,11,11.25,11.5,11.75])\n",
    "\n",
    "plt.tight_layout()\n",
    "#plt.savefig('timeseries7.png')\n",
    "#plt.show()"
   ]
  },
  {
   "cell_type": "code",
   "execution_count": null,
   "id": "8ba6682a",
   "metadata": {},
   "outputs": [],
   "source": [
    "# Time Series Plot for df29 us-east-1c AZ\n",
    "plt.style.use('seaborn-poster')\n",
    "\n",
    "filt1c_29 = df29.loc[df29['Availability Zone'] == 'us-east-1c']\n",
    "\n",
    "plt.plot_date(filt1c_29['Date and Time Stamp'], filt1c_29['Spot Price'], linestyle='solid',color='#512aad')\n",
    "\n",
    "plt.gcf().autofmt_xdate()\n",
    "date_format = mpl_dates.DateFormatter('%b %d, %Y')\n",
    "plt.gca().xaxis.set_major_formatter(date_format)\n",
    "\n",
    "plt.title('Time Series Plot of the p4d.24xlarge Instance Type Across the ' + \"\\n\" +\n",
    "          'us-east-1c Availability Zone and SUSE Linux Products')\n",
    "plt.xlabel('Date')\n",
    "plt.ylabel('Spot Price')\n",
    "\n",
    "plt.tight_layout()\n",
    "#plt.savefig('timeseries8.png')\n",
    "#plt.show()"
   ]
  },
  {
   "cell_type": "code",
   "execution_count": null,
   "id": "7b69fa8a",
   "metadata": {},
   "outputs": [],
   "source": [
    "# Time Series Plot for df29 us-east-1d AZ\n",
    "plt.style.use('seaborn-poster')\n",
    "\n",
    "filt1d_29 = df29.loc[df29['Availability Zone'] == 'us-east-1d']\n",
    "\n",
    "plt.plot_date(filt1d_29['Date and Time Stamp'], filt1d_29['Spot Price'], linestyle='solid',color='#62bd13')\n",
    "\n",
    "plt.gcf().autofmt_xdate()\n",
    "date_format = mpl_dates.DateFormatter('%b %d, %Y')\n",
    "plt.gca().xaxis.set_major_formatter(date_format)\n",
    "\n",
    "plt.title('Time Series Plot of the p4d.24xlarge Instance Type Across the ' + \"\\n\" +\n",
    "          'us-east-1d Availability Zone and SUSE Linux Products')\n",
    "plt.xlabel('Date')\n",
    "plt.ylabel('Spot Price')\n",
    "\n",
    "plt.tight_layout()\n",
    "#plt.savefig('timeseries9.png')\n",
    "#plt.show()"
   ]
  },
  {
   "cell_type": "code",
   "execution_count": null,
   "id": "7b2bcca4",
   "metadata": {},
   "outputs": [],
   "source": [
    "df30 = df27.loc[(df27['Availability Zone'] == 'us-east-1a') &\n",
    "                (df27['Date and Time Stamp'] >= '2021-05-22 00:00:00+00:00')]\n",
    "#df30 further breaks down df27 to only contain obs from the us-east-1a AZ and from 5/22/2021 onward\n",
    "\n",
    "df31 = df28.loc[(df28['Availability Zone'] == 'us-east-1a') &\n",
    "                (df28['Date and Time Stamp'] >= '2021-05-22 00:00:00+00:00')]\n",
    "#df31 further breaks down df28 to only contain obs from the us-east-1a AZ and from 5/22/2021 onward\n",
    "\n",
    "df32 = df29.loc[(df29['Availability Zone'] == 'us-east-1a') &\n",
    "                (df29['Date and Time Stamp'] >= '2021-05-22 00:00:00+00:00')]\n",
    "#df32 further breaks down df29 to only contain obs from the us-east-1a AZ and from 5/22/2021 onward"
   ]
  },
  {
   "cell_type": "code",
   "execution_count": null,
   "id": "714d120f",
   "metadata": {},
   "outputs": [],
   "source": [
    "# Time series of p4d.24xlarge across the us-east-1a AZ\n",
    "\n",
    "plt.style.use('seaborn-poster')\n",
    "\n",
    "plt.plot_date(df30['Date and Time Stamp'], df30['Spot Price'], linestyle='solid',\n",
    "              color='k', label='Linux/UNIX')\n",
    "plt.plot_date(df31['Date and Time Stamp'], df31['Spot Price'], linestyle='solid',\n",
    "              color='b', label='Red Hat Enterprise Linux')\n",
    "plt.plot_date(df32['Date and Time Stamp'], df32['Spot Price'], linestyle='solid',\n",
    "              color='c', label='SUSE Linux')\n",
    "\n",
    "plt.gcf().autofmt_xdate()\n",
    "date_format = mpl_dates.DateFormatter('%b %d, %Y')\n",
    "plt.gca().xaxis.set_major_formatter(date_format)\n",
    "\n",
    "plt.title('Time Series Plot of the p4d.24xlarge Instance Type Across the us-east-1a' + \"\\n\" +\n",
    "          'Availability Zone and all Product Descriptions From 5/22/2021 Onward')\n",
    "plt.xlabel('Date')\n",
    "plt.ylabel('Spot Price')\n",
    "\n",
    "plt.legend()\n",
    "plt.tight_layout()\n",
    "#plt.savefig('timeseries10.png')\n",
    "#plt.show()"
   ]
  },
  {
   "cell_type": "code",
   "execution_count": null,
   "id": "c4cf789f",
   "metadata": {},
   "outputs": [],
   "source": [
    "df3.columns"
   ]
  },
  {
   "cell_type": "code",
   "execution_count": null,
   "id": "e26d5778",
   "metadata": {},
   "outputs": [],
   "source": [
    "df38 = df3.copy()\n",
    "df38.columns = ['AZ','IT','OS','SP',\"DT\"]\n",
    "df38.head()"
   ]
  },
  {
   "cell_type": "code",
   "execution_count": null,
   "id": "7b023538",
   "metadata": {},
   "outputs": [],
   "source": [
    "print(df30['Spot Price'].describe())"
   ]
  },
  {
   "cell_type": "code",
   "execution_count": null,
   "id": "c1494d16",
   "metadata": {},
   "outputs": [],
   "source": [
    "print(df31['Spot Price'].describe())"
   ]
  },
  {
   "cell_type": "code",
   "execution_count": null,
   "id": "cad97a9d",
   "metadata": {},
   "outputs": [],
   "source": [
    "print(df32['Spot Price'].describe())"
   ]
  },
  {
   "cell_type": "code",
   "execution_count": null,
   "id": "cec46aad",
   "metadata": {},
   "outputs": [],
   "source": [
    "df33 = df27.loc[(df27['Availability Zone'] == 'us-east-1d') &\n",
    "                (df27['Date and Time Stamp'] >= '2021-05-22 00:00:00+00:00')]\n",
    "#df33 further breaks down df27 to only contain obs from the us-east-1d AZ and from 5/22/2021 onward\n",
    "\n",
    "df34 = df28.loc[(df28['Availability Zone'] == 'us-east-1d') &\n",
    "                (df28['Date and Time Stamp'] >= '2021-05-22 00:00:00+00:00')]\n",
    "#df34 further breaks down df28 to only contain obs from the us-east-1d AZ and from 5/22/2021 onward\n",
    "\n",
    "df35 = df29.loc[(df29['Availability Zone'] == 'us-east-1d') &\n",
    "                (df29['Date and Time Stamp'] >= '2021-05-22 00:00:00+00:00')]\n",
    "#df35 further breaks down df29 to only contain obs from the us-east-1d AZ and from 5/22/2021 onward"
   ]
  },
  {
   "cell_type": "code",
   "execution_count": null,
   "id": "227a4237",
   "metadata": {},
   "outputs": [],
   "source": [
    "# Time series of p4d.24xlarge across the us-east-1d AZ\n",
    "plt.style.use('seaborn-poster')\n",
    "\n",
    "plt.plot_date(df33['Date and Time Stamp'], df33['Spot Price'], linestyle='solid',\n",
    "              color='k', label='Linux/UNIX')\n",
    "plt.plot_date(df34['Date and Time Stamp'], df34['Spot Price'], linestyle='solid',\n",
    "              color='b', label='Red Hat Enterprise Linux')\n",
    "plt.plot_date(df35['Date and Time Stamp'], df34['Spot Price'], linestyle='solid',\n",
    "              color='b', label='SUSE Linux')\n",
    "\n",
    "plt.gcf().autofmt_xdate()\n",
    "date_format = mpl_dates.DateFormatter('%b %d, %Y')\n",
    "plt.gca().xaxis.set_major_formatter(date_format)\n",
    "\n",
    "plt.title('Time Series Plot of the p4d.24xlarge Instance Type Across the us-east-1d' + \"\\n\" +\n",
    "          'Availability Zone and all Product Descriptions From 5/22/2021 Onward')\n",
    "plt.xlabel('Date')\n",
    "plt.ylabel('Spot Price')\n",
    "\n",
    "plt.legend()\n",
    "plt.tight_layout()\n",
    "#plt.savefig('timeseries11.png')\n",
    "#plt.show()"
   ]
  },
  {
   "cell_type": "code",
   "execution_count": null,
   "id": "22f8c62c",
   "metadata": {},
   "outputs": [],
   "source": [
    "print(df33['Spot Price'].describe())"
   ]
  },
  {
   "cell_type": "code",
   "execution_count": null,
   "id": "21dadca1",
   "metadata": {},
   "outputs": [],
   "source": [
    "print(df34['Spot Price'].describe())"
   ]
  },
  {
   "cell_type": "code",
   "execution_count": null,
   "id": "3c1f60dc",
   "metadata": {},
   "outputs": [],
   "source": [
    "print(df35['Spot Price'].describe())"
   ]
  },
  {
   "cell_type": "code",
   "execution_count": null,
   "id": "7fa4ed69",
   "metadata": {},
   "outputs": [],
   "source": [
    "df36 = df3.loc[df3['Instance Type'].str.contains(\"a1|c6|df3|f1|g4|h1|i3|inf1|m6|p4|r6|t4|x2|z1\")]\n",
    "df36"
   ]
  },
  {
   "cell_type": "code",
   "execution_count": null,
   "id": "b0928519",
   "metadata": {},
   "outputs": [],
   "source": [
    "# Time series of a1 ITs within the us-east-1a AZ for Linux/UNIX products\n",
    "plt.style.use('seaborn-poster')\n",
    "\n",
    "filt36_1 = df36.loc[(df36['Availability Zone'] == 'us-east-1a') & (df36['Instance Type'] == 'a1.medium') &\n",
    "           (df36['Product Description'] == 'Linux/UNIX')]\n",
    "filt36_2 = df36.loc[(df36['Availability Zone'] == 'us-east-1a') & (df36['Instance Type'] == 'a1.metal') &\n",
    "           (df36['Product Description'] == 'Linux/UNIX')]\n",
    "filt36_3 = df36.loc[(df36['Availability Zone'] == 'us-east-1a') & (df36['Instance Type'] == 'a1.large') &\n",
    "           (df36['Product Description'] == 'Linux/UNIX')]\n",
    "filt36_4 = df36.loc[(df36['Availability Zone'] == 'us-east-1a') & (df36['Instance Type'] == 'a1.xlarge') &\n",
    "           (df36['Product Description'] == 'Linux/UNIX')]\n",
    "filt36_5 = df36.loc[(df36['Availability Zone'] == 'us-east-1a') & (df36['Instance Type'] == 'a1.2xlarge') &\n",
    "           (df36['Product Description'] == 'Linux/UNIX')]\n",
    "filt36_6 = df36.loc[(df36['Availability Zone'] == 'us-east-1a') & (df36['Instance Type'] == 'a1.4xlarge') &\n",
    "           (df36['Product Description'] == 'Linux/UNIX')]\n",
    "\n",
    "plt.plot_date(filt36_1['Date and Time Stamp'], filt36_1['Spot Price'], linestyle='solid',\n",
    "              color='k', label='a1.medium')\n",
    "plt.plot_date(filt36_2['Date and Time Stamp'], filt36_2['Spot Price'], linestyle='solid',\n",
    "              color='b', label='a1.metal')\n",
    "plt.plot_date(filt36_3['Date and Time Stamp'], filt36_3['Spot Price'], linestyle='solid',\n",
    "              color='c', label='a1.large')\n",
    "plt.plot_date(filt36_4['Date and Time Stamp'], filt36_4['Spot Price'], linestyle='solid',\n",
    "              color='r', label='a1.xlarge')\n",
    "plt.plot_date(filt36_5['Date and Time Stamp'], filt36_5['Spot Price'], linestyle='solid',\n",
    "              color='y', label='a1.2xlarge')\n",
    "plt.plot_date(filt36_6['Date and Time Stamp'], filt36_6['Spot Price'], linestyle='solid',\n",
    "              color='w', label='a1.4xlarge',alpha=0.5)\n",
    "\n",
    "plt.gcf().autofmt_xdate()\n",
    "date_format = mpl_dates.DateFormatter('%b %d, %Y')\n",
    "plt.gca().xaxis.set_major_formatter(date_format)\n",
    "\n",
    "plt.title('Time Series Plot of all a1 Instance Types for Linux/UNIX Products' + \"\\n\" +\n",
    "          'Within the us-east-1a Availability Zone')\n",
    "plt.xlabel('Date')\n",
    "plt.ylabel('Spot Price')\n",
    "\n",
    "plt.legend(loc = (0.77,0.6))\n",
    "plt.tight_layout()\n",
    "#plt.savefig('timeseries12.png')\n",
    "#plt.show()"
   ]
  },
  {
   "cell_type": "code",
   "execution_count": null,
   "id": "f9e6fc84",
   "metadata": {},
   "outputs": [],
   "source": [
    "# Time series of a1 ITs within the us-east-1b AZ for Linux/UNIX products\n",
    "plt.style.use('seaborn-poster')\n",
    "\n",
    "filt36_7 = df36.loc[(df36['Availability Zone'] == 'us-east-1b') & (df36['Instance Type'] == 'a1.medium') &\n",
    "           (df36['Product Description'] == 'Linux/UNIX')]\n",
    "filt36_8 = df36.loc[(df36['Availability Zone'] == 'us-east-1b') & (df36['Instance Type'] == 'a1.metal') &\n",
    "           (df36['Product Description'] == 'Linux/UNIX')]\n",
    "filt36_9 = df36.loc[(df36['Availability Zone'] == 'us-east-1b') & (df36['Instance Type'] == 'a1.large') &\n",
    "           (df36['Product Description'] == 'Linux/UNIX')]\n",
    "filt36_10 = df36.loc[(df36['Availability Zone'] == 'us-east-1b') & (df36['Instance Type'] == 'a1.xlarge') &\n",
    "           (df36['Product Description'] == 'Linux/UNIX')]\n",
    "filt36_11 = df36.loc[(df36['Availability Zone'] == 'us-east-1b') & (df36['Instance Type'] == 'a1.2xlarge') &\n",
    "           (df36['Product Description'] == 'Linux/UNIX')]\n",
    "filt36_12 = df36.loc[(df36['Availability Zone'] == 'us-east-1b') & (df36['Instance Type'] == 'a1.4xlarge') &\n",
    "           (df36['Product Description'] == 'Linux/UNIX')]\n",
    "\n",
    "plt.plot_date(filt36_7['Date and Time Stamp'], filt36_7['Spot Price'], linestyle='solid',\n",
    "              color='k', label='a1.medium')\n",
    "plt.plot_date(filt36_8['Date and Time Stamp'], filt36_8['Spot Price'], linestyle='solid',\n",
    "              color='b', label='a1.metal')\n",
    "plt.plot_date(filt36_9['Date and Time Stamp'], filt36_9['Spot Price'], linestyle='solid',\n",
    "              color='c', label='a1.large')\n",
    "plt.plot_date(filt36_10['Date and Time Stamp'], filt36_10['Spot Price'], linestyle='solid',\n",
    "              color='r', label='a1.xlarge')\n",
    "plt.plot_date(filt36_11['Date and Time Stamp'], filt36_11['Spot Price'], linestyle='solid',\n",
    "              color='y', label='a1.2xlarge')\n",
    "plt.plot_date(filt36_12['Date and Time Stamp'], filt36_12['Spot Price'], linestyle='solid',\n",
    "              color='w', label='a1.4xlarge',alpha=0.5)\n",
    "\n",
    "plt.gcf().autofmt_xdate()\n",
    "date_format = mpl_dates.DateFormatter('%b %d, %Y')\n",
    "plt.gca().xaxis.set_major_formatter(date_format)\n",
    "\n",
    "plt.title('Time Series Plot of all a1 Instance Types for Linux/UNIX Products' + \"\\n\" +\n",
    "          'Within the us-east-1b Availability Zone')\n",
    "plt.xlabel('Date')\n",
    "plt.ylabel('Spot Price')\n",
    "\n",
    "plt.legend(loc = (0.77,0.6))\n",
    "plt.tight_layout()\n",
    "#plt.savefig('timeseries13.png')\n",
    "#plt.show()"
   ]
  },
  {
   "cell_type": "code",
   "execution_count": null,
   "id": "781e1a7c",
   "metadata": {},
   "outputs": [],
   "source": [
    "# Time series of a1 ITs within the us-east-1c AZ for Linux/UNIX products\n",
    "plt.style.use('seaborn-poster')\n",
    "\n",
    "filt36_13 = df36.loc[(df36['Availability Zone'] == 'us-east-1c') & (df36['Instance Type'] == 'a1.medium') &\n",
    "           (df36['Product Description'] == 'Linux/UNIX')]\n",
    "filt36_14 = df36.loc[(df36['Availability Zone'] == 'us-east-1c') & (df36['Instance Type'] == 'a1.metal') &\n",
    "           (df36['Product Description'] == 'Linux/UNIX')]\n",
    "filt36_15 = df36.loc[(df36['Availability Zone'] == 'us-east-1c') & (df36['Instance Type'] == 'a1.large') &\n",
    "           (df36['Product Description'] == 'Linux/UNIX')]\n",
    "filt36_16 = df36.loc[(df36['Availability Zone'] == 'us-east-1c') & (df36['Instance Type'] == 'a1.xlarge') &\n",
    "           (df36['Product Description'] == 'Linux/UNIX')]\n",
    "filt36_17 = df36.loc[(df36['Availability Zone'] == 'us-east-1c') & (df36['Instance Type'] == 'a1.2xlarge') &\n",
    "           (df36['Product Description'] == 'Linux/UNIX')]\n",
    "filt36_18 = df36.loc[(df36['Availability Zone'] == 'us-east-1c') & (df36['Instance Type'] == 'a1.4xlarge') &\n",
    "           (df36['Product Description'] == 'Linux/UNIX')]\n",
    "\n",
    "plt.plot_date(filt36_13['Date and Time Stamp'], filt36_13['Spot Price'], linestyle='solid',\n",
    "              color='k', label='a1.medium')\n",
    "plt.plot_date(filt36_14['Date and Time Stamp'], filt36_14['Spot Price'], linestyle='solid',\n",
    "              color='b', label='a1.metal')\n",
    "plt.plot_date(filt36_15['Date and Time Stamp'], filt36_15['Spot Price'], linestyle='solid',\n",
    "              color='c', label='a1.large')\n",
    "plt.plot_date(filt36_16['Date and Time Stamp'], filt36_16['Spot Price'], linestyle='solid',\n",
    "              color='r', label='a1.xlarge')\n",
    "plt.plot_date(filt36_17['Date and Time Stamp'], filt36_17['Spot Price'], linestyle='solid',\n",
    "              color='y', label='a1.2xlarge')\n",
    "plt.plot_date(filt36_18['Date and Time Stamp'], filt36_18['Spot Price'], linestyle='solid',\n",
    "              color='w', label='a1.4xlarge',alpha=0.5)\n",
    "\n",
    "plt.gcf().autofmt_xdate()\n",
    "date_format = mpl_dates.DateFormatter('%b %d, %Y')\n",
    "plt.gca().xaxis.set_major_formatter(date_format)\n",
    "\n",
    "plt.title('Time Series Plot of all a1 Instance Types for Linux/UNIX Products' + \"\\n\" +\n",
    "          'Within the us-east-1c Availability Zone')\n",
    "plt.xlabel('Date')\n",
    "plt.ylabel('Spot Price')\n",
    "\n",
    "plt.legend(loc = (0.77,0.6))\n",
    "plt.tight_layout()\n",
    "#plt.savefig('timeseries14.png')\n",
    "#plt.show()"
   ]
  },
  {
   "cell_type": "code",
   "execution_count": null,
   "id": "28592f1f",
   "metadata": {},
   "outputs": [],
   "source": [
    "# Time series of a1 ITs within the us-east-1a AZ for Red Hat Enterprise Linux products\n",
    "plt.style.use('seaborn-poster')\n",
    "\n",
    "filt36_19 = df36.loc[(df36['Availability Zone'] == 'us-east-1a') & (df36['Instance Type'] == 'a1.medium') &\n",
    "           (df36['Product Description'] == 'Red Hat Enterprise Linux')]\n",
    "filt36_20 = df36.loc[(df36['Availability Zone'] == 'us-east-1a') & (df36['Instance Type'] == 'a1.metal') &\n",
    "           (df36['Product Description'] == 'Red Hat Enterprise Linux')]\n",
    "filt36_21 = df36.loc[(df36['Availability Zone'] == 'us-east-1a') & (df36['Instance Type'] == 'a1.large') &\n",
    "           (df36['Product Description'] == 'Red Hat Enterprise Linux')]\n",
    "filt36_22 = df36.loc[(df36['Availability Zone'] == 'us-east-1a') & (df36['Instance Type'] == 'a1.xlarge') &\n",
    "           (df36['Product Description'] == 'Red Hat Enterprise Linux')]\n",
    "filt36_23 = df36.loc[(df36['Availability Zone'] == 'us-east-1a') & (df36['Instance Type'] == 'a1.2xlarge') &\n",
    "           (df36['Product Description'] == 'Red Hat Enterprise Linux')]\n",
    "filt36_24 = df36.loc[(df36['Availability Zone'] == 'us-east-1a') & (df36['Instance Type'] == 'a1.4xlarge') &\n",
    "           (df36['Product Description'] == 'Red Hat Enterprise Linux')]\n",
    "\n",
    "plt.plot_date(filt36_19['Date and Time Stamp'], filt36_19['Spot Price'], linestyle='solid',\n",
    "              color='k', label='a1.medium')\n",
    "plt.plot_date(filt36_20['Date and Time Stamp'], filt36_20['Spot Price'], linestyle='solid',\n",
    "              color='b', label='a1.metal')\n",
    "plt.plot_date(filt36_21['Date and Time Stamp'], filt36_21['Spot Price'], linestyle='solid',\n",
    "              color='c', label='a1.large')\n",
    "plt.plot_date(filt36_22['Date and Time Stamp'], filt36_22['Spot Price'], linestyle='solid',\n",
    "              color='r', label='a1.xlarge')\n",
    "plt.plot_date(filt36_23['Date and Time Stamp'], filt36_23['Spot Price'], linestyle='solid',\n",
    "              color='y', label='a1.2xlarge')\n",
    "plt.plot_date(filt36_24['Date and Time Stamp'], filt36_24['Spot Price'], linestyle='solid',\n",
    "              color='w', label='a1.4xlarge',alpha=0.5)\n",
    "\n",
    "plt.gcf().autofmt_xdate()\n",
    "date_format = mpl_dates.DateFormatter('%b %d, %Y')\n",
    "plt.gca().xaxis.set_major_formatter(date_format)\n",
    "\n",
    "plt.title('Time Series Plot of all a1 Instance Types for Red Hat Enterprise' + \"\\n\" + \n",
    "          'Linux Products Within the us-east-1a Availability Zone')\n",
    "plt.xlabel('Date')\n",
    "plt.ylabel('Spot Price')\n",
    "\n",
    "plt.legend(loc = (0.77,0.3))\n",
    "plt.tight_layout()\n",
    "#plt.savefig('timeseries15.png')\n",
    "#plt.show()"
   ]
  },
  {
   "cell_type": "code",
   "execution_count": null,
   "id": "5d1af9ee",
   "metadata": {},
   "outputs": [],
   "source": [
    "# Time series of a1 ITs within the us-east-1b AZ for Red Hat Enterprise Linux products\n",
    "plt.style.use('seaborn-poster')\n",
    "\n",
    "filt36_25 = df36.loc[(df36['Availability Zone'] == 'us-east-1b') & (df36['Instance Type'] == 'a1.medium') &\n",
    "           (df36['Product Description'] == 'Red Hat Enterprise Linux')]\n",
    "filt36_26 = df36.loc[(df36['Availability Zone'] == 'us-east-1b') & (df36['Instance Type'] == 'a1.metal') &\n",
    "           (df36['Product Description'] == 'Red Hat Enterprise Linux')]\n",
    "filt36_27 = df36.loc[(df36['Availability Zone'] == 'us-east-1b') & (df36['Instance Type'] == 'a1.large') &\n",
    "           (df36['Product Description'] == 'Red Hat Enterprise Linux')]\n",
    "filt36_28 = df36.loc[(df36['Availability Zone'] == 'us-east-1b') & (df36['Instance Type'] == 'a1.xlarge') &\n",
    "           (df36['Product Description'] == 'Red Hat Enterprise Linux')]\n",
    "filt36_29 = df36.loc[(df36['Availability Zone'] == 'us-east-1b') & (df36['Instance Type'] == 'a1.2xlarge') &\n",
    "           (df36['Product Description'] == 'Red Hat Enterprise Linux')]\n",
    "filt36_30 = df36.loc[(df36['Availability Zone'] == 'us-east-1b') & (df36['Instance Type'] == 'a1.4xlarge') &\n",
    "           (df36['Product Description'] == 'Red Hat Enterprise Linux')]\n",
    "\n",
    "plt.plot_date(filt36_25['Date and Time Stamp'], filt36_25['Spot Price'], linestyle='solid',\n",
    "              color='k', label='a1.medium')\n",
    "plt.plot_date(filt36_26['Date and Time Stamp'], filt36_26['Spot Price'], linestyle='solid',\n",
    "              color='b', label='a1.metal')\n",
    "plt.plot_date(filt36_27['Date and Time Stamp'], filt36_27['Spot Price'], linestyle='solid',\n",
    "              color='c', label='a1.large')\n",
    "plt.plot_date(filt36_28['Date and Time Stamp'], filt36_28['Spot Price'], linestyle='solid',\n",
    "              color='r', label='a1.xlarge')\n",
    "plt.plot_date(filt36_29['Date and Time Stamp'], filt36_29['Spot Price'], linestyle='solid',\n",
    "              color='y', label='a1.2xlarge')\n",
    "plt.plot_date(filt36_30['Date and Time Stamp'], filt36_30['Spot Price'], linestyle='solid',\n",
    "              color='w', label='a1.4xlarge',alpha=0.5)\n",
    "\n",
    "plt.gcf().autofmt_xdate()\n",
    "date_format = mpl_dates.DateFormatter('%b %d, %Y')\n",
    "plt.gca().xaxis.set_major_formatter(date_format)\n",
    "\n",
    "plt.title('Time Series Plot of all a1 Instance Types for Red Hat Enterprise' + \"\\n\" + \n",
    "          'Linux Products Within the us-east-1b Availability Zone')\n",
    "plt.xlabel('Date')\n",
    "plt.ylabel('Spot Price')\n",
    "\n",
    "plt.legend(loc = (0.77,0.3))\n",
    "plt.tight_layout()\n",
    "#plt.savefig('timeseries16.png')\n",
    "#plt.show()"
   ]
  },
  {
   "cell_type": "code",
   "execution_count": null,
   "id": "b9434636",
   "metadata": {},
   "outputs": [],
   "source": [
    "# Time series of a1 ITs within the us-east-1c AZ for Red Hat Enterprise Linux products\n",
    "plt.style.use('seaborn-poster')\n",
    "\n",
    "filt36_31 = df36.loc[(df36['Availability Zone'] == 'us-east-1c') & (df36['Instance Type'] == 'a1.medium') &\n",
    "           (df36['Product Description'] == 'Red Hat Enterprise Linux')]\n",
    "filt36_32 = df36.loc[(df36['Availability Zone'] == 'us-east-1c') & (df36['Instance Type'] == 'a1.metal') &\n",
    "           (df36['Product Description'] == 'Red Hat Enterprise Linux')]\n",
    "filt36_33 = df36.loc[(df36['Availability Zone'] == 'us-east-1c') & (df36['Instance Type'] == 'a1.large') &\n",
    "           (df36['Product Description'] == 'Red Hat Enterprise Linux')]\n",
    "filt36_34 = df36.loc[(df36['Availability Zone'] == 'us-east-1c') & (df36['Instance Type'] == 'a1.xlarge') &\n",
    "           (df36['Product Description'] == 'Red Hat Enterprise Linux')]\n",
    "filt36_35 = df36.loc[(df36['Availability Zone'] == 'us-east-1c') & (df36['Instance Type'] == 'a1.2xlarge') &\n",
    "           (df36['Product Description'] == 'Red Hat Enterprise Linux')]\n",
    "filt36_36 = df36.loc[(df36['Availability Zone'] == 'us-east-1c') & (df36['Instance Type'] == 'a1.4xlarge') &\n",
    "           (df36['Product Description'] == 'Red Hat Enterprise Linux')]\n",
    "\n",
    "plt.plot_date(filt36_31['Date and Time Stamp'], filt36_31['Spot Price'], linestyle='solid',\n",
    "              color='k', label='a1.medium')\n",
    "plt.plot_date(filt36_32['Date and Time Stamp'], filt36_32['Spot Price'], linestyle='solid',\n",
    "              color='b', label='a1.metal')\n",
    "plt.plot_date(filt36_33['Date and Time Stamp'], filt36_33['Spot Price'], linestyle='solid',\n",
    "              color='c', label='a1.large')\n",
    "plt.plot_date(filt36_34['Date and Time Stamp'], filt36_34['Spot Price'], linestyle='solid',\n",
    "              color='r', label='a1.xlarge')\n",
    "plt.plot_date(filt36_35['Date and Time Stamp'], filt36_35['Spot Price'], linestyle='solid',\n",
    "              color='y', label='a1.2xlarge')\n",
    "plt.plot_date(filt36_36['Date and Time Stamp'], filt36_36['Spot Price'], linestyle='solid',\n",
    "              color='w', label='a1.4xlarge',alpha=0.5)\n",
    "\n",
    "plt.gcf().autofmt_xdate()\n",
    "date_format = mpl_dates.DateFormatter('%b %d, %Y')\n",
    "plt.gca().xaxis.set_major_formatter(date_format)\n",
    "\n",
    "plt.title('Time Series Plot of all a1 Instance Types for Red Hat Enterprise' + \"\\n\" + \n",
    "          'Linux Products Within the us-east-1c Availability Zone')\n",
    "plt.xlabel('Date')\n",
    "plt.ylabel('Spot Price')\n",
    "\n",
    "plt.legend(loc = (0.77,0.3))\n",
    "plt.tight_layout()\n",
    "#plt.savefig('timeseries17.png')\n",
    "#plt.show()"
   ]
  },
  {
   "cell_type": "code",
   "execution_count": null,
   "id": "1e6ec797",
   "metadata": {},
   "outputs": [],
   "source": [
    "# Time series of a1 ITs within the us-east-1a AZ for SUSE Linux products\n",
    "plt.style.use('seaborn-poster')\n",
    "\n",
    "filt36_37 = df36.loc[(df36['Availability Zone'] == 'us-east-1a') & (df36['Instance Type'] == 'a1.medium') &\n",
    "           (df36['Product Description'] == 'SUSE Linux')]\n",
    "filt36_38 = df36.loc[(df36['Availability Zone'] == 'us-east-1a') & (df36['Instance Type'] == 'a1.metal') &\n",
    "           (df36['Product Description'] == 'SUSE Linux')]\n",
    "filt36_39 = df36.loc[(df36['Availability Zone'] == 'us-east-1a') & (df36['Instance Type'] == 'a1.large') &\n",
    "           (df36['Product Description'] == 'SUSE Linux')]\n",
    "filt36_40 = df36.loc[(df36['Availability Zone'] == 'us-east-1a') & (df36['Instance Type'] == 'a1.xlarge') &\n",
    "           (df36['Product Description'] == 'SUSE Linux')]\n",
    "filt36_41 = df36.loc[(df36['Availability Zone'] == 'us-east-1a') & (df36['Instance Type'] == 'a1.2xlarge') &\n",
    "           (df36['Product Description'] == 'SUSE Linux')]\n",
    "filt36_42 = df36.loc[(df36['Availability Zone'] == 'us-east-1a') & (df36['Instance Type'] == 'a1.4xlarge') &\n",
    "           (df36['Product Description'] == 'SUSE Linux')]\n",
    "\n",
    "plt.plot_date(filt36_37['Date and Time Stamp'], filt36_37['Spot Price'], linestyle='solid',\n",
    "              color='k', label='a1.medium')\n",
    "plt.plot_date(filt36_38['Date and Time Stamp'], filt36_38['Spot Price'], linestyle='solid',\n",
    "              color='b', label='a1.metal')\n",
    "plt.plot_date(filt36_39['Date and Time Stamp'], filt36_39['Spot Price'], linestyle='solid',\n",
    "              color='c', label='a1.large')\n",
    "plt.plot_date(filt36_40['Date and Time Stamp'], filt36_40['Spot Price'], linestyle='solid',\n",
    "              color='r', label='a1.xlarge')\n",
    "plt.plot_date(filt36_41['Date and Time Stamp'], filt36_41['Spot Price'], linestyle='solid',\n",
    "              color='y', label='a1.2xlarge')\n",
    "plt.plot_date(filt36_42['Date and Time Stamp'], filt36_42['Spot Price'], linestyle='solid',\n",
    "              color='w', label='a1.4xlarge',alpha=0.5)\n",
    "\n",
    "plt.gcf().autofmt_xdate()\n",
    "date_format = mpl_dates.DateFormatter('%b %d, %Y')\n",
    "plt.gca().xaxis.set_major_formatter(date_format)\n",
    "\n",
    "plt.title('Time Series Plot of all a1 Instance Types for SUSE Linux' + \"\\n\" + \n",
    "          'Products Within the us-east-1a Availability Zone')\n",
    "plt.xlabel('Date')\n",
    "plt.ylabel('Spot Price')\n",
    "\n",
    "plt.legend(loc = (0.77,0.65))\n",
    "plt.tight_layout()\n",
    "#plt.savefig('timeseries18.png')\n",
    "#plt.show()"
   ]
  },
  {
   "cell_type": "code",
   "execution_count": null,
   "id": "298bba7c",
   "metadata": {},
   "outputs": [],
   "source": [
    "# Time series of a1 ITs within the us-east-1b AZ for SUSE Linux products\n",
    "plt.style.use('seaborn-poster')\n",
    "\n",
    "filt36_43 = df36.loc[(df36['Availability Zone'] == 'us-east-1b') & (df36['Instance Type'] == 'a1.medium') &\n",
    "           (df36['Product Description'] == 'SUSE Linux')]\n",
    "filt36_44 = df36.loc[(df36['Availability Zone'] == 'us-east-1b') & (df36['Instance Type'] == 'a1.metal') &\n",
    "           (df36['Product Description'] == 'SUSE Linux')]\n",
    "filt36_45 = df36.loc[(df36['Availability Zone'] == 'us-east-1b') & (df36['Instance Type'] == 'a1.large') &\n",
    "           (df36['Product Description'] == 'SUSE Linux')]\n",
    "filt36_46 = df36.loc[(df36['Availability Zone'] == 'us-east-1b') & (df36['Instance Type'] == 'a1.xlarge') &\n",
    "           (df36['Product Description'] == 'SUSE Linux')]\n",
    "filt36_47 = df36.loc[(df36['Availability Zone'] == 'us-east-1b') & (df36['Instance Type'] == 'a1.2xlarge') &\n",
    "           (df36['Product Description'] == 'SUSE Linux')]\n",
    "filt36_48 = df36.loc[(df36['Availability Zone'] == 'us-east-1b') & (df36['Instance Type'] == 'a1.4xlarge') &\n",
    "           (df36['Product Description'] == 'SUSE Linux')]\n",
    "\n",
    "plt.plot_date(filt36_43['Date and Time Stamp'], filt36_43['Spot Price'], linestyle='solid',\n",
    "              color='k', label='a1.medium')\n",
    "plt.plot_date(filt36_44['Date and Time Stamp'], filt36_44['Spot Price'], linestyle='solid',\n",
    "              color='b', label='a1.metal')\n",
    "plt.plot_date(filt36_45['Date and Time Stamp'], filt36_45['Spot Price'], linestyle='solid',\n",
    "              color='c', label='a1.large')\n",
    "plt.plot_date(filt36_46['Date and Time Stamp'], filt36_46['Spot Price'], linestyle='solid',\n",
    "              color='r', label='a1.xlarge')\n",
    "plt.plot_date(filt36_47['Date and Time Stamp'], filt36_47['Spot Price'], linestyle='solid',\n",
    "              color='y', label='a1.2xlarge')\n",
    "plt.plot_date(filt36_48['Date and Time Stamp'], filt36_48['Spot Price'], linestyle='solid',\n",
    "              color='w', label='a1.4xlarge',alpha=0.5)\n",
    "\n",
    "plt.gcf().autofmt_xdate()\n",
    "date_format = mpl_dates.DateFormatter('%b %d, %Y')\n",
    "plt.gca().xaxis.set_major_formatter(date_format)\n",
    "\n",
    "plt.title('Time Series Plot of all a1 Instance Types for SUSE Linux' + \"\\n\" + \n",
    "          'Products Within the us-east-1b Availability Zone')\n",
    "plt.xlabel('Date')\n",
    "plt.ylabel('Spot Price')\n",
    "\n",
    "plt.legend(loc = (0.77,0.65))\n",
    "plt.tight_layout()\n",
    "#plt.savefig('timeseries19.png')\n",
    "#plt.show()"
   ]
  },
  {
   "cell_type": "code",
   "execution_count": null,
   "id": "ef57f804",
   "metadata": {},
   "outputs": [],
   "source": [
    "# Time series of a1 ITs within the us-east-1c AZ for SUSE Linux products\n",
    "plt.style.use('seaborn-poster')\n",
    "\n",
    "filt36_49 = df36.loc[(df36['Availability Zone'] == 'us-east-1c') & (df36['Instance Type'] == 'a1.medium') &\n",
    "           (df36['Product Description'] == 'SUSE Linux')]\n",
    "filt36_50 = df36.loc[(df36['Availability Zone'] == 'us-east-1c') & (df36['Instance Type'] == 'a1.metal') &\n",
    "           (df36['Product Description'] == 'SUSE Linux')]\n",
    "filt36_51 = df36.loc[(df36['Availability Zone'] == 'us-east-1c') & (df36['Instance Type'] == 'a1.large') &\n",
    "           (df36['Product Description'] == 'SUSE Linux')]\n",
    "filt36_52 = df36.loc[(df36['Availability Zone'] == 'us-east-1c') & (df36['Instance Type'] == 'a1.xlarge') &\n",
    "           (df36['Product Description'] == 'SUSE Linux')]\n",
    "filt36_53 = df36.loc[(df36['Availability Zone'] == 'us-east-1c') & (df36['Instance Type'] == 'a1.2xlarge') &\n",
    "           (df36['Product Description'] == 'SUSE Linux')]\n",
    "filt36_54 = df36.loc[(df36['Availability Zone'] == 'us-east-1c') & (df36['Instance Type'] == 'a1.4xlarge') &\n",
    "           (df36['Product Description'] == 'SUSE Linux')]\n",
    "\n",
    "plt.plot_date(filt36_49['Date and Time Stamp'], filt36_49['Spot Price'], linestyle='solid',\n",
    "              color='k', label='a1.medium')\n",
    "plt.plot_date(filt36_50['Date and Time Stamp'], filt36_50['Spot Price'], linestyle='solid',\n",
    "              color='b', label='a1.metal')\n",
    "plt.plot_date(filt36_51['Date and Time Stamp'], filt36_51['Spot Price'], linestyle='solid',\n",
    "              color='c', label='a1.large')\n",
    "plt.plot_date(filt36_52['Date and Time Stamp'], filt36_52['Spot Price'], linestyle='solid',\n",
    "              color='r', label='a1.xlarge')\n",
    "plt.plot_date(filt36_53['Date and Time Stamp'], filt36_53['Spot Price'], linestyle='solid',\n",
    "              color='y', label='a1.2xlarge')\n",
    "plt.plot_date(filt36_54['Date and Time Stamp'], filt36_54['Spot Price'], linestyle='solid',\n",
    "              color='w', label='a1.4xlarge',alpha=0.5)\n",
    "\n",
    "plt.gcf().autofmt_xdate()\n",
    "date_format = mpl_dates.DateFormatter('%b %d, %Y')\n",
    "plt.gca().xaxis.set_major_formatter(date_format)\n",
    "\n",
    "plt.title('Time Series Plot of all a1 Instance Types for SUSE Linux' + \"\\n\" + \n",
    "          'Products Within the us-east-1c Availability Zone')\n",
    "plt.xlabel('Date')\n",
    "plt.ylabel('Spot Price')\n",
    "\n",
    "plt.legend(loc = (0.77,0.65))\n",
    "plt.tight_layout()\n",
    "#plt.savefig('timeseries20.png')\n",
    "#plt.show()"
   ]
  },
  {
   "cell_type": "code",
   "execution_count": null,
   "id": "5e306ab0",
   "metadata": {},
   "outputs": [],
   "source": [
    "(df36.loc[df36['Instance Type'].str.contains(\"f1\")])['Instance Type'].unique()"
   ]
  },
  {
   "cell_type": "code",
   "execution_count": null,
   "id": "8d0aaba0",
   "metadata": {},
   "outputs": [],
   "source": [
    "df37 = df36.loc[df36['Product Description'] == 'Windows']\n",
    "df37"
   ]
  },
  {
   "cell_type": "code",
   "execution_count": null,
   "id": "f9dad3a4",
   "metadata": {},
   "outputs": [],
   "source": [
    "df37['Instance Type'].unique()"
   ]
  },
  {
   "cell_type": "code",
   "execution_count": null,
   "id": "4bc2ad15",
   "metadata": {},
   "outputs": [],
   "source": [
    "(df37.loc[(df37['Instance Type'].str.contains(\"z1\"))])['Instance Type'].unique()"
   ]
  },
  {
   "cell_type": "code",
   "execution_count": null,
   "id": "c16f586b",
   "metadata": {},
   "outputs": [],
   "source": [
    "# Time series of highest spot price ITs within df37 in us-east-1c\n",
    "plt.style.use('seaborn-poster')\n",
    "\n",
    "filt37_1 = df37.loc[(df37['Availability Zone'] == 'us-east-1c') & (df37['Instance Type'] == 'g4dn.metal') &\n",
    "           (df37['Product Description'] == 'Windows')]\n",
    "filt37_2 = df37.loc[(df37['Availability Zone'] == 'us-east-1c') & (df37['Instance Type'] == 'h1.16xlarge') &\n",
    "           (df37['Product Description'] == 'Windows')]\n",
    "filt37_3 = df37.loc[(df37['Availability Zone'] == 'us-east-1c') & (df37['Instance Type'] == 'i3.16xlarge') &\n",
    "           (df37['Product Description'] == 'Windows')]\n",
    "filt37_4 = df37.loc[(df37['Availability Zone'] == 'us-east-1c') & (df37['Instance Type'] == 'i3.metal') &\n",
    "           (df37['Product Description'] == 'Windows')]\n",
    "filt37_5 = df37.loc[(df37['Availability Zone'] == 'us-east-1c') & (df37['Instance Type'] == 'i3en.24xlarge') &\n",
    "           (df37['Product Description'] == 'Windows')]\n",
    "filt37_6 = df37.loc[(df37['Availability Zone'] == 'us-east-1c') & (df37['Instance Type'] == 'z1d.metal') &\n",
    "           (df37['Product Description'] == 'Windows')]\n",
    "\n",
    "plt.plot_date(filt37_1['Date and Time Stamp'], filt37_1['Spot Price'], linestyle='solid',\n",
    "              color='k', label='g4dn.metal')\n",
    "plt.plot_date(filt37_2['Date and Time Stamp'], filt37_2['Spot Price'], linestyle='solid',\n",
    "              color='m', label='h1.16xlarge')\n",
    "plt.plot_date(filt37_3['Date and Time Stamp'], filt37_3['Spot Price'], linestyle='solid',\n",
    "              color='b', label='i3.16xlarge')\n",
    "plt.plot_date(filt37_4['Date and Time Stamp'], filt37_4['Spot Price'], linestyle='solid',\n",
    "              color='w', label='i3.metal',alpha=0.5)\n",
    "plt.plot_date(filt37_5['Date and Time Stamp'], filt37_5['Spot Price'], linestyle='solid',\n",
    "              color='g', label='i3en.24xlarge')\n",
    "plt.plot_date(filt37_6['Date and Time Stamp'], filt37_6['Spot Price'], linestyle='solid',\n",
    "              color='c', label='z1d.metal')\n",
    "\n",
    "plt.gcf().autofmt_xdate()\n",
    "date_format = mpl_dates.DateFormatter('%b %d, %Y')\n",
    "plt.gca().xaxis.set_major_formatter(date_format)\n",
    "\n",
    "plt.title('Time Series Plot of the Latest Generation Instance Types Across' + \"\\n\" + \n",
    "          'Windows Products Within the us-east-1a Availability Zone')\n",
    "plt.xlabel('Date')\n",
    "plt.ylabel('Spot Price')\n",
    "plt.yticks([3,3.5,4,4.5,5,5.5,6,6.5,7,7.5,8])\n",
    "\n",
    "plt.legend(loc = (0.77,0.40))\n",
    "plt.tight_layout()\n",
    "#plt.savefig('timeseries21.png')\n",
    "#plt.show()"
   ]
  },
  {
   "cell_type": "code",
   "execution_count": null,
   "id": "f3f80cf7",
   "metadata": {},
   "outputs": [],
   "source": [
    "# Time series of highest spot price ITs within df37 in us-east-1f\n",
    "plt.style.use('seaborn-poster')\n",
    "\n",
    "filt37_1 = df37.loc[(df37['Availability Zone'] == 'us-east-1f') & (df37['Instance Type'] == 'g4dn.metal') &\n",
    "           (df37['Product Description'] == 'Windows')]\n",
    "filt37_2 = df37.loc[(df37['Availability Zone'] == 'us-east-1f') & (df37['Instance Type'] == 'h1.16xlarge') &\n",
    "           (df37['Product Description'] == 'Windows')]\n",
    "filt37_3 = df37.loc[(df37['Availability Zone'] == 'us-east-1f') & (df37['Instance Type'] == 'i3.16xlarge') &\n",
    "           (df37['Product Description'] == 'Windows')]\n",
    "filt37_4 = df37.loc[(df37['Availability Zone'] == 'us-east-1f') & (df37['Instance Type'] == 'i3.metal') &\n",
    "           (df37['Product Description'] == 'Windows')]\n",
    "filt37_5 = df37.loc[(df37['Availability Zone'] == 'us-east-1f') & (df37['Instance Type'] == 'i3en.24xlarge') &\n",
    "           (df37['Product Description'] == 'Windows')]\n",
    "filt37_6 = df37.loc[(df37['Availability Zone'] == 'us-east-1f') & (df37['Instance Type'] == 'z1d.metal') &\n",
    "           (df37['Product Description'] == 'Windows')]\n",
    "\n",
    "plt.plot_date(filt37_1['Date and Time Stamp'], filt37_1['Spot Price'], linestyle='solid',\n",
    "              color='k', label='g4dn.metal')\n",
    "plt.plot_date(filt37_2['Date and Time Stamp'], filt37_2['Spot Price'], linestyle='solid',\n",
    "              color='m', label='h1.16xlarge')\n",
    "plt.plot_date(filt37_3['Date and Time Stamp'], filt37_3['Spot Price'], linestyle='solid',\n",
    "              color='b', label='i3.16xlarge')\n",
    "plt.plot_date(filt37_4['Date and Time Stamp'], filt37_4['Spot Price'], linestyle='solid',\n",
    "              color='w', label='i3.metal',alpha=0.5)\n",
    "plt.plot_date(filt37_5['Date and Time Stamp'], filt37_5['Spot Price'], linestyle='solid',\n",
    "              color='g', label='i3en.24xlarge')\n",
    "plt.plot_date(filt37_6['Date and Time Stamp'], filt37_6['Spot Price'], linestyle='solid',\n",
    "              color='c', label='z1d.metal')\n",
    "\n",
    "plt.gcf().autofmt_xdate()\n",
    "date_format = mpl_dates.DateFormatter('%b %d, %Y')\n",
    "plt.gca().xaxis.set_major_formatter(date_format)\n",
    "\n",
    "plt.title('Time Series Plot of the Latest Generation Instance Types Across' + \"\\n\" + \n",
    "          'Windows Products Within the us-east-1f Availability Zone')\n",
    "plt.xlabel('Date')\n",
    "plt.ylabel('Spot Price')\n",
    "plt.yticks([3,3.5,4,4.5,5,5.5,6,6.5,7,7.5,8,8.5,9,9.5])\n",
    "\n",
    "plt.legend(loc = (0.77,0.25))\n",
    "plt.tight_layout()\n",
    "#plt.savefig('timeseries22.png')\n",
    "#plt.show()"
   ]
  },
  {
   "cell_type": "code",
   "execution_count": null,
   "id": "05f3934c",
   "metadata": {},
   "outputs": [],
   "source": [
    "# Time series of highest spot price ITs within df37 in us-east-1a\n",
    "plt.style.use('seaborn-poster')\n",
    "\n",
    "filt37_1 = df37.loc[(df37['Availability Zone'] == 'us-east-1a') & (df37['Instance Type'] == 'g4dn.metal') &\n",
    "           (df37['Product Description'] == 'Windows')]\n",
    "filt37_2 = df37.loc[(df37['Availability Zone'] == 'us-east-1a') & (df37['Instance Type'] == 'h1.16xlarge') &\n",
    "           (df37['Product Description'] == 'Windows')]\n",
    "filt37_3 = df37.loc[(df37['Availability Zone'] == 'us-east-1a') & (df37['Instance Type'] == 'i3.16xlarge') &\n",
    "           (df37['Product Description'] == 'Windows')]\n",
    "filt37_4 = df37.loc[(df37['Availability Zone'] == 'us-east-1a') & (df37['Instance Type'] == 'i3.metal') &\n",
    "           (df37['Product Description'] == 'Windows')]\n",
    "filt37_5 = df37.loc[(df37['Availability Zone'] == 'us-east-1a') & (df37['Instance Type'] == 'i3en.24xlarge') &\n",
    "           (df37['Product Description'] == 'Windows')]\n",
    "filt37_6 = df37.loc[(df37['Availability Zone'] == 'us-east-1a') & (df37['Instance Type'] == 'z1d.metal') &\n",
    "           (df37['Product Description'] == 'Windows')]\n",
    "\n",
    "plt.plot_date(filt37_1['Date and Time Stamp'], filt37_1['Spot Price'], linestyle='solid',\n",
    "              color='k', label='g4dn.metal')\n",
    "plt.plot_date(filt37_2['Date and Time Stamp'], filt37_2['Spot Price'], linestyle='solid',\n",
    "              color='m', label='h1.16xlarge')\n",
    "plt.plot_date(filt37_3['Date and Time Stamp'], filt37_3['Spot Price'], linestyle='solid',\n",
    "              color='b', label='i3.16xlarge')\n",
    "plt.plot_date(filt37_4['Date and Time Stamp'], filt37_4['Spot Price'], linestyle='solid',\n",
    "              color='w', label='i3.metal',alpha=0.5)\n",
    "plt.plot_date(filt37_5['Date and Time Stamp'], filt37_5['Spot Price'], linestyle='solid',\n",
    "              color='g', label='i3en.24xlarge')\n",
    "plt.plot_date(filt37_6['Date and Time Stamp'], filt37_6['Spot Price'], linestyle='solid',\n",
    "              color='c', label='z1d.metal')\n",
    "\n",
    "plt.gcf().autofmt_xdate()\n",
    "date_format = mpl_dates.DateFormatter('%b %d, %Y')\n",
    "plt.gca().xaxis.set_major_formatter(date_format)\n",
    "\n",
    "plt.title('Time Series Plot of the Latest Generation Instance Types Across' + \"\\n\" + \n",
    "          'Windows Products Within the us-east-1a Availability Zone')\n",
    "plt.xlabel('Date')\n",
    "plt.ylabel('Spot Price')\n",
    "plt.yticks([3,3.5,4,4.5,5,5.5,6,6.5,7,7.5,8])\n",
    "\n",
    "plt.legend(loc = (0.77,0.31))\n",
    "plt.tight_layout()\n",
    "#plt.savefig('timeseries23.png')\n",
    "#plt.show()"
   ]
  },
  {
   "cell_type": "code",
   "execution_count": null,
   "id": "ebd0babc",
   "metadata": {},
   "outputs": [],
   "source": [
    "# Time series of highest spot price ITs within df37 in us-east-1b\n",
    "plt.style.use('seaborn-poster')\n",
    "\n",
    "filt37_1 = df37.loc[(df37['Availability Zone'] == 'us-east-1b') & (df37['Instance Type'] == 'g4dn.metal') &\n",
    "           (df37['Product Description'] == 'Windows')]\n",
    "filt37_2 = df37.loc[(df37['Availability Zone'] == 'us-east-1b') & (df37['Instance Type'] == 'h1.16xlarge') &\n",
    "           (df37['Product Description'] == 'Windows')]\n",
    "filt37_3 = df37.loc[(df37['Availability Zone'] == 'us-east-1b') & (df37['Instance Type'] == 'i3.16xlarge') &\n",
    "           (df37['Product Description'] == 'Windows')]\n",
    "filt37_4 = df37.loc[(df37['Availability Zone'] == 'us-east-1b') & (df37['Instance Type'] == 'i3.metal') &\n",
    "           (df37['Product Description'] == 'Windows')]\n",
    "filt37_5 = df37.loc[(df37['Availability Zone'] == 'us-east-1b') & (df37['Instance Type'] == 'i3en.24xlarge') &\n",
    "           (df37['Product Description'] == 'Windows')]\n",
    "filt37_6 = df37.loc[(df37['Availability Zone'] == 'us-east-1b') & (df37['Instance Type'] == 'z1d.metal') &\n",
    "           (df37['Product Description'] == 'Windows')]\n",
    "\n",
    "plt.plot_date(filt37_1['Date and Time Stamp'], filt37_1['Spot Price'], linestyle='solid',\n",
    "              color='k', label='g4dn.metal')\n",
    "plt.plot_date(filt37_2['Date and Time Stamp'], filt37_2['Spot Price'], linestyle='solid',\n",
    "              color='m', label='h1.16xlarge')\n",
    "plt.plot_date(filt37_3['Date and Time Stamp'], filt37_3['Spot Price'], linestyle='solid',\n",
    "              color='b', label='i3.16xlarge')\n",
    "plt.plot_date(filt37_4['Date and Time Stamp'], filt37_4['Spot Price'], linestyle='solid',\n",
    "              color='w', label='i3.metal',alpha=0.5)\n",
    "plt.plot_date(filt37_5['Date and Time Stamp'], filt37_5['Spot Price'], linestyle='solid',\n",
    "              color='g', label='i3en.24xlarge')\n",
    "plt.plot_date(filt37_6['Date and Time Stamp'], filt37_6['Spot Price'], linestyle='solid',\n",
    "              color='c', label='z1d.metal')\n",
    "\n",
    "plt.gcf().autofmt_xdate()\n",
    "date_format = mpl_dates.DateFormatter('%b %d, %Y')\n",
    "plt.gca().xaxis.set_major_formatter(date_format)\n",
    "\n",
    "plt.title('Time Series Plot of the Latest Generation Instance Types Across' + \"\\n\" + \n",
    "          'Windows Products Within the us-east-1b Availability Zone')\n",
    "plt.xlabel('Date')\n",
    "plt.ylabel('Spot Price')\n",
    "plt.yticks([3,3.5,4,4.5,5,5.5,6,6.5,7,7.5,8])\n",
    "\n",
    "plt.legend(loc = (0.77,0.31))\n",
    "plt.tight_layout()\n",
    "#plt.savefig('timeseries24.png')\n",
    "#plt.show()"
   ]
  },
  {
   "cell_type": "code",
   "execution_count": null,
   "id": "5d0dfca5",
   "metadata": {},
   "outputs": [],
   "source": [
    "# Time series of highest spot price ITs within df37 in us-east-1d\n",
    "plt.style.use('seaborn-poster')\n",
    "\n",
    "filt37_1 = df37.loc[(df37['Availability Zone'] == 'us-east-1d') & (df37['Instance Type'] == 'g4dn.metal') &\n",
    "           (df37['Product Description'] == 'Windows')]\n",
    "filt37_2 = df37.loc[(df37['Availability Zone'] == 'us-east-1d') & (df37['Instance Type'] == 'h1.16xlarge') &\n",
    "           (df37['Product Description'] == 'Windows')]\n",
    "filt37_3 = df37.loc[(df37['Availability Zone'] == 'us-east-1d') & (df37['Instance Type'] == 'i3.16xlarge') &\n",
    "           (df37['Product Description'] == 'Windows')]\n",
    "filt37_4 = df37.loc[(df37['Availability Zone'] == 'us-east-1d') & (df37['Instance Type'] == 'i3.metal') &\n",
    "           (df37['Product Description'] == 'Windows')]\n",
    "filt37_5 = df37.loc[(df37['Availability Zone'] == 'us-east-1d') & (df37['Instance Type'] == 'i3en.24xlarge') &\n",
    "           (df37['Product Description'] == 'Windows')]\n",
    "filt37_6 = df37.loc[(df37['Availability Zone'] == 'us-east-1d') & (df37['Instance Type'] == 'z1d.metal') &\n",
    "           (df37['Product Description'] == 'Windows')]\n",
    "\n",
    "plt.plot_date(filt37_1['Date and Time Stamp'], filt37_1['Spot Price'], linestyle='solid',\n",
    "              color='k', label='g4dn.metal')\n",
    "plt.plot_date(filt37_2['Date and Time Stamp'], filt37_2['Spot Price'], linestyle='solid',\n",
    "              color='m', label='h1.16xlarge (N/A)')\n",
    "plt.plot_date(filt37_3['Date and Time Stamp'], filt37_3['Spot Price'], linestyle='solid',\n",
    "              color='b', label='i3.16xlarge')\n",
    "plt.plot_date(filt37_4['Date and Time Stamp'], filt37_4['Spot Price'], linestyle='solid',\n",
    "              color='w', label='i3.metal',alpha=0.5)\n",
    "plt.plot_date(filt37_5['Date and Time Stamp'], filt37_5['Spot Price'], linestyle='solid',\n",
    "              color='g', label='i3en.24xlarge')\n",
    "plt.plot_date(filt37_6['Date and Time Stamp'], filt37_6['Spot Price'], linestyle='solid',\n",
    "              color='c', label='z1d.metal')\n",
    "\n",
    "plt.gcf().autofmt_xdate()\n",
    "date_format = mpl_dates.DateFormatter('%b %d, %Y')\n",
    "plt.gca().xaxis.set_major_formatter(date_format)\n",
    "\n",
    "plt.title('Time Series Plot of the Latest Generation Instance Types Across' + \"\\n\" + \n",
    "          'Windows Products Within the us-east-1d Availability Zone')\n",
    "plt.xlabel('Date')\n",
    "plt.ylabel('Spot Price')\n",
    "plt.yticks([3,3.5,4,4.5,5,5.5,6,6.5,7,7.5,8])\n",
    "\n",
    "plt.legend(loc = (0.77,0.31))\n",
    "plt.tight_layout()\n",
    "#plt.savefig('timeseries25.png')\n",
    "#plt.show()"
   ]
  },
  {
   "cell_type": "code",
   "execution_count": null,
   "id": "c1cef910",
   "metadata": {},
   "outputs": [],
   "source": [
    "# Time series of highest spot price ITs within df37 in us-east-1e\n",
    "plt.style.use('seaborn-poster')\n",
    "\n",
    "filt37_1 = df37.loc[(df37['Availability Zone'] == 'us-east-1e') & (df37['Instance Type'] == 'g4dn.metal') &\n",
    "           (df37['Product Description'] == 'Windows')]\n",
    "filt37_2 = df37.loc[(df37['Availability Zone'] == 'us-east-1e') & (df37['Instance Type'] == 'h1.16xlarge') &\n",
    "           (df37['Product Description'] == 'Windows')]\n",
    "filt37_3 = df37.loc[(df37['Availability Zone'] == 'us-east-1e') & (df37['Instance Type'] == 'i3.16xlarge') &\n",
    "           (df37['Product Description'] == 'Windows')]\n",
    "filt37_4 = df37.loc[(df37['Availability Zone'] == 'us-east-1e') & (df37['Instance Type'] == 'i3.metal') &\n",
    "           (df37['Product Description'] == 'Windows')]\n",
    "filt37_5 = df37.loc[(df37['Availability Zone'] == 'us-east-1e') & (df37['Instance Type'] == 'i3en.24xlarge') &\n",
    "           (df37['Product Description'] == 'Windows')]\n",
    "filt37_6 = df37.loc[(df37['Availability Zone'] == 'us-east-1e') & (df37['Instance Type'] == 'z1d.metal') &\n",
    "           (df37['Product Description'] == 'Windows')]\n",
    "\n",
    "plt.plot_date(filt37_1['Date and Time Stamp'], filt37_1['Spot Price'], linestyle='solid',\n",
    "              color='k', label='g4dn.metal (N/A)')\n",
    "plt.plot_date(filt37_2['Date and Time Stamp'], filt37_2['Spot Price'], linestyle='solid',\n",
    "              color='m', label='h1.16xlarge (N/A)')\n",
    "plt.plot_date(filt37_3['Date and Time Stamp'], filt37_3['Spot Price'], linestyle='solid',\n",
    "              color='b', label='i3.16xlarge')\n",
    "plt.plot_date(filt37_4['Date and Time Stamp'], filt37_4['Spot Price'], linestyle='solid',\n",
    "              color='w', label='i3.metal (N/A)',alpha=0.5)\n",
    "plt.plot_date(filt37_5['Date and Time Stamp'], filt37_5['Spot Price'], linestyle='solid',\n",
    "              color='g', label='i3en.24xlarge (N/A)')\n",
    "plt.plot_date(filt37_6['Date and Time Stamp'], filt37_6['Spot Price'], linestyle='solid',\n",
    "              color='c', label='z1d.metal (N/A)')\n",
    "\n",
    "plt.gcf().autofmt_xdate()\n",
    "date_format = mpl_dates.DateFormatter('%b %d, %Y')\n",
    "plt.gca().xaxis.set_major_formatter(date_format)\n",
    "\n",
    "plt.title('Time Series Plot of the Latest Generation Instance Types Across' + \"\\n\" + \n",
    "          'Windows Products Within the us-east-1e Availability Zone')\n",
    "plt.xlabel('Date')\n",
    "plt.ylabel('Spot Price')\n",
    "\n",
    "plt.legend(loc=(0.75,0.71))\n",
    "plt.tight_layout()\n",
    "#plt.savefig('timeseries26.png')\n",
    "#plt.show()"
   ]
  },
  {
   "cell_type": "code",
   "execution_count": null,
   "id": "97721fbb",
   "metadata": {},
   "outputs": [],
   "source": [
    "# Time series of g4dn.metal IT across Windows products and the us-east-1f AZ between 4/20/2021\n",
    "    # and 5/01/2021\n",
    "plt.style.use('seaborn-poster')\n",
    "\n",
    "filt37_specg4 = df37.loc[(df37['Date and Time Stamp'] >= '2021-04-20 00:00:00+00:00') &\n",
    "         (df37['Date and Time Stamp'] < '2021-05-02 00:00:00+00:00') &\n",
    "         (df37['Instance Type'] == 'g4dn.metal') & (df37['Availability Zone'] == 'us-east-1f')]\n",
    "\n",
    "plt.plot_date(filt37_specg4['Date and Time Stamp'], filt37_specg4['Spot Price'], linestyle='solid',\n",
    "              color='#14c4db')\n",
    "\n",
    "plt.gcf().autofmt_xdate()\n",
    "date_format = mpl_dates.DateFormatter('%b %d, %Y')\n",
    "plt.gca().xaxis.set_major_formatter(date_format)\n",
    "\n",
    "plt.title('Time Series Plot of the g4dn.metal Instance Type Across Windows Products' + \"\\n\" + \n",
    "          'and the us-east-1f Availability Zone, Between 4/20/2021 and 5/01/2021')\n",
    "plt.xlabel('Date')\n",
    "plt.ylabel('Spot Price')\n",
    "\n",
    "#plt.tight_layout()\n",
    "#plt.savefig('timeseries27.png')\n",
    "#plt.show()"
   ]
  },
  {
   "cell_type": "code",
   "execution_count": null,
   "id": "354665e5",
   "metadata": {},
   "outputs": [],
   "source": [
    "# Time series of specified OS across ALL ITs and AZs: FOR LOOP\n",
    "\n",
    "Instances = ['p4d.24xlarge']\n",
    "OS = ['Linux/UNIX']\n",
    "\n",
    "for o in OS:\n",
    "    temp = df38[df38.OS == o]\n",
    "    Instances = temp.IT.unique()\n",
    "\n",
    "    for i in tqdm(Instances):\n",
    "        temp1 = temp[temp.IT == i]\n",
    "        \n",
    "        if temp1.SP.max() > 3*temp1.SP.min():\n",
    "            plt.figure()\n",
    "            plt.style.use('seaborn-poster')\n",
    "            \n",
    "            for a in temp1.AZ.unique():\n",
    "                temp2 = temp1[temp1.AZ == a]\n",
    "                plt.plot_date(temp2['DT'], temp2['SP'], linestyle='solid', label=a)\n",
    "\n",
    "                plt.gcf().autofmt_xdate()\n",
    "                date_format = mpl_dates.DateFormatter('%b %d, %Y')\n",
    "                plt.gca().xaxis.set_major_formatter(date_format)\n",
    "\n",
    "            plt.title('Time Series Plot of the ' + i + ' Instance Type Across us-east-1' + \"\\n\" +\n",
    "                      'Availability Zones and ' + o)\n",
    "            plt.xlabel('Date')\n",
    "            plt.ylabel('Spot Price')\n",
    "\n",
    "            plt.legend()\n",
    "            plt.tight_layout()\n",
    "\n",
    "            #plt.savefig(i + '_tsfig.png')\n",
    "\n",
    "            #plt.show()"
   ]
  },
  {
   "cell_type": "code",
   "execution_count": null,
   "id": "c396d9ac",
   "metadata": {},
   "outputs": [],
   "source": [
    "## Everything above was done on Monday, 6/14/2021"
   ]
  },
  {
   "cell_type": "code",
   "execution_count": null,
   "id": "291e3017",
   "metadata": {},
   "outputs": [],
   "source": [
    "df40 = df38.loc[df38['IT'].str.contains(\"a1|c6|df3|f1|g4|h1|i3|inf1|m6|p4|r6|t4|x2|z1\")]\n",
    "df40"
   ]
  },
  {
   "cell_type": "code",
   "execution_count": null,
   "id": "abe1ac3b",
   "metadata": {},
   "outputs": [],
   "source": [
    "df40['IT'].unique() #IT choices for below for loop"
   ]
  },
  {
   "cell_type": "code",
   "execution_count": null,
   "id": "2db49213",
   "metadata": {},
   "outputs": [],
   "source": [
    "df40['OS'].unique() #OS choices for below for loop"
   ]
  },
  {
   "cell_type": "code",
   "execution_count": null,
   "id": "70648928",
   "metadata": {},
   "outputs": [],
   "source": [
    "# Time series of specified OS and IT across ALL AZs: FOR LOOP\n",
    "\n",
    "Instances = ['p4d.24xlarge'] #choose what you want\n",
    "OS = ['SUSE Linux'] #choose what you want\n",
    "\n",
    "for o in OS:\n",
    "    temp = df40[df40.OS == o] #latest gen ITs\n",
    "    #temp = df38[df38.OS == o] #all ITs\n",
    "\n",
    "    for i in tqdm(Instances):\n",
    "        temp1 = temp[temp.IT == i]\n",
    "            \n",
    "        for a in temp1.AZ.unique():\n",
    "            temp2 = temp1[temp1.AZ == a]\n",
    "            plt.style.use('seaborn-poster')\n",
    "            plt.plot_date(temp2['DT'], temp2['SP'], linestyle='solid', label=a)\n",
    "\n",
    "            plt.gcf().autofmt_xdate()\n",
    "            date_format = mpl_dates.DateFormatter('%b %d, %Y')\n",
    "            plt.gca().xaxis.set_major_formatter(date_format)\n",
    "\n",
    "            plt.title('Time Series Plot of the ' + i + ' Instance Type Across us-east-1' + \"\\n\" +\n",
    "                      'Availability Zones and ' + o + ' Operating Systems')\n",
    "            plt.xlabel('Date')\n",
    "            plt.ylabel('Spot Price')\n",
    "\n",
    "            plt.legend()\n",
    "            plt.tight_layout()\n",
    "\n",
    "            #plt.savefig(i + '_AZ_ts.png')\n",
    "        plt.figure()\n",
    "        #plt.show()"
   ]
  },
  {
   "cell_type": "code",
   "execution_count": null,
   "id": "192c77bd",
   "metadata": {},
   "outputs": [],
   "source": [
    "df39 = df37.copy()\n",
    "df39.columns=['AZ','IT','OS','SP','DT']\n",
    "df39['IT'].unique()"
   ]
  },
  {
   "cell_type": "code",
   "execution_count": null,
   "id": "53145aa5",
   "metadata": {},
   "outputs": [],
   "source": [
    "g_filt = df39['IT'].str.contains(\"g4\")\n",
    "print(df39.loc[g_filt, 'SP'].describe().round(4))\n",
    "# five number summary for g4 ITs within Windows PDs across all AZs"
   ]
  },
  {
   "cell_type": "code",
   "execution_count": null,
   "id": "079b0c50",
   "metadata": {},
   "outputs": [],
   "source": [
    "h_filt = df39['IT'].str.contains(\"h1\")\n",
    "print(df39.loc[h_filt, 'SP'].describe().round(4))\n",
    "# five number summary for h1 ITs within Windows PDs across all AZs"
   ]
  },
  {
   "cell_type": "code",
   "execution_count": null,
   "id": "4455f2ba",
   "metadata": {},
   "outputs": [],
   "source": [
    "i_filt = df39['IT'].str.contains(\"i3\")\n",
    "print(df39.loc[i_filt, 'SP'].describe().round(4))\n",
    "# five number summary for i3 ITs within Windows PDs across all AZs"
   ]
  },
  {
   "cell_type": "code",
   "execution_count": null,
   "id": "310978e8",
   "metadata": {},
   "outputs": [],
   "source": [
    "z_filt = df39['IT'].str.contains(\"z1\")\n",
    "print(df39.loc[z_filt, 'SP'].describe().round(4))\n",
    "# five number summary for z1 ITs within Windows PDs across all AZs"
   ]
  },
  {
   "cell_type": "markdown",
   "id": "0fb54cca",
   "metadata": {},
   "source": [
    "## Integration"
   ]
  },
  {
   "cell_type": "code",
   "execution_count": null,
   "id": "fd401d04",
   "metadata": {},
   "outputs": [],
   "source": [
    "## Integration Function\n",
    "    # adapted from https://nbviewer.jupyter.org/gist/metakermit/5720498\n",
    "\n",
    "def integrate_method(self, how='trapz', unit='s'):\n",
    "    '''Numerically integrate the time series.\n",
    "\n",
    "    @param how: the method to use (trapz by default)\n",
    "    @return \n",
    "\n",
    "    Available methods:\n",
    "     * trapz - trapezoidal\n",
    "     * cumtrapz - cumulative trapezoidal\n",
    "     * simps - Simpson's rule\n",
    "     * romb - Romberger's rule\n",
    "\n",
    "    See http://docs.scipy.org/doc/scipy/reference/integrate.html for the method details.\n",
    "    or the source code\n",
    "    https://github.com/scipy/scipy/blob/master/scipy/integrate/quadrature.py\n",
    "    '''\n",
    "    available_rules = set(['trapz', 'cumtrapz', 'simps', 'romb'])\n",
    "    if how in available_rules:\n",
    "        rule = integrate.__getattribute__(how)\n",
    "    else:\n",
    "        print('Unsupported integration rule: %s' % (how))\n",
    "        print('Expecting one of these sample-based integration rules: %s' % (str(list(available_rules))))\n",
    "        raise AttributeError\n",
    "    \n",
    "    result = rule(self.values, self.index.astype(np.int64) / 10**9)\n",
    "    #result = rule(self.values)\n",
    "    return result\n",
    "\n",
    "pd.Series.integrate = integrate_method"
   ]
  },
  {
   "cell_type": "code",
   "execution_count": null,
   "id": "3d1c44ac",
   "metadata": {},
   "outputs": [],
   "source": [
    "df38"
   ]
  },
  {
   "cell_type": "code",
   "execution_count": null,
   "id": "96b8c1bd",
   "metadata": {},
   "outputs": [],
   "source": [
    "df_x1 = df38.loc[(df38['AZ'] == 'us-east-1c') & (df38['IT'] == 'p4d.24xlarge')\n",
    "                & (df38['OS'] == 'Linux/UNIX')]\n",
    "x1 = df_x1['SP'].values\n",
    "y1 = df_x1['DT'].values\n",
    "#ts1 = pd.Series(x1, pd.date_range(start='2021-03-04 09:09:55+00:00', end='2021-06-01 23:13:12+00:00', periods=len(x1)))\n",
    "ts1 = pd.Series(x1,y1)"
   ]
  },
  {
   "cell_type": "code",
   "execution_count": null,
   "id": "c817614d",
   "metadata": {},
   "outputs": [],
   "source": [
    "print(ts1.integrate().round(4))\n",
    "print((ts1.integrate().round(4)/3600).round(4))"
   ]
  },
  {
   "cell_type": "code",
   "execution_count": null,
   "id": "aea2d002",
   "metadata": {},
   "outputs": [],
   "source": [
    "print(df_x1['SP'].mean().round(4))\n",
    "print(2160*df_x1['SP'].mean().round(4))"
   ]
  },
  {
   "cell_type": "code",
   "execution_count": null,
   "id": "8606bf65",
   "metadata": {},
   "outputs": [],
   "source": [
    "print(ts1.integrate('cumtrapz').round(4))\n",
    "print((ts1.integrate('cumtrapz').round(4)/3600).round(4))"
   ]
  },
  {
   "cell_type": "code",
   "execution_count": null,
   "id": "633ae1dd",
   "metadata": {},
   "outputs": [],
   "source": [
    "print(ts1.integrate('simps').round(4))\n",
    "print((ts1.integrate('simps').round(4)/3600).round(4))"
   ]
  },
  {
   "cell_type": "code",
   "execution_count": null,
   "id": "527cfe6f",
   "metadata": {},
   "outputs": [],
   "source": [
    "df_x2 = df38.loc[(df38['AZ'] == 'us-east-1a') & (df38['IT'] == 'a1.2xlarge')\n",
    "                & (df38['OS'] == 'Linux/UNIX')]\n",
    "x2 = df_x2['SP'].values\n",
    "y2 = df_x2['DT'].values\n",
    "ts2 = pd.Series(x2,y2)\n",
    "\n",
    "print(ts2.integrate().round(4)) #result of integration function\n",
    "print((ts2.integrate().round(4)/3600).round(4)) #result of integration function divided by 60 twice\n",
    "\n",
    "print(' ')\n",
    "\n",
    "print(df_x2['SP'].mean().round(4)) #mean spot price of specified TS\n",
    "print(2160*df_x2['SP'].mean().round(4)) #mean spot price of specified TS multiplied by 2000"
   ]
  },
  {
   "cell_type": "code",
   "execution_count": null,
   "id": "ca53b963",
   "metadata": {},
   "outputs": [],
   "source": [
    "df_x3 = df38.loc[(df38['AZ'] == 'us-east-1f') & (df38['IT'] == 'z1d.xlarge')\n",
    "                & (df38['OS'] == 'Windows')]\n",
    "x3 = df_x3['SP'].values\n",
    "y3 = df_x3['DT'].values\n",
    "ts3 = pd.Series(x3,y3)\n",
    "\n",
    "print(ts3.integrate().round(4)) #result of integration function\n",
    "print((ts3.integrate().round(4)/3600).round(4)) #result of integration function divided by 60 twice\n",
    "\n",
    "print(' ')\n",
    "\n",
    "print(df_x3['SP'].mean().round(4)) #mean spot price of specified TS\n",
    "print((2160*df_x3['SP'].mean()).round(4)) #mean spot price of specified TS multiplied by 2000"
   ]
  },
  {
   "cell_type": "code",
   "execution_count": null,
   "id": "31c04651",
   "metadata": {},
   "outputs": [],
   "source": [
    "df_x4 = df38.loc[(df38['AZ'] == 'us-east-1b') & (df38['IT'] == 'c6gd.metal')\n",
    "                & (df38['OS'] == 'SUSE Linux')]\n",
    "x4 = df_x4['SP'].values\n",
    "y4 = df_x4['DT'].values\n",
    "ts4 = pd.Series(x4,y4)\n",
    "\n",
    "print(ts4.integrate().round(4)) #result of integration function\n",
    "print((ts4.integrate().round(4)/3600).round(4)) #result of integration function divided by 60 twice\n",
    "\n",
    "print(' ')\n",
    "\n",
    "print(df_x4['SP'].mean().round(4)) #mean spot price of specified TS\n",
    "print((2160*df_x4['SP'].mean()).round(4)) #mean spot price of specified TS multiplied by 2000"
   ]
  },
  {
   "cell_type": "code",
   "execution_count": null,
   "id": "096e95ca",
   "metadata": {},
   "outputs": [],
   "source": [
    "df_x5 = df38.loc[(df38['AZ'] == 'us-east-1d') & (df38['IT'] == 'm6gd.xlarge')\n",
    "                & (df38['OS'] == 'Red Hat Enterprise Linux')]\n",
    "x5 = df_x5['SP'].values\n",
    "y5 = df_x5['DT'].values\n",
    "ts5 = pd.Series(x5,y5)\n",
    "\n",
    "print(ts5.integrate().round(4)) #result of integration function\n",
    "print((ts5.integrate().round(4)/3600).round(4)) #result of integration function divided by 60 twice\n",
    "\n",
    "print(' ')\n",
    "\n",
    "print(df_x5['SP'].mean().round(4)) #mean spot price of specified TS\n",
    "print((2160*df_x5['SP'].mean()).round(4)) #mean spot price of specified TS multiplied by 2000"
   ]
  },
  {
   "cell_type": "code",
   "execution_count": null,
   "id": "b506eb39",
   "metadata": {},
   "outputs": [],
   "source": [
    "df_x6 = df38.loc[(df38['AZ'] == 'us-east-1e') & (df38['IT'] == 'f1.16xlarge')\n",
    "                & (df38['OS'] == 'Linux/UNIX')]\n",
    "x6 = df_x6['SP'].values\n",
    "y6 = df_x6['DT'].values\n",
    "ts6 = pd.Series(x6,y6)\n",
    "\n",
    "print(ts6.integrate().round(4)) #result of integration function\n",
    "print((ts6.integrate().round(4)/3600).round(4)) #result of integration function divided by 60 twice\n",
    "\n",
    "print(' ')\n",
    "\n",
    "print(df_x6['SP'].mean().round(4)) #mean spot price of specified TS\n",
    "print((2160*df_x6['SP'].mean()).round(4)) #mean spot price of specified TS multiplied by 2000"
   ]
  },
  {
   "cell_type": "code",
   "execution_count": null,
   "id": "3672c81b",
   "metadata": {},
   "outputs": [],
   "source": [
    "## Integration Function 2: Divides Original Integration Function by 3600 (in the function)\n",
    "    # adapted from https://nbviewer.jupyter.org/gist/metakermit/5720498\n",
    "\n",
    "def integrate_method2(self, how='trapz', unit='s'):\n",
    "    '''Numerically integrate the time series.\n",
    "\n",
    "    @param how: the method to use (trapz by default)\n",
    "    @return \n",
    "\n",
    "    Available methods:\n",
    "     * trapz - trapezoidal\n",
    "     * cumtrapz - cumulative trapezoidal\n",
    "     * simps - Simpson's rule\n",
    "     * romb - Romberger's rule\n",
    "\n",
    "    See http://docs.scipy.org/doc/scipy/reference/integrate.html for the method details.\n",
    "    or the source code\n",
    "    https://github.com/scipy/scipy/blob/master/scipy/integrate/quadrature.py\n",
    "    '''\n",
    "    available_rules = set(['trapz', 'cumtrapz', 'simps', 'romb'])\n",
    "    if how in available_rules:\n",
    "        rule = integrate.__getattribute__(how)\n",
    "    else:\n",
    "        print('Unsupported integration rule: %s' % (how))\n",
    "        print('Expecting one of these sample-based integration rules: %s' % (str(list(available_rules))))\n",
    "        raise AttributeError\n",
    "    \n",
    "    result = (rule(self.values, self.index.astype(np.int64) / 10**9))/3600\n",
    "    #result = rule(self.values)\n",
    "    return result\n",
    "\n",
    "pd.Series.integrate2 = integrate_method2"
   ]
  },
  {
   "cell_type": "code",
   "execution_count": null,
   "id": "01282ffd",
   "metadata": {},
   "outputs": [],
   "source": [
    "df_x7 = df38.loc[(df38['AZ'] == 'us-east-1f') & (df38['IT'] == 'h1.16xlarge')\n",
    "                & (df38['OS'] == 'SUSE Linux')]\n",
    "x7 = df_x7['SP'].values\n",
    "y7 = df_x7['DT'].values\n",
    "ts7 = pd.Series(x7,y7)\n",
    "\n",
    "print(ts7.integrate2().round(4))\n",
    "print(' ')\n",
    "print(df_x7['SP'].mean().round(4))\n",
    "print(2160*df_x7['SP'].mean().round(4))"
   ]
  },
  {
   "cell_type": "code",
   "execution_count": null,
   "id": "e6997a54",
   "metadata": {},
   "outputs": [],
   "source": [
    "df_x8 = df38.loc[(df38['AZ'] == 'us-east-1d') & (df38['IT'] == 't4g.large')\n",
    "                & (df38['OS'] == 'Red Hat Enterprise Linux')]\n",
    "x8 = df_x8['SP'].values\n",
    "y8 = df_x8['DT'].values\n",
    "ts8 = pd.Series(x8,y8)\n",
    "\n",
    "print(ts8.integrate2().round(4))\n",
    "print(' ')\n",
    "print(df_x8['SP'].mean().round(4))\n",
    "print((2160*df_x8['SP'].mean()).round(4))"
   ]
  },
  {
   "cell_type": "code",
   "execution_count": null,
   "id": "af42fa57",
   "metadata": {},
   "outputs": [],
   "source": [
    "df_x9 = df38.loc[(df38['AZ'] == 'us-east-1e') & (df38['IT'] == 'm3.medium')\n",
    "                & (df38['OS'] == 'Linux/UNIX')]\n",
    "x9 = df_x9['SP'].values\n",
    "y9 = df_x9['DT'].values\n",
    "ts9 = pd.Series(x9,y9)\n",
    "\n",
    "print(ts9.integrate2().round(4))\n",
    "print(' ')\n",
    "print(df_x9['SP'].mean().round(4))\n",
    "print((2160*df_x9['SP'].mean()).round(4))"
   ]
  },
  {
   "cell_type": "code",
   "execution_count": null,
   "id": "76ce9914",
   "metadata": {},
   "outputs": [],
   "source": [
    "df_x11 = df38.loc[(df38['AZ'] == 'us-east-1b') & (df38['IT'] == 'c6gd.large')\n",
    "                & (df38['OS'] == 'Red Hat Enterprise Linux')]\n",
    "x11 = df_x11['SP'].values\n",
    "y11 = df_x11['DT'].values\n",
    "ts11 = pd.Series(x11,y11)\n",
    "\n",
    "print(ts11.integrate2().round(4))\n",
    "print(' ')\n",
    "print(df_x11['SP'].mean().round(4))\n",
    "print((2160*df_x11['SP'].mean()).round(4))"
   ]
  },
  {
   "cell_type": "code",
   "execution_count": null,
   "id": "b4a42783",
   "metadata": {},
   "outputs": [],
   "source": [
    "df_x12 = df38.loc[(df38['AZ'] == 'us-east-1a') & (df38['IT'] == 'x1e.xlarge')\n",
    "                & (df38['OS'] == 'Windows')]\n",
    "x12 = df_x12['SP'].values\n",
    "y12 = df_x12['DT'].values\n",
    "ts12 = pd.Series(x12,y12)\n",
    "\n",
    "print(ts12.integrate2().round(4))\n",
    "print(' ')\n",
    "print(df_x12['SP'].mean().round(4))\n",
    "print((2160*df_x12['SP'].mean()).round(4))"
   ]
  },
  {
   "cell_type": "code",
   "execution_count": null,
   "id": "00acc0c9",
   "metadata": {},
   "outputs": [],
   "source": [
    "924.7107/2160 #integral value / 2160 is cost per hour of that instance type"
   ]
  },
  {
   "cell_type": "markdown",
   "id": "117b0d57",
   "metadata": {},
   "source": [
    "## Interpolation"
   ]
  },
  {
   "cell_type": "code",
   "execution_count": null,
   "id": "3c1617ec",
   "metadata": {},
   "outputs": [],
   "source": [
    "a1 = (df38.loc[(df38['AZ'] == 'us-east-1c') & (df38['IT'] == 'p4d.24xlarge') &\n",
    "        (df38['OS'] == 'Linux/UNIX') & (df38['DT'] >= '2021-05-22')])['DT'].values\n",
    "\n",
    "b1 = (df38.loc[(df38['AZ'] == 'us-east-1c') & (df38['IT'] == 'p4d.24xlarge') &\n",
    "        (df38['OS'] == 'Linux/UNIX') & (df38['DT'] >= '2021-05-22')])['SP'].values\n",
    "\n",
    "f1_1 = interp1d(a1,b1)\n",
    "f1_2 = interp1d(a1,b1, kind='cubic')\n",
    "\n",
    "al_new = (df38.loc[(df38['AZ'] == 'us-east-1c') & (df38['IT'] == 'p4d.24xlarge') &\n",
    "        (df38['OS'] == 'Linux/UNIX')])['DT'].values\n",
    "\n",
    "plt.plot(a1, b1, 'o', a1_new, f1_1(a1_new), '-', f1_2(a1_new), '--')\n",
    "plt.legend(['data','linear','cubic'],loc='best')\n",
    "plt.show()"
   ]
  },
  {
   "cell_type": "code",
   "execution_count": null,
   "id": "e2919159",
   "metadata": {},
   "outputs": [],
   "source": []
  }
 ],
 "metadata": {
  "kernelspec": {
   "display_name": "Python 3",
   "language": "python",
   "name": "python3"
  },
  "language_info": {
   "codemirror_mode": {
    "name": "ipython",
    "version": 3
   },
   "file_extension": ".py",
   "mimetype": "text/x-python",
   "name": "python",
   "nbconvert_exporter": "python",
   "pygments_lexer": "ipython3",
   "version": "3.9.5"
  }
 },
 "nbformat": 4,
 "nbformat_minor": 5
}
